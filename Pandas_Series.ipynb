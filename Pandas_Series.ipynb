{
  "nbformat": 4,
  "nbformat_minor": 0,
  "metadata": {
    "anaconda-cloud": {},
    "kernelspec": {
      "name": "python3",
      "display_name": "Python 3"
    },
    "language_info": {
      "codemirror_mode": {
        "name": "ipython",
        "version": 3
      },
      "file_extension": ".py",
      "mimetype": "text/x-python",
      "name": "python",
      "nbconvert_exporter": "python",
      "pygments_lexer": "ipython3",
      "version": "3.7.3"
    },
    "colab": {
      "name": "Pandas Series.ipynb",
      "provenance": [],
      "include_colab_link": true
    },
    "accelerator": "TPU"
  },
  "cells": [
    {
      "cell_type": "markdown",
      "metadata": {
        "id": "view-in-github",
        "colab_type": "text"
      },
      "source": [
        "<a href=\"https://colab.research.google.com/github/nksinghnitc/Python-for-Data-Analysis/blob/master/Pandas_Series.ipynb\" target=\"_parent\"><img src=\"https://colab.research.google.com/assets/colab-badge.svg\" alt=\"Open In Colab\"/></a>"
      ]
    },
    {
      "cell_type": "markdown",
      "metadata": {
        "id": "SrAkCra-CfjJ",
        "colab_type": "text"
      },
      "source": [
        "<h3>Series</h3>"
      ]
    },
    {
      "cell_type": "code",
      "metadata": {
        "id": "Zf4xnJAOj5y7",
        "colab_type": "code",
        "colab": {}
      },
      "source": [
        "A series is a labled array which store data of similar (All integers or All boolean or All float or All strings) type."
      ],
      "execution_count": 0,
      "outputs": []
    },
    {
      "cell_type": "code",
      "metadata": {
        "id": "h_pilbMcJsRd",
        "colab_type": "code",
        "outputId": "3613da02-92ac-4e87-ee2c-306078de1393",
        "colab": {
          "base_uri": "https://localhost:8080/",
          "height": 122
        }
      },
      "source": [
        "from google.colab import drive\n",
        "drive.mount('/content/drive')"
      ],
      "execution_count": 0,
      "outputs": [
        {
          "output_type": "stream",
          "text": [
            "Go to this URL in a browser: https://accounts.google.com/o/oauth2/auth?client_id=947318989803-6bn6qk8qdgf4n4g3pfee6491hc0brc4i.apps.googleusercontent.com&redirect_uri=urn%3aietf%3awg%3aoauth%3a2.0%3aoob&response_type=code&scope=email%20https%3a%2f%2fwww.googleapis.com%2fauth%2fdocs.test%20https%3a%2f%2fwww.googleapis.com%2fauth%2fdrive%20https%3a%2f%2fwww.googleapis.com%2fauth%2fdrive.photos.readonly%20https%3a%2f%2fwww.googleapis.com%2fauth%2fpeopleapi.readonly\n",
            "\n",
            "Enter your authorization code:\n",
            "··········\n",
            "Mounted at /content/drive\n"
          ],
          "name": "stdout"
        }
      ]
    },
    {
      "cell_type": "code",
      "metadata": {
        "id": "xlGZzA8bCfjQ",
        "colab_type": "code",
        "colab": {}
      },
      "source": [
        "import pandas as pd"
      ],
      "execution_count": 0,
      "outputs": []
    },
    {
      "cell_type": "code",
      "metadata": {
        "id": "5sG9LlupCfjc",
        "colab_type": "code",
        "colab": {}
      },
      "source": [
        "path=\"/content/drive/My Drive/Python Data Analysis/3.Python-Pandas/files/\""
      ],
      "execution_count": 0,
      "outputs": []
    },
    {
      "cell_type": "markdown",
      "metadata": {
        "id": "jW1gPkUKCfjl",
        "colab_type": "text"
      },
      "source": [
        "***Create A `Python Series Object` from A `Python List Object`***"
      ]
    },
    {
      "cell_type": "code",
      "metadata": {
        "id": "ZkDA9Sx2Cfjn",
        "colab_type": "code",
        "outputId": "87312350-850f-4579-de57-11d08d3c21b1",
        "colab": {
          "base_uri": "https://localhost:8080/",
          "height": 102
        }
      },
      "source": [
        "ice_cream = [\"Chocolate\", \"Vanilla\", \"Strawberry\", \"Rum Raisin\"]\n",
        "pd.Series(ice_cream)"
      ],
      "execution_count": 0,
      "outputs": [
        {
          "output_type": "execute_result",
          "data": {
            "text/plain": [
              "0     Chocolate\n",
              "1       Vanilla\n",
              "2    Strawberry\n",
              "3    Rum Raisin\n",
              "dtype: object"
            ]
          },
          "metadata": {
            "tags": []
          },
          "execution_count": 7
        }
      ]
    },
    {
      "cell_type": "code",
      "metadata": {
        "id": "x48MZ1wXCfjx",
        "colab_type": "code",
        "outputId": "72be56fe-ce05-4642-e41c-6a48247dd764",
        "colab": {
          "base_uri": "https://localhost:8080/",
          "height": 136
        }
      },
      "source": [
        "lottery = [4, 8, 15, 16, 23, 42]\n",
        "pd.Series(lottery)"
      ],
      "execution_count": 0,
      "outputs": [
        {
          "output_type": "execute_result",
          "data": {
            "text/plain": [
              "0     4\n",
              "1     8\n",
              "2    15\n",
              "3    16\n",
              "4    23\n",
              "5    42\n",
              "dtype: int64"
            ]
          },
          "metadata": {
            "tags": []
          },
          "execution_count": 8
        }
      ]
    },
    {
      "cell_type": "code",
      "metadata": {
        "id": "UaA2X1KMCfkK",
        "colab_type": "code",
        "outputId": "5a215726-59b1-4447-9450-764674091061",
        "colab": {
          "base_uri": "https://localhost:8080/",
          "height": 136
        }
      },
      "source": [
        "percentages = [92.5, 87.5, 91.6, 84.4, 74.8, 44.5]\n",
        "pd.Series(percentages)"
      ],
      "execution_count": 0,
      "outputs": [
        {
          "output_type": "execute_result",
          "data": {
            "text/plain": [
              "0    92.5\n",
              "1    87.5\n",
              "2    91.6\n",
              "3    84.4\n",
              "4    74.8\n",
              "5    44.5\n",
              "dtype: float64"
            ]
          },
          "metadata": {
            "tags": []
          },
          "execution_count": 9
        }
      ]
    },
    {
      "cell_type": "code",
      "metadata": {
        "id": "tElYUmMRCfkS",
        "colab_type": "code",
        "outputId": "45b74738-7319-4dfe-8a24-6082f597a76c",
        "colab": {
          "base_uri": "https://localhost:8080/",
          "height": 119
        }
      },
      "source": [
        "registrations = [True, False, False, False,True]\n",
        "pd.Series(registrations)"
      ],
      "execution_count": 0,
      "outputs": [
        {
          "output_type": "execute_result",
          "data": {
            "text/plain": [
              "0     True\n",
              "1    False\n",
              "2    False\n",
              "3    False\n",
              "4     True\n",
              "dtype: bool"
            ]
          },
          "metadata": {
            "tags": []
          },
          "execution_count": 10
        }
      ]
    },
    {
      "cell_type": "markdown",
      "metadata": {
        "id": "V7Zcp8IQCfka",
        "colab_type": "text"
      },
      "source": [
        "***Create A `Python Series Object` from A `Python Dictionary Object`***"
      ]
    },
    {
      "cell_type": "code",
      "metadata": {
        "id": "OCld8iV2Cfkd",
        "colab_type": "code",
        "outputId": "4af996c3-7365-4ab4-ef39-6b1827624556",
        "colab": {
          "base_uri": "https://localhost:8080/",
          "height": 85
        }
      },
      "source": [
        "webster = {\n",
        "           \"Aardvark\" : \"An animal\",\n",
        "           \"Banana\" : \"A delicious fruit\",\n",
        "           \"Cyan\" : \"A color\"\n",
        "          }\n",
        "pd.Series(webster)"
      ],
      "execution_count": 0,
      "outputs": [
        {
          "output_type": "execute_result",
          "data": {
            "text/plain": [
              "Aardvark            An animal\n",
              "Banana      A delicious fruit\n",
              "Cyan                  A color\n",
              "dtype: object"
            ]
          },
          "metadata": {
            "tags": []
          },
          "execution_count": 11
        }
      ]
    },
    {
      "cell_type": "markdown",
      "metadata": {
        "id": "XqJnnIB9Cfkl",
        "colab_type": "text"
      },
      "source": [
        "***Introduction to `Series Attributes`***"
      ]
    },
    {
      "cell_type": "code",
      "metadata": {
        "id": "BbPJSJGOCfkn",
        "colab_type": "code",
        "colab": {}
      },
      "source": [
        "about_me = [\"Smart\", \"Handsome\", \"Charming\", \"Brilliant\", \"Humble\"]\n",
        "s = pd.Series(about_me)"
      ],
      "execution_count": 0,
      "outputs": []
    },
    {
      "cell_type": "code",
      "metadata": {
        "id": "pKzLMsX_Cfku",
        "colab_type": "code",
        "outputId": "da3a3285-b37d-4ba6-a6dd-90804863d63c",
        "colab": {
          "base_uri": "https://localhost:8080/",
          "height": 51
        }
      },
      "source": [
        "s.values"
      ],
      "execution_count": 0,
      "outputs": [
        {
          "output_type": "execute_result",
          "data": {
            "text/plain": [
              "array(['Smart', 'Handsome', 'Charming', 'Brilliant', 'Humble'],\n",
              "      dtype=object)"
            ]
          },
          "metadata": {
            "tags": []
          },
          "execution_count": 13
        }
      ]
    },
    {
      "cell_type": "code",
      "metadata": {
        "id": "OuHlb6ttCfk2",
        "colab_type": "code",
        "outputId": "d4754280-fcd2-4b4b-cb52-e1d6eadf79d6",
        "colab": {
          "base_uri": "https://localhost:8080/",
          "height": 34
        }
      },
      "source": [
        "s.index"
      ],
      "execution_count": 0,
      "outputs": [
        {
          "output_type": "execute_result",
          "data": {
            "text/plain": [
              "RangeIndex(start=0, stop=5, step=1)"
            ]
          },
          "metadata": {
            "tags": []
          },
          "execution_count": 14
        }
      ]
    },
    {
      "cell_type": "code",
      "metadata": {
        "id": "OImKwBPeCfk-",
        "colab_type": "code",
        "outputId": "6a166ea6-ca00-46df-86f4-e3f8a4617972",
        "colab": {
          "base_uri": "https://localhost:8080/",
          "height": 34
        }
      },
      "source": [
        "s.dtype"
      ],
      "execution_count": 0,
      "outputs": [
        {
          "output_type": "execute_result",
          "data": {
            "text/plain": [
              "dtype('O')"
            ]
          },
          "metadata": {
            "tags": []
          },
          "execution_count": 15
        }
      ]
    },
    {
      "cell_type": "markdown",
      "metadata": {
        "id": "SsBXDu9wCflH",
        "colab_type": "text"
      },
      "source": [
        "***Introduction to `Series Methods`***"
      ]
    },
    {
      "cell_type": "code",
      "metadata": {
        "id": "nd3ZpuaiCflK",
        "colab_type": "code",
        "colab": {}
      },
      "source": [
        "prices = [2.99, 4.45, 1.36]\n",
        "s = pd.Series(prices) "
      ],
      "execution_count": 0,
      "outputs": []
    },
    {
      "cell_type": "code",
      "metadata": {
        "id": "IKUu1brvCflR",
        "colab_type": "code",
        "outputId": "e8bd951e-0167-4bab-f7de-c0b546683e9d",
        "colab": {
          "base_uri": "https://localhost:8080/",
          "height": 34
        }
      },
      "source": [
        "s.sum()"
      ],
      "execution_count": 0,
      "outputs": [
        {
          "output_type": "execute_result",
          "data": {
            "text/plain": [
              "8.8"
            ]
          },
          "metadata": {
            "tags": []
          },
          "execution_count": 17
        }
      ]
    },
    {
      "cell_type": "code",
      "metadata": {
        "id": "6-ArOj10Cfla",
        "colab_type": "code",
        "outputId": "d9fd8df5-a06e-4620-c30b-1d7721e8c1b5",
        "colab": {
          "base_uri": "https://localhost:8080/",
          "height": 34
        }
      },
      "source": [
        "s.product()"
      ],
      "execution_count": 0,
      "outputs": [
        {
          "output_type": "execute_result",
          "data": {
            "text/plain": [
              "18.095480000000006"
            ]
          },
          "metadata": {
            "tags": []
          },
          "execution_count": 18
        }
      ]
    },
    {
      "cell_type": "code",
      "metadata": {
        "id": "qTt0nBhcCflh",
        "colab_type": "code",
        "outputId": "c0a7f80c-eab1-43f7-9b21-b7bb06e100c1",
        "colab": {
          "base_uri": "https://localhost:8080/",
          "height": 34
        }
      },
      "source": [
        "s.mean()"
      ],
      "execution_count": 0,
      "outputs": [
        {
          "output_type": "execute_result",
          "data": {
            "text/plain": [
              "2.9333333333333336"
            ]
          },
          "metadata": {
            "tags": []
          },
          "execution_count": 19
        }
      ]
    },
    {
      "cell_type": "markdown",
      "metadata": {
        "id": "cHz_y5B_Cflp",
        "colab_type": "text"
      },
      "source": [
        "***`Parameters` and `Arguments`***"
      ]
    },
    {
      "cell_type": "code",
      "metadata": {
        "id": "TzQsKKzGCflq",
        "colab_type": "code",
        "colab": {}
      },
      "source": [
        "# Difficulty - Easy, Medium, Hard\n",
        "# Volume - 1 through 10\n",
        "# Subtitles - True / False"
      ],
      "execution_count": 0,
      "outputs": []
    },
    {
      "cell_type": "code",
      "metadata": {
        "id": "vc2V_h6MCflv",
        "colab_type": "code",
        "outputId": "ade4fec1-2445-4391-e97a-50050d322758",
        "colab": {
          "base_uri": "https://localhost:8080/",
          "height": 323
        }
      },
      "source": [
        "fruits = [\"Apple\", \"Orange\", \"Plum\", \"Grape\", \"Blueberry\"]\n",
        "weekdays = [\"Monday\", \"Tuesday\", \"Wednesday\", \"Thursday\", \"Friday\"]\n",
        "print(pd.Series(fruits, weekdays))\n",
        "print(pd.Series(data = fruits, index = weekdays))\n",
        "print(pd.Series(fruits, index = weekdays))"
      ],
      "execution_count": 0,
      "outputs": [
        {
          "output_type": "stream",
          "text": [
            "Monday           Apple\n",
            "Tuesday         Orange\n",
            "Wednesday         Plum\n",
            "Thursday         Grape\n",
            "Friday       Blueberry\n",
            "dtype: object\n",
            "Monday           Apple\n",
            "Tuesday         Orange\n",
            "Wednesday         Plum\n",
            "Thursday         Grape\n",
            "Friday       Blueberry\n",
            "dtype: object\n",
            "Monday           Apple\n",
            "Tuesday         Orange\n",
            "Wednesday         Plum\n",
            "Thursday         Grape\n",
            "Friday       Blueberry\n",
            "dtype: object\n"
          ],
          "name": "stdout"
        }
      ]
    },
    {
      "cell_type": "code",
      "metadata": {
        "id": "s9kZUwBZCfl2",
        "colab_type": "code",
        "outputId": "09372071-f035-4035-a156-afd565b1ecee",
        "colab": {
          "base_uri": "https://localhost:8080/",
          "height": 136
        }
      },
      "source": [
        "fruits = [\"Apple\", \"Orange\", \"Plum\", \"Grape\", \"Blueberry\", \"Watermelon\"]\n",
        "weekdays = [\"Monday\", \"Tuesday\", \"Wednesday\", \"Thursday\", \"Friday\", \"Monday\"]\n",
        "pd.Series(data = fruits, index = weekdays)"
      ],
      "execution_count": 0,
      "outputs": [
        {
          "output_type": "execute_result",
          "data": {
            "text/plain": [
              "Monday            Apple\n",
              "Tuesday          Orange\n",
              "Wednesday          Plum\n",
              "Thursday          Grape\n",
              "Friday        Blueberry\n",
              "Monday       Watermelon\n",
              "dtype: object"
            ]
          },
          "metadata": {
            "tags": []
          },
          "execution_count": 18
        }
      ]
    },
    {
      "cell_type": "markdown",
      "metadata": {
        "id": "uAAnFmuNCfl9",
        "colab_type": "text"
      },
      "source": [
        "#### Note:In Series index can be repeated(For Example:Monday) but in dictionary index can not be repeated."
      ]
    },
    {
      "cell_type": "markdown",
      "metadata": {
        "id": "rBvV2MxtCfmL",
        "colab_type": "text"
      },
      "source": [
        "`Create Series` with the `read_csv` Method\n"
      ]
    },
    {
      "cell_type": "code",
      "metadata": {
        "collapsed": true,
        "id": "pQnvlIJECfmO",
        "colab_type": "code",
        "outputId": "5923a225-2f00-4856-8815-df45bbad514c",
        "colab": {
          "base_uri": "https://localhost:8080/",
          "height": 419
        }
      },
      "source": [
        "pd.read_csv(path+\"pokemon.csv\", usecols = [\"Pokemon\"])"
      ],
      "execution_count": 0,
      "outputs": [
        {
          "output_type": "execute_result",
          "data": {
            "text/html": [
              "<div>\n",
              "<style scoped>\n",
              "    .dataframe tbody tr th:only-of-type {\n",
              "        vertical-align: middle;\n",
              "    }\n",
              "\n",
              "    .dataframe tbody tr th {\n",
              "        vertical-align: top;\n",
              "    }\n",
              "\n",
              "    .dataframe thead th {\n",
              "        text-align: right;\n",
              "    }\n",
              "</style>\n",
              "<table border=\"1\" class=\"dataframe\">\n",
              "  <thead>\n",
              "    <tr style=\"text-align: right;\">\n",
              "      <th></th>\n",
              "      <th>Pokemon</th>\n",
              "    </tr>\n",
              "  </thead>\n",
              "  <tbody>\n",
              "    <tr>\n",
              "      <th>0</th>\n",
              "      <td>Bulbasaur</td>\n",
              "    </tr>\n",
              "    <tr>\n",
              "      <th>1</th>\n",
              "      <td>Ivysaur</td>\n",
              "    </tr>\n",
              "    <tr>\n",
              "      <th>2</th>\n",
              "      <td>Venusaur</td>\n",
              "    </tr>\n",
              "    <tr>\n",
              "      <th>3</th>\n",
              "      <td>Charmander</td>\n",
              "    </tr>\n",
              "    <tr>\n",
              "      <th>4</th>\n",
              "      <td>Charmeleon</td>\n",
              "    </tr>\n",
              "    <tr>\n",
              "      <th>...</th>\n",
              "      <td>...</td>\n",
              "    </tr>\n",
              "    <tr>\n",
              "      <th>716</th>\n",
              "      <td>Yveltal</td>\n",
              "    </tr>\n",
              "    <tr>\n",
              "      <th>717</th>\n",
              "      <td>Zygarde</td>\n",
              "    </tr>\n",
              "    <tr>\n",
              "      <th>718</th>\n",
              "      <td>Diancie</td>\n",
              "    </tr>\n",
              "    <tr>\n",
              "      <th>719</th>\n",
              "      <td>Hoopa</td>\n",
              "    </tr>\n",
              "    <tr>\n",
              "      <th>720</th>\n",
              "      <td>Volcanion</td>\n",
              "    </tr>\n",
              "  </tbody>\n",
              "</table>\n",
              "<p>721 rows × 1 columns</p>\n",
              "</div>"
            ],
            "text/plain": [
              "        Pokemon\n",
              "0     Bulbasaur\n",
              "1       Ivysaur\n",
              "2      Venusaur\n",
              "3    Charmander\n",
              "4    Charmeleon\n",
              "..          ...\n",
              "716     Yveltal\n",
              "717     Zygarde\n",
              "718     Diancie\n",
              "719       Hoopa\n",
              "720   Volcanion\n",
              "\n",
              "[721 rows x 1 columns]"
            ]
          },
          "metadata": {
            "tags": []
          },
          "execution_count": 21
        }
      ]
    },
    {
      "cell_type": "code",
      "metadata": {
        "collapsed": true,
        "id": "kouBDQBiCfmY",
        "colab_type": "code",
        "outputId": "9a75159b-d62f-4f62-f345-45dbdb2d38d1",
        "colab": {
          "base_uri": "https://localhost:8080/",
          "height": 221
        }
      },
      "source": [
        "pd.read_csv(path + \"pokemon.csv\", usecols = [\"Pokemon\"], squeeze = True)"
      ],
      "execution_count": 0,
      "outputs": [
        {
          "output_type": "execute_result",
          "data": {
            "text/plain": [
              "0       Bulbasaur\n",
              "1         Ivysaur\n",
              "2        Venusaur\n",
              "3      Charmander\n",
              "4      Charmeleon\n",
              "          ...    \n",
              "716       Yveltal\n",
              "717       Zygarde\n",
              "718       Diancie\n",
              "719         Hoopa\n",
              "720     Volcanion\n",
              "Name: Pokemon, Length: 721, dtype: object"
            ]
          },
          "metadata": {
            "tags": []
          },
          "execution_count": 22
        }
      ]
    },
    {
      "cell_type": "code",
      "metadata": {
        "collapsed": true,
        "id": "AkKOT2pUCfmf",
        "colab_type": "code",
        "outputId": "d1aadf7a-72ea-4dad-e208-695c0475c6f5",
        "colab": {
          "base_uri": "https://localhost:8080/",
          "height": 221
        }
      },
      "source": [
        "pokemon = pd.read_csv(path + \"pokemon.csv\", usecols = [\"Pokemon\"], squeeze = True)\n",
        "pokemon"
      ],
      "execution_count": 0,
      "outputs": [
        {
          "output_type": "execute_result",
          "data": {
            "text/plain": [
              "0       Bulbasaur\n",
              "1         Ivysaur\n",
              "2        Venusaur\n",
              "3      Charmander\n",
              "4      Charmeleon\n",
              "          ...    \n",
              "716       Yveltal\n",
              "717       Zygarde\n",
              "718       Diancie\n",
              "719         Hoopa\n",
              "720     Volcanion\n",
              "Name: Pokemon, Length: 721, dtype: object"
            ]
          },
          "metadata": {
            "tags": []
          },
          "execution_count": 23
        }
      ]
    },
    {
      "cell_type": "code",
      "metadata": {
        "collapsed": true,
        "id": "xK47r5BQCfmm",
        "colab_type": "code",
        "outputId": "59ac7b3a-e71c-48d7-b714-86a5cab0903c",
        "colab": {
          "base_uri": "https://localhost:8080/",
          "height": 221
        }
      },
      "source": [
        "google = pd.read_csv(path + \"google_stock_price.csv\", squeeze = True)\n",
        "google"
      ],
      "execution_count": 0,
      "outputs": [
        {
          "output_type": "execute_result",
          "data": {
            "text/plain": [
              "0        50.12\n",
              "1        54.10\n",
              "2        54.65\n",
              "3        52.38\n",
              "4        52.95\n",
              "         ...  \n",
              "3007    772.88\n",
              "3008    771.07\n",
              "3009    773.18\n",
              "3010    771.61\n",
              "3011    782.22\n",
              "Name: Stock Price, Length: 3012, dtype: float64"
            ]
          },
          "metadata": {
            "tags": []
          },
          "execution_count": 24
        }
      ]
    },
    {
      "cell_type": "markdown",
      "metadata": {
        "id": "-PW8iTesCfmt",
        "colab_type": "text"
      },
      "source": [
        "***The `.head()` and `.tail()` Methods***"
      ]
    },
    {
      "cell_type": "code",
      "metadata": {
        "id": "FJnImQ5JCfmw",
        "colab_type": "code",
        "colab": {}
      },
      "source": [
        "pokemon = pd.read_csv(path + \"pokemon.csv\", usecols = [\"Pokemon\"], squeeze = True)\n",
        "google = pd.read_csv(path + \"google_stock_price.csv\", squeeze = True)"
      ],
      "execution_count": 0,
      "outputs": []
    },
    {
      "cell_type": "code",
      "metadata": {
        "id": "1yXLoh5BCfm2",
        "colab_type": "code",
        "outputId": "93448952-4819-49cb-856e-4ee0a1d76d97",
        "colab": {
          "base_uri": "https://localhost:8080/",
          "height": 119
        }
      },
      "source": [
        "pokemon.head()"
      ],
      "execution_count": 0,
      "outputs": [
        {
          "output_type": "execute_result",
          "data": {
            "text/plain": [
              "0     Bulbasaur\n",
              "1       Ivysaur\n",
              "2      Venusaur\n",
              "3    Charmander\n",
              "4    Charmeleon\n",
              "Name: Pokemon, dtype: object"
            ]
          },
          "metadata": {
            "tags": []
          },
          "execution_count": 26
        }
      ]
    },
    {
      "cell_type": "code",
      "metadata": {
        "id": "Lo8vK1TgCfm8",
        "colab_type": "code",
        "outputId": "43c6e604-8047-401d-a798-88a93cff2f1b",
        "colab": {
          "base_uri": "https://localhost:8080/",
          "height": 119
        }
      },
      "source": [
        "google.tail()"
      ],
      "execution_count": 0,
      "outputs": [
        {
          "output_type": "execute_result",
          "data": {
            "text/plain": [
              "3007    772.88\n",
              "3008    771.07\n",
              "3009    773.18\n",
              "3010    771.61\n",
              "3011    782.22\n",
              "Name: Stock Price, dtype: float64"
            ]
          },
          "metadata": {
            "tags": []
          },
          "execution_count": 27
        }
      ]
    },
    {
      "cell_type": "markdown",
      "metadata": {
        "id": "pu1bAXCmCfnC",
        "colab_type": "text"
      },
      "source": [
        "***Python `Built-In Functions`***"
      ]
    },
    {
      "cell_type": "code",
      "metadata": {
        "id": "xP63hXExCfnD",
        "colab_type": "code",
        "colab": {}
      },
      "source": [
        "pokemon = pd.read_csv(path + \"pokemon.csv\", usecols = [\"Pokemon\"], squeeze = True)\n",
        "google = pd.read_csv(path + \"google_stock_price.csv\", squeeze = True)"
      ],
      "execution_count": 0,
      "outputs": []
    },
    {
      "cell_type": "code",
      "metadata": {
        "id": "4IN_pQ4YCfnH",
        "colab_type": "code",
        "outputId": "8ad00628-22d1-4786-d17f-f984312166a3",
        "colab": {
          "base_uri": "https://localhost:8080/",
          "height": 51
        }
      },
      "source": [
        "print(len(pokemon))\n",
        "print(len(google))"
      ],
      "execution_count": 0,
      "outputs": [
        {
          "output_type": "stream",
          "text": [
            "721\n",
            "3012\n"
          ],
          "name": "stdout"
        }
      ]
    },
    {
      "cell_type": "code",
      "metadata": {
        "id": "Px1pVhVlCfnO",
        "colab_type": "code",
        "outputId": "d805fde6-e326-429c-830b-05af4f88801c",
        "colab": {
          "base_uri": "https://localhost:8080/",
          "height": 51
        }
      },
      "source": [
        "print(type(pokemon))\n",
        "print(type(google))"
      ],
      "execution_count": 0,
      "outputs": [
        {
          "output_type": "stream",
          "text": [
            "<class 'pandas.core.series.Series'>\n",
            "<class 'pandas.core.series.Series'>\n"
          ],
          "name": "stdout"
        }
      ]
    },
    {
      "cell_type": "code",
      "metadata": {
        "collapsed": true,
        "id": "CpK0TsnVCfnZ",
        "colab_type": "code",
        "outputId": "2098e69f-e010-4d43-ead3-b3f1fc683654",
        "colab": {
          "base_uri": "https://localhost:8080/",
          "height": 71
        }
      },
      "source": [
        "print(dir(pokemon))\n",
        "print(dir(google))"
      ],
      "execution_count": 0,
      "outputs": [
        {
          "output_type": "stream",
          "text": [
            "['T', '_AXIS_ALIASES', '_AXIS_IALIASES', '_AXIS_LEN', '_AXIS_NAMES', '_AXIS_NUMBERS', '_AXIS_ORDERS', '_AXIS_REVERSED', '_HANDLED_TYPES', '__abs__', '__add__', '__and__', '__annotations__', '__array__', '__array_priority__', '__array_ufunc__', '__array_wrap__', '__bool__', '__class__', '__contains__', '__copy__', '__deepcopy__', '__delattr__', '__delitem__', '__dict__', '__dir__', '__div__', '__divmod__', '__doc__', '__eq__', '__finalize__', '__float__', '__floordiv__', '__format__', '__ge__', '__getattr__', '__getattribute__', '__getitem__', '__getstate__', '__gt__', '__hash__', '__iadd__', '__iand__', '__ifloordiv__', '__imod__', '__imul__', '__init__', '__init_subclass__', '__int__', '__invert__', '__ior__', '__ipow__', '__isub__', '__iter__', '__itruediv__', '__ixor__', '__le__', '__len__', '__long__', '__lt__', '__matmul__', '__mod__', '__module__', '__mul__', '__ne__', '__neg__', '__new__', '__nonzero__', '__or__', '__pos__', '__pow__', '__radd__', '__rand__', '__rdiv__', '__rdivmod__', '__reduce__', '__reduce_ex__', '__repr__', '__rfloordiv__', '__rmatmul__', '__rmod__', '__rmul__', '__ror__', '__round__', '__rpow__', '__rsub__', '__rtruediv__', '__rxor__', '__setattr__', '__setitem__', '__setstate__', '__sizeof__', '__str__', '__sub__', '__subclasshook__', '__truediv__', '__weakref__', '__xor__', '_accessors', '_add_numeric_operations', '_add_series_or_dataframe_operations', '_agg_by_level', '_agg_examples_doc', '_agg_see_also_doc', '_aggregate', '_aggregate_multiple_funcs', '_align_frame', '_align_series', '_binop', '_box_item_values', '_builtin_table', '_can_hold_na', '_check_inplace_setting', '_check_is_chained_assignment_possible', '_check_label_or_level_ambiguity', '_check_setitem_copy', '_clear_item_cache', '_clip_with_one_bound', '_clip_with_scalar', '_consolidate', '_consolidate_inplace', '_construct_axes_dict', '_construct_axes_dict_from', '_construct_axes_from_arguments', '_constructor', '_constructor_expanddim', '_constructor_sliced', '_convert', '_convert_dtypes', '_create_indexer', '_cython_table', '_deprecations', '_dir_additions', '_dir_deletions', '_drop_axis', '_drop_labels_or_levels', '_find_valid_index', '_from_axes', '_get_axis', '_get_axis_name', '_get_axis_number', '_get_axis_resolvers', '_get_block_manager_axis', '_get_bool_data', '_get_cacher', '_get_cleaned_column_resolvers', '_get_cython_func', '_get_index_resolvers', '_get_item_cache', '_get_label_or_level_values', '_get_numeric_data', '_get_value', '_get_values', '_get_values_tuple', '_get_with', '_gotitem', '_iget_item_cache', '_index', '_indexed_same', '_info_axis', '_info_axis_name', '_info_axis_number', '_init_dict', '_init_mgr', '_internal_get_values', '_internal_names', '_internal_names_set', '_is_builtin_func', '_is_cached', '_is_copy', '_is_datelike_mixed_type', '_is_label_or_level_reference', '_is_label_reference', '_is_level_reference', '_is_mixed_type', '_is_numeric_mixed_type', '_is_view', '_ix', '_ixs', '_map_values', '_maybe_cache_changed', '_maybe_update_cacher', '_metadata', '_ndarray_values', '_needs_reindex_multi', '_obj_with_exclusions', '_protect_consolidate', '_reduce', '_reindex_axes', '_reindex_indexer', '_reindex_multi', '_reindex_with_indexers', '_repr_data_resource_', '_repr_latex_', '_reset_cache', '_reset_cacher', '_selected_obj', '_selection', '_selection_list', '_selection_name', '_set_as_cached', '_set_axis', '_set_axis_name', '_set_is_copy', '_set_item', '_set_labels', '_set_name', '_set_subtyp', '_set_value', '_set_values', '_set_with', '_set_with_engine', '_setup_axes', '_slice', '_stat_axis', '_stat_axis_name', '_stat_axis_number', '_take_with_is_copy', '_to_dict_of_blocks', '_try_aggregate_string_function', '_typ', '_unpickle_series_compat', '_update_inplace', '_validate_dtype', '_values', '_where', '_xs', 'abs', 'add', 'add_prefix', 'add_suffix', 'agg', 'aggregate', 'align', 'all', 'any', 'append', 'apply', 'argmax', 'argmin', 'argsort', 'array', 'asfreq', 'asof', 'astype', 'at', 'at_time', 'attrs', 'autocorr', 'axes', 'between', 'between_time', 'bfill', 'bool', 'clip', 'combine', 'combine_first', 'convert_dtypes', 'copy', 'corr', 'count', 'cov', 'cummax', 'cummin', 'cumprod', 'cumsum', 'describe', 'diff', 'div', 'divide', 'divmod', 'dot', 'drop', 'drop_duplicates', 'droplevel', 'dropna', 'dtype', 'dtypes', 'duplicated', 'empty', 'eq', 'equals', 'ewm', 'expanding', 'explode', 'factorize', 'ffill', 'fillna', 'filter', 'first', 'first_valid_index', 'floordiv', 'ge', 'get', 'groupby', 'gt', 'hasnans', 'head', 'hist', 'iat', 'idxmax', 'idxmin', 'iloc', 'index', 'infer_objects', 'interpolate', 'is_monotonic', 'is_monotonic_decreasing', 'is_monotonic_increasing', 'is_unique', 'isin', 'isna', 'isnull', 'item', 'items', 'iteritems', 'keys', 'kurt', 'kurtosis', 'last', 'last_valid_index', 'le', 'loc', 'lt', 'mad', 'map', 'mask', 'max', 'mean', 'median', 'memory_usage', 'min', 'mod', 'mode', 'mul', 'multiply', 'name', 'nbytes', 'ndim', 'ne', 'nlargest', 'notna', 'notnull', 'nsmallest', 'nunique', 'pct_change', 'pipe', 'plot', 'pop', 'pow', 'prod', 'product', 'quantile', 'radd', 'rank', 'ravel', 'rdiv', 'rdivmod', 'reindex', 'reindex_like', 'rename', 'rename_axis', 'reorder_levels', 'repeat', 'replace', 'resample', 'reset_index', 'rfloordiv', 'rmod', 'rmul', 'rolling', 'round', 'rpow', 'rsub', 'rtruediv', 'sample', 'searchsorted', 'sem', 'set_axis', 'shape', 'shift', 'size', 'skew', 'slice_shift', 'sort_index', 'sort_values', 'squeeze', 'std', 'str', 'sub', 'subtract', 'sum', 'swapaxes', 'swaplevel', 'tail', 'take', 'to_clipboard', 'to_csv', 'to_dict', 'to_excel', 'to_frame', 'to_hdf', 'to_json', 'to_latex', 'to_list', 'to_markdown', 'to_numpy', 'to_period', 'to_pickle', 'to_sql', 'to_string', 'to_timestamp', 'to_xarray', 'transform', 'transpose', 'truediv', 'truncate', 'tshift', 'tz_convert', 'tz_localize', 'unique', 'unstack', 'update', 'value_counts', 'values', 'var', 'view', 'where', 'xs']\n",
            "['T', '_AXIS_ALIASES', '_AXIS_IALIASES', '_AXIS_LEN', '_AXIS_NAMES', '_AXIS_NUMBERS', '_AXIS_ORDERS', '_AXIS_REVERSED', '_HANDLED_TYPES', '__abs__', '__add__', '__and__', '__annotations__', '__array__', '__array_priority__', '__array_ufunc__', '__array_wrap__', '__bool__', '__class__', '__contains__', '__copy__', '__deepcopy__', '__delattr__', '__delitem__', '__dict__', '__dir__', '__div__', '__divmod__', '__doc__', '__eq__', '__finalize__', '__float__', '__floordiv__', '__format__', '__ge__', '__getattr__', '__getattribute__', '__getitem__', '__getstate__', '__gt__', '__hash__', '__iadd__', '__iand__', '__ifloordiv__', '__imod__', '__imul__', '__init__', '__init_subclass__', '__int__', '__invert__', '__ior__', '__ipow__', '__isub__', '__iter__', '__itruediv__', '__ixor__', '__le__', '__len__', '__long__', '__lt__', '__matmul__', '__mod__', '__module__', '__mul__', '__ne__', '__neg__', '__new__', '__nonzero__', '__or__', '__pos__', '__pow__', '__radd__', '__rand__', '__rdiv__', '__rdivmod__', '__reduce__', '__reduce_ex__', '__repr__', '__rfloordiv__', '__rmatmul__', '__rmod__', '__rmul__', '__ror__', '__round__', '__rpow__', '__rsub__', '__rtruediv__', '__rxor__', '__setattr__', '__setitem__', '__setstate__', '__sizeof__', '__str__', '__sub__', '__subclasshook__', '__truediv__', '__weakref__', '__xor__', '_accessors', '_add_numeric_operations', '_add_series_or_dataframe_operations', '_agg_by_level', '_agg_examples_doc', '_agg_see_also_doc', '_aggregate', '_aggregate_multiple_funcs', '_align_frame', '_align_series', '_binop', '_box_item_values', '_builtin_table', '_can_hold_na', '_check_inplace_setting', '_check_is_chained_assignment_possible', '_check_label_or_level_ambiguity', '_check_setitem_copy', '_clear_item_cache', '_clip_with_one_bound', '_clip_with_scalar', '_consolidate', '_consolidate_inplace', '_construct_axes_dict', '_construct_axes_dict_from', '_construct_axes_from_arguments', '_constructor', '_constructor_expanddim', '_constructor_sliced', '_convert', '_convert_dtypes', '_create_indexer', '_cython_table', '_deprecations', '_dir_additions', '_dir_deletions', '_drop_axis', '_drop_labels_or_levels', '_find_valid_index', '_from_axes', '_get_axis', '_get_axis_name', '_get_axis_number', '_get_axis_resolvers', '_get_block_manager_axis', '_get_bool_data', '_get_cacher', '_get_cleaned_column_resolvers', '_get_cython_func', '_get_index_resolvers', '_get_item_cache', '_get_label_or_level_values', '_get_numeric_data', '_get_value', '_get_values', '_get_values_tuple', '_get_with', '_gotitem', '_iget_item_cache', '_index', '_indexed_same', '_info_axis', '_info_axis_name', '_info_axis_number', '_init_dict', '_init_mgr', '_internal_get_values', '_internal_names', '_internal_names_set', '_is_builtin_func', '_is_cached', '_is_copy', '_is_datelike_mixed_type', '_is_label_or_level_reference', '_is_label_reference', '_is_level_reference', '_is_mixed_type', '_is_numeric_mixed_type', '_is_view', '_ix', '_ixs', '_map_values', '_maybe_cache_changed', '_maybe_update_cacher', '_metadata', '_ndarray_values', '_needs_reindex_multi', '_obj_with_exclusions', '_protect_consolidate', '_reduce', '_reindex_axes', '_reindex_indexer', '_reindex_multi', '_reindex_with_indexers', '_repr_data_resource_', '_repr_latex_', '_reset_cache', '_reset_cacher', '_selected_obj', '_selection', '_selection_list', '_selection_name', '_set_as_cached', '_set_axis', '_set_axis_name', '_set_is_copy', '_set_item', '_set_labels', '_set_name', '_set_subtyp', '_set_value', '_set_values', '_set_with', '_set_with_engine', '_setup_axes', '_slice', '_stat_axis', '_stat_axis_name', '_stat_axis_number', '_take_with_is_copy', '_to_dict_of_blocks', '_try_aggregate_string_function', '_typ', '_unpickle_series_compat', '_update_inplace', '_validate_dtype', '_values', '_where', '_xs', 'abs', 'add', 'add_prefix', 'add_suffix', 'agg', 'aggregate', 'align', 'all', 'any', 'append', 'apply', 'argmax', 'argmin', 'argsort', 'array', 'asfreq', 'asof', 'astype', 'at', 'at_time', 'attrs', 'autocorr', 'axes', 'between', 'between_time', 'bfill', 'bool', 'clip', 'combine', 'combine_first', 'convert_dtypes', 'copy', 'corr', 'count', 'cov', 'cummax', 'cummin', 'cumprod', 'cumsum', 'describe', 'diff', 'div', 'divide', 'divmod', 'dot', 'drop', 'drop_duplicates', 'droplevel', 'dropna', 'dtype', 'dtypes', 'duplicated', 'empty', 'eq', 'equals', 'ewm', 'expanding', 'explode', 'factorize', 'ffill', 'fillna', 'filter', 'first', 'first_valid_index', 'floordiv', 'ge', 'get', 'groupby', 'gt', 'hasnans', 'head', 'hist', 'iat', 'idxmax', 'idxmin', 'iloc', 'index', 'infer_objects', 'interpolate', 'is_monotonic', 'is_monotonic_decreasing', 'is_monotonic_increasing', 'is_unique', 'isin', 'isna', 'isnull', 'item', 'items', 'iteritems', 'keys', 'kurt', 'kurtosis', 'last', 'last_valid_index', 'le', 'loc', 'lt', 'mad', 'map', 'mask', 'max', 'mean', 'median', 'memory_usage', 'min', 'mod', 'mode', 'mul', 'multiply', 'name', 'nbytes', 'ndim', 'ne', 'nlargest', 'notna', 'notnull', 'nsmallest', 'nunique', 'pct_change', 'pipe', 'plot', 'pop', 'pow', 'prod', 'product', 'quantile', 'radd', 'rank', 'ravel', 'rdiv', 'rdivmod', 'reindex', 'reindex_like', 'rename', 'rename_axis', 'reorder_levels', 'repeat', 'replace', 'resample', 'reset_index', 'rfloordiv', 'rmod', 'rmul', 'rolling', 'round', 'rpow', 'rsub', 'rtruediv', 'sample', 'searchsorted', 'sem', 'set_axis', 'shape', 'shift', 'size', 'skew', 'slice_shift', 'sort_index', 'sort_values', 'squeeze', 'std', 'sub', 'subtract', 'sum', 'swapaxes', 'swaplevel', 'tail', 'take', 'to_clipboard', 'to_csv', 'to_dict', 'to_excel', 'to_frame', 'to_hdf', 'to_json', 'to_latex', 'to_list', 'to_markdown', 'to_numpy', 'to_period', 'to_pickle', 'to_sql', 'to_string', 'to_timestamp', 'to_xarray', 'transform', 'transpose', 'truediv', 'truncate', 'tshift', 'tz_convert', 'tz_localize', 'unique', 'unstack', 'update', 'value_counts', 'values', 'var', 'view', 'where', 'xs']\n"
          ],
          "name": "stdout"
        }
      ]
    },
    {
      "cell_type": "code",
      "metadata": {
        "collapsed": true,
        "id": "4_GK4v0MCfnj",
        "colab_type": "code",
        "outputId": "725aed61-3be3-4dcd-88d9-bb6ebc96f48a",
        "colab": {
          "base_uri": "https://localhost:8080/",
          "height": 71
        }
      },
      "source": [
        "print(sorted(pokemon))\n",
        "print(sorted(google))"
      ],
      "execution_count": 0,
      "outputs": [
        {
          "output_type": "stream",
          "text": [
            "['Abomasnow', 'Abra', 'Absol', 'Accelgor', 'Aegislash', 'Aerodactyl', 'Aggron', 'Aipom', 'Alakazam', 'Alomomola', 'Altaria', 'Amaura', 'Ambipom', 'Amoonguss', 'Ampharos', 'Anorith', 'Arbok', 'Arcanine', 'Arceus', 'Archen', 'Archeops', 'Ariados', 'Armaldo', 'Aromatisse', 'Aron', 'Articuno', 'Audino', 'Aurorus', 'Avalugg', 'Axew', 'Azelf', 'Azumarill', 'Azurill', 'Bagon', 'Baltoy', 'Banette', 'Barbaracle', 'Barboach', 'Basculin', 'Bastiodon', 'Bayleef', 'Beartic', 'Beautifly', 'Beedrill', 'Beheeyem', 'Beldum', 'Bellossom', 'Bellsprout', 'Bergmite', 'Bibarel', 'Bidoof', 'Binacle', 'Bisharp', 'Blastoise', 'Blaziken', 'Blissey', 'Blitzle', 'Boldore', 'Bonsly', 'Bouffalant', 'Braixen', 'Braviary', 'Breloom', 'Bronzong', 'Bronzor', 'Budew', 'Buizel', 'Bulbasaur', 'Buneary', 'Bunnelby', 'Burmy', 'Butterfree', 'Cacnea', 'Cacturne', 'Camerupt', 'Carbink', 'Carnivine', 'Carracosta', 'Carvanha', 'Cascoon', 'Castform', 'Caterpie', 'Celebi', 'Chandelure', 'Chansey', 'Charizard', 'Charmander', 'Charmeleon', 'Chatot', 'Cherrim', 'Cherubi', 'Chesnaught', 'Chespin', 'Chikorita', 'Chimchar', 'Chimecho', 'Chinchou', 'Chingling', 'Cinccino', 'Clamperl', 'Clauncher', 'Clawitzer', 'Claydol', 'Clefable', 'Clefairy', 'Cleffa', 'Cloyster', 'Cobalion', 'Cofagrigus', 'Combee', 'Combusken', 'Conkeldurr', 'Corphish', 'Corsola', 'Cottonee', 'Cradily', 'Cranidos', 'Crawdaunt', 'Cresselia', 'Croagunk', 'Crobat', 'Croconaw', 'Crustle', 'Cryogonal', 'Cubchoo', 'Cubone', 'Cyndaquil', 'Darkrai', 'Darmanitan', 'Darumaka', 'Dedenne', 'Deerling', 'Deino', 'Delcatty', 'Delibird', 'Delphox', 'Deoxys', 'Dewgong', 'Dewott', 'Dialga', 'Diancie', 'Diggersby', 'Diglett', 'Ditto', 'Dodrio', 'Doduo', 'Donphan', 'Doublade', 'Dragalge', 'Dragonair', 'Dragonite', 'Drapion', 'Dratini', 'Drifblim', 'Drifloon', 'Drilbur', 'Drowzee', 'Druddigon', 'Ducklett', 'Dugtrio', 'Dunsparce', 'Duosion', 'Durant', 'Dusclops', 'Dusknoir', 'Duskull', 'Dustox', 'Dwebble', 'Eelektrik', 'Eelektross', 'Eevee', 'Ekans', 'Electabuzz', 'Electivire', 'Electrike', 'Electrode', 'Elekid', 'Elgyem', 'Emboar', 'Emolga', 'Empoleon', 'Entei', 'Escavalier', 'Espeon', 'Espurr', 'Excadrill', 'Exeggcute', 'Exeggutor', 'Exploud', \"Farfetch'd\", 'Fearow', 'Feebas', 'Fennekin', 'Feraligatr', 'Ferroseed', 'Ferrothorn', 'Finneon', 'Flaaffy', 'Flabébé', 'Flareon', 'Fletchinder', 'Fletchling', 'Floatzel', 'Floette', 'Florges', 'Flygon', 'Foongus', 'Forretress', 'Fraxure', 'Frillish', 'Froakie', 'Frogadier', 'Froslass', 'Furfrou', 'Furret', 'Gabite', 'Gallade', 'Galvantula', 'Garbodor', 'Garchomp', 'Gardevoir', 'Gastly', 'Gastrodon', 'Genesect', 'Gengar', 'Geodude', 'Gible', 'Gigalith', 'Girafarig', 'Giratina', 'Glaceon', 'Glalie', 'Glameow', 'Gligar', 'Gliscor', 'Gloom', 'Gogoat', 'Golbat', 'Goldeen', 'Golduck', 'Golem', 'Golett', 'Golurk', 'Goodra', 'Goomy', 'Gorebyss', 'Gothita', 'Gothitelle', 'Gothorita', 'Gourgeist', 'Granbull', 'Graveler', 'Greninja', 'Grimer', 'Grotle', 'Groudon', 'Grovyle', 'Growlithe', 'Grumpig', 'Gulpin', 'Gurdurr', 'Gyarados', 'Happiny', 'Hariyama', 'Haunter', 'Hawlucha', 'Haxorus', 'Heatmor', 'Heatran', 'Heliolisk', 'Helioptile', 'Heracross', 'Herdier', 'Hippopotas', 'Hippowdon', 'Hitmonchan', 'Hitmonlee', 'Hitmontop', 'Ho-oh', 'Honchkrow', 'Honedge', 'Hoopa', 'Hoothoot', 'Hoppip', 'Horsea', 'Houndoom', 'Houndour', 'Huntail', 'Hydreigon', 'Hypno', 'Igglybuff', 'Illumise', 'Infernape', 'Inkay', 'Ivysaur', 'Jellicent', 'Jigglypuff', 'Jirachi', 'Jolteon', 'Joltik', 'Jumpluff', 'Jynx', 'Kabuto', 'Kabutops', 'Kadabra', 'Kakuna', 'Kangaskhan', 'Karrablast', 'Kecleon', 'Keldeo', 'Kingdra', 'Kingler', 'Kirlia', 'Klang', 'Klefki', 'Klink', 'Klinklang', 'Koffing', 'Krabby', 'Kricketot', 'Kricketune', 'Krokorok', 'Krookodile', 'Kyogre', 'Kyurem', 'Lairon', 'Lampent', 'Landorus', 'Lanturn', 'Lapras', 'Larvesta', 'Larvitar', 'Latias', 'Latios', 'Leafeon', 'Leavanny', 'Ledian', 'Ledyba', 'Lickilicky', 'Lickitung', 'Liepard', 'Lileep', 'Lilligant', 'Lillipup', 'Linoone', 'Litleo', 'Litwick', 'Lombre', 'Lopunny', 'Lotad', 'Loudred', 'Lucario', 'Ludicolo', 'Lugia', 'Lumineon', 'Lunatone', 'Luvdisc', 'Luxio', 'Luxray', 'Machamp', 'Machoke', 'Machop', 'Magby', 'Magcargo', 'Magikarp', 'Magmar', 'Magmortar', 'Magnemite', 'Magneton', 'Magnezone', 'Makuhita', 'Malamar', 'Mamoswine', 'Manaphy', 'Mandibuzz', 'Manectric', 'Mankey', 'Mantine', 'Mantyke', 'Maractus', 'Mareep', 'Marill', 'Marowak', 'Marshtomp', 'Masquerain', 'Mawile', 'Medicham', 'Meditite', 'Meganium', 'Meloetta', 'Meowstic', 'Meowth', 'Mesprit', 'Metagross', 'Metang', 'Metapod', 'Mew', 'Mewtwo', 'Mienfoo', 'Mienshao', 'Mightyena', 'Milotic', 'Miltank', 'Mime Jr.', 'Minccino', 'Minun', 'Misdreavus', 'Mismagius', 'Moltres', 'Monferno', 'Mothim', 'Mr. Mime', 'Mudkip', 'Muk', 'Munchlax', 'Munna', 'Murkrow', 'Musharna', 'Natu', 'Nidoking', 'Nidoqueen', 'Nidoran', 'Nidoran♂', 'Nidorina', 'Nidorino', 'Nincada', 'Ninetales', 'Ninjask', 'Noctowl', 'Noibat', 'Noivern', 'Nosepass', 'Numel', 'Nuzleaf', 'Octillery', 'Oddish', 'Omanyte', 'Omastar', 'Onix', 'Oshawott', 'Pachirisu', 'Palkia', 'Palpitoad', 'Pancham', 'Pangoro', 'Panpour', 'Pansage', 'Pansear', 'Paras', 'Parasect', 'Patrat', 'Pawniard', 'Pelipper', 'Persian', 'Petilil', 'Phanpy', 'Phantump', 'Phione', 'Pichu', 'Pidgeot', 'Pidgeotto', 'Pidgey', 'Pidove', 'Pignite', 'Pikachu', 'Piloswine', 'Pineco', 'Pinsir', 'Piplup', 'Plusle', 'Politoed', 'Poliwag', 'Poliwhirl', 'Poliwrath', 'Ponyta', 'Poochyena', 'Porygon', 'Porygon-Z', 'Porygon2', 'Primeape', 'Prinplup', 'Probopass', 'Psyduck', 'Pumpkaboo', 'Pupitar', 'Purrloin', 'Purugly', 'Pyroar', 'Quagsire', 'Quilava', 'Quilladin', 'Qwilfish', 'Raichu', 'Raikou', 'Ralts', 'Rampardos', 'Rapidash', 'Raticate', 'Rattata', 'Rayquaza', 'Regice', 'Regigigas', 'Regirock', 'Registeel', 'Relicanth', 'Remoraid', 'Reshiram', 'Reuniclus', 'Rhydon', 'Rhyhorn', 'Rhyperior', 'Riolu', 'Roggenrola', 'Roselia', 'Roserade', 'Rotom', 'Rufflet', 'Sableye', 'Salamence', 'Samurott', 'Sandile', 'Sandshrew', 'Sandslash', 'Sawk', 'Sawsbuck', 'Scatterbug', 'Sceptile', 'Scizor', 'Scolipede', 'Scrafty', 'Scraggy', 'Scyther', 'Seadra', 'Seaking', 'Sealeo', 'Seedot', 'Seel', 'Seismitoad', 'Sentret', 'Serperior', 'Servine', 'Seviper', 'Sewaddle', 'Sharpedo', 'Shaymin', 'Shedinja', 'Shelgon', 'Shellder', 'Shellos', 'Shelmet', 'Shieldon', 'Shiftry', 'Shinx', 'Shroomish', 'Shuckle', 'Shuppet', 'Sigilyph', 'Silcoon', 'Simipour', 'Simisage', 'Simisear', 'Skarmory', 'Skiddo', 'Skiploom', 'Skitty', 'Skorupi', 'Skrelp', 'Skuntank', 'Slaking', 'Slakoth', 'Sliggoo', 'Slowbro', 'Slowking', 'Slowpoke', 'Slugma', 'Slurpuff', 'Smeargle', 'Smoochum', 'Sneasel', 'Snivy', 'Snorlax', 'Snorunt', 'Snover', 'Snubbull', 'Solosis', 'Solrock', 'Spearow', 'Spewpa', 'Spheal', 'Spinarak', 'Spinda', 'Spiritomb', 'Spoink', 'Spritzee', 'Squirtle', 'Stantler', 'Staraptor', 'Staravia', 'Starly', 'Starmie', 'Staryu', 'Steelix', 'Stoutland', 'Stunfisk', 'Stunky', 'Sudowoodo', 'Suicune', 'Sunflora', 'Sunkern', 'Surskit', 'Swablu', 'Swadloon', 'Swalot', 'Swampert', 'Swanna', 'Swellow', 'Swinub', 'Swirlix', 'Swoobat', 'Sylveon', 'Taillow', 'Talonflame', 'Tangela', 'Tangrowth', 'Tauros', 'Teddiursa', 'Tentacool', 'Tentacruel', 'Tepig', 'Terrakion', 'Throh', 'Thundurus', 'Timburr', 'Tirtouga', 'Togekiss', 'Togepi', 'Togetic', 'Torchic', 'Torkoal', 'Tornadus', 'Torterra', 'Totodile', 'Toxicroak', 'Tranquill', 'Trapinch', 'Treecko', 'Trevenant', 'Tropius', 'Trubbish', 'Turtwig', 'Tympole', 'Tynamo', 'Typhlosion', 'Tyranitar', 'Tyrantrum', 'Tyrogue', 'Tyrunt', 'Umbreon', 'Unfezant', 'Unown', 'Ursaring', 'Uxie', 'Vanillish', 'Vanillite', 'Vanilluxe', 'Vaporeon', 'Venipede', 'Venomoth', 'Venonat', 'Venusaur', 'Vespiquen', 'Vibrava', 'Victini', 'Victreebel', 'Vigoroth', 'Vileplume', 'Virizion', 'Vivillon', 'Volbeat', 'Volcanion', 'Volcarona', 'Voltorb', 'Vullaby', 'Vulpix', 'Wailmer', 'Wailord', 'Walrein', 'Wartortle', 'Watchog', 'Weavile', 'Weedle', 'Weepinbell', 'Weezing', 'Whimsicott', 'Whirlipede', 'Whiscash', 'Whismur', 'Wigglytuff', 'Wingull', 'Wobbuffet', 'Woobat', 'Wooper', 'Wormadam', 'Wurmple', 'Wynaut', 'Xatu', 'Xerneas', 'Yamask', 'Yanma', 'Yanmega', 'Yveltal', 'Zangoose', 'Zapdos', 'Zebstrika', 'Zekrom', 'Zigzagoon', 'Zoroark', 'Zorua', 'Zubat', 'Zweilous', 'Zygarde']\n",
            "[49.95, 50.07, 50.12, 50.7, 50.74, 50.95, 51.1, 51.1, 51.13, 52.38, 52.61, 52.95, 53.02, 53.7, 53.9, 54.1, 54.65, 55.69, 55.94, 56.93, 58.69, 58.86, 59.07, 59.13, 59.62, 59.86, 60.35, 63.37, 64.74, 65.47, 66.22, 67.46, 67.56, 68.47, 68.63, 68.8, 69.12, 69.36, 70.17, 70.38, 70.93, 71.98, 73.9, 74.51, 74.62, 82.47, 83.68, 83.69, 83.85, 84.27, 84.59, 84.62, 84.91, 85.14, 85.63, 85.74, 86.13, 86.16, 86.19, 86.19, 86.63, 87.29, 87.41, 87.71, 88.06, 88.15, 88.47, 88.81, 89.21, 89.22, 89.26, 89.4, 89.54, 89.56, 89.61, 89.61, 89.7, 89.8, 89.89, 89.9, 89.93, 89.93, 89.95, 90.11, 90.13, 90.16, 90.27, 90.35, 90.43, 90.58, 90.62, 90.81, 90.9, 90.91, 91.42, 91.78, 92.26, 92.34, 92.41, 92.42, 92.5, 92.51, 92.55, 92.84, 92.86, 92.89, 92.94, 93.06, 93.39, 93.41, 93.61, 93.61, 93.86, 93.9, 93.9, 93.95, 94.05, 94.18, 94.19, 94.31, 94.35, 94.52, 94.53, 95.07, 95.22, 95.59, 95.6, 95.63, 95.69, 95.74, 95.85, 95.86, 95.93, 96.28, 96.3, 96.35, 96.37, 96.4, 96.52, 96.55, 96.66, 96.67, 96.78, 96.83, 96.86, 96.88, 96.88, 97.15, 97.34, 97.43, 97.52, 97.57, 97.59, 97.71, 97.92, 97.92, 98.55, 98.7, 98.85, 98.88, 98.95, 99.11, 99.22, 99.89, 101.25, 101.85, 102.01, 102.08, 102.88, 105.32, 107.8, 109.27, 109.62, 109.78, 109.89, 111.03, 111.65, 112.9, 112.98, 113.38, 113.79, 113.9, 114.14, 114.25, 114.51, 115.41, 115.53, 116.45, 119.46, 119.47, 120.68, 127.6, 127.87, 128.59, 129.47, 129.65, 130.27, 131.08, 132.86, 132.87, 136.87, 137.03, 137.26, 137.42, 138.5, 138.58, 139.04, 139.58, 139.64, 139.65, 139.86, 139.86, 139.95, 139.99, 140.0, 140.88, 141.11, 141.14, 141.15, 141.23, 141.23, 141.65, 141.85, 141.86, 141.88, 142.41, 142.68, 142.7, 142.86, 142.98, 143.01, 143.21, 143.41, 143.49, 143.74, 143.78, 143.81, 143.86, 144.08, 144.08, 144.51, 144.71, 144.72, 145.3, 145.32, 145.35, 145.48, 145.48, 145.62, 145.64, 145.66, 145.75, 145.9, 146.03, 146.21, 146.33, 146.41, 146.53, 146.6, 146.93, 147.29, 147.55, 147.62, 147.71, 147.78, 147.9, 147.92, 147.97, 148.32, 148.41, 148.48, 148.5, 148.56, 148.56, 148.57, 148.72, 148.86, 149.28, 149.35, 149.4, 149.45, 149.62, 149.69, 149.91, 149.95, 149.96, 150.03, 150.29, 150.33, 150.33, 150.44, 150.85, 150.9, 151.05, 151.16, 151.32, 151.35, 151.39, 151.4, 151.45, 151.49, 151.74, 151.9, 152.35, 152.67, 152.83, 152.85, 152.9, 153.1, 153.67, 153.8, 153.93, 154.13, 154.2, 154.26, 154.66, 154.72, 154.8, 154.85, 154.93, 154.98, 155.17, 155.18, 155.2, 155.34, 155.53, 155.57, 155.68, 155.79, 155.84, 155.88, 156.19, 156.22, 156.34, 156.81, 156.81, 156.98, 157.0, 157.38, 157.46, 157.52, 157.72, 158.07, 158.8, 159.18, 159.23, 159.3, 159.69, 160.5, 160.84, 161.6, 161.77, 162.05, 162.19, 162.43, 162.48, 162.58, 163.42, 163.86, 164.33, 164.58, 164.81, 164.86, 164.91, 165.4, 165.44, 165.57, 165.83, 166.38, 166.86, 167.5, 168.36, 168.42, 168.58, 168.83, 168.89, 169.1, 169.22, 169.42, 169.48, 169.73, 169.78, 169.79, 169.94, 170.05, 170.11, 170.65, 170.77, 170.95, 171.02, 171.15, 171.16, 171.17, 171.33, 171.33, 171.49, 171.49, 171.86, 172.08, 172.55, 172.68, 172.83, 173.05, 173.07, 173.28, 173.41, 173.68, 173.86, 173.92, 174.13, 174.15, 174.16, 175.4, 175.98, 176.33, 176.35, 176.38, 176.47, 176.68, 176.76, 176.87, 177.54, 177.66, 178.66, 178.82, 178.84, 178.91, 179.08, 179.15, 179.21, 179.5, 179.67, 180.82, 181.07, 181.12, 181.13, 181.17, 181.19, 181.34, 182.04, 182.22, 182.56, 182.72, 183.05, 183.11, 183.29, 183.43, 183.78, 183.87, 183.94, 184.07, 184.19, 184.19, 184.27, 184.36, 184.53, 184.66, 184.71, 184.82, 185.29, 185.31, 185.42, 185.45, 185.46, 185.72, 185.78, 185.88, 186.06, 186.08, 186.44, 186.53, 186.68, 186.74, 186.88, 186.91, 187.03, 187.06, 187.51, 187.57, 187.6, 187.91, 188.04, 188.28, 188.41, 188.46, 188.51, 188.74, 188.79, 188.85, 188.87, 188.9, 188.96, 189.06, 189.08, 189.11, 189.2, 189.29, 189.39, 189.46, 189.47, 189.5, 189.53, 189.56, 189.65, 189.88, 190.18, 190.28, 190.29, 190.31, 190.31, 190.32, 190.43, 190.48, 190.54, 190.58, 190.59, 191.01, 191.12, 191.3, 191.49, 191.66, 191.74, 191.85, 191.99, 192.0, 192.15, 192.36, 192.56, 192.71, 192.78, 192.78, 193.06, 193.07, 193.09, 193.11, 193.26, 193.31, 193.37, 193.39, 193.56, 193.67, 193.87, 193.88, 194.03, 194.18, 194.49, 194.55, 194.58, 194.66, 194.76, 194.8, 194.8, 194.8, 194.86, 194.99, 195.0, 195.02, 195.05, 195.15, 195.25, 195.3, 195.35, 195.54, 195.75, 195.92, 196.2, 196.45, 196.55, 196.65, 196.89, 196.95, 197.18, 197.19, 197.2, 197.29, 197.32, 197.79, 197.82, 198.05, 198.11, 198.12, 198.22, 198.29, 198.3, 198.39, 198.88, 199.24, 199.25, 199.3, 199.31, 199.53, 199.78, 199.9, 200.06, 200.52, 200.69, 200.75, 200.79, 200.86, 200.88, 200.96, 201.04, 201.26, 201.29, 201.29, 201.32, 201.52, 201.53, 201.55, 201.57, 201.59, 201.69, 201.7, 201.79, 201.79, 201.82, 201.91, 201.91, 201.92, 201.97, 201.98, 202.07, 202.23, 202.25, 202.58, 202.64, 202.72, 202.85, 202.88, 203.08, 203.21, 203.22, 203.23, 203.46, 203.47, 203.74, 203.79, 203.79, 204.04, 204.2, 204.21, 204.27, 204.4, 204.44, 204.48, 204.6, 204.63, 204.74, 204.99, 204.99, 205.04, 205.12, 205.38, 205.65, 205.7, 206.1, 206.6, 206.82, 206.84, 206.87, 206.99, 207.04, 207.14, 207.22, 207.29, 207.37, 207.64, 207.68, 207.79, 207.98, 208.03, 208.18, 208.41, 208.42, 208.54, 208.64, 208.7, 208.76, 208.89, 209.12, 209.27, 209.29, 209.44, 209.46, 209.73, 209.76, 209.8, 209.83, 209.86, 210.01, 210.04, 210.11, 210.52, 210.58, 210.66, 211.05, 211.22, 211.38, 211.39, 211.53, 211.86, 211.94, 212.07, 212.09, 212.11, 212.13, 212.21, 212.45, 212.77, 212.82, 212.95, 213.04, 213.07, 213.11, 213.13, 213.2, 213.37, 213.44, 213.51, 213.54, 213.63, 213.74, 213.99, 214.1, 214.29, 214.29, 214.42, 214.66, 214.85, 214.86, 214.87, 214.91, 215.25, 215.3, 215.61, 215.78, 215.8, 216.08, 216.11, 216.13, 216.28, 216.46, 216.53, 216.56, 216.66, 216.71, 216.92, 217.34, 217.4, 217.59, 217.82, 217.9, 218.0, 218.06, 218.33, 218.45, 218.61, 218.74, 218.82, 218.87, 219.12, 219.17, 219.32, 219.36, 219.53, 219.58, 219.7, 219.71, 219.87, 219.92, 220.01, 220.03, 220.2, 220.25, 221.08, 221.24, 221.28, 221.29, 221.29, 221.3, 221.76, 221.82, 221.9, 221.94, 222.08, 222.18, 222.22, 222.23, 222.25, 222.4, 222.42, 222.42, 222.6, 222.87, 223.14, 223.2, 223.39, 223.63, 223.78, 223.89, 224.16, 224.35, 224.5, 224.55, 224.78, 224.87, 224.9, 224.95, 225.16, 225.26, 225.34, 225.39, 225.47, 225.6, 225.88, 226.12, 226.25, 226.28, 226.64, 226.74, 226.9, 227.08, 227.13, 227.15, 227.29, 227.33, 227.56, 227.59, 227.65, 227.87, 228.05, 228.05, 228.08, 228.28, 228.32, 228.5, 228.53, 228.54, 228.55, 228.77, 228.85, 228.87, 228.92, 229.04, 229.06, 229.08, 229.19, 229.32, 229.57, 229.61, 229.77, 229.94, 229.97, 230.01, 230.05, 230.23, 230.42, 230.5, 230.5, 230.6, 230.66, 230.68, 230.71, 230.71, 230.78, 230.79, 230.91, 231.05, 231.17, 231.22, 231.27, 231.36, 231.41, 231.58, 231.58, 231.75, 231.8, 231.86, 231.86, 231.97, 231.97, 232.03, 232.14, 232.23, 232.27, 232.39, 232.39, 232.6, 232.62, 232.62, 232.66, 232.73, 232.8, 232.86, 232.89, 232.91, 233.02, 233.14, 233.17, 233.22, 233.32, 233.35, 233.4, 233.46, 233.51, 233.52, 233.56, 233.67, 233.7, 233.75, 233.77, 233.78, 233.87, 234.06, 234.08, 234.13, 234.17, 234.27, 234.3, 234.39, 234.65, 234.72, 234.74, 234.77, 234.91, 234.92, 235.05, 235.06, 235.07, 235.23, 235.24, 235.27, 235.28, 235.31, 235.32, 235.35, 235.45, 235.45, 235.5, 235.52, 235.58, 235.59, 235.66, 235.79, 235.8, 235.81, 235.83, 236.05, 236.06, 236.07, 236.08, 236.1, 236.16, 236.19, 236.38, 236.42, 236.54, 236.64, 236.65, 236.75, 236.77, 236.84, 236.9, 236.93, 237.2, 237.26, 237.27, 237.31, 237.32, 237.36, 237.46, 237.5, 237.57, 237.68, 237.69, 237.69, 237.69, 237.77, 237.83, 237.85, 237.96, 238.05, 238.17, 238.24, 238.3, 238.32, 238.32, 238.34, 238.51, 238.53, 238.53, 238.76, 239.26, 239.27, 239.29, 239.3, 239.32, 239.69, 239.87, 239.91, 239.97, 240.08, 240.15, 240.16, 240.18, 240.27, 240.29, 240.35, 240.42, 240.51, 240.55, 240.63, 240.65, 240.78, 240.82, 240.83, 240.89, 240.94, 241.0, 241.08, 241.11, 241.2, 241.26, 241.31, 241.35, 241.39, 241.52, 241.55, 241.72, 241.81, 241.93, 242.05, 242.05, 242.08, 242.13, 242.15, 242.16, 242.16, 242.18, 242.18, 242.25, 242.26, 242.27, 242.31, 242.51, 242.52, 242.55, 242.57, 242.88, 242.93, 242.93, 242.98, 243.02, 243.06, 243.26, 243.26, 243.26, 243.31, 243.35, 243.36, 243.67, 243.8, 243.9, 244.01, 244.02, 244.04, 244.11, 244.24, 244.36, 244.37, 244.41, 244.49, 244.51, 244.63, 244.67, 244.78, 244.83, 244.96, 244.98, 245.0, 245.01, 245.05, 245.21, 245.42, 245.48, 245.51, 245.61, 245.62, 245.72, 245.74, 245.76, 245.99, 245.99, 246.07, 246.25, 246.32, 246.44, 246.58, 246.76, 246.91, 246.97, 247.26, 247.28, 247.47, 247.51, 247.67, 247.68, 247.7, 248.14, 248.25, 248.39, 248.53, 248.54, 248.71, 248.71, 248.75, 248.84, 248.9, 248.94, 248.98, 249.02, 249.02, 249.05, 249.09, 249.11, 249.12, 249.15, 249.28, 249.28, 249.61, 249.76, 249.76, 249.77, 249.79, 249.86, 249.93, 249.95, 250.17, 250.38, 250.5, 250.6, 250.7, 251.05, 251.17, 251.18, 251.22, 251.25, 251.6, 251.89, 252.1, 252.11, 252.13, 252.19, 252.2, 252.22, 252.25, 252.37, 252.42, 252.44, 252.49, 252.55, 252.69, 252.91, 252.93, 252.94, 252.95, 253.05, 253.15, 253.28, 253.51, 253.65, 253.73, 253.75, 253.75, 253.8, 253.89, 253.93, 254.05, 254.22, 254.25, 254.27, 254.5, 254.57, 254.63, 254.63, 254.73, 254.74, 254.74, 254.82, 255.18, 255.25, 255.41, 255.44, 255.69, 255.84, 256.0, 256.12, 256.18, 256.21, 256.37, 256.47, 256.48, 256.74, 256.8, 256.83, 256.9, 256.98, 257.1, 257.11, 257.24, 257.26, 257.27, 257.3, 257.34, 257.37, 257.49, 257.49, 257.62, 257.69, 257.74, 257.75, 257.79, 257.8, 257.87, 258.09, 258.11, 258.51, 258.79, 258.81, 258.87, 258.87, 258.94, 258.95, 259.15, 259.16, 259.26, 259.33, 259.42, 259.58, 259.76, 259.8, 260.07, 260.19, 260.25, 260.27, 260.32, 260.4, 260.5, 260.55, 260.56, 260.83, 260.91, 261.06, 261.09, 261.28, 261.38, 261.5, 261.75, 261.76, 262.13, 262.16, 262.16, 262.23, 262.24, 262.26, 262.29, 262.31, 262.39, 262.49, 262.54, 262.55, 262.58, 262.6, 262.63, 262.63, 262.79, 262.88, 262.95, 262.95, 263.13, 263.14, 263.16, 263.17, 263.26, 263.32, 263.38, 263.38, 263.45, 263.49, 263.58, 263.64, 263.77, 263.77, 264.11, 264.15, 264.16, 264.21, 264.25, 264.26, 264.33, 264.5, 264.51, 264.56, 264.64, 264.69, 264.71, 264.74, 264.79, 264.86, 264.92, 264.94, 264.96, 265.03, 265.08, 265.29, 265.36, 265.38, 265.47, 265.55, 265.68, 265.73, 265.73, 265.77, 265.86, 265.95, 265.98, 266.08, 266.14, 266.24, 266.29, 266.31, 266.45, 266.47, 266.63, 266.68, 266.73, 266.74, 266.75, 266.87, 266.88, 266.9, 266.91, 266.96, 267.04, 267.1, 267.21, 267.26, 267.27, 267.37, 267.38, 267.39, 267.41, 267.46, 267.53, 267.63, 267.79, 267.91, 267.93, 267.95, 268.23, 268.32, 268.38, 268.57, 268.61, 268.63, 268.72, 268.83, 268.85, 268.86, 269.01, 269.15, 269.23, 269.27, 269.33, 269.4, 269.43, 269.44, 269.73, 269.88, 269.89, 270.02, 270.08, 270.11, 270.14, 270.19, 270.21, 270.26, 270.38, 270.42, 270.5, 270.54, 270.78, 270.88, 270.94, 271.01, 271.01, 271.06, 271.13, 271.25, 271.32, 271.34, 271.38, 271.4, 271.68, 271.76, 271.78, 271.96, 272.04, 272.22, 272.33, 272.33, 272.39, 272.39, 272.74, 272.94, 272.97, 273.03, 273.04, 273.06, 273.07, 273.15, 273.26, 273.86, 273.87, 273.98, 274.02, 274.04, 274.05, 274.23, 274.23, 274.46, 274.48, 274.65, 274.72, 274.73, 274.77, 274.8, 274.98, 275.22, 275.25, 275.27, 275.27, 275.58, 275.77, 275.78, 275.8, 276.14, 276.2, 276.22, 276.57, 276.77, 276.81, 276.83, 276.87, 276.99, 277.02, 277.22, 277.22, 277.24, 277.58, 277.71, 278.27, 278.34, 278.39, 278.47, 278.66, 278.96, 279.22, 279.25, 279.72, 279.77, 279.81, 279.82, 280.07, 280.17, 280.25, 280.26, 280.4, 280.78, 280.91, 280.94, 280.96, 280.97, 281.06, 281.16, 281.22, 281.31, 281.49, 281.6, 281.82, 281.87, 281.87, 281.89, 281.97, 282.06, 282.27, 282.32, 282.32, 282.5, 282.83, 282.92, 282.92, 283.07, 283.1, 283.22, 283.28, 283.35, 283.37, 283.46, 283.47, 283.64, 283.73, 283.77, 283.8, 283.83, 283.84, 283.97, 284.22, 284.26, 284.36, 284.45, 284.46, 284.5, 284.7, 284.71, 284.77, 284.92, 284.95, 284.99, 285.02, 285.14, 285.2, 285.22, 285.31, 285.45, 285.47, 285.62, 285.74, 285.82, 286.08, 286.12, 286.21, 286.21, 286.3, 286.42, 286.8, 286.86, 286.96, 287.17, 287.21, 287.39, 287.85, 287.85, 287.86, 287.94, 287.96, 287.97, 288.04, 288.07, 288.08, 288.37, 288.4, 288.46, 288.47, 288.47, 288.47, 288.56, 288.79, 288.83, 288.89, 288.97, 289.01, 289.01, 289.04, 289.21, 289.23, 289.23, 289.48, 289.58, 289.59, 289.7, 289.71, 289.71, 289.71, 289.74, 289.74, 289.76, 289.86, 289.91, 289.93, 289.94, 289.99, 290.06, 290.09, 290.12, 290.14, 290.17, 290.18, 290.21, 290.28, 290.35, 290.47, 290.56, 290.57, 290.63, 290.76, 290.79, 290.88, 290.91, 290.98, 291.17, 291.2, 291.21, 291.21, 291.21, 291.21, 291.21, 291.25, 291.29, 291.48, 291.54, 291.57, 291.72, 291.88, 291.9, 292.12, 292.18, 292.21, 292.26, 292.47, 292.58, 292.58, 292.61, 292.7, 292.7, 292.71, 292.83, 292.86, 292.86, 292.89, 293.09, 293.09, 293.15, 293.23, 293.25, 293.28, 293.46, 293.52, 293.55, 293.62, 293.8, 293.82, 294.21, 294.22, 294.63, 294.64, 294.7, 294.85, 294.94, 294.95, 294.96, 294.96, 294.97, 295.1, 295.12, 295.31, 295.45, 295.45, 295.47, 295.53, 295.54, 295.56, 295.59, 295.6, 295.81, 295.86, 296.02, 296.23, 296.24, 296.27, 296.67, 296.69, 296.73, 296.75, 296.77, 296.87, 297.01, 297.14, 297.15, 297.16, 297.17, 297.19, 297.23, 297.24, 297.35, 297.38, 297.44, 297.57, 297.66, 297.73, 297.77, 297.87, 297.91, 297.91, 297.98, 298.19, 298.45, 298.5, 298.51, 298.58, 299.04, 299.04, 299.13, 299.16, 299.35, 299.4, 299.77, 299.82, 299.82, 299.88, 299.9, 300.01, 300.08, 300.09, 300.09, 300.1, 300.13, 300.17, 300.19, 300.2, 300.25, 300.26, 300.28, 300.33, 300.42, 300.71, 300.76, 300.89, 300.97, 301.23, 301.34, 301.53, 301.54, 301.7, 301.81, 301.87, 301.91, 302.02, 302.12, 302.18, 302.27, 302.31, 302.44, 302.48, 302.65, 302.73, 302.75, 302.96, 303.08, 303.08, 303.1, 303.19, 303.27, 303.31, 303.33, 303.42, 303.47, 303.48, 303.61, 303.67, 303.69, 303.69, 303.83, 303.86, 303.87, 304.11, 304.23, 304.24, 304.27, 304.35, 304.43, 304.48, 304.48, 304.51, 304.56, 304.58, 304.62, 304.65, 304.71, 304.77, 304.8, 305.1, 305.16, 305.18, 305.2, 305.21, 305.23, 305.25, 305.35, 305.42, 305.43, 305.53, 305.61, 305.69, 305.69, 305.79, 305.86, 305.96, 306.09, 306.19, 306.37, 306.39, 306.44, 306.52, 306.54, 306.58, 306.69, 306.75, 306.8, 306.82, 306.84, 307.18, 307.19, 307.28, 307.43, 307.45, 307.49, 307.67, 307.69, 307.69, 307.7, 307.72, 307.91, 307.91, 307.93, 307.94, 307.94, 307.94, 307.97, 308.04, 308.09, 308.13, 308.29, 308.55, 308.58, 308.73, 308.81, 308.82, 308.88, 308.89, 308.93, 308.98, 308.99, 309.18, 309.39, 309.46, 309.65, 309.68, 309.74, 309.78, 309.87, 310.25, 310.31, 310.6, 310.69, 310.89, 310.92, 310.95, 311.05, 311.12, 311.13, 311.21, 311.26, 311.38, 311.57, 311.68, 311.76, 311.78, 311.8, 311.82, 311.94, 311.99, 312.1, 312.18, 312.21, 312.23, 312.32, 312.38, 312.38, 312.5, 312.51, 312.6, 312.61, 312.67, 312.67, 313.06, 313.07, 313.07, 313.12, 313.4, 313.76, 313.98, 314.06, 314.15, 314.51, 314.51, 314.54, 314.72, 314.87, 315.1, 315.52, 315.56, 315.72, 315.83, 315.84, 316.02, 316.14, 316.17, 316.25, 316.42, 316.43, 316.5, 316.67, 317.16, 317.26, 317.66, 318.38, 318.51, 318.81, 319.47, 319.49, 319.5, 319.53, 319.67, 319.8, 319.95, 320.3, 320.34, 320.52, 320.68, 320.79, 320.85, 320.88, 320.97, 320.99, 321.09, 322.03, 322.63, 322.7, 323.04, 323.14, 323.19, 323.27, 323.31, 323.88, 323.95, 324.3, 324.34, 324.68, 325.05, 325.18, 325.82, 325.95, 326.27, 326.58, 327.55, 328.17, 329.18, 329.2, 329.67, 329.93, 329.94, 330.24, 331.18, 331.65, 332.37, 332.6, 332.62, 332.7, 333.23, 333.44, 333.65, 333.77, 333.81, 333.92, 334.0, 334.28, 334.28, 334.42, 334.65, 335.02, 336.1, 336.34, 336.45, 336.96, 337.24, 337.43, 337.55, 337.57, 338.01, 338.06, 338.23, 338.25, 338.29, 338.31, 338.35, 338.54, 338.98, 339.0, 339.28, 339.81, 339.83, 340.02, 340.18, 340.42, 340.5, 340.52, 340.55, 341.14, 341.49, 341.74, 341.76, 342.2, 342.25, 342.32, 342.37, 343.45, 343.57, 343.62, 343.66, 344.5, 344.64, 345.1, 345.17, 345.22, 345.39, 345.6, 345.75, 345.78, 346.15, 346.57, 346.68, 347.04, 347.15, 347.28, 348.0, 348.09, 348.15, 348.43, 348.84, 348.91, 349.25, 349.33, 349.35, 349.65, 350.01, 350.02, 350.03, 350.63, 350.91, 351.0, 351.08, 351.25, 351.9, 352.67, 352.72, 352.79, 353.15, 353.34, 354.08, 354.4, 354.49, 354.64, 355.06, 355.27, 355.3, 357.08, 357.24, 357.27, 357.46, 358.78, 358.85, 359.69, 360.03, 360.17, 360.82, 361.26, 361.26, 361.47, 362.1, 362.46, 363.39, 363.69, 366.1, 366.28, 366.63, 367.01, 368.62, 368.69, 369.62, 370.12, 370.37, 370.38, 370.52, 371.67, 371.91, 371.98, 372.0, 374.21, 374.32, 374.99, 375.36, 376.35, 376.46, 376.46, 376.54, 376.54, 376.87, 377.37, 377.47, 377.87, 378.12, 378.54, 379.13, 380.51, 380.87, 382.49, 382.57, 383.44, 383.64, 384.7, 386.59, 387.04, 387.4, 388.44, 389.96, 390.57, 390.82, 390.89, 391.04, 391.13, 392.29, 393.52, 394.63, 394.67, 394.69, 394.8, 394.99, 395.83, 396.05, 396.29, 396.7, 397.14, 397.37, 399.46, 399.49, 399.54, 399.66, 400.19, 400.2, 400.31, 400.93, 402.69, 402.7, 403.02, 403.49, 403.55, 404.15, 404.42, 404.75, 405.22, 405.25, 405.8, 406.11, 406.32, 406.74, 406.95, 409.12, 409.8, 410.34, 410.36, 411.87, 412.24, 413.39, 414.39, 415.27, 415.34, 415.88, 416.99, 418.88, 422.44, 423.03, 423.85, 424.65, 426.41, 427.29, 427.5, 428.03, 428.19, 429.12, 429.4, 429.42, 429.76, 430.34, 431.89, 432.28, 432.39, 432.44, 432.67, 432.76, 433.38, 433.69, 433.72, 434.23, 434.46, 434.47, 434.67, 434.94, 435.17, 435.3, 435.38, 435.55, 435.56, 435.74, 436.22, 436.38, 436.39, 436.42, 437.08, 437.52, 437.61, 437.62, 437.76, 438.06, 438.1, 438.18, 438.33, 438.65, 439.34, 439.35, 439.43, 439.47, 439.67, 439.74, 440.02, 440.18, 440.19, 440.56, 440.69, 440.71, 440.95, 441.93, 442.23, 442.31, 442.61, 442.68, 442.77, 442.81, 442.98, 443.06, 443.11, 443.41, 443.43, 443.44, 443.5, 443.55, 443.58, 443.89, 443.95, 444.09, 444.27, 444.66, 444.76, 444.88, 445.01, 445.88, 446.08, 446.3, 447.65, 447.84, 447.85, 448.56, 448.75, 449.86, 449.89, 451.0, 451.1, 451.21, 451.45, 451.48, 451.66, 452.05, 452.09, 452.17, 452.54, 452.83, 453.03, 453.81, 454.14, 454.88, 454.89, 457.49, 458.82, 459.34, 459.66, 461.04, 461.88, 492.55, 495.39, 496.17, 496.18, 500.87, 501.1, 501.15, 501.79, 501.96, 502.68, 503.0, 503.47, 504.79, 504.89, 505.2, 505.38, 506.9, 506.99, 507.09, 507.51, 508.08, 509.96, 510.0, 510.25, 510.64, 510.66, 510.86, 511.0, 511.1, 511.17, 512.09, 512.26, 512.54, 513.01, 513.8, 513.87, 514.69, 514.77, 515.14, 515.19, 515.26, 515.43, 515.72, 516.18, 516.26, 516.35, 516.52, 516.83, 517.1, 517.15, 517.6, 518.04, 518.63, 518.66, 518.73, 519.98, 520.51, 520.63, 520.68, 520.84, 521.52, 521.84, 522.44, 522.76, 522.86, 523.4, 524.05, 524.22, 524.51, 524.81, 524.87, 525.02, 525.16, 525.26, 526.06, 526.1, 526.4, 526.54, 526.65, 526.66, 526.69, 526.71, 526.83, 526.94, 526.98, 527.2, 527.58, 527.7, 527.81, 527.83, 527.93, 528.14, 528.15, 528.34, 528.48, 528.56, 528.62, 528.68, 528.77, 528.86, 529.04, 529.24, 529.26, 529.27, 529.62, 529.77, 529.86, 529.92, 530.03, 530.13, 530.33, 530.39, 530.42, 530.59, 530.6, 530.7, 530.8, 531.0, 531.02, 531.32, 531.35, 531.69, 531.91, 532.11, 532.3, 532.32, 532.33, 532.52, 532.53, 532.71, 533.09, 533.21, 533.33, 533.37, 533.75, 533.8, 533.8, 533.85, 533.97, 533.99, 534.03, 534.39, 534.4, 534.4, 534.45, 534.52, 534.61, 534.81, 534.83, 535.03, 535.21, 535.23, 535.38, 535.53, 535.7, 535.95, 535.97, 536.09, 536.1, 536.44, 536.51, 536.69, 536.69, 536.7, 536.73, 536.76, 536.94, 536.99, 537.02, 537.31, 537.34, 537.36, 537.5, 537.84, 537.9, 537.94, 538.11, 538.15, 538.19, 538.22, 538.4, 538.53, 538.94, 538.95, 539.17, 539.18, 539.27, 539.27, 539.36, 539.7, 539.78, 539.78, 539.79, 539.95, 540.01, 540.11, 540.31, 540.37, 540.48, 540.77, 540.78, 540.78, 540.95, 541.01, 541.08, 541.61, 541.79, 541.83, 541.83, 542.04, 542.51, 542.56, 542.57, 542.84, 542.87, 542.93, 543.01, 543.14, 543.87, 543.98, 544.28, 544.4, 544.49, 544.66, 544.94, 545.06, 545.38, 545.92, 546.55, 547.0, 547.31, 547.32, 547.49, 548.0, 548.34, 548.9, 549.01, 549.08, 549.33, 549.76, 550.06, 550.29, 550.31, 550.84, 551.18, 551.35, 551.76, 551.95, 552.03, 552.7, 552.91, 553.37, 553.68, 553.9, 553.93, 554.11, 554.18, 554.51, 554.9, 554.9, 555.01, 555.17, 555.22, 555.36, 555.37, 555.48, 555.51, 556.0, 556.33, 556.36, 556.54, 556.58, 556.7, 556.99, 557.99, 558.1, 558.17, 558.4, 558.64, 558.78, 558.81, 558.84, 559.08, 559.5, 559.51, 559.79, 559.89, 560.08, 560.22, 560.36, 560.55, 560.88, 560.93, 560.94, 561.1, 561.35, 561.68, 562.12, 562.73, 563.36, 563.74, 564.14, 564.52, 564.55, 564.62, 564.95, 565.06, 565.07, 565.42, 565.95, 566.07, 566.15, 566.37, 566.88, 566.98, 567.13, 567.68, 567.88, 568.27, 568.51, 568.77, 568.85, 568.86, 569.2, 569.74, 570.04, 570.08, 570.19, 571.0, 571.03, 571.09, 571.1, 571.34, 571.6, 571.6, 572.5, 573.1, 573.15, 573.37, 573.48, 573.64, 573.73, 573.74, 574.13, 574.65, 574.69, 574.78, 575.06, 575.28, 575.28, 575.33, 575.62, 576.0, 576.08, 576.36, 577.1, 577.24, 577.33, 577.35, 577.36, 577.53, 577.86, 577.94, 578.39, 578.65, 578.78, 579.18, 579.4, 579.47, 579.85, 579.95, 580.2, 581.01, 581.13, 581.27, 581.35, 581.93, 581.98, 582.06, 582.16, 582.25, 582.34, 582.56, 582.66, 582.67, 583.1, 583.37, 584.49, 584.73, 584.77, 584.78, 584.87, 585.61, 585.81, 585.88, 586.08, 586.86, 587.37, 587.42, 587.99, 588.13, 589.02, 589.27, 589.47, 589.61, 589.72, 589.89, 590.6, 590.93, 592.75, 593.35, 593.94, 594.49, 594.74, 594.89, 594.97, 595.08, 595.45, 595.98, 596.08, 597.79, 597.98, 599.03, 599.35, 599.4, 600.57, 600.7, 600.74, 600.8, 601.29, 601.45, 603.05, 604.83, 605.02, 605.18, 605.65, 606.25, 606.79, 606.85, 607.22, 608.42, 608.52, 609.0, 609.2, 609.39, 609.47, 611.29, 611.97, 612.48, 612.72, 614.34, 614.66, 618.25, 621.35, 622.36, 622.69, 623.24, 623.56, 625.61, 625.77, 625.8, 626.91, 627.26, 628.0, 628.62, 629.25, 629.25, 630.38, 631.21, 631.93, 632.59, 633.73, 635.14, 635.3, 635.44, 635.98, 637.61, 639.16, 641.47, 642.36, 642.61, 642.68, 642.9, 643.61, 643.78, 644.28, 645.44, 646.67, 646.83, 650.28, 651.16, 651.79, 652.3, 656.13, 656.45, 657.12, 659.56, 660.78, 660.87, 660.9, 661.74, 662.1, 662.2, 662.3, 663.02, 666.1, 668.26, 672.93, 675.22, 678.11, 680.04, 682.4, 682.74, 683.11, 683.57, 684.11, 684.12, 691.0, 691.02, 691.72, 692.1, 692.36, 693.01, 693.71, 693.97, 694.45, 694.49, 695.16, 695.36, 695.7, 695.85, 695.94, 697.35, 697.46, 697.77, 697.77, 698.21, 698.45, 699.21, 699.56, 699.99, 700.32, 700.56, 700.91, 701.43, 701.79, 701.87, 702.0, 704.24, 705.07, 705.24, 705.63, 705.75, 705.84, 706.23, 706.46, 706.59, 706.63, 708.01, 708.14, 708.4, 708.49, 709.74, 710.36, 710.81, 710.83, 710.89, 711.12, 711.67, 712.42, 712.78, 712.82, 712.9, 712.95, 713.04, 713.31, 714.47, 714.72, 715.09, 715.29, 716.03, 716.49, 716.55, 716.65, 716.92, 716.98, 717.0, 718.27, 718.36, 718.77, 718.81, 718.85, 718.92, 719.41, 719.85, 720.09, 720.64, 720.95, 721.11, 722.16, 722.34, 723.15, 723.18, 724.12, 724.89, 725.25, 725.27, 725.3, 726.07, 726.39, 726.82, 726.95, 728.11, 728.28, 728.32, 728.33, 728.58, 728.96, 730.4, 730.49, 730.96, 731.23, 731.25, 732.66, 733.53, 733.76, 733.78, 734.15, 735.3, 735.4, 735.72, 736.09, 736.1, 736.96, 737.6, 737.78, 737.8, 738.06, 738.41, 738.42, 738.63, 738.87, 739.15, 739.31, 739.77, 740.0, 740.28, 740.75, 741.19, 741.77, 741.84, 742.09, 742.58, 742.6, 742.74, 742.95, 743.09, 743.4, 743.62, 744.77, 744.95, 745.29, 745.69, 745.91, 747.77, 747.77, 748.15, 748.28, 748.4, 749.43, 749.46, 749.91, 750.0, 750.26, 750.31, 750.53, 751.61, 751.72, 752.0, 752.54, 752.67, 753.2, 753.93, 755.98, 756.6, 758.09, 758.88, 759.0, 759.14, 762.37, 762.38, 762.51, 763.25, 764.65, 766.61, 766.81, 767.04, 768.79, 771.0, 771.07, 771.61, 772.88, 773.18, 776.6, 782.22]\n"
          ],
          "name": "stdout"
        }
      ]
    },
    {
      "cell_type": "code",
      "metadata": {
        "collapsed": true,
        "id": "IjCZ_1o7Cfno",
        "colab_type": "code",
        "outputId": "a6332019-0aec-4959-a182-0393d66bee8a",
        "colab": {
          "base_uri": "https://localhost:8080/",
          "height": 71
        }
      },
      "source": [
        "print(list(pokemon))\n",
        "print(list(google))"
      ],
      "execution_count": 0,
      "outputs": [
        {
          "output_type": "stream",
          "text": [
            "['Bulbasaur', 'Ivysaur', 'Venusaur', 'Charmander', 'Charmeleon', 'Charizard', 'Squirtle', 'Wartortle', 'Blastoise', 'Caterpie', 'Metapod', 'Butterfree', 'Weedle', 'Kakuna', 'Beedrill', 'Pidgey', 'Pidgeotto', 'Pidgeot', 'Rattata', 'Raticate', 'Spearow', 'Fearow', 'Ekans', 'Arbok', 'Pikachu', 'Raichu', 'Sandshrew', 'Sandslash', 'Nidoran', 'Nidorina', 'Nidoqueen', 'Nidoran♂', 'Nidorino', 'Nidoking', 'Clefairy', 'Clefable', 'Vulpix', 'Ninetales', 'Jigglypuff', 'Wigglytuff', 'Zubat', 'Golbat', 'Oddish', 'Gloom', 'Vileplume', 'Paras', 'Parasect', 'Venonat', 'Venomoth', 'Diglett', 'Dugtrio', 'Meowth', 'Persian', 'Psyduck', 'Golduck', 'Mankey', 'Primeape', 'Growlithe', 'Arcanine', 'Poliwag', 'Poliwhirl', 'Poliwrath', 'Abra', 'Kadabra', 'Alakazam', 'Machop', 'Machoke', 'Machamp', 'Bellsprout', 'Weepinbell', 'Victreebel', 'Tentacool', 'Tentacruel', 'Geodude', 'Graveler', 'Golem', 'Ponyta', 'Rapidash', 'Slowpoke', 'Slowbro', 'Magnemite', 'Magneton', \"Farfetch'd\", 'Doduo', 'Dodrio', 'Seel', 'Dewgong', 'Grimer', 'Muk', 'Shellder', 'Cloyster', 'Gastly', 'Haunter', 'Gengar', 'Onix', 'Drowzee', 'Hypno', 'Krabby', 'Kingler', 'Voltorb', 'Electrode', 'Exeggcute', 'Exeggutor', 'Cubone', 'Marowak', 'Hitmonlee', 'Hitmonchan', 'Lickitung', 'Koffing', 'Weezing', 'Rhyhorn', 'Rhydon', 'Chansey', 'Tangela', 'Kangaskhan', 'Horsea', 'Seadra', 'Goldeen', 'Seaking', 'Staryu', 'Starmie', 'Mr. Mime', 'Scyther', 'Jynx', 'Electabuzz', 'Magmar', 'Pinsir', 'Tauros', 'Magikarp', 'Gyarados', 'Lapras', 'Ditto', 'Eevee', 'Vaporeon', 'Jolteon', 'Flareon', 'Porygon', 'Omanyte', 'Omastar', 'Kabuto', 'Kabutops', 'Aerodactyl', 'Snorlax', 'Articuno', 'Zapdos', 'Moltres', 'Dratini', 'Dragonair', 'Dragonite', 'Mewtwo', 'Mew', 'Chikorita', 'Bayleef', 'Meganium', 'Cyndaquil', 'Quilava', 'Typhlosion', 'Totodile', 'Croconaw', 'Feraligatr', 'Sentret', 'Furret', 'Hoothoot', 'Noctowl', 'Ledyba', 'Ledian', 'Spinarak', 'Ariados', 'Crobat', 'Chinchou', 'Lanturn', 'Pichu', 'Cleffa', 'Igglybuff', 'Togepi', 'Togetic', 'Natu', 'Xatu', 'Mareep', 'Flaaffy', 'Ampharos', 'Bellossom', 'Marill', 'Azumarill', 'Sudowoodo', 'Politoed', 'Hoppip', 'Skiploom', 'Jumpluff', 'Aipom', 'Sunkern', 'Sunflora', 'Yanma', 'Wooper', 'Quagsire', 'Espeon', 'Umbreon', 'Murkrow', 'Slowking', 'Misdreavus', 'Unown', 'Wobbuffet', 'Girafarig', 'Pineco', 'Forretress', 'Dunsparce', 'Gligar', 'Steelix', 'Snubbull', 'Granbull', 'Qwilfish', 'Scizor', 'Shuckle', 'Heracross', 'Sneasel', 'Teddiursa', 'Ursaring', 'Slugma', 'Magcargo', 'Swinub', 'Piloswine', 'Corsola', 'Remoraid', 'Octillery', 'Delibird', 'Mantine', 'Skarmory', 'Houndour', 'Houndoom', 'Kingdra', 'Phanpy', 'Donphan', 'Porygon2', 'Stantler', 'Smeargle', 'Tyrogue', 'Hitmontop', 'Smoochum', 'Elekid', 'Magby', 'Miltank', 'Blissey', 'Raikou', 'Entei', 'Suicune', 'Larvitar', 'Pupitar', 'Tyranitar', 'Lugia', 'Ho-oh', 'Celebi', 'Treecko', 'Grovyle', 'Sceptile', 'Torchic', 'Combusken', 'Blaziken', 'Mudkip', 'Marshtomp', 'Swampert', 'Poochyena', 'Mightyena', 'Zigzagoon', 'Linoone', 'Wurmple', 'Silcoon', 'Beautifly', 'Cascoon', 'Dustox', 'Lotad', 'Lombre', 'Ludicolo', 'Seedot', 'Nuzleaf', 'Shiftry', 'Taillow', 'Swellow', 'Wingull', 'Pelipper', 'Ralts', 'Kirlia', 'Gardevoir', 'Surskit', 'Masquerain', 'Shroomish', 'Breloom', 'Slakoth', 'Vigoroth', 'Slaking', 'Nincada', 'Ninjask', 'Shedinja', 'Whismur', 'Loudred', 'Exploud', 'Makuhita', 'Hariyama', 'Azurill', 'Nosepass', 'Skitty', 'Delcatty', 'Sableye', 'Mawile', 'Aron', 'Lairon', 'Aggron', 'Meditite', 'Medicham', 'Electrike', 'Manectric', 'Plusle', 'Minun', 'Volbeat', 'Illumise', 'Roselia', 'Gulpin', 'Swalot', 'Carvanha', 'Sharpedo', 'Wailmer', 'Wailord', 'Numel', 'Camerupt', 'Torkoal', 'Spoink', 'Grumpig', 'Spinda', 'Trapinch', 'Vibrava', 'Flygon', 'Cacnea', 'Cacturne', 'Swablu', 'Altaria', 'Zangoose', 'Seviper', 'Lunatone', 'Solrock', 'Barboach', 'Whiscash', 'Corphish', 'Crawdaunt', 'Baltoy', 'Claydol', 'Lileep', 'Cradily', 'Anorith', 'Armaldo', 'Feebas', 'Milotic', 'Castform', 'Kecleon', 'Shuppet', 'Banette', 'Duskull', 'Dusclops', 'Tropius', 'Chimecho', 'Absol', 'Wynaut', 'Snorunt', 'Glalie', 'Spheal', 'Sealeo', 'Walrein', 'Clamperl', 'Huntail', 'Gorebyss', 'Relicanth', 'Luvdisc', 'Bagon', 'Shelgon', 'Salamence', 'Beldum', 'Metang', 'Metagross', 'Regirock', 'Regice', 'Registeel', 'Latias', 'Latios', 'Kyogre', 'Groudon', 'Rayquaza', 'Jirachi', 'Deoxys', 'Turtwig', 'Grotle', 'Torterra', 'Chimchar', 'Monferno', 'Infernape', 'Piplup', 'Prinplup', 'Empoleon', 'Starly', 'Staravia', 'Staraptor', 'Bidoof', 'Bibarel', 'Kricketot', 'Kricketune', 'Shinx', 'Luxio', 'Luxray', 'Budew', 'Roserade', 'Cranidos', 'Rampardos', 'Shieldon', 'Bastiodon', 'Burmy', 'Wormadam', 'Mothim', 'Combee', 'Vespiquen', 'Pachirisu', 'Buizel', 'Floatzel', 'Cherubi', 'Cherrim', 'Shellos', 'Gastrodon', 'Ambipom', 'Drifloon', 'Drifblim', 'Buneary', 'Lopunny', 'Mismagius', 'Honchkrow', 'Glameow', 'Purugly', 'Chingling', 'Stunky', 'Skuntank', 'Bronzor', 'Bronzong', 'Bonsly', 'Mime Jr.', 'Happiny', 'Chatot', 'Spiritomb', 'Gible', 'Gabite', 'Garchomp', 'Munchlax', 'Riolu', 'Lucario', 'Hippopotas', 'Hippowdon', 'Skorupi', 'Drapion', 'Croagunk', 'Toxicroak', 'Carnivine', 'Finneon', 'Lumineon', 'Mantyke', 'Snover', 'Abomasnow', 'Weavile', 'Magnezone', 'Lickilicky', 'Rhyperior', 'Tangrowth', 'Electivire', 'Magmortar', 'Togekiss', 'Yanmega', 'Leafeon', 'Glaceon', 'Gliscor', 'Mamoswine', 'Porygon-Z', 'Gallade', 'Probopass', 'Dusknoir', 'Froslass', 'Rotom', 'Uxie', 'Mesprit', 'Azelf', 'Dialga', 'Palkia', 'Heatran', 'Regigigas', 'Giratina', 'Cresselia', 'Phione', 'Manaphy', 'Darkrai', 'Shaymin', 'Arceus', 'Victini', 'Snivy', 'Servine', 'Serperior', 'Tepig', 'Pignite', 'Emboar', 'Oshawott', 'Dewott', 'Samurott', 'Patrat', 'Watchog', 'Lillipup', 'Herdier', 'Stoutland', 'Purrloin', 'Liepard', 'Pansage', 'Simisage', 'Pansear', 'Simisear', 'Panpour', 'Simipour', 'Munna', 'Musharna', 'Pidove', 'Tranquill', 'Unfezant', 'Blitzle', 'Zebstrika', 'Roggenrola', 'Boldore', 'Gigalith', 'Woobat', 'Swoobat', 'Drilbur', 'Excadrill', 'Audino', 'Timburr', 'Gurdurr', 'Conkeldurr', 'Tympole', 'Palpitoad', 'Seismitoad', 'Throh', 'Sawk', 'Sewaddle', 'Swadloon', 'Leavanny', 'Venipede', 'Whirlipede', 'Scolipede', 'Cottonee', 'Whimsicott', 'Petilil', 'Lilligant', 'Basculin', 'Sandile', 'Krokorok', 'Krookodile', 'Darumaka', 'Darmanitan', 'Maractus', 'Dwebble', 'Crustle', 'Scraggy', 'Scrafty', 'Sigilyph', 'Yamask', 'Cofagrigus', 'Tirtouga', 'Carracosta', 'Archen', 'Archeops', 'Trubbish', 'Garbodor', 'Zorua', 'Zoroark', 'Minccino', 'Cinccino', 'Gothita', 'Gothorita', 'Gothitelle', 'Solosis', 'Duosion', 'Reuniclus', 'Ducklett', 'Swanna', 'Vanillite', 'Vanillish', 'Vanilluxe', 'Deerling', 'Sawsbuck', 'Emolga', 'Karrablast', 'Escavalier', 'Foongus', 'Amoonguss', 'Frillish', 'Jellicent', 'Alomomola', 'Joltik', 'Galvantula', 'Ferroseed', 'Ferrothorn', 'Klink', 'Klang', 'Klinklang', 'Tynamo', 'Eelektrik', 'Eelektross', 'Elgyem', 'Beheeyem', 'Litwick', 'Lampent', 'Chandelure', 'Axew', 'Fraxure', 'Haxorus', 'Cubchoo', 'Beartic', 'Cryogonal', 'Shelmet', 'Accelgor', 'Stunfisk', 'Mienfoo', 'Mienshao', 'Druddigon', 'Golett', 'Golurk', 'Pawniard', 'Bisharp', 'Bouffalant', 'Rufflet', 'Braviary', 'Vullaby', 'Mandibuzz', 'Heatmor', 'Durant', 'Deino', 'Zweilous', 'Hydreigon', 'Larvesta', 'Volcarona', 'Cobalion', 'Terrakion', 'Virizion', 'Tornadus', 'Thundurus', 'Reshiram', 'Zekrom', 'Landorus', 'Kyurem', 'Keldeo', 'Meloetta', 'Genesect', 'Chespin', 'Quilladin', 'Chesnaught', 'Fennekin', 'Braixen', 'Delphox', 'Froakie', 'Frogadier', 'Greninja', 'Bunnelby', 'Diggersby', 'Fletchling', 'Fletchinder', 'Talonflame', 'Scatterbug', 'Spewpa', 'Vivillon', 'Litleo', 'Pyroar', 'Flabébé', 'Floette', 'Florges', 'Skiddo', 'Gogoat', 'Pancham', 'Pangoro', 'Furfrou', 'Espurr', 'Meowstic', 'Honedge', 'Doublade', 'Aegislash', 'Spritzee', 'Aromatisse', 'Swirlix', 'Slurpuff', 'Inkay', 'Malamar', 'Binacle', 'Barbaracle', 'Skrelp', 'Dragalge', 'Clauncher', 'Clawitzer', 'Helioptile', 'Heliolisk', 'Tyrunt', 'Tyrantrum', 'Amaura', 'Aurorus', 'Sylveon', 'Hawlucha', 'Dedenne', 'Carbink', 'Goomy', 'Sliggoo', 'Goodra', 'Klefki', 'Phantump', 'Trevenant', 'Pumpkaboo', 'Gourgeist', 'Bergmite', 'Avalugg', 'Noibat', 'Noivern', 'Xerneas', 'Yveltal', 'Zygarde', 'Diancie', 'Hoopa', 'Volcanion']\n",
            "[50.12, 54.1, 54.65, 52.38, 52.95, 53.9, 53.02, 50.95, 51.13, 50.07, 50.7, 49.95, 50.74, 51.1, 51.1, 52.61, 53.7, 55.69, 55.94, 56.93, 58.69, 59.62, 58.86, 59.13, 60.35, 59.86, 59.07, 63.37, 65.47, 64.74, 66.22, 67.46, 69.12, 68.47, 69.36, 68.8, 67.56, 68.63, 70.38, 70.93, 71.98, 74.51, 73.9, 70.17, 74.62, 86.13, 93.61, 90.81, 92.89, 96.55, 95.22, 97.92, 97.34, 95.74, 92.26, 84.59, 86.19, 84.27, 83.85, 91.42, 90.91, 92.34, 86.19, 86.16, 83.69, 84.62, 82.47, 83.68, 87.29, 89.61, 90.43, 90.9, 89.89, 89.61, 90.11, 88.06, 85.63, 84.91, 86.63, 85.74, 85.14, 89.26, 89.8, 88.15, 89.95, 92.42, 91.78, 93.06, 93.86, 95.86, 96.28, 96.35, 98.7, 96.3, 101.25, 97.15, 96.66, 94.18, 96.83, 97.43, 96.67, 97.59, 97.57, 99.89, 101.85, 98.55, 96.86, 94.05, 90.27, 88.47, 94.53, 93.95, 95.07, 97.71, 95.85, 102.88, 105.32, 102.08, 97.92, 99.22, 95.69, 93.9, 93.61, 96.4, 97.52, 99.11, 98.85, 98.88, 95.59, 96.88, 94.35, 92.84, 93.9, 92.94, 92.5, 93.41, 92.86, 94.31, 92.51, 90.58, 89.9, 88.81, 87.41, 89.22, 87.71, 89.56, 89.93, 90.35, 89.21, 89.4, 89.54, 90.62, 89.7, 90.13, 90.16, 89.93, 92.55, 94.19, 94.52, 96.78, 95.93, 96.52, 96.88, 96.37, 95.63, 92.41, 93.39, 95.6, 98.95, 102.01, 107.8, 111.65, 109.27, 109.78, 109.62, 109.89, 111.03, 112.98, 114.14, 113.38, 113.9, 112.9, 113.79, 115.53, 114.25, 114.51, 115.41, 116.45, 119.46, 119.47, 120.68, 127.6, 127.87, 130.27, 129.47, 132.87, 138.5, 143.86, 143.81, 139.99, 145.32, 146.41, 139.64, 143.01, 141.11, 141.23, 139.04, 137.26, 138.58, 140.0, 143.21, 143.78, 144.51, 144.71, 148.48, 151.9, 150.85, 146.21, 146.93, 145.48, 147.71, 145.62, 147.62, 147.97, 146.53, 145.75, 149.28, 150.29, 150.44, 149.62, 154.8, 155.84, 156.81, 151.05, 147.78, 147.9, 148.32, 146.6, 143.74, 145.66, 149.45, 148.5, 148.72, 146.03, 145.48, 145.64, 142.7, 141.88, 144.72, 141.86, 142.68, 142.41, 139.86, 139.86, 136.87, 139.65, 141.14, 141.15, 141.65, 144.08, 143.49, 142.86, 142.98, 144.08, 143.41, 147.29, 147.55, 149.4, 154.72, 155.68, 151.35, 151.16, 149.95, 151.74, 153.8, 155.79, 155.53, 157.52, 156.98, 156.81, 152.85, 154.66, 158.07, 159.18, 155.34, 155.2, 156.22, 156.34, 155.17, 152.9, 150.33, 148.57, 147.92, 152.35, 151.49, 154.2, 151.45, 169.78, 174.15, 173.28, 177.54, 176.35, 178.91, 185.88, 189.5, 189.65, 192.78, 195.02, 197.32, 194.76, 189.39, 195.35, 195.0, 198.29, 196.2, 198.88, 201.52, 199.9, 204.48, 208.03, 211.22, 214.1, 211.53, 201.57, 202.25, 206.84, 208.64, 202.72, 202.07, 201.91, 205.12, 204.4, 206.1, 208.54, 209.27, 211.05, 214.86, 212.09, 214.66, 212.95, 215.8, 215.25, 212.11, 213.13, 209.86, 207.22, 217.4, 222.4, 225.39, 232.6, 233.22, 234.65, 235.58, 231.58, 232.89, 233.32, 222.23, 218.0, 199.53, 213.54, 221.29, 216.28, 216.92, 216.53, 213.2, 216.11, 200.69, 197.82, 190.59, 192.36, 183.78, 184.36, 179.21, 181.12, 172.68, 171.49, 171.02, 183.05, 184.19, 183.11, 182.56, 188.85, 188.51, 194.99, 181.13, 182.22, 188.04, 188.9, 183.87, 182.04, 176.76, 171.33, 168.58, 168.36, 175.4, 172.08, 169.22, 169.73, 173.92, 169.79, 169.94, 170.77, 182.72, 184.66, 188.41, 197.29, 194.03, 194.8, 194.66, 201.97, 203.79, 205.38, 202.88, 207.98, 204.63, 204.27, 200.88, 203.21, 201.92, 205.04, 207.29, 218.33, 220.03, 213.37, 212.77, 209.8, 208.76, 199.25, 197.2, 196.89, 197.18, 196.95, 197.19, 204.2, 201.29, 193.31, 186.88, 187.91, 185.46, 187.06, 185.31, 184.82, 185.29, 187.6, 190.43, 191.3, 190.48, 185.78, 185.72, 191.12, 189.53, 187.03, 194.8, 193.06, 196.45, 193.09, 190.58, 193.07, 192.0, 195.3, 195.15, 193.88, 193.39, 200.86, 199.78, 202.23, 201.91, 200.96, 202.85, 208.7, 209.46, 211.39, 210.52, 211.38, 210.01, 208.89, 212.07, 208.42, 204.21, 201.55, 203.74, 201.32, 199.3, 193.37, 194.86, 195.25, 194.49, 192.56, 191.01, 193.87, 193.11, 187.57, 183.43, 187.51, 186.74, 188.79, 190.31, 188.28, 186.91, 184.07, 184.53, 190.29, 193.67, 192.71, 191.49, 188.46, 188.96, 186.53, 186.68, 186.44, 190.28, 189.29, 190.18, 189.08, 189.11, 191.99, 189.88, 189.06, 188.74, 191.85, 195.75, 203.08, 201.79, 204.74, 207.14, 201.7, 198.3, 203.22, 201.69, 201.79, 203.23, 201.26, 201.59, 200.75, 200.52, 201.82, 207.64, 205.7, 210.04, 214.29, 213.11, 213.04, 213.51, 213.44, 210.66, 210.11, 209.44, 212.82, 229.61, 240.15, 236.42, 243.06, 242.31, 237.36, 238.05, 237.96, 233.52, 234.72, 235.66, 238.24, 236.05, 237.26, 236.08, 236.54, 240.27, 244.41, 245.72, 247.7, 249.15, 247.28, 254.57, 253.75, 252.2, 242.13, 244.51, 242.08, 242.16, 240.16, 242.18, 243.26, 244.11, 241.08, 241.81, 241.72, 240.65, 239.26, 240.82, 239.91, 231.17, 234.08, 231.22, 227.87, 227.56, 228.54, 233.78, 231.05, 230.01, 233.56, 241.39, 243.35, 241.55, 242.51, 244.49, 249.61, 252.25, 251.89, 248.39, 243.67, 244.63, 240.18, 239.29, 249.28, 243.8, 247.67, 245.99, 246.91, 250.5, 240.63, 240.51, 233.35, 235.5, 234.77, 235.28, 230.71, 228.92, 229.32, 232.73, 230.5, 234.74, 235.81, 237.69, 237.69, 235.07, 232.23, 224.16, 224.5, 223.89, 219.12, 220.25, 228.55, 227.59, 227.13, 226.25, 227.15, 221.29, 223.78, 222.87, 220.2, 223.39, 222.42, 228.05, 230.79, 230.68, 232.27, 231.58, 230.71, 230.23, 228.85, 229.04, 236.06, 235.27, 235.52, 233.87, 233.02, 232.03, 233.46, 232.91, 236.9, 236.16, 237.77, 235.59, 241.0, 239.3, 238.53, 238.76, 240.35, 239.27, 235.45, 234.27, 232.66, 236.38, 235.32, 233.4, 233.17, 234.39, 230.5, 233.14, 230.66, 228.77, 236.07, 235.24, 234.92, 235.06, 237.69, 236.75, 236.93, 241.52, 243.31, 249.05, 248.71, 249.95, 253.28, 259.16, 258.87, 257.27, 257.49, 255.41, 252.13, 252.37, 251.17, 252.69, 257.34, 256.9, 254.73, 256.8, 262.23, 263.45, 264.86, 262.88, 262.24, 261.09, 264.92, 266.9, 270.54, 269.43, 271.01, 271.4, 271.96, 272.39, 275.8, 276.22, 277.22, 274.48, 274.02, 259.8, 256.0, 256.74, 254.63, 253.75, 255.69, 257.8, 254.74, 256.21, 255.25, 251.25, 254.74, 257.75, 262.63, 257.11, 257.62, 257.49, 254.05, 248.53, 245.51, 249.77, 248.71, 253.05, 256.12, 255.84, 257.24, 256.37, 252.95, 256.18, 255.44, 257.37, 262.31, 263.64, 261.5, 259.42, 256.98, 260.4, 261.06, 262.13, 264.11, 262.39, 267.37, 273.15, 276.14, 279.77, 283.73, 284.22, 283.8, 283.47, 283.35, 290.98, 291.9, 291.72, 289.23, 296.73, 304.51, 307.28, 312.38, 310.69, 318.38, 309.74, 307.69, 316.42, 319.49, 322.03, 325.05, 337.55, 337.57, 333.92, 336.96, 339.28, 347.04, 353.15, 351.25, 355.27, 362.46, 370.52, 366.1, 346.57, 331.65, 315.72, 329.94, 320.52, 314.51, 316.5, 312.61, 323.95, 329.93, 338.01, 332.7, 336.45, 345.78, 348.15, 346.15, 340.42, 341.74, 348.91, 357.27, 357.08, 358.85, 349.25, 349.33, 346.68, 344.64, 334.28, 336.34, 338.35, 344.5, 348.0, 350.01, 355.06, 350.02, 350.91, 345.39, 342.25, 342.32, 328.17, 324.3, 315.52, 326.27, 323.04, 318.81, 326.58, 318.51, 307.67, 300.09, 299.82, 291.88, 274.04, 286.96, 282.92, 277.71, 274.98, 273.86, 281.87, 257.69, 247.47, 253.15, 250.6, 252.22, 258.09, 260.32, 258.79, 267.04, 265.86, 264.56, 254.22, 254.25, 251.18, 253.65, 242.98, 231.86, 236.19, 237.46, 235.35, 228.28, 222.08, 223.63, 216.13, 216.46, 206.6, 219.7, 219.87, 221.28, 218.74, 209.73, 219.36, 215.78, 216.56, 230.05, 225.16, 228.87, 221.82, 218.82, 220.01, 232.62, 232.62, 227.33, 235.31, 238.17, 233.67, 231.86, 234.3, 228.5, 225.6, 223.2, 227.29, 224.55, 269.44, 268.63, 277.22, 272.97, 271.25, 271.76, 275.78, 278.96, 286.86, 296.24, 290.35, 297.15, 292.89, 289.21, 291.21, 286.3, 292.18, 291.21, 287.86, 290.21, 289.74, 288.47, 289.01, 274.72, 274.46, 272.04, 280.17, 283.84, 291.21, 292.61, 287.21, 283.37, 285.82, 292.86, 283.22, 278.66, 276.81, 272.33, 276.2, 285.47, 286.12, 284.45, 280.91, 279.82, 272.94, 272.33, 270.88, 275.22, 264.15, 263.77, 262.95, 267.1, 263.26, 268.23, 271.68, 276.99, 270.5, 270.02, 266.63, 260.55, 257.79, 267.53, 266.45, 240.42, 234.17, 238.32, 244.37, 237.57, 245.74, 238.32, 241.31, 241.11, 236.64, 233.7, 231.27, 239.69, 242.93, 239.32, 247.26, 250.17, 251.05, 249.76, 252.49, 254.82, 248.9, 245.0, 242.26, 243.02, 245.05, 241.26, 236.84, 234.06, 236.65, 231.41, 232.39, 231.97, 224.9, 221.9, 209.76, 209.12, 206.87, 216.66, 218.61, 216.71, 221.24, 207.04, 219.32, 224.35, 214.85, 214.42, 217.34, 219.58, 215.3, 190.31, 200.06, 205.65, 195.05, 193.26, 185.42, 172.83, 168.89, 164.33, 165.83, 190.32, 181.17, 169.42, 176.33, 186.08, 189.47, 181.19, 177.66, 175.98, 169.48, 164.58, 184.19, 178.82, 179.67, 179.5, 173.07, 183.29, 170.95, 165.44, 165.4, 159.23, 155.57, 145.35, 155.88, 154.85, 149.91, 148.56, 139.95, 129.65, 131.08, 128.59, 140.88, 145.9, 146.33, 132.86, 137.42, 139.58, 137.03, 141.85, 150.9, 152.83, 154.26, 149.96, 157.72, 155.18, 162.48, 157.46, 154.98, 154.93, 148.41, 148.86, 151.32, 150.03, 148.56, 151.4, 153.67, 160.5, 163.86, 166.86, 160.84, 162.43, 157.38, 156.19, 157.0, 150.33, 149.35, 149.69, 141.23, 151.39, 153.1, 162.19, 161.77, 165.57, 174.16, 171.49, 169.1, 170.11, 170.05, 171.33, 176.68, 185.45, 189.2, 179.08, 178.84, 181.34, 178.66, 171.16, 176.38, 171.15, 173.05, 164.86, 172.55, 170.65, 168.42, 168.83, 163.42, 162.58, 159.3, 152.67, 154.13, 145.3, 153.93, 158.8, 161.6, 162.05, 159.69, 167.5, 166.38, 164.81, 164.91, 174.13, 173.41, 171.86, 176.47, 173.68, 171.17, 173.86, 176.87, 181.07, 184.71, 183.94, 179.15, 180.82, 186.06, 188.87, 184.27, 189.56, 194.18, 195.92, 189.46, 190.54, 191.74, 192.15, 194.55, 192.78, 191.66, 195.54, 197.79, 196.65, 200.79, 201.29, 201.53, 198.11, 203.46, 203.79, 199.31, 194.58, 193.56, 194.8, 198.22, 199.24, 198.39, 198.05, 196.55, 201.98, 202.58, 204.99, 208.41, 213.07, 213.99, 215.61, 219.92, 221.94, 219.17, 217.59, 216.08, 214.29, 212.21, 208.18, 207.79, 207.37, 206.82, 209.83, 203.47, 202.64, 204.44, 207.68, 212.45, 211.86, 210.58, 209.29, 204.04, 204.6, 198.12, 201.04, 204.99, 206.99, 211.94, 212.13, 218.87, 221.08, 214.91, 214.87, 213.74, 213.63, 218.45, 223.14, 222.18, 219.71, 217.9, 222.6, 221.3, 225.88, 226.64, 225.34, 224.95, 228.32, 228.08, 226.74, 229.06, 230.91, 229.77, 222.22, 222.42, 221.76, 229.97, 232.39, 234.13, 235.45, 233.77, 232.8, 232.14, 230.6, 227.65, 226.28, 228.53, 230.42, 229.08, 231.75, 235.23, 235.83, 237.32, 238.53, 243.9, 245.61, 245.48, 248.25, 249.28, 248.98, 248.14, 245.99, 249.02, 249.02, 247.68, 243.36, 242.05, 244.02, 249.12, 258.51, 256.83, 257.87, 261.76, 262.79, 267.39, 264.69, 274.65, 275.77, 275.58, 275.27, 276.77, 276.57, 276.83, 273.87, 269.88, 275.25, 267.79, 266.73, 268.38, 269.89, 274.05, 275.27, 280.97, 283.1, 284.99, 283.64, 285.74, 287.85, 288.46, 288.04, 286.21, 284.7, 290.88, 291.25, 292.58, 289.59, 291.21, 294.64, 293.46, 292.58, 292.21, 292.83, 293.23, 294.22, 295.45, 294.96, 297.57, 296.27, 298.58, 296.67, 297.91, 299.04, 300.26, 305.53, 308.93, 311.12, 309.39, 311.05, 309.68, 313.06, 311.68, 303.83, 296.75, 300.71, 300.25, 294.94, 293.25, 294.63, 289.71, 293.52, 289.91, 291.2, 274.73, 269.73, 270.94, 270.78, 266.88, 264.71, 266.24, 265.29, 270.14, 263.13, 265.38, 266.47, 267.95, 266.96, 267.93, 266.29, 270.38, 268.83, 271.34, 270.11, 271.13, 267.27, 265.47, 262.95, 263.14, 266.08, 270.26, 272.39, 277.02, 281.82, 280.96, 279.81, 287.94, 290.28, 289.48, 281.31, 282.32, 282.5, 282.92, 279.72, 278.47, 274.23, 278.39, 281.16, 281.06, 280.94, 283.07, 283.28, 285.22, 283.83, 281.49, 283.46, 282.83, 286.08, 293.09, 294.21, 297.35, 274.8, 274.77, 277.24, 276.87, 273.26, 272.22, 265.55, 264.26, 264.33, 265.73, 262.58, 265.03, 252.93, 254.63, 249.09, 246.32, 260.56, 254.27, 252.44, 255.18, 253.51, 253.73, 248.94, 246.97, 237.27, 235.79, 238.34, 238.3, 237.5, 244.98, 242.57, 240.94, 246.44, 252.55, 249.11, 242.52, 242.15, 236.77, 243.26, 244.01, 241.35, 248.75, 250.38, 249.79, 249.76, 244.04, 242.88, 240.78, 237.31, 236.1, 235.8, 226.9, 222.25, 219.53, 218.06, 217.82, 224.87, 228.05, 233.51, 237.68, 244.36, 245.42, 246.76, 229.57, 232.86, 240.55, 238.51, 242.16, 244.78, 244.24, 246.07, 241.93, 242.25, 242.18, 244.96, 244.67, 252.91, 253.8, 249.86, 252.42, 251.6, 245.62, 245.76, 242.93, 242.55, 245.01, 240.83, 233.75, 230.78, 231.8, 225.47, 227.08, 225.26, 229.19, 226.12, 224.78, 229.94, 231.36, 234.91, 231.97, 235.05, 237.85, 237.83, 240.89, 239.97, 240.08, 240.29, 244.83, 253.89, 256.47, 257.74, 256.48, 263.38, 264.94, 263.32, 263.58, 262.63, 262.55, 260.91, 268.85, 266.91, 264.74, 267.91, 269.15, 270.42, 271.38, 270.19, 300.42, 308.55, 303.61, 303.69, 305.69, 305.96, 307.94, 308.99, 307.93, 308.98, 306.54, 307.19, 307.49, 309.78, 311.82, 312.23, 313.07, 312.1, 311.13, 308.29, 301.34, 297.44, 291.57, 291.48, 297.98, 295.12, 295.31, 291.21, 297.19, 294.7, 290.76, 277.58, 281.89, 285.62, 286.21, 288.89, 293.28, 294.97, 295.45, 295.81, 297.01, 297.16, 294.85, 295.56, 295.1, 297.23, 301.23, 302.44, 301.81, 300.89, 299.16, 300.2, 299.13, 296.69, 301.87, 300.76, 304.23, 306.44, 307.91, 306.8, 307.7, 308.13, 308.04, 311.78, 319.5, 315.56, 313.07, 305.61, 305.23, 309.65, 307.94, 308.09, 300.19, 299.88, 305.21, 305.69, 304.77, 305.18, 306.84, 308.88, 307.94, 307.91, 311.94, 313.76, 311.76, 311.8, 312.32, 314.72, 304.8, 305.35, 304.11, 304.71, 306.39, 300.08, 300.09, 304.48, 300.01, 295.53, 295.86, 295.59, 289.86, 288.07, 284.71, 284.5, 278.27, 280.4, 280.25, 287.96, 288.37, 290.79, 293.15, 289.58, 287.39, 290.57, 290.63, 293.09, 295.6, 293.55, 284.26, 286.8, 289.71, 288.79, 288.4, 285.02, 287.85, 288.97, 265.08, 263.16, 260.5, 262.6, 262.29, 262.26, 266.14, 268.61, 268.72, 271.78, 269.01, 266.68, 267.63, 266.87, 267.38, 268.57, 271.06, 267.46, 267.26, 264.51, 258.95, 264.96, 264.64, 265.36, 261.75, 258.94, 258.87, 259.58, 258.81, 260.19, 264.25, 262.54, 263.77, 261.28, 260.27, 259.26, 259.33, 258.11, 254.5, 252.11, 253.93, 251.22, 249.93, 242.27, 242.05, 246.25, 243.26, 239.87, 237.2, 241.2, 246.58, 248.54, 252.94, 260.25, 265.95, 267.41, 273.03, 265.73, 263.38, 266.74, 268.86, 264.21, 298.51, 297.17, 300.97, 297.38, 303.19, 308.81, 309.18, 310.95, 303.31, 305.16, 301.54, 303.08, 296.77, 300.28, 288.47, 289.23, 272.74, 286.42, 274.23, 280.78, 281.6, 278.34, 269.23, 266.31, 252.19, 245.21, 248.84, 259.15, 261.38, 259.76, 263.17, 269.27, 270.08, 270.21, 265.98, 262.16, 260.83, 266.75, 267.21, 262.16, 264.79, 264.5, 265.77, 271.01, 273.07, 273.06, 273.04, 269.33, 260.07, 262.49, 265.68, 269.4, 264.16, 263.49, 257.26, 247.51, 250.7, 252.1, 257.1, 257.3, 268.32, 271.32, 273.98, 279.22, 295.54, 290.91, 294.96, 290.06, 291.54, 294.95, 297.91, 291.29, 292.86, 299.04, 299.77, 296.02, 289.04, 292.12, 298.45, 297.77, 303.86, 305.86, 300.17, 297.24, 303.87, 306.19, 307.97, 305.43, 300.13, 297.14, 290.18, 289.71, 284.77, 281.22, 293.8, 291.17, 299.4, 306.58, 309.87, 312.51, 311.57, 311.38, 307.72, 313.4, 312.38, 312.5, 308.73, 309.46, 312.67, 310.6, 314.87, 312.6, 314.54, 316.25, 319.8, 319.53, 320.88, 322.63, 332.37, 333.81, 329.18, 324.68, 310.92, 311.26, 312.67, 314.51, 312.18, 313.98, 316.14, 319.47, 292.7, 292.47, 290.17, 284.46, 283.77, 289.7, 288.56, 289.76, 290.12, 292.26, 297.87, 304.24, 303.08, 304.62, 305.42, 302.65, 305.79, 304.58, 302.48, 302.96, 302.02, 306.69, 303.67, 302.75, 304.65, 304.35, 308.89, 308.82, 310.89, 310.31, 306.82, 302.18, 303.1, 303.27, 299.82, 302.27, 308.58, 307.69, 310.25, 312.21, 316.67, 316.43, 319.67, 322.7, 320.97, 324.34, 323.19, 327.55, 323.88, 320.3, 323.14, 320.99, 317.26, 315.84, 315.1, 313.12, 317.66, 325.18, 311.99, 302.73, 304.48, 303.42, 299.35, 297.73, 298.5, 300.33, 304.56, 307.43, 307.18, 302.12, 301.91, 303.33, 305.2, 298.19, 303.47, 306.09, 304.27, 306.52, 302.31, 301.7, 305.25, 314.15, 311.21, 299.9, 306.75, 300.1, 304.43, 301.53, 295.47, 296.87, 293.82, 290.14, 285.2, 289.01, 284.92, 289.99, 288.83, 289.93, 283.97, 282.27, 280.26, 279.25, 281.97, 285.14, 290.47, 288.47, 282.32, 285.45, 280.07, 282.06, 284.36, 281.87, 289.74, 289.94, 293.62, 297.66, 292.7, 292.71, 290.56, 285.31, 284.95, 287.97, 287.17, 288.08, 290.09, 296.23, 305.1, 307.45, 303.48, 303.69, 306.37, 317.16, 315.83, 316.17, 316.02, 314.06, 320.34, 321.09, 319.95, 320.79, 320.85, 320.68, 329.67, 334.0, 333.44, 336.1, 338.23, 337.43, 334.42, 338.25, 338.06, 338.98, 334.28, 338.29, 343.66, 340.5, 342.2, 340.18, 340.02, 349.35, 352.72, 350.03, 345.75, 345.1, 352.67, 354.49, 354.64, 358.78, 363.39, 363.69, 366.63, 374.32, 374.21, 376.35, 377.87, 376.87, 380.51, 378.12, 380.87, 383.64, 383.44, 378.54, 371.67, 371.91, 375.36, 372.0, 370.12, 371.98, 377.37, 347.15, 340.55, 339.0, 339.83, 338.31, 338.54, 337.24, 339.81, 343.45, 343.62, 341.14, 340.52, 333.23, 325.82, 331.18, 332.62, 329.2, 325.95, 323.31, 323.27, 333.77, 334.65, 332.6, 333.65, 330.24, 335.02, 341.49, 345.6, 348.84, 347.28, 345.17, 343.57, 345.22, 341.76, 342.37, 348.09, 348.43, 351.0, 350.63, 360.03, 360.17, 359.69, 360.82, 357.46, 354.4, 354.08, 352.79, 349.65, 353.34, 361.26, 361.47, 368.62, 367.01, 366.28, 368.69, 370.37, 369.62, 361.26, 362.1, 357.24, 355.3, 351.9, 351.08, 370.38, 376.54, 376.46, 374.99, 376.46, 376.54, 377.47, 387.4, 379.13, 382.49, 384.7, 386.59, 392.29, 390.82, 389.96, 391.04, 393.52, 396.05, 403.02, 395.83, 397.37, 399.46, 394.99, 394.67, 399.49, 400.2, 402.69, 410.34, 418.88, 415.27, 415.88, 415.34, 416.99, 413.39, 412.24, 410.36, 406.74, 403.49, 405.25, 406.95, 405.22, 404.75, 404.42, 405.8, 400.93, 396.7, 400.19, 406.11, 402.7, 397.14, 391.13, 387.04, 388.44, 394.69, 394.8, 394.63, 390.57, 396.29, 390.89, 382.57, 399.54, 399.66, 403.55, 406.32, 404.15, 400.31, 409.12, 411.87, 409.8, 414.39, 422.44, 430.34, 428.19, 436.38, 435.3, 439.67, 438.33, 443.11, 457.49, 451.48, 454.14, 453.81, 453.03, 444.27, 440.95, 436.22, 440.19, 433.72, 434.94, 435.17, 433.38, 429.12, 429.42, 431.89, 439.43, 444.66, 439.47, 435.55, 438.06, 437.08, 442.68, 449.86, 449.89, 441.93, 440.02, 434.46, 432.67, 436.39, 438.1, 439.74, 443.5, 440.71, 442.77, 446.3, 452.09, 452.17, 452.54, 459.66, 461.04, 461.88, 459.34, 458.82, 454.88, 447.85, 454.89, 451.45, 451.0, 443.41, 442.23, 440.69, 445.01, 443.43, 451.66, 452.83, 452.05, 447.84, 444.88, 445.88, 444.76, 442.31, 440.18, 434.47, 429.4, 428.03, 432.39, 432.28, 434.23, 436.42, 434.67, 432.76, 424.65, 423.85, 427.29, 423.03, 429.76, 435.38, 439.34, 439.35, 443.58, 443.89, 447.65, 446.08, 444.09, 443.44, 442.61, 451.21, 448.75, 451.1, 442.81, 442.98, 438.18, 438.65, 437.76, 437.52, 443.06, 443.55, 437.61, 435.74, 432.44, 426.41, 427.5, 433.69, 435.56, 437.62, 440.56, 448.56, 443.95, 505.2, 501.15, 503.0, 515.19, 512.26, 507.09, 506.99, 517.6, 514.69, 514.77, 513.01, 512.54, 510.25, 510.86, 503.47, 507.51, 504.79, 505.38, 515.72, 517.1, 516.26, 515.26, 512.09, 510.64, 516.52, 515.43, 522.44, 528.68, 531.02, 529.27, 526.71, 526.1, 528.56, 528.14, 534.4, 538.53, 541.79, 538.11, 534.45, 529.86, 535.95, 534.4, 541.83, 542.57, 549.76, 556.99, 555.36, 558.17, 558.64, 554.18, 559.79, 556.0, 551.95, 558.1, 568.86, 570.04, 564.55, 564.52, 560.93, 574.13, 573.74, 577.53, 574.69, 581.27, 581.93, 579.47, 561.35, 550.06, 560.94, 552.91, 567.13, 589.89, 566.15, 568.51, 571.03, 579.4, 588.13, 585.88, 594.49, 592.75, 599.35, 600.8, 604.83, 600.57, 601.45, 601.29, 605.65, 609.39, 609.47, 609.0, 607.22, 600.74, 606.85, 608.52, 609.2, 606.79, 605.18, 599.4, 603.05, 593.94, 585.81, 595.45, 605.02, 599.03, 597.98, 590.93, 578.39, 578.78, 565.42, 556.58, 559.51, 556.7, 566.88, 566.98, 569.74, 543.14, 538.15, 554.9, 564.14, 540.95, 530.6, 532.52, 536.44, 556.54, 536.1, 528.62, 534.81, 526.94, 525.16, 516.18, 517.15, 527.7, 526.66, 531.35, 527.93, 527.81, 515.14, 509.96, 511.0, 518.73, 529.92, 533.09, 526.65, 519.98, 520.63, 528.86, 529.77, 538.94, 545.06, 552.7, 565.95, 561.68, 560.08, 559.89, 553.93, 544.94, 544.66, 553.9, 556.33, 562.12, 560.55, 558.84, 551.35, 551.76, 544.28, 543.01, 553.37, 554.9, 556.36, 564.95, 564.62, 578.65, 576.0, 577.24, 575.28, 582.67, 582.34, 584.73, 582.25, 571.09, 576.08, 571.1, 579.18, 584.87, 584.78, 582.66, 573.73, 595.08, 589.47, 594.74, 595.98, 593.35, 589.02, 590.6, 585.61, 587.42, 571.6, 566.07, 573.15, 565.07, 566.37, 563.36, 568.77, 567.88, 562.73, 574.78, 574.65, 573.48, 582.16, 586.86, 584.49, 583.37, 582.56, 580.2, 577.86, 571.0, 569.2, 571.6, 577.33, 577.94, 581.98, 586.08, 589.72, 581.01, 583.1, 581.35, 575.62, 573.1, 579.95, 584.77, 589.27, 596.08, 587.37, 581.13, 587.99, 575.06, 577.1, 576.36, 577.36, 568.27, 570.08, 575.28, 577.35, 563.74, 572.5, 560.88, 544.49, 533.21, 537.94, 530.03, 524.51, 511.17, 520.84, 526.54, 532.71, 543.98, 539.78, 540.77, 548.9, 549.33, 550.31, 559.08, 555.22, 554.11, 545.92, 542.04, 541.01, 547.49, 550.29, 547.31, 545.38, 544.4, 536.51, 535.03, 536.99, 534.83, 537.5, 539.27, 541.08, 540.37, 541.83, 533.8, 533.75, 531.32, 537.31, 525.26, 526.98, 533.37, 526.06, 528.34, 518.66, 513.8, 495.39, 504.89, 511.1, 516.35, 524.87, 530.59, 528.77, 534.03, 530.33, 530.42, 526.4, 524.81, 513.87, 501.96, 501.1, 502.68, 496.17, 492.55, 496.18, 500.87, 501.79, 508.08, 506.9, 518.04, 534.39, 539.95, 535.21, 518.63, 510.0, 510.66, 534.52, 528.48, 529.24, 522.76, 527.58, 531.0, 527.83, 536.94, 535.97, 542.93, 549.01, 542.84, 539.7, 542.87, 538.95, 531.91, 536.09, 543.87, 555.48, 558.4, 571.34, 573.64, 573.37, 575.33, 567.68, 568.85, 555.01, 551.18, 555.51, 547.32, 554.51, 550.84, 559.5, 557.99, 560.36, 558.81, 570.19, 558.78, 555.17, 548.34, 552.03, 548.0, 542.56, 535.53, 536.76, 537.02, 541.61, 540.78, 540.01, 539.17, 530.39, 532.53, 533.8, 524.05, 535.38, 533.97, 539.36, 547.0, 565.06, 555.37, 553.68, 549.08, 537.34, 537.9, 540.78, 530.8, 524.22, 530.7, 538.22, 535.7, 529.04, 529.62, 538.4, 533.85, 532.3, 537.36, 539.27, 542.51, 540.11, 532.32, 539.79, 539.78, 532.11, 533.99, 539.18, 540.31, 536.7, 533.33, 526.83, 526.69, 536.69, 534.61, 532.33, 527.2, 528.15, 529.26, 536.73, 536.69, 538.19, 540.48, 537.84, 535.23, 531.69, 521.52, 520.51, 521.84, 523.4, 522.86, 525.02, 516.83, 520.68, 530.13, 546.55, 561.1, 560.22, 579.85, 672.93, 663.02, 662.3, 662.1, 644.28, 623.56, 627.26, 628.0, 631.93, 632.59, 625.61, 631.21, 629.25, 643.78, 642.68, 635.3, 633.73, 660.78, 659.56, 656.45, 657.12, 660.87, 656.13, 660.9, 646.83, 612.48, 589.61, 582.06, 628.62, 637.61, 630.38, 618.25, 597.79, 614.34, 606.25, 600.7, 614.66, 612.72, 621.35, 625.77, 623.24, 635.14, 635.98, 642.9, 629.25, 635.44, 622.69, 622.36, 625.8, 611.97, 594.89, 594.97, 608.42, 611.29, 626.91, 641.47, 645.44, 642.36, 639.16, 643.61, 646.67, 652.3, 651.16, 661.74, 662.2, 666.1, 650.28, 642.61, 651.79, 702.0, 712.78, 708.49, 712.95, 716.92, 710.81, 721.11, 722.16, 728.11, 731.25, 733.76, 724.89, 728.32, 735.4, 731.23, 717.0, 728.96, 725.3, 740.0, 738.41, 756.6, 755.98, 748.28, 748.15, 750.26, 742.6, 767.04, 762.38, 752.54, 766.81, 763.25, 762.37, 751.61, 749.46, 738.87, 747.77, 743.4, 758.09, 749.43, 739.31, 747.77, 750.0, 750.31, 748.4, 762.51, 776.6, 771.0, 758.88, 741.84, 742.58, 743.62, 726.39, 714.47, 716.03, 726.07, 700.56, 714.72, 694.45, 701.79, 698.45, 706.59, 725.25, 711.67, 713.04, 699.99, 730.96, 742.95, 752.0, 764.65, 726.95, 708.01, 683.57, 682.74, 678.11, 684.12, 683.11, 682.4, 691.0, 708.4, 697.35, 700.91, 706.46, 695.85, 699.56, 705.75, 705.07, 697.77, 718.81, 718.85, 712.42, 710.89, 695.16, 693.97, 705.24, 712.82, 726.82, 730.49, 728.33, 736.09, 737.78, 737.6, 742.09, 740.75, 738.06, 735.3, 733.53, 744.77, 750.53, 744.95, 749.91, 745.29, 737.8, 745.69, 740.28, 739.15, 736.1, 743.09, 751.72, 753.2, 759.0, 766.61, 753.93, 752.67, 759.14, 718.77, 723.15, 708.14, 705.84, 691.02, 693.01, 698.21, 692.36, 695.7, 701.43, 711.12, 712.9, 723.18, 715.29, 713.31, 710.83, 716.49, 706.23, 706.63, 700.32, 709.74, 704.24, 720.09, 725.27, 724.12, 732.66, 735.72, 734.15, 730.4, 722.34, 716.55, 716.65, 728.28, 728.58, 719.41, 718.36, 718.27, 718.92, 710.36, 691.72, 693.71, 695.94, 697.46, 701.87, 675.22, 668.26, 680.04, 684.11, 692.1, 699.21, 694.49, 697.77, 695.36, 705.63, 715.09, 720.64, 716.98, 720.95, 719.85, 733.78, 736.96, 741.19, 738.63, 742.74, 739.77, 738.42, 741.77, 745.91, 768.79, 772.88, 771.07, 773.18, 771.61, 782.22]\n"
          ],
          "name": "stdout"
        }
      ]
    },
    {
      "cell_type": "code",
      "metadata": {
        "collapsed": true,
        "id": "NeMbKkf4Cfnu",
        "colab_type": "code",
        "outputId": "8cbb4793-e20f-40e2-8bd3-0166d19bfbf9",
        "colab": {
          "base_uri": "https://localhost:8080/",
          "height": 71
        }
      },
      "source": [
        "print(dict(pokemon))\n",
        "print(dict(google))"
      ],
      "execution_count": 0,
      "outputs": [
        {
          "output_type": "stream",
          "text": [
            "{0: 'Bulbasaur', 1: 'Ivysaur', 2: 'Venusaur', 3: 'Charmander', 4: 'Charmeleon', 5: 'Charizard', 6: 'Squirtle', 7: 'Wartortle', 8: 'Blastoise', 9: 'Caterpie', 10: 'Metapod', 11: 'Butterfree', 12: 'Weedle', 13: 'Kakuna', 14: 'Beedrill', 15: 'Pidgey', 16: 'Pidgeotto', 17: 'Pidgeot', 18: 'Rattata', 19: 'Raticate', 20: 'Spearow', 21: 'Fearow', 22: 'Ekans', 23: 'Arbok', 24: 'Pikachu', 25: 'Raichu', 26: 'Sandshrew', 27: 'Sandslash', 28: 'Nidoran', 29: 'Nidorina', 30: 'Nidoqueen', 31: 'Nidoran♂', 32: 'Nidorino', 33: 'Nidoking', 34: 'Clefairy', 35: 'Clefable', 36: 'Vulpix', 37: 'Ninetales', 38: 'Jigglypuff', 39: 'Wigglytuff', 40: 'Zubat', 41: 'Golbat', 42: 'Oddish', 43: 'Gloom', 44: 'Vileplume', 45: 'Paras', 46: 'Parasect', 47: 'Venonat', 48: 'Venomoth', 49: 'Diglett', 50: 'Dugtrio', 51: 'Meowth', 52: 'Persian', 53: 'Psyduck', 54: 'Golduck', 55: 'Mankey', 56: 'Primeape', 57: 'Growlithe', 58: 'Arcanine', 59: 'Poliwag', 60: 'Poliwhirl', 61: 'Poliwrath', 62: 'Abra', 63: 'Kadabra', 64: 'Alakazam', 65: 'Machop', 66: 'Machoke', 67: 'Machamp', 68: 'Bellsprout', 69: 'Weepinbell', 70: 'Victreebel', 71: 'Tentacool', 72: 'Tentacruel', 73: 'Geodude', 74: 'Graveler', 75: 'Golem', 76: 'Ponyta', 77: 'Rapidash', 78: 'Slowpoke', 79: 'Slowbro', 80: 'Magnemite', 81: 'Magneton', 82: \"Farfetch'd\", 83: 'Doduo', 84: 'Dodrio', 85: 'Seel', 86: 'Dewgong', 87: 'Grimer', 88: 'Muk', 89: 'Shellder', 90: 'Cloyster', 91: 'Gastly', 92: 'Haunter', 93: 'Gengar', 94: 'Onix', 95: 'Drowzee', 96: 'Hypno', 97: 'Krabby', 98: 'Kingler', 99: 'Voltorb', 100: 'Electrode', 101: 'Exeggcute', 102: 'Exeggutor', 103: 'Cubone', 104: 'Marowak', 105: 'Hitmonlee', 106: 'Hitmonchan', 107: 'Lickitung', 108: 'Koffing', 109: 'Weezing', 110: 'Rhyhorn', 111: 'Rhydon', 112: 'Chansey', 113: 'Tangela', 114: 'Kangaskhan', 115: 'Horsea', 116: 'Seadra', 117: 'Goldeen', 118: 'Seaking', 119: 'Staryu', 120: 'Starmie', 121: 'Mr. Mime', 122: 'Scyther', 123: 'Jynx', 124: 'Electabuzz', 125: 'Magmar', 126: 'Pinsir', 127: 'Tauros', 128: 'Magikarp', 129: 'Gyarados', 130: 'Lapras', 131: 'Ditto', 132: 'Eevee', 133: 'Vaporeon', 134: 'Jolteon', 135: 'Flareon', 136: 'Porygon', 137: 'Omanyte', 138: 'Omastar', 139: 'Kabuto', 140: 'Kabutops', 141: 'Aerodactyl', 142: 'Snorlax', 143: 'Articuno', 144: 'Zapdos', 145: 'Moltres', 146: 'Dratini', 147: 'Dragonair', 148: 'Dragonite', 149: 'Mewtwo', 150: 'Mew', 151: 'Chikorita', 152: 'Bayleef', 153: 'Meganium', 154: 'Cyndaquil', 155: 'Quilava', 156: 'Typhlosion', 157: 'Totodile', 158: 'Croconaw', 159: 'Feraligatr', 160: 'Sentret', 161: 'Furret', 162: 'Hoothoot', 163: 'Noctowl', 164: 'Ledyba', 165: 'Ledian', 166: 'Spinarak', 167: 'Ariados', 168: 'Crobat', 169: 'Chinchou', 170: 'Lanturn', 171: 'Pichu', 172: 'Cleffa', 173: 'Igglybuff', 174: 'Togepi', 175: 'Togetic', 176: 'Natu', 177: 'Xatu', 178: 'Mareep', 179: 'Flaaffy', 180: 'Ampharos', 181: 'Bellossom', 182: 'Marill', 183: 'Azumarill', 184: 'Sudowoodo', 185: 'Politoed', 186: 'Hoppip', 187: 'Skiploom', 188: 'Jumpluff', 189: 'Aipom', 190: 'Sunkern', 191: 'Sunflora', 192: 'Yanma', 193: 'Wooper', 194: 'Quagsire', 195: 'Espeon', 196: 'Umbreon', 197: 'Murkrow', 198: 'Slowking', 199: 'Misdreavus', 200: 'Unown', 201: 'Wobbuffet', 202: 'Girafarig', 203: 'Pineco', 204: 'Forretress', 205: 'Dunsparce', 206: 'Gligar', 207: 'Steelix', 208: 'Snubbull', 209: 'Granbull', 210: 'Qwilfish', 211: 'Scizor', 212: 'Shuckle', 213: 'Heracross', 214: 'Sneasel', 215: 'Teddiursa', 216: 'Ursaring', 217: 'Slugma', 218: 'Magcargo', 219: 'Swinub', 220: 'Piloswine', 221: 'Corsola', 222: 'Remoraid', 223: 'Octillery', 224: 'Delibird', 225: 'Mantine', 226: 'Skarmory', 227: 'Houndour', 228: 'Houndoom', 229: 'Kingdra', 230: 'Phanpy', 231: 'Donphan', 232: 'Porygon2', 233: 'Stantler', 234: 'Smeargle', 235: 'Tyrogue', 236: 'Hitmontop', 237: 'Smoochum', 238: 'Elekid', 239: 'Magby', 240: 'Miltank', 241: 'Blissey', 242: 'Raikou', 243: 'Entei', 244: 'Suicune', 245: 'Larvitar', 246: 'Pupitar', 247: 'Tyranitar', 248: 'Lugia', 249: 'Ho-oh', 250: 'Celebi', 251: 'Treecko', 252: 'Grovyle', 253: 'Sceptile', 254: 'Torchic', 255: 'Combusken', 256: 'Blaziken', 257: 'Mudkip', 258: 'Marshtomp', 259: 'Swampert', 260: 'Poochyena', 261: 'Mightyena', 262: 'Zigzagoon', 263: 'Linoone', 264: 'Wurmple', 265: 'Silcoon', 266: 'Beautifly', 267: 'Cascoon', 268: 'Dustox', 269: 'Lotad', 270: 'Lombre', 271: 'Ludicolo', 272: 'Seedot', 273: 'Nuzleaf', 274: 'Shiftry', 275: 'Taillow', 276: 'Swellow', 277: 'Wingull', 278: 'Pelipper', 279: 'Ralts', 280: 'Kirlia', 281: 'Gardevoir', 282: 'Surskit', 283: 'Masquerain', 284: 'Shroomish', 285: 'Breloom', 286: 'Slakoth', 287: 'Vigoroth', 288: 'Slaking', 289: 'Nincada', 290: 'Ninjask', 291: 'Shedinja', 292: 'Whismur', 293: 'Loudred', 294: 'Exploud', 295: 'Makuhita', 296: 'Hariyama', 297: 'Azurill', 298: 'Nosepass', 299: 'Skitty', 300: 'Delcatty', 301: 'Sableye', 302: 'Mawile', 303: 'Aron', 304: 'Lairon', 305: 'Aggron', 306: 'Meditite', 307: 'Medicham', 308: 'Electrike', 309: 'Manectric', 310: 'Plusle', 311: 'Minun', 312: 'Volbeat', 313: 'Illumise', 314: 'Roselia', 315: 'Gulpin', 316: 'Swalot', 317: 'Carvanha', 318: 'Sharpedo', 319: 'Wailmer', 320: 'Wailord', 321: 'Numel', 322: 'Camerupt', 323: 'Torkoal', 324: 'Spoink', 325: 'Grumpig', 326: 'Spinda', 327: 'Trapinch', 328: 'Vibrava', 329: 'Flygon', 330: 'Cacnea', 331: 'Cacturne', 332: 'Swablu', 333: 'Altaria', 334: 'Zangoose', 335: 'Seviper', 336: 'Lunatone', 337: 'Solrock', 338: 'Barboach', 339: 'Whiscash', 340: 'Corphish', 341: 'Crawdaunt', 342: 'Baltoy', 343: 'Claydol', 344: 'Lileep', 345: 'Cradily', 346: 'Anorith', 347: 'Armaldo', 348: 'Feebas', 349: 'Milotic', 350: 'Castform', 351: 'Kecleon', 352: 'Shuppet', 353: 'Banette', 354: 'Duskull', 355: 'Dusclops', 356: 'Tropius', 357: 'Chimecho', 358: 'Absol', 359: 'Wynaut', 360: 'Snorunt', 361: 'Glalie', 362: 'Spheal', 363: 'Sealeo', 364: 'Walrein', 365: 'Clamperl', 366: 'Huntail', 367: 'Gorebyss', 368: 'Relicanth', 369: 'Luvdisc', 370: 'Bagon', 371: 'Shelgon', 372: 'Salamence', 373: 'Beldum', 374: 'Metang', 375: 'Metagross', 376: 'Regirock', 377: 'Regice', 378: 'Registeel', 379: 'Latias', 380: 'Latios', 381: 'Kyogre', 382: 'Groudon', 383: 'Rayquaza', 384: 'Jirachi', 385: 'Deoxys', 386: 'Turtwig', 387: 'Grotle', 388: 'Torterra', 389: 'Chimchar', 390: 'Monferno', 391: 'Infernape', 392: 'Piplup', 393: 'Prinplup', 394: 'Empoleon', 395: 'Starly', 396: 'Staravia', 397: 'Staraptor', 398: 'Bidoof', 399: 'Bibarel', 400: 'Kricketot', 401: 'Kricketune', 402: 'Shinx', 403: 'Luxio', 404: 'Luxray', 405: 'Budew', 406: 'Roserade', 407: 'Cranidos', 408: 'Rampardos', 409: 'Shieldon', 410: 'Bastiodon', 411: 'Burmy', 412: 'Wormadam', 413: 'Mothim', 414: 'Combee', 415: 'Vespiquen', 416: 'Pachirisu', 417: 'Buizel', 418: 'Floatzel', 419: 'Cherubi', 420: 'Cherrim', 421: 'Shellos', 422: 'Gastrodon', 423: 'Ambipom', 424: 'Drifloon', 425: 'Drifblim', 426: 'Buneary', 427: 'Lopunny', 428: 'Mismagius', 429: 'Honchkrow', 430: 'Glameow', 431: 'Purugly', 432: 'Chingling', 433: 'Stunky', 434: 'Skuntank', 435: 'Bronzor', 436: 'Bronzong', 437: 'Bonsly', 438: 'Mime Jr.', 439: 'Happiny', 440: 'Chatot', 441: 'Spiritomb', 442: 'Gible', 443: 'Gabite', 444: 'Garchomp', 445: 'Munchlax', 446: 'Riolu', 447: 'Lucario', 448: 'Hippopotas', 449: 'Hippowdon', 450: 'Skorupi', 451: 'Drapion', 452: 'Croagunk', 453: 'Toxicroak', 454: 'Carnivine', 455: 'Finneon', 456: 'Lumineon', 457: 'Mantyke', 458: 'Snover', 459: 'Abomasnow', 460: 'Weavile', 461: 'Magnezone', 462: 'Lickilicky', 463: 'Rhyperior', 464: 'Tangrowth', 465: 'Electivire', 466: 'Magmortar', 467: 'Togekiss', 468: 'Yanmega', 469: 'Leafeon', 470: 'Glaceon', 471: 'Gliscor', 472: 'Mamoswine', 473: 'Porygon-Z', 474: 'Gallade', 475: 'Probopass', 476: 'Dusknoir', 477: 'Froslass', 478: 'Rotom', 479: 'Uxie', 480: 'Mesprit', 481: 'Azelf', 482: 'Dialga', 483: 'Palkia', 484: 'Heatran', 485: 'Regigigas', 486: 'Giratina', 487: 'Cresselia', 488: 'Phione', 489: 'Manaphy', 490: 'Darkrai', 491: 'Shaymin', 492: 'Arceus', 493: 'Victini', 494: 'Snivy', 495: 'Servine', 496: 'Serperior', 497: 'Tepig', 498: 'Pignite', 499: 'Emboar', 500: 'Oshawott', 501: 'Dewott', 502: 'Samurott', 503: 'Patrat', 504: 'Watchog', 505: 'Lillipup', 506: 'Herdier', 507: 'Stoutland', 508: 'Purrloin', 509: 'Liepard', 510: 'Pansage', 511: 'Simisage', 512: 'Pansear', 513: 'Simisear', 514: 'Panpour', 515: 'Simipour', 516: 'Munna', 517: 'Musharna', 518: 'Pidove', 519: 'Tranquill', 520: 'Unfezant', 521: 'Blitzle', 522: 'Zebstrika', 523: 'Roggenrola', 524: 'Boldore', 525: 'Gigalith', 526: 'Woobat', 527: 'Swoobat', 528: 'Drilbur', 529: 'Excadrill', 530: 'Audino', 531: 'Timburr', 532: 'Gurdurr', 533: 'Conkeldurr', 534: 'Tympole', 535: 'Palpitoad', 536: 'Seismitoad', 537: 'Throh', 538: 'Sawk', 539: 'Sewaddle', 540: 'Swadloon', 541: 'Leavanny', 542: 'Venipede', 543: 'Whirlipede', 544: 'Scolipede', 545: 'Cottonee', 546: 'Whimsicott', 547: 'Petilil', 548: 'Lilligant', 549: 'Basculin', 550: 'Sandile', 551: 'Krokorok', 552: 'Krookodile', 553: 'Darumaka', 554: 'Darmanitan', 555: 'Maractus', 556: 'Dwebble', 557: 'Crustle', 558: 'Scraggy', 559: 'Scrafty', 560: 'Sigilyph', 561: 'Yamask', 562: 'Cofagrigus', 563: 'Tirtouga', 564: 'Carracosta', 565: 'Archen', 566: 'Archeops', 567: 'Trubbish', 568: 'Garbodor', 569: 'Zorua', 570: 'Zoroark', 571: 'Minccino', 572: 'Cinccino', 573: 'Gothita', 574: 'Gothorita', 575: 'Gothitelle', 576: 'Solosis', 577: 'Duosion', 578: 'Reuniclus', 579: 'Ducklett', 580: 'Swanna', 581: 'Vanillite', 582: 'Vanillish', 583: 'Vanilluxe', 584: 'Deerling', 585: 'Sawsbuck', 586: 'Emolga', 587: 'Karrablast', 588: 'Escavalier', 589: 'Foongus', 590: 'Amoonguss', 591: 'Frillish', 592: 'Jellicent', 593: 'Alomomola', 594: 'Joltik', 595: 'Galvantula', 596: 'Ferroseed', 597: 'Ferrothorn', 598: 'Klink', 599: 'Klang', 600: 'Klinklang', 601: 'Tynamo', 602: 'Eelektrik', 603: 'Eelektross', 604: 'Elgyem', 605: 'Beheeyem', 606: 'Litwick', 607: 'Lampent', 608: 'Chandelure', 609: 'Axew', 610: 'Fraxure', 611: 'Haxorus', 612: 'Cubchoo', 613: 'Beartic', 614: 'Cryogonal', 615: 'Shelmet', 616: 'Accelgor', 617: 'Stunfisk', 618: 'Mienfoo', 619: 'Mienshao', 620: 'Druddigon', 621: 'Golett', 622: 'Golurk', 623: 'Pawniard', 624: 'Bisharp', 625: 'Bouffalant', 626: 'Rufflet', 627: 'Braviary', 628: 'Vullaby', 629: 'Mandibuzz', 630: 'Heatmor', 631: 'Durant', 632: 'Deino', 633: 'Zweilous', 634: 'Hydreigon', 635: 'Larvesta', 636: 'Volcarona', 637: 'Cobalion', 638: 'Terrakion', 639: 'Virizion', 640: 'Tornadus', 641: 'Thundurus', 642: 'Reshiram', 643: 'Zekrom', 644: 'Landorus', 645: 'Kyurem', 646: 'Keldeo', 647: 'Meloetta', 648: 'Genesect', 649: 'Chespin', 650: 'Quilladin', 651: 'Chesnaught', 652: 'Fennekin', 653: 'Braixen', 654: 'Delphox', 655: 'Froakie', 656: 'Frogadier', 657: 'Greninja', 658: 'Bunnelby', 659: 'Diggersby', 660: 'Fletchling', 661: 'Fletchinder', 662: 'Talonflame', 663: 'Scatterbug', 664: 'Spewpa', 665: 'Vivillon', 666: 'Litleo', 667: 'Pyroar', 668: 'Flabébé', 669: 'Floette', 670: 'Florges', 671: 'Skiddo', 672: 'Gogoat', 673: 'Pancham', 674: 'Pangoro', 675: 'Furfrou', 676: 'Espurr', 677: 'Meowstic', 678: 'Honedge', 679: 'Doublade', 680: 'Aegislash', 681: 'Spritzee', 682: 'Aromatisse', 683: 'Swirlix', 684: 'Slurpuff', 685: 'Inkay', 686: 'Malamar', 687: 'Binacle', 688: 'Barbaracle', 689: 'Skrelp', 690: 'Dragalge', 691: 'Clauncher', 692: 'Clawitzer', 693: 'Helioptile', 694: 'Heliolisk', 695: 'Tyrunt', 696: 'Tyrantrum', 697: 'Amaura', 698: 'Aurorus', 699: 'Sylveon', 700: 'Hawlucha', 701: 'Dedenne', 702: 'Carbink', 703: 'Goomy', 704: 'Sliggoo', 705: 'Goodra', 706: 'Klefki', 707: 'Phantump', 708: 'Trevenant', 709: 'Pumpkaboo', 710: 'Gourgeist', 711: 'Bergmite', 712: 'Avalugg', 713: 'Noibat', 714: 'Noivern', 715: 'Xerneas', 716: 'Yveltal', 717: 'Zygarde', 718: 'Diancie', 719: 'Hoopa', 720: 'Volcanion'}\n",
            "{0: 50.12, 1: 54.1, 2: 54.65, 3: 52.38, 4: 52.95, 5: 53.9, 6: 53.02, 7: 50.95, 8: 51.13, 9: 50.07, 10: 50.7, 11: 49.95, 12: 50.74, 13: 51.1, 14: 51.1, 15: 52.61, 16: 53.7, 17: 55.69, 18: 55.94, 19: 56.93, 20: 58.69, 21: 59.62, 22: 58.86, 23: 59.13, 24: 60.35, 25: 59.86, 26: 59.07, 27: 63.37, 28: 65.47, 29: 64.74, 30: 66.22, 31: 67.46, 32: 69.12, 33: 68.47, 34: 69.36, 35: 68.8, 36: 67.56, 37: 68.63, 38: 70.38, 39: 70.93, 40: 71.98, 41: 74.51, 42: 73.9, 43: 70.17, 44: 74.62, 45: 86.13, 46: 93.61, 47: 90.81, 48: 92.89, 49: 96.55, 50: 95.22, 51: 97.92, 52: 97.34, 53: 95.74, 54: 92.26, 55: 84.59, 56: 86.19, 57: 84.27, 58: 83.85, 59: 91.42, 60: 90.91, 61: 92.34, 62: 86.19, 63: 86.16, 64: 83.69, 65: 84.62, 66: 82.47, 67: 83.68, 68: 87.29, 69: 89.61, 70: 90.43, 71: 90.9, 72: 89.89, 73: 89.61, 74: 90.11, 75: 88.06, 76: 85.63, 77: 84.91, 78: 86.63, 79: 85.74, 80: 85.14, 81: 89.26, 82: 89.8, 83: 88.15, 84: 89.95, 85: 92.42, 86: 91.78, 87: 93.06, 88: 93.86, 89: 95.86, 90: 96.28, 91: 96.35, 92: 98.7, 93: 96.3, 94: 101.25, 95: 97.15, 96: 96.66, 97: 94.18, 98: 96.83, 99: 97.43, 100: 96.67, 101: 97.59, 102: 97.57, 103: 99.89, 104: 101.85, 105: 98.55, 106: 96.86, 107: 94.05, 108: 90.27, 109: 88.47, 110: 94.53, 111: 93.95, 112: 95.07, 113: 97.71, 114: 95.85, 115: 102.88, 116: 105.32, 117: 102.08, 118: 97.92, 119: 99.22, 120: 95.69, 121: 93.9, 122: 93.61, 123: 96.4, 124: 97.52, 125: 99.11, 126: 98.85, 127: 98.88, 128: 95.59, 129: 96.88, 130: 94.35, 131: 92.84, 132: 93.9, 133: 92.94, 134: 92.5, 135: 93.41, 136: 92.86, 137: 94.31, 138: 92.51, 139: 90.58, 140: 89.9, 141: 88.81, 142: 87.41, 143: 89.22, 144: 87.71, 145: 89.56, 146: 89.93, 147: 90.35, 148: 89.21, 149: 89.4, 150: 89.54, 151: 90.62, 152: 89.7, 153: 90.13, 154: 90.16, 155: 89.93, 156: 92.55, 157: 94.19, 158: 94.52, 159: 96.78, 160: 95.93, 161: 96.52, 162: 96.88, 163: 96.37, 164: 95.63, 165: 92.41, 166: 93.39, 167: 95.6, 168: 98.95, 169: 102.01, 170: 107.8, 171: 111.65, 172: 109.27, 173: 109.78, 174: 109.62, 175: 109.89, 176: 111.03, 177: 112.98, 178: 114.14, 179: 113.38, 180: 113.9, 181: 112.9, 182: 113.79, 183: 115.53, 184: 114.25, 185: 114.51, 186: 115.41, 187: 116.45, 188: 119.46, 189: 119.47, 190: 120.68, 191: 127.6, 192: 127.87, 193: 130.27, 194: 129.47, 195: 132.87, 196: 138.5, 197: 143.86, 198: 143.81, 199: 139.99, 200: 145.32, 201: 146.41, 202: 139.64, 203: 143.01, 204: 141.11, 205: 141.23, 206: 139.04, 207: 137.26, 208: 138.58, 209: 140.0, 210: 143.21, 211: 143.78, 212: 144.51, 213: 144.71, 214: 148.48, 215: 151.9, 216: 150.85, 217: 146.21, 218: 146.93, 219: 145.48, 220: 147.71, 221: 145.62, 222: 147.62, 223: 147.97, 224: 146.53, 225: 145.75, 226: 149.28, 227: 150.29, 228: 150.44, 229: 149.62, 230: 154.8, 231: 155.84, 232: 156.81, 233: 151.05, 234: 147.78, 235: 147.9, 236: 148.32, 237: 146.6, 238: 143.74, 239: 145.66, 240: 149.45, 241: 148.5, 242: 148.72, 243: 146.03, 244: 145.48, 245: 145.64, 246: 142.7, 247: 141.88, 248: 144.72, 249: 141.86, 250: 142.68, 251: 142.41, 252: 139.86, 253: 139.86, 254: 136.87, 255: 139.65, 256: 141.14, 257: 141.15, 258: 141.65, 259: 144.08, 260: 143.49, 261: 142.86, 262: 142.98, 263: 144.08, 264: 143.41, 265: 147.29, 266: 147.55, 267: 149.4, 268: 154.72, 269: 155.68, 270: 151.35, 271: 151.16, 272: 149.95, 273: 151.74, 274: 153.8, 275: 155.79, 276: 155.53, 277: 157.52, 278: 156.98, 279: 156.81, 280: 152.85, 281: 154.66, 282: 158.07, 283: 159.18, 284: 155.34, 285: 155.2, 286: 156.22, 287: 156.34, 288: 155.17, 289: 152.9, 290: 150.33, 291: 148.57, 292: 147.92, 293: 152.35, 294: 151.49, 295: 154.2, 296: 151.45, 297: 169.78, 298: 174.15, 299: 173.28, 300: 177.54, 301: 176.35, 302: 178.91, 303: 185.88, 304: 189.5, 305: 189.65, 306: 192.78, 307: 195.02, 308: 197.32, 309: 194.76, 310: 189.39, 311: 195.35, 312: 195.0, 313: 198.29, 314: 196.2, 315: 198.88, 316: 201.52, 317: 199.9, 318: 204.48, 319: 208.03, 320: 211.22, 321: 214.1, 322: 211.53, 323: 201.57, 324: 202.25, 325: 206.84, 326: 208.64, 327: 202.72, 328: 202.07, 329: 201.91, 330: 205.12, 331: 204.4, 332: 206.1, 333: 208.54, 334: 209.27, 335: 211.05, 336: 214.86, 337: 212.09, 338: 214.66, 339: 212.95, 340: 215.8, 341: 215.25, 342: 212.11, 343: 213.13, 344: 209.86, 345: 207.22, 346: 217.4, 347: 222.4, 348: 225.39, 349: 232.6, 350: 233.22, 351: 234.65, 352: 235.58, 353: 231.58, 354: 232.89, 355: 233.32, 356: 222.23, 357: 218.0, 358: 199.53, 359: 213.54, 360: 221.29, 361: 216.28, 362: 216.92, 363: 216.53, 364: 213.2, 365: 216.11, 366: 200.69, 367: 197.82, 368: 190.59, 369: 192.36, 370: 183.78, 371: 184.36, 372: 179.21, 373: 181.12, 374: 172.68, 375: 171.49, 376: 171.02, 377: 183.05, 378: 184.19, 379: 183.11, 380: 182.56, 381: 188.85, 382: 188.51, 383: 194.99, 384: 181.13, 385: 182.22, 386: 188.04, 387: 188.9, 388: 183.87, 389: 182.04, 390: 176.76, 391: 171.33, 392: 168.58, 393: 168.36, 394: 175.4, 395: 172.08, 396: 169.22, 397: 169.73, 398: 173.92, 399: 169.79, 400: 169.94, 401: 170.77, 402: 182.72, 403: 184.66, 404: 188.41, 405: 197.29, 406: 194.03, 407: 194.8, 408: 194.66, 409: 201.97, 410: 203.79, 411: 205.38, 412: 202.88, 413: 207.98, 414: 204.63, 415: 204.27, 416: 200.88, 417: 203.21, 418: 201.92, 419: 205.04, 420: 207.29, 421: 218.33, 422: 220.03, 423: 213.37, 424: 212.77, 425: 209.8, 426: 208.76, 427: 199.25, 428: 197.2, 429: 196.89, 430: 197.18, 431: 196.95, 432: 197.19, 433: 204.2, 434: 201.29, 435: 193.31, 436: 186.88, 437: 187.91, 438: 185.46, 439: 187.06, 440: 185.31, 441: 184.82, 442: 185.29, 443: 187.6, 444: 190.43, 445: 191.3, 446: 190.48, 447: 185.78, 448: 185.72, 449: 191.12, 450: 189.53, 451: 187.03, 452: 194.8, 453: 193.06, 454: 196.45, 455: 193.09, 456: 190.58, 457: 193.07, 458: 192.0, 459: 195.3, 460: 195.15, 461: 193.88, 462: 193.39, 463: 200.86, 464: 199.78, 465: 202.23, 466: 201.91, 467: 200.96, 468: 202.85, 469: 208.7, 470: 209.46, 471: 211.39, 472: 210.52, 473: 211.38, 474: 210.01, 475: 208.89, 476: 212.07, 477: 208.42, 478: 204.21, 479: 201.55, 480: 203.74, 481: 201.32, 482: 199.3, 483: 193.37, 484: 194.86, 485: 195.25, 486: 194.49, 487: 192.56, 488: 191.01, 489: 193.87, 490: 193.11, 491: 187.57, 492: 183.43, 493: 187.51, 494: 186.74, 495: 188.79, 496: 190.31, 497: 188.28, 498: 186.91, 499: 184.07, 500: 184.53, 501: 190.29, 502: 193.67, 503: 192.71, 504: 191.49, 505: 188.46, 506: 188.96, 507: 186.53, 508: 186.68, 509: 186.44, 510: 190.28, 511: 189.29, 512: 190.18, 513: 189.08, 514: 189.11, 515: 191.99, 516: 189.88, 517: 189.06, 518: 188.74, 519: 191.85, 520: 195.75, 521: 203.08, 522: 201.79, 523: 204.74, 524: 207.14, 525: 201.7, 526: 198.3, 527: 203.22, 528: 201.69, 529: 201.79, 530: 203.23, 531: 201.26, 532: 201.59, 533: 200.75, 534: 200.52, 535: 201.82, 536: 207.64, 537: 205.7, 538: 210.04, 539: 214.29, 540: 213.11, 541: 213.04, 542: 213.51, 543: 213.44, 544: 210.66, 545: 210.11, 546: 209.44, 547: 212.82, 548: 229.61, 549: 240.15, 550: 236.42, 551: 243.06, 552: 242.31, 553: 237.36, 554: 238.05, 555: 237.96, 556: 233.52, 557: 234.72, 558: 235.66, 559: 238.24, 560: 236.05, 561: 237.26, 562: 236.08, 563: 236.54, 564: 240.27, 565: 244.41, 566: 245.72, 567: 247.7, 568: 249.15, 569: 247.28, 570: 254.57, 571: 253.75, 572: 252.2, 573: 242.13, 574: 244.51, 575: 242.08, 576: 242.16, 577: 240.16, 578: 242.18, 579: 243.26, 580: 244.11, 581: 241.08, 582: 241.81, 583: 241.72, 584: 240.65, 585: 239.26, 586: 240.82, 587: 239.91, 588: 231.17, 589: 234.08, 590: 231.22, 591: 227.87, 592: 227.56, 593: 228.54, 594: 233.78, 595: 231.05, 596: 230.01, 597: 233.56, 598: 241.39, 599: 243.35, 600: 241.55, 601: 242.51, 602: 244.49, 603: 249.61, 604: 252.25, 605: 251.89, 606: 248.39, 607: 243.67, 608: 244.63, 609: 240.18, 610: 239.29, 611: 249.28, 612: 243.8, 613: 247.67, 614: 245.99, 615: 246.91, 616: 250.5, 617: 240.63, 618: 240.51, 619: 233.35, 620: 235.5, 621: 234.77, 622: 235.28, 623: 230.71, 624: 228.92, 625: 229.32, 626: 232.73, 627: 230.5, 628: 234.74, 629: 235.81, 630: 237.69, 631: 237.69, 632: 235.07, 633: 232.23, 634: 224.16, 635: 224.5, 636: 223.89, 637: 219.12, 638: 220.25, 639: 228.55, 640: 227.59, 641: 227.13, 642: 226.25, 643: 227.15, 644: 221.29, 645: 223.78, 646: 222.87, 647: 220.2, 648: 223.39, 649: 222.42, 650: 228.05, 651: 230.79, 652: 230.68, 653: 232.27, 654: 231.58, 655: 230.71, 656: 230.23, 657: 228.85, 658: 229.04, 659: 236.06, 660: 235.27, 661: 235.52, 662: 233.87, 663: 233.02, 664: 232.03, 665: 233.46, 666: 232.91, 667: 236.9, 668: 236.16, 669: 237.77, 670: 235.59, 671: 241.0, 672: 239.3, 673: 238.53, 674: 238.76, 675: 240.35, 676: 239.27, 677: 235.45, 678: 234.27, 679: 232.66, 680: 236.38, 681: 235.32, 682: 233.4, 683: 233.17, 684: 234.39, 685: 230.5, 686: 233.14, 687: 230.66, 688: 228.77, 689: 236.07, 690: 235.24, 691: 234.92, 692: 235.06, 693: 237.69, 694: 236.75, 695: 236.93, 696: 241.52, 697: 243.31, 698: 249.05, 699: 248.71, 700: 249.95, 701: 253.28, 702: 259.16, 703: 258.87, 704: 257.27, 705: 257.49, 706: 255.41, 707: 252.13, 708: 252.37, 709: 251.17, 710: 252.69, 711: 257.34, 712: 256.9, 713: 254.73, 714: 256.8, 715: 262.23, 716: 263.45, 717: 264.86, 718: 262.88, 719: 262.24, 720: 261.09, 721: 264.92, 722: 266.9, 723: 270.54, 724: 269.43, 725: 271.01, 726: 271.4, 727: 271.96, 728: 272.39, 729: 275.8, 730: 276.22, 731: 277.22, 732: 274.48, 733: 274.02, 734: 259.8, 735: 256.0, 736: 256.74, 737: 254.63, 738: 253.75, 739: 255.69, 740: 257.8, 741: 254.74, 742: 256.21, 743: 255.25, 744: 251.25, 745: 254.74, 746: 257.75, 747: 262.63, 748: 257.11, 749: 257.62, 750: 257.49, 751: 254.05, 752: 248.53, 753: 245.51, 754: 249.77, 755: 248.71, 756: 253.05, 757: 256.12, 758: 255.84, 759: 257.24, 760: 256.37, 761: 252.95, 762: 256.18, 763: 255.44, 764: 257.37, 765: 262.31, 766: 263.64, 767: 261.5, 768: 259.42, 769: 256.98, 770: 260.4, 771: 261.06, 772: 262.13, 773: 264.11, 774: 262.39, 775: 267.37, 776: 273.15, 777: 276.14, 778: 279.77, 779: 283.73, 780: 284.22, 781: 283.8, 782: 283.47, 783: 283.35, 784: 290.98, 785: 291.9, 786: 291.72, 787: 289.23, 788: 296.73, 789: 304.51, 790: 307.28, 791: 312.38, 792: 310.69, 793: 318.38, 794: 309.74, 795: 307.69, 796: 316.42, 797: 319.49, 798: 322.03, 799: 325.05, 800: 337.55, 801: 337.57, 802: 333.92, 803: 336.96, 804: 339.28, 805: 347.04, 806: 353.15, 807: 351.25, 808: 355.27, 809: 362.46, 810: 370.52, 811: 366.1, 812: 346.57, 813: 331.65, 814: 315.72, 815: 329.94, 816: 320.52, 817: 314.51, 818: 316.5, 819: 312.61, 820: 323.95, 821: 329.93, 822: 338.01, 823: 332.7, 824: 336.45, 825: 345.78, 826: 348.15, 827: 346.15, 828: 340.42, 829: 341.74, 830: 348.91, 831: 357.27, 832: 357.08, 833: 358.85, 834: 349.25, 835: 349.33, 836: 346.68, 837: 344.64, 838: 334.28, 839: 336.34, 840: 338.35, 841: 344.5, 842: 348.0, 843: 350.01, 844: 355.06, 845: 350.02, 846: 350.91, 847: 345.39, 848: 342.25, 849: 342.32, 850: 328.17, 851: 324.3, 852: 315.52, 853: 326.27, 854: 323.04, 855: 318.81, 856: 326.58, 857: 318.51, 858: 307.67, 859: 300.09, 860: 299.82, 861: 291.88, 862: 274.04, 863: 286.96, 864: 282.92, 865: 277.71, 866: 274.98, 867: 273.86, 868: 281.87, 869: 257.69, 870: 247.47, 871: 253.15, 872: 250.6, 873: 252.22, 874: 258.09, 875: 260.32, 876: 258.79, 877: 267.04, 878: 265.86, 879: 264.56, 880: 254.22, 881: 254.25, 882: 251.18, 883: 253.65, 884: 242.98, 885: 231.86, 886: 236.19, 887: 237.46, 888: 235.35, 889: 228.28, 890: 222.08, 891: 223.63, 892: 216.13, 893: 216.46, 894: 206.6, 895: 219.7, 896: 219.87, 897: 221.28, 898: 218.74, 899: 209.73, 900: 219.36, 901: 215.78, 902: 216.56, 903: 230.05, 904: 225.16, 905: 228.87, 906: 221.82, 907: 218.82, 908: 220.01, 909: 232.62, 910: 232.62, 911: 227.33, 912: 235.31, 913: 238.17, 914: 233.67, 915: 231.86, 916: 234.3, 917: 228.5, 918: 225.6, 919: 223.2, 920: 227.29, 921: 224.55, 922: 269.44, 923: 268.63, 924: 277.22, 925: 272.97, 926: 271.25, 927: 271.76, 928: 275.78, 929: 278.96, 930: 286.86, 931: 296.24, 932: 290.35, 933: 297.15, 934: 292.89, 935: 289.21, 936: 291.21, 937: 286.3, 938: 292.18, 939: 291.21, 940: 287.86, 941: 290.21, 942: 289.74, 943: 288.47, 944: 289.01, 945: 274.72, 946: 274.46, 947: 272.04, 948: 280.17, 949: 283.84, 950: 291.21, 951: 292.61, 952: 287.21, 953: 283.37, 954: 285.82, 955: 292.86, 956: 283.22, 957: 278.66, 958: 276.81, 959: 272.33, 960: 276.2, 961: 285.47, 962: 286.12, 963: 284.45, 964: 280.91, 965: 279.82, 966: 272.94, 967: 272.33, 968: 270.88, 969: 275.22, 970: 264.15, 971: 263.77, 972: 262.95, 973: 267.1, 974: 263.26, 975: 268.23, 976: 271.68, 977: 276.99, 978: 270.5, 979: 270.02, 980: 266.63, 981: 260.55, 982: 257.79, 983: 267.53, 984: 266.45, 985: 240.42, 986: 234.17, 987: 238.32, 988: 244.37, 989: 237.57, 990: 245.74, 991: 238.32, 992: 241.31, 993: 241.11, 994: 236.64, 995: 233.7, 996: 231.27, 997: 239.69, 998: 242.93, 999: 239.32, 1000: 247.26, 1001: 250.17, 1002: 251.05, 1003: 249.76, 1004: 252.49, 1005: 254.82, 1006: 248.9, 1007: 245.0, 1008: 242.26, 1009: 243.02, 1010: 245.05, 1011: 241.26, 1012: 236.84, 1013: 234.06, 1014: 236.65, 1015: 231.41, 1016: 232.39, 1017: 231.97, 1018: 224.9, 1019: 221.9, 1020: 209.76, 1021: 209.12, 1022: 206.87, 1023: 216.66, 1024: 218.61, 1025: 216.71, 1026: 221.24, 1027: 207.04, 1028: 219.32, 1029: 224.35, 1030: 214.85, 1031: 214.42, 1032: 217.34, 1033: 219.58, 1034: 215.3, 1035: 190.31, 1036: 200.06, 1037: 205.65, 1038: 195.05, 1039: 193.26, 1040: 185.42, 1041: 172.83, 1042: 168.89, 1043: 164.33, 1044: 165.83, 1045: 190.32, 1046: 181.17, 1047: 169.42, 1048: 176.33, 1049: 186.08, 1050: 189.47, 1051: 181.19, 1052: 177.66, 1053: 175.98, 1054: 169.48, 1055: 164.58, 1056: 184.19, 1057: 178.82, 1058: 179.67, 1059: 179.5, 1060: 173.07, 1061: 183.29, 1062: 170.95, 1063: 165.44, 1064: 165.4, 1065: 159.23, 1066: 155.57, 1067: 145.35, 1068: 155.88, 1069: 154.85, 1070: 149.91, 1071: 148.56, 1072: 139.95, 1073: 129.65, 1074: 131.08, 1075: 128.59, 1076: 140.88, 1077: 145.9, 1078: 146.33, 1079: 132.86, 1080: 137.42, 1081: 139.58, 1082: 137.03, 1083: 141.85, 1084: 150.9, 1085: 152.83, 1086: 154.26, 1087: 149.96, 1088: 157.72, 1089: 155.18, 1090: 162.48, 1091: 157.46, 1092: 154.98, 1093: 154.93, 1094: 148.41, 1095: 148.86, 1096: 151.32, 1097: 150.03, 1098: 148.56, 1099: 151.4, 1100: 153.67, 1101: 160.5, 1102: 163.86, 1103: 166.86, 1104: 160.84, 1105: 162.43, 1106: 157.38, 1107: 156.19, 1108: 157.0, 1109: 150.33, 1110: 149.35, 1111: 149.69, 1112: 141.23, 1113: 151.39, 1114: 153.1, 1115: 162.19, 1116: 161.77, 1117: 165.57, 1118: 174.16, 1119: 171.49, 1120: 169.1, 1121: 170.11, 1122: 170.05, 1123: 171.33, 1124: 176.68, 1125: 185.45, 1126: 189.2, 1127: 179.08, 1128: 178.84, 1129: 181.34, 1130: 178.66, 1131: 171.16, 1132: 176.38, 1133: 171.15, 1134: 173.05, 1135: 164.86, 1136: 172.55, 1137: 170.65, 1138: 168.42, 1139: 168.83, 1140: 163.42, 1141: 162.58, 1142: 159.3, 1143: 152.67, 1144: 154.13, 1145: 145.3, 1146: 153.93, 1147: 158.8, 1148: 161.6, 1149: 162.05, 1150: 159.69, 1151: 167.5, 1152: 166.38, 1153: 164.81, 1154: 164.91, 1155: 174.13, 1156: 173.41, 1157: 171.86, 1158: 176.47, 1159: 173.68, 1160: 171.17, 1161: 173.86, 1162: 176.87, 1163: 181.07, 1164: 184.71, 1165: 183.94, 1166: 179.15, 1167: 180.82, 1168: 186.06, 1169: 188.87, 1170: 184.27, 1171: 189.56, 1172: 194.18, 1173: 195.92, 1174: 189.46, 1175: 190.54, 1176: 191.74, 1177: 192.15, 1178: 194.55, 1179: 192.78, 1180: 191.66, 1181: 195.54, 1182: 197.79, 1183: 196.65, 1184: 200.79, 1185: 201.29, 1186: 201.53, 1187: 198.11, 1188: 203.46, 1189: 203.79, 1190: 199.31, 1191: 194.58, 1192: 193.56, 1193: 194.8, 1194: 198.22, 1195: 199.24, 1196: 198.39, 1197: 198.05, 1198: 196.55, 1199: 201.98, 1200: 202.58, 1201: 204.99, 1202: 208.41, 1203: 213.07, 1204: 213.99, 1205: 215.61, 1206: 219.92, 1207: 221.94, 1208: 219.17, 1209: 217.59, 1210: 216.08, 1211: 214.29, 1212: 212.21, 1213: 208.18, 1214: 207.79, 1215: 207.37, 1216: 206.82, 1217: 209.83, 1218: 203.47, 1219: 202.64, 1220: 204.44, 1221: 207.68, 1222: 212.45, 1223: 211.86, 1224: 210.58, 1225: 209.29, 1226: 204.04, 1227: 204.6, 1228: 198.12, 1229: 201.04, 1230: 204.99, 1231: 206.99, 1232: 211.94, 1233: 212.13, 1234: 218.87, 1235: 221.08, 1236: 214.91, 1237: 214.87, 1238: 213.74, 1239: 213.63, 1240: 218.45, 1241: 223.14, 1242: 222.18, 1243: 219.71, 1244: 217.9, 1245: 222.6, 1246: 221.3, 1247: 225.88, 1248: 226.64, 1249: 225.34, 1250: 224.95, 1251: 228.32, 1252: 228.08, 1253: 226.74, 1254: 229.06, 1255: 230.91, 1256: 229.77, 1257: 222.22, 1258: 222.42, 1259: 221.76, 1260: 229.97, 1261: 232.39, 1262: 234.13, 1263: 235.45, 1264: 233.77, 1265: 232.8, 1266: 232.14, 1267: 230.6, 1268: 227.65, 1269: 226.28, 1270: 228.53, 1271: 230.42, 1272: 229.08, 1273: 231.75, 1274: 235.23, 1275: 235.83, 1276: 237.32, 1277: 238.53, 1278: 243.9, 1279: 245.61, 1280: 245.48, 1281: 248.25, 1282: 249.28, 1283: 248.98, 1284: 248.14, 1285: 245.99, 1286: 249.02, 1287: 249.02, 1288: 247.68, 1289: 243.36, 1290: 242.05, 1291: 244.02, 1292: 249.12, 1293: 258.51, 1294: 256.83, 1295: 257.87, 1296: 261.76, 1297: 262.79, 1298: 267.39, 1299: 264.69, 1300: 274.65, 1301: 275.77, 1302: 275.58, 1303: 275.27, 1304: 276.77, 1305: 276.57, 1306: 276.83, 1307: 273.87, 1308: 269.88, 1309: 275.25, 1310: 267.79, 1311: 266.73, 1312: 268.38, 1313: 269.89, 1314: 274.05, 1315: 275.27, 1316: 280.97, 1317: 283.1, 1318: 284.99, 1319: 283.64, 1320: 285.74, 1321: 287.85, 1322: 288.46, 1323: 288.04, 1324: 286.21, 1325: 284.7, 1326: 290.88, 1327: 291.25, 1328: 292.58, 1329: 289.59, 1330: 291.21, 1331: 294.64, 1332: 293.46, 1333: 292.58, 1334: 292.21, 1335: 292.83, 1336: 293.23, 1337: 294.22, 1338: 295.45, 1339: 294.96, 1340: 297.57, 1341: 296.27, 1342: 298.58, 1343: 296.67, 1344: 297.91, 1345: 299.04, 1346: 300.26, 1347: 305.53, 1348: 308.93, 1349: 311.12, 1350: 309.39, 1351: 311.05, 1352: 309.68, 1353: 313.06, 1354: 311.68, 1355: 303.83, 1356: 296.75, 1357: 300.71, 1358: 300.25, 1359: 294.94, 1360: 293.25, 1361: 294.63, 1362: 289.71, 1363: 293.52, 1364: 289.91, 1365: 291.2, 1366: 274.73, 1367: 269.73, 1368: 270.94, 1369: 270.78, 1370: 266.88, 1371: 264.71, 1372: 266.24, 1373: 265.29, 1374: 270.14, 1375: 263.13, 1376: 265.38, 1377: 266.47, 1378: 267.95, 1379: 266.96, 1380: 267.93, 1381: 266.29, 1382: 270.38, 1383: 268.83, 1384: 271.34, 1385: 270.11, 1386: 271.13, 1387: 267.27, 1388: 265.47, 1389: 262.95, 1390: 263.14, 1391: 266.08, 1392: 270.26, 1393: 272.39, 1394: 277.02, 1395: 281.82, 1396: 280.96, 1397: 279.81, 1398: 287.94, 1399: 290.28, 1400: 289.48, 1401: 281.31, 1402: 282.32, 1403: 282.5, 1404: 282.92, 1405: 279.72, 1406: 278.47, 1407: 274.23, 1408: 278.39, 1409: 281.16, 1410: 281.06, 1411: 280.94, 1412: 283.07, 1413: 283.28, 1414: 285.22, 1415: 283.83, 1416: 281.49, 1417: 283.46, 1418: 282.83, 1419: 286.08, 1420: 293.09, 1421: 294.21, 1422: 297.35, 1423: 274.8, 1424: 274.77, 1425: 277.24, 1426: 276.87, 1427: 273.26, 1428: 272.22, 1429: 265.55, 1430: 264.26, 1431: 264.33, 1432: 265.73, 1433: 262.58, 1434: 265.03, 1435: 252.93, 1436: 254.63, 1437: 249.09, 1438: 246.32, 1439: 260.56, 1440: 254.27, 1441: 252.44, 1442: 255.18, 1443: 253.51, 1444: 253.73, 1445: 248.94, 1446: 246.97, 1447: 237.27, 1448: 235.79, 1449: 238.34, 1450: 238.3, 1451: 237.5, 1452: 244.98, 1453: 242.57, 1454: 240.94, 1455: 246.44, 1456: 252.55, 1457: 249.11, 1458: 242.52, 1459: 242.15, 1460: 236.77, 1461: 243.26, 1462: 244.01, 1463: 241.35, 1464: 248.75, 1465: 250.38, 1466: 249.79, 1467: 249.76, 1468: 244.04, 1469: 242.88, 1470: 240.78, 1471: 237.31, 1472: 236.1, 1473: 235.8, 1474: 226.9, 1475: 222.25, 1476: 219.53, 1477: 218.06, 1478: 217.82, 1479: 224.87, 1480: 228.05, 1481: 233.51, 1482: 237.68, 1483: 244.36, 1484: 245.42, 1485: 246.76, 1486: 229.57, 1487: 232.86, 1488: 240.55, 1489: 238.51, 1490: 242.16, 1491: 244.78, 1492: 244.24, 1493: 246.07, 1494: 241.93, 1495: 242.25, 1496: 242.18, 1497: 244.96, 1498: 244.67, 1499: 252.91, 1500: 253.8, 1501: 249.86, 1502: 252.42, 1503: 251.6, 1504: 245.62, 1505: 245.76, 1506: 242.93, 1507: 242.55, 1508: 245.01, 1509: 240.83, 1510: 233.75, 1511: 230.78, 1512: 231.8, 1513: 225.47, 1514: 227.08, 1515: 225.26, 1516: 229.19, 1517: 226.12, 1518: 224.78, 1519: 229.94, 1520: 231.36, 1521: 234.91, 1522: 231.97, 1523: 235.05, 1524: 237.85, 1525: 237.83, 1526: 240.89, 1527: 239.97, 1528: 240.08, 1529: 240.29, 1530: 244.83, 1531: 253.89, 1532: 256.47, 1533: 257.74, 1534: 256.48, 1535: 263.38, 1536: 264.94, 1537: 263.32, 1538: 263.58, 1539: 262.63, 1540: 262.55, 1541: 260.91, 1542: 268.85, 1543: 266.91, 1544: 264.74, 1545: 267.91, 1546: 269.15, 1547: 270.42, 1548: 271.38, 1549: 270.19, 1550: 300.42, 1551: 308.55, 1552: 303.61, 1553: 303.69, 1554: 305.69, 1555: 305.96, 1556: 307.94, 1557: 308.99, 1558: 307.93, 1559: 308.98, 1560: 306.54, 1561: 307.19, 1562: 307.49, 1563: 309.78, 1564: 311.82, 1565: 312.23, 1566: 313.07, 1567: 312.1, 1568: 311.13, 1569: 308.29, 1570: 301.34, 1571: 297.44, 1572: 291.57, 1573: 291.48, 1574: 297.98, 1575: 295.12, 1576: 295.31, 1577: 291.21, 1578: 297.19, 1579: 294.7, 1580: 290.76, 1581: 277.58, 1582: 281.89, 1583: 285.62, 1584: 286.21, 1585: 288.89, 1586: 293.28, 1587: 294.97, 1588: 295.45, 1589: 295.81, 1590: 297.01, 1591: 297.16, 1592: 294.85, 1593: 295.56, 1594: 295.1, 1595: 297.23, 1596: 301.23, 1597: 302.44, 1598: 301.81, 1599: 300.89, 1600: 299.16, 1601: 300.2, 1602: 299.13, 1603: 296.69, 1604: 301.87, 1605: 300.76, 1606: 304.23, 1607: 306.44, 1608: 307.91, 1609: 306.8, 1610: 307.7, 1611: 308.13, 1612: 308.04, 1613: 311.78, 1614: 319.5, 1615: 315.56, 1616: 313.07, 1617: 305.61, 1618: 305.23, 1619: 309.65, 1620: 307.94, 1621: 308.09, 1622: 300.19, 1623: 299.88, 1624: 305.21, 1625: 305.69, 1626: 304.77, 1627: 305.18, 1628: 306.84, 1629: 308.88, 1630: 307.94, 1631: 307.91, 1632: 311.94, 1633: 313.76, 1634: 311.76, 1635: 311.8, 1636: 312.32, 1637: 314.72, 1638: 304.8, 1639: 305.35, 1640: 304.11, 1641: 304.71, 1642: 306.39, 1643: 300.08, 1644: 300.09, 1645: 304.48, 1646: 300.01, 1647: 295.53, 1648: 295.86, 1649: 295.59, 1650: 289.86, 1651: 288.07, 1652: 284.71, 1653: 284.5, 1654: 278.27, 1655: 280.4, 1656: 280.25, 1657: 287.96, 1658: 288.37, 1659: 290.79, 1660: 293.15, 1661: 289.58, 1662: 287.39, 1663: 290.57, 1664: 290.63, 1665: 293.09, 1666: 295.6, 1667: 293.55, 1668: 284.26, 1669: 286.8, 1670: 289.71, 1671: 288.79, 1672: 288.4, 1673: 285.02, 1674: 287.85, 1675: 288.97, 1676: 265.08, 1677: 263.16, 1678: 260.5, 1679: 262.6, 1680: 262.29, 1681: 262.26, 1682: 266.14, 1683: 268.61, 1684: 268.72, 1685: 271.78, 1686: 269.01, 1687: 266.68, 1688: 267.63, 1689: 266.87, 1690: 267.38, 1691: 268.57, 1692: 271.06, 1693: 267.46, 1694: 267.26, 1695: 264.51, 1696: 258.95, 1697: 264.96, 1698: 264.64, 1699: 265.36, 1700: 261.75, 1701: 258.94, 1702: 258.87, 1703: 259.58, 1704: 258.81, 1705: 260.19, 1706: 264.25, 1707: 262.54, 1708: 263.77, 1709: 261.28, 1710: 260.27, 1711: 259.26, 1712: 259.33, 1713: 258.11, 1714: 254.5, 1715: 252.11, 1716: 253.93, 1717: 251.22, 1718: 249.93, 1719: 242.27, 1720: 242.05, 1721: 246.25, 1722: 243.26, 1723: 239.87, 1724: 237.2, 1725: 241.2, 1726: 246.58, 1727: 248.54, 1728: 252.94, 1729: 260.25, 1730: 265.95, 1731: 267.41, 1732: 273.03, 1733: 265.73, 1734: 263.38, 1735: 266.74, 1736: 268.86, 1737: 264.21, 1738: 298.51, 1739: 297.17, 1740: 300.97, 1741: 297.38, 1742: 303.19, 1743: 308.81, 1744: 309.18, 1745: 310.95, 1746: 303.31, 1747: 305.16, 1748: 301.54, 1749: 303.08, 1750: 296.77, 1751: 300.28, 1752: 288.47, 1753: 289.23, 1754: 272.74, 1755: 286.42, 1756: 274.23, 1757: 280.78, 1758: 281.6, 1759: 278.34, 1760: 269.23, 1761: 266.31, 1762: 252.19, 1763: 245.21, 1764: 248.84, 1765: 259.15, 1766: 261.38, 1767: 259.76, 1768: 263.17, 1769: 269.27, 1770: 270.08, 1771: 270.21, 1772: 265.98, 1773: 262.16, 1774: 260.83, 1775: 266.75, 1776: 267.21, 1777: 262.16, 1778: 264.79, 1779: 264.5, 1780: 265.77, 1781: 271.01, 1782: 273.07, 1783: 273.06, 1784: 273.04, 1785: 269.33, 1786: 260.07, 1787: 262.49, 1788: 265.68, 1789: 269.4, 1790: 264.16, 1791: 263.49, 1792: 257.26, 1793: 247.51, 1794: 250.7, 1795: 252.1, 1796: 257.1, 1797: 257.3, 1798: 268.32, 1799: 271.32, 1800: 273.98, 1801: 279.22, 1802: 295.54, 1803: 290.91, 1804: 294.96, 1805: 290.06, 1806: 291.54, 1807: 294.95, 1808: 297.91, 1809: 291.29, 1810: 292.86, 1811: 299.04, 1812: 299.77, 1813: 296.02, 1814: 289.04, 1815: 292.12, 1816: 298.45, 1817: 297.77, 1818: 303.86, 1819: 305.86, 1820: 300.17, 1821: 297.24, 1822: 303.87, 1823: 306.19, 1824: 307.97, 1825: 305.43, 1826: 300.13, 1827: 297.14, 1828: 290.18, 1829: 289.71, 1830: 284.77, 1831: 281.22, 1832: 293.8, 1833: 291.17, 1834: 299.4, 1835: 306.58, 1836: 309.87, 1837: 312.51, 1838: 311.57, 1839: 311.38, 1840: 307.72, 1841: 313.4, 1842: 312.38, 1843: 312.5, 1844: 308.73, 1845: 309.46, 1846: 312.67, 1847: 310.6, 1848: 314.87, 1849: 312.6, 1850: 314.54, 1851: 316.25, 1852: 319.8, 1853: 319.53, 1854: 320.88, 1855: 322.63, 1856: 332.37, 1857: 333.81, 1858: 329.18, 1859: 324.68, 1860: 310.92, 1861: 311.26, 1862: 312.67, 1863: 314.51, 1864: 312.18, 1865: 313.98, 1866: 316.14, 1867: 319.47, 1868: 292.7, 1869: 292.47, 1870: 290.17, 1871: 284.46, 1872: 283.77, 1873: 289.7, 1874: 288.56, 1875: 289.76, 1876: 290.12, 1877: 292.26, 1878: 297.87, 1879: 304.24, 1880: 303.08, 1881: 304.62, 1882: 305.42, 1883: 302.65, 1884: 305.79, 1885: 304.58, 1886: 302.48, 1887: 302.96, 1888: 302.02, 1889: 306.69, 1890: 303.67, 1891: 302.75, 1892: 304.65, 1893: 304.35, 1894: 308.89, 1895: 308.82, 1896: 310.89, 1897: 310.31, 1898: 306.82, 1899: 302.18, 1900: 303.1, 1901: 303.27, 1902: 299.82, 1903: 302.27, 1904: 308.58, 1905: 307.69, 1906: 310.25, 1907: 312.21, 1908: 316.67, 1909: 316.43, 1910: 319.67, 1911: 322.7, 1912: 320.97, 1913: 324.34, 1914: 323.19, 1915: 327.55, 1916: 323.88, 1917: 320.3, 1918: 323.14, 1919: 320.99, 1920: 317.26, 1921: 315.84, 1922: 315.1, 1923: 313.12, 1924: 317.66, 1925: 325.18, 1926: 311.99, 1927: 302.73, 1928: 304.48, 1929: 303.42, 1930: 299.35, 1931: 297.73, 1932: 298.5, 1933: 300.33, 1934: 304.56, 1935: 307.43, 1936: 307.18, 1937: 302.12, 1938: 301.91, 1939: 303.33, 1940: 305.2, 1941: 298.19, 1942: 303.47, 1943: 306.09, 1944: 304.27, 1945: 306.52, 1946: 302.31, 1947: 301.7, 1948: 305.25, 1949: 314.15, 1950: 311.21, 1951: 299.9, 1952: 306.75, 1953: 300.1, 1954: 304.43, 1955: 301.53, 1956: 295.47, 1957: 296.87, 1958: 293.82, 1959: 290.14, 1960: 285.2, 1961: 289.01, 1962: 284.92, 1963: 289.99, 1964: 288.83, 1965: 289.93, 1966: 283.97, 1967: 282.27, 1968: 280.26, 1969: 279.25, 1970: 281.97, 1971: 285.14, 1972: 290.47, 1973: 288.47, 1974: 282.32, 1975: 285.45, 1976: 280.07, 1977: 282.06, 1978: 284.36, 1979: 281.87, 1980: 289.74, 1981: 289.94, 1982: 293.62, 1983: 297.66, 1984: 292.7, 1985: 292.71, 1986: 290.56, 1987: 285.31, 1988: 284.95, 1989: 287.97, 1990: 287.17, 1991: 288.08, 1992: 290.09, 1993: 296.23, 1994: 305.1, 1995: 307.45, 1996: 303.48, 1997: 303.69, 1998: 306.37, 1999: 317.16, 2000: 315.83, 2001: 316.17, 2002: 316.02, 2003: 314.06, 2004: 320.34, 2005: 321.09, 2006: 319.95, 2007: 320.79, 2008: 320.85, 2009: 320.68, 2010: 329.67, 2011: 334.0, 2012: 333.44, 2013: 336.1, 2014: 338.23, 2015: 337.43, 2016: 334.42, 2017: 338.25, 2018: 338.06, 2019: 338.98, 2020: 334.28, 2021: 338.29, 2022: 343.66, 2023: 340.5, 2024: 342.2, 2025: 340.18, 2026: 340.02, 2027: 349.35, 2028: 352.72, 2029: 350.03, 2030: 345.75, 2031: 345.1, 2032: 352.67, 2033: 354.49, 2034: 354.64, 2035: 358.78, 2036: 363.39, 2037: 363.69, 2038: 366.63, 2039: 374.32, 2040: 374.21, 2041: 376.35, 2042: 377.87, 2043: 376.87, 2044: 380.51, 2045: 378.12, 2046: 380.87, 2047: 383.64, 2048: 383.44, 2049: 378.54, 2050: 371.67, 2051: 371.91, 2052: 375.36, 2053: 372.0, 2054: 370.12, 2055: 371.98, 2056: 377.37, 2057: 347.15, 2058: 340.55, 2059: 339.0, 2060: 339.83, 2061: 338.31, 2062: 338.54, 2063: 337.24, 2064: 339.81, 2065: 343.45, 2066: 343.62, 2067: 341.14, 2068: 340.52, 2069: 333.23, 2070: 325.82, 2071: 331.18, 2072: 332.62, 2073: 329.2, 2074: 325.95, 2075: 323.31, 2076: 323.27, 2077: 333.77, 2078: 334.65, 2079: 332.6, 2080: 333.65, 2081: 330.24, 2082: 335.02, 2083: 341.49, 2084: 345.6, 2085: 348.84, 2086: 347.28, 2087: 345.17, 2088: 343.57, 2089: 345.22, 2090: 341.76, 2091: 342.37, 2092: 348.09, 2093: 348.43, 2094: 351.0, 2095: 350.63, 2096: 360.03, 2097: 360.17, 2098: 359.69, 2099: 360.82, 2100: 357.46, 2101: 354.4, 2102: 354.08, 2103: 352.79, 2104: 349.65, 2105: 353.34, 2106: 361.26, 2107: 361.47, 2108: 368.62, 2109: 367.01, 2110: 366.28, 2111: 368.69, 2112: 370.37, 2113: 369.62, 2114: 361.26, 2115: 362.1, 2116: 357.24, 2117: 355.3, 2118: 351.9, 2119: 351.08, 2120: 370.38, 2121: 376.54, 2122: 376.46, 2123: 374.99, 2124: 376.46, 2125: 376.54, 2126: 377.47, 2127: 387.4, 2128: 379.13, 2129: 382.49, 2130: 384.7, 2131: 386.59, 2132: 392.29, 2133: 390.82, 2134: 389.96, 2135: 391.04, 2136: 393.52, 2137: 396.05, 2138: 403.02, 2139: 395.83, 2140: 397.37, 2141: 399.46, 2142: 394.99, 2143: 394.67, 2144: 399.49, 2145: 400.2, 2146: 402.69, 2147: 410.34, 2148: 418.88, 2149: 415.27, 2150: 415.88, 2151: 415.34, 2152: 416.99, 2153: 413.39, 2154: 412.24, 2155: 410.36, 2156: 406.74, 2157: 403.49, 2158: 405.25, 2159: 406.95, 2160: 405.22, 2161: 404.75, 2162: 404.42, 2163: 405.8, 2164: 400.93, 2165: 396.7, 2166: 400.19, 2167: 406.11, 2168: 402.7, 2169: 397.14, 2170: 391.13, 2171: 387.04, 2172: 388.44, 2173: 394.69, 2174: 394.8, 2175: 394.63, 2176: 390.57, 2177: 396.29, 2178: 390.89, 2179: 382.57, 2180: 399.54, 2181: 399.66, 2182: 403.55, 2183: 406.32, 2184: 404.15, 2185: 400.31, 2186: 409.12, 2187: 411.87, 2188: 409.8, 2189: 414.39, 2190: 422.44, 2191: 430.34, 2192: 428.19, 2193: 436.38, 2194: 435.3, 2195: 439.67, 2196: 438.33, 2197: 443.11, 2198: 457.49, 2199: 451.48, 2200: 454.14, 2201: 453.81, 2202: 453.03, 2203: 444.27, 2204: 440.95, 2205: 436.22, 2206: 440.19, 2207: 433.72, 2208: 434.94, 2209: 435.17, 2210: 433.38, 2211: 429.12, 2212: 429.42, 2213: 431.89, 2214: 439.43, 2215: 444.66, 2216: 439.47, 2217: 435.55, 2218: 438.06, 2219: 437.08, 2220: 442.68, 2221: 449.86, 2222: 449.89, 2223: 441.93, 2224: 440.02, 2225: 434.46, 2226: 432.67, 2227: 436.39, 2228: 438.1, 2229: 439.74, 2230: 443.5, 2231: 440.71, 2232: 442.77, 2233: 446.3, 2234: 452.09, 2235: 452.17, 2236: 452.54, 2237: 459.66, 2238: 461.04, 2239: 461.88, 2240: 459.34, 2241: 458.82, 2242: 454.88, 2243: 447.85, 2244: 454.89, 2245: 451.45, 2246: 451.0, 2247: 443.41, 2248: 442.23, 2249: 440.69, 2250: 445.01, 2251: 443.43, 2252: 451.66, 2253: 452.83, 2254: 452.05, 2255: 447.84, 2256: 444.88, 2257: 445.88, 2258: 444.76, 2259: 442.31, 2260: 440.18, 2261: 434.47, 2262: 429.4, 2263: 428.03, 2264: 432.39, 2265: 432.28, 2266: 434.23, 2267: 436.42, 2268: 434.67, 2269: 432.76, 2270: 424.65, 2271: 423.85, 2272: 427.29, 2273: 423.03, 2274: 429.76, 2275: 435.38, 2276: 439.34, 2277: 439.35, 2278: 443.58, 2279: 443.89, 2280: 447.65, 2281: 446.08, 2282: 444.09, 2283: 443.44, 2284: 442.61, 2285: 451.21, 2286: 448.75, 2287: 451.1, 2288: 442.81, 2289: 442.98, 2290: 438.18, 2291: 438.65, 2292: 437.76, 2293: 437.52, 2294: 443.06, 2295: 443.55, 2296: 437.61, 2297: 435.74, 2298: 432.44, 2299: 426.41, 2300: 427.5, 2301: 433.69, 2302: 435.56, 2303: 437.62, 2304: 440.56, 2305: 448.56, 2306: 443.95, 2307: 505.2, 2308: 501.15, 2309: 503.0, 2310: 515.19, 2311: 512.26, 2312: 507.09, 2313: 506.99, 2314: 517.6, 2315: 514.69, 2316: 514.77, 2317: 513.01, 2318: 512.54, 2319: 510.25, 2320: 510.86, 2321: 503.47, 2322: 507.51, 2323: 504.79, 2324: 505.38, 2325: 515.72, 2326: 517.1, 2327: 516.26, 2328: 515.26, 2329: 512.09, 2330: 510.64, 2331: 516.52, 2332: 515.43, 2333: 522.44, 2334: 528.68, 2335: 531.02, 2336: 529.27, 2337: 526.71, 2338: 526.1, 2339: 528.56, 2340: 528.14, 2341: 534.4, 2342: 538.53, 2343: 541.79, 2344: 538.11, 2345: 534.45, 2346: 529.86, 2347: 535.95, 2348: 534.4, 2349: 541.83, 2350: 542.57, 2351: 549.76, 2352: 556.99, 2353: 555.36, 2354: 558.17, 2355: 558.64, 2356: 554.18, 2357: 559.79, 2358: 556.0, 2359: 551.95, 2360: 558.1, 2361: 568.86, 2362: 570.04, 2363: 564.55, 2364: 564.52, 2365: 560.93, 2366: 574.13, 2367: 573.74, 2368: 577.53, 2369: 574.69, 2370: 581.27, 2371: 581.93, 2372: 579.47, 2373: 561.35, 2374: 550.06, 2375: 560.94, 2376: 552.91, 2377: 567.13, 2378: 589.89, 2379: 566.15, 2380: 568.51, 2381: 571.03, 2382: 579.4, 2383: 588.13, 2384: 585.88, 2385: 594.49, 2386: 592.75, 2387: 599.35, 2388: 600.8, 2389: 604.83, 2390: 600.57, 2391: 601.45, 2392: 601.29, 2393: 605.65, 2394: 609.39, 2395: 609.47, 2396: 609.0, 2397: 607.22, 2398: 600.74, 2399: 606.85, 2400: 608.52, 2401: 609.2, 2402: 606.79, 2403: 605.18, 2404: 599.4, 2405: 603.05, 2406: 593.94, 2407: 585.81, 2408: 595.45, 2409: 605.02, 2410: 599.03, 2411: 597.98, 2412: 590.93, 2413: 578.39, 2414: 578.78, 2415: 565.42, 2416: 556.58, 2417: 559.51, 2418: 556.7, 2419: 566.88, 2420: 566.98, 2421: 569.74, 2422: 543.14, 2423: 538.15, 2424: 554.9, 2425: 564.14, 2426: 540.95, 2427: 530.6, 2428: 532.52, 2429: 536.44, 2430: 556.54, 2431: 536.1, 2432: 528.62, 2433: 534.81, 2434: 526.94, 2435: 525.16, 2436: 516.18, 2437: 517.15, 2438: 527.7, 2439: 526.66, 2440: 531.35, 2441: 527.93, 2442: 527.81, 2443: 515.14, 2444: 509.96, 2445: 511.0, 2446: 518.73, 2447: 529.92, 2448: 533.09, 2449: 526.65, 2450: 519.98, 2451: 520.63, 2452: 528.86, 2453: 529.77, 2454: 538.94, 2455: 545.06, 2456: 552.7, 2457: 565.95, 2458: 561.68, 2459: 560.08, 2460: 559.89, 2461: 553.93, 2462: 544.94, 2463: 544.66, 2464: 553.9, 2465: 556.33, 2466: 562.12, 2467: 560.55, 2468: 558.84, 2469: 551.35, 2470: 551.76, 2471: 544.28, 2472: 543.01, 2473: 553.37, 2474: 554.9, 2475: 556.36, 2476: 564.95, 2477: 564.62, 2478: 578.65, 2479: 576.0, 2480: 577.24, 2481: 575.28, 2482: 582.67, 2483: 582.34, 2484: 584.73, 2485: 582.25, 2486: 571.09, 2487: 576.08, 2488: 571.1, 2489: 579.18, 2490: 584.87, 2491: 584.78, 2492: 582.66, 2493: 573.73, 2494: 595.08, 2495: 589.47, 2496: 594.74, 2497: 595.98, 2498: 593.35, 2499: 589.02, 2500: 590.6, 2501: 585.61, 2502: 587.42, 2503: 571.6, 2504: 566.07, 2505: 573.15, 2506: 565.07, 2507: 566.37, 2508: 563.36, 2509: 568.77, 2510: 567.88, 2511: 562.73, 2512: 574.78, 2513: 574.65, 2514: 573.48, 2515: 582.16, 2516: 586.86, 2517: 584.49, 2518: 583.37, 2519: 582.56, 2520: 580.2, 2521: 577.86, 2522: 571.0, 2523: 569.2, 2524: 571.6, 2525: 577.33, 2526: 577.94, 2527: 581.98, 2528: 586.08, 2529: 589.72, 2530: 581.01, 2531: 583.1, 2532: 581.35, 2533: 575.62, 2534: 573.1, 2535: 579.95, 2536: 584.77, 2537: 589.27, 2538: 596.08, 2539: 587.37, 2540: 581.13, 2541: 587.99, 2542: 575.06, 2543: 577.1, 2544: 576.36, 2545: 577.36, 2546: 568.27, 2547: 570.08, 2548: 575.28, 2549: 577.35, 2550: 563.74, 2551: 572.5, 2552: 560.88, 2553: 544.49, 2554: 533.21, 2555: 537.94, 2556: 530.03, 2557: 524.51, 2558: 511.17, 2559: 520.84, 2560: 526.54, 2561: 532.71, 2562: 543.98, 2563: 539.78, 2564: 540.77, 2565: 548.9, 2566: 549.33, 2567: 550.31, 2568: 559.08, 2569: 555.22, 2570: 554.11, 2571: 545.92, 2572: 542.04, 2573: 541.01, 2574: 547.49, 2575: 550.29, 2576: 547.31, 2577: 545.38, 2578: 544.4, 2579: 536.51, 2580: 535.03, 2581: 536.99, 2582: 534.83, 2583: 537.5, 2584: 539.27, 2585: 541.08, 2586: 540.37, 2587: 541.83, 2588: 533.8, 2589: 533.75, 2590: 531.32, 2591: 537.31, 2592: 525.26, 2593: 526.98, 2594: 533.37, 2595: 526.06, 2596: 528.34, 2597: 518.66, 2598: 513.8, 2599: 495.39, 2600: 504.89, 2601: 511.1, 2602: 516.35, 2603: 524.87, 2604: 530.59, 2605: 528.77, 2606: 534.03, 2607: 530.33, 2608: 530.42, 2609: 526.4, 2610: 524.81, 2611: 513.87, 2612: 501.96, 2613: 501.1, 2614: 502.68, 2615: 496.17, 2616: 492.55, 2617: 496.18, 2618: 500.87, 2619: 501.79, 2620: 508.08, 2621: 506.9, 2622: 518.04, 2623: 534.39, 2624: 539.95, 2625: 535.21, 2626: 518.63, 2627: 510.0, 2628: 510.66, 2629: 534.52, 2630: 528.48, 2631: 529.24, 2632: 522.76, 2633: 527.58, 2634: 531.0, 2635: 527.83, 2636: 536.94, 2637: 535.97, 2638: 542.93, 2639: 549.01, 2640: 542.84, 2641: 539.7, 2642: 542.87, 2643: 538.95, 2644: 531.91, 2645: 536.09, 2646: 543.87, 2647: 555.48, 2648: 558.4, 2649: 571.34, 2650: 573.64, 2651: 573.37, 2652: 575.33, 2653: 567.68, 2654: 568.85, 2655: 555.01, 2656: 551.18, 2657: 555.51, 2658: 547.32, 2659: 554.51, 2660: 550.84, 2661: 559.5, 2662: 557.99, 2663: 560.36, 2664: 558.81, 2665: 570.19, 2666: 558.78, 2667: 555.17, 2668: 548.34, 2669: 552.03, 2670: 548.0, 2671: 542.56, 2672: 535.53, 2673: 536.76, 2674: 537.02, 2675: 541.61, 2676: 540.78, 2677: 540.01, 2678: 539.17, 2679: 530.39, 2680: 532.53, 2681: 533.8, 2682: 524.05, 2683: 535.38, 2684: 533.97, 2685: 539.36, 2686: 547.0, 2687: 565.06, 2688: 555.37, 2689: 553.68, 2690: 549.08, 2691: 537.34, 2692: 537.9, 2693: 540.78, 2694: 530.8, 2695: 524.22, 2696: 530.7, 2697: 538.22, 2698: 535.7, 2699: 529.04, 2700: 529.62, 2701: 538.4, 2702: 533.85, 2703: 532.3, 2704: 537.36, 2705: 539.27, 2706: 542.51, 2707: 540.11, 2708: 532.32, 2709: 539.79, 2710: 539.78, 2711: 532.11, 2712: 533.99, 2713: 539.18, 2714: 540.31, 2715: 536.7, 2716: 533.33, 2717: 526.83, 2718: 526.69, 2719: 536.69, 2720: 534.61, 2721: 532.33, 2722: 527.2, 2723: 528.15, 2724: 529.26, 2725: 536.73, 2726: 536.69, 2727: 538.19, 2728: 540.48, 2729: 537.84, 2730: 535.23, 2731: 531.69, 2732: 521.52, 2733: 520.51, 2734: 521.84, 2735: 523.4, 2736: 522.86, 2737: 525.02, 2738: 516.83, 2739: 520.68, 2740: 530.13, 2741: 546.55, 2742: 561.1, 2743: 560.22, 2744: 579.85, 2745: 672.93, 2746: 663.02, 2747: 662.3, 2748: 662.1, 2749: 644.28, 2750: 623.56, 2751: 627.26, 2752: 628.0, 2753: 631.93, 2754: 632.59, 2755: 625.61, 2756: 631.21, 2757: 629.25, 2758: 643.78, 2759: 642.68, 2760: 635.3, 2761: 633.73, 2762: 660.78, 2763: 659.56, 2764: 656.45, 2765: 657.12, 2766: 660.87, 2767: 656.13, 2768: 660.9, 2769: 646.83, 2770: 612.48, 2771: 589.61, 2772: 582.06, 2773: 628.62, 2774: 637.61, 2775: 630.38, 2776: 618.25, 2777: 597.79, 2778: 614.34, 2779: 606.25, 2780: 600.7, 2781: 614.66, 2782: 612.72, 2783: 621.35, 2784: 625.77, 2785: 623.24, 2786: 635.14, 2787: 635.98, 2788: 642.9, 2789: 629.25, 2790: 635.44, 2791: 622.69, 2792: 622.36, 2793: 625.8, 2794: 611.97, 2795: 594.89, 2796: 594.97, 2797: 608.42, 2798: 611.29, 2799: 626.91, 2800: 641.47, 2801: 645.44, 2802: 642.36, 2803: 639.16, 2804: 643.61, 2805: 646.67, 2806: 652.3, 2807: 651.16, 2808: 661.74, 2809: 662.2, 2810: 666.1, 2811: 650.28, 2812: 642.61, 2813: 651.79, 2814: 702.0, 2815: 712.78, 2816: 708.49, 2817: 712.95, 2818: 716.92, 2819: 710.81, 2820: 721.11, 2821: 722.16, 2822: 728.11, 2823: 731.25, 2824: 733.76, 2825: 724.89, 2826: 728.32, 2827: 735.4, 2828: 731.23, 2829: 717.0, 2830: 728.96, 2831: 725.3, 2832: 740.0, 2833: 738.41, 2834: 756.6, 2835: 755.98, 2836: 748.28, 2837: 748.15, 2838: 750.26, 2839: 742.6, 2840: 767.04, 2841: 762.38, 2842: 752.54, 2843: 766.81, 2844: 763.25, 2845: 762.37, 2846: 751.61, 2847: 749.46, 2848: 738.87, 2849: 747.77, 2850: 743.4, 2851: 758.09, 2852: 749.43, 2853: 739.31, 2854: 747.77, 2855: 750.0, 2856: 750.31, 2857: 748.4, 2858: 762.51, 2859: 776.6, 2860: 771.0, 2861: 758.88, 2862: 741.84, 2863: 742.58, 2864: 743.62, 2865: 726.39, 2866: 714.47, 2867: 716.03, 2868: 726.07, 2869: 700.56, 2870: 714.72, 2871: 694.45, 2872: 701.79, 2873: 698.45, 2874: 706.59, 2875: 725.25, 2876: 711.67, 2877: 713.04, 2878: 699.99, 2879: 730.96, 2880: 742.95, 2881: 752.0, 2882: 764.65, 2883: 726.95, 2884: 708.01, 2885: 683.57, 2886: 682.74, 2887: 678.11, 2888: 684.12, 2889: 683.11, 2890: 682.4, 2891: 691.0, 2892: 708.4, 2893: 697.35, 2894: 700.91, 2895: 706.46, 2896: 695.85, 2897: 699.56, 2898: 705.75, 2899: 705.07, 2900: 697.77, 2901: 718.81, 2902: 718.85, 2903: 712.42, 2904: 710.89, 2905: 695.16, 2906: 693.97, 2907: 705.24, 2908: 712.82, 2909: 726.82, 2910: 730.49, 2911: 728.33, 2912: 736.09, 2913: 737.78, 2914: 737.6, 2915: 742.09, 2916: 740.75, 2917: 738.06, 2918: 735.3, 2919: 733.53, 2920: 744.77, 2921: 750.53, 2922: 744.95, 2923: 749.91, 2924: 745.29, 2925: 737.8, 2926: 745.69, 2927: 740.28, 2928: 739.15, 2929: 736.1, 2930: 743.09, 2931: 751.72, 2932: 753.2, 2933: 759.0, 2934: 766.61, 2935: 753.93, 2936: 752.67, 2937: 759.14, 2938: 718.77, 2939: 723.15, 2940: 708.14, 2941: 705.84, 2942: 691.02, 2943: 693.01, 2944: 698.21, 2945: 692.36, 2946: 695.7, 2947: 701.43, 2948: 711.12, 2949: 712.9, 2950: 723.18, 2951: 715.29, 2952: 713.31, 2953: 710.83, 2954: 716.49, 2955: 706.23, 2956: 706.63, 2957: 700.32, 2958: 709.74, 2959: 704.24, 2960: 720.09, 2961: 725.27, 2962: 724.12, 2963: 732.66, 2964: 735.72, 2965: 734.15, 2966: 730.4, 2967: 722.34, 2968: 716.55, 2969: 716.65, 2970: 728.28, 2971: 728.58, 2972: 719.41, 2973: 718.36, 2974: 718.27, 2975: 718.92, 2976: 710.36, 2977: 691.72, 2978: 693.71, 2979: 695.94, 2980: 697.46, 2981: 701.87, 2982: 675.22, 2983: 668.26, 2984: 680.04, 2985: 684.11, 2986: 692.1, 2987: 699.21, 2988: 694.49, 2989: 697.77, 2990: 695.36, 2991: 705.63, 2992: 715.09, 2993: 720.64, 2994: 716.98, 2995: 720.95, 2996: 719.85, 2997: 733.78, 2998: 736.96, 2999: 741.19, 3000: 738.63, 3001: 742.74, 3002: 739.77, 3003: 738.42, 3004: 741.77, 3005: 745.91, 3006: 768.79, 3007: 772.88, 3008: 771.07, 3009: 773.18, 3010: 771.61, 3011: 782.22}\n"
          ],
          "name": "stdout"
        }
      ]
    },
    {
      "cell_type": "code",
      "metadata": {
        "id": "smeK5CgMCfn0",
        "colab_type": "code",
        "outputId": "c4ee5de0-06ee-4c81-e0a2-f22ca73a5574",
        "colab": {
          "base_uri": "https://localhost:8080/",
          "height": 51
        }
      },
      "source": [
        "print(max(pokemon))\n",
        "print(max(google))"
      ],
      "execution_count": 0,
      "outputs": [
        {
          "output_type": "stream",
          "text": [
            "Zygarde\n",
            "782.22\n"
          ],
          "name": "stdout"
        }
      ]
    },
    {
      "cell_type": "code",
      "metadata": {
        "id": "cvhfcdD-6G-Y",
        "colab_type": "code",
        "outputId": "bc00d1d6-c638-45b8-bd6b-ed7d705e44ba",
        "colab": {
          "base_uri": "https://localhost:8080/",
          "height": 51
        }
      },
      "source": [
        "print(min(pokemon))\n",
        "print(min(google))"
      ],
      "execution_count": 0,
      "outputs": [
        {
          "output_type": "stream",
          "text": [
            "Abomasnow\n",
            "49.95\n"
          ],
          "name": "stdout"
        }
      ]
    },
    {
      "cell_type": "markdown",
      "metadata": {
        "id": "C1DnVVsHCfn5",
        "colab_type": "text"
      },
      "source": [
        "***More Series `Attributes`***"
      ]
    },
    {
      "cell_type": "code",
      "metadata": {
        "id": "2MwxfJ5LCfn7",
        "colab_type": "code",
        "colab": {}
      },
      "source": [
        "pokemon = pd.read_csv(path + \"pokemon.csv\", usecols = [\"Pokemon\"], squeeze = True)\n",
        "google = pd.read_csv(path + \"google_stock_price.csv\", squeeze = True)"
      ],
      "execution_count": 0,
      "outputs": []
    },
    {
      "cell_type": "code",
      "metadata": {
        "collapsed": true,
        "id": "AG5mykY2CfoA",
        "colab_type": "code",
        "outputId": "7d6872aa-faa7-4bc4-f6c3-eb4129ac8656",
        "colab": {
          "base_uri": "https://localhost:8080/",
          "height": 1000
        }
      },
      "source": [
        "print(pokemon.values)\n",
        "print(google.values)"
      ],
      "execution_count": 0,
      "outputs": [
        {
          "output_type": "stream",
          "text": [
            "['Bulbasaur' 'Ivysaur' 'Venusaur' 'Charmander' 'Charmeleon' 'Charizard'\n",
            " 'Squirtle' 'Wartortle' 'Blastoise' 'Caterpie' 'Metapod' 'Butterfree'\n",
            " 'Weedle' 'Kakuna' 'Beedrill' 'Pidgey' 'Pidgeotto' 'Pidgeot' 'Rattata'\n",
            " 'Raticate' 'Spearow' 'Fearow' 'Ekans' 'Arbok' 'Pikachu' 'Raichu'\n",
            " 'Sandshrew' 'Sandslash' 'Nidoran' 'Nidorina' 'Nidoqueen' 'Nidoran♂'\n",
            " 'Nidorino' 'Nidoking' 'Clefairy' 'Clefable' 'Vulpix' 'Ninetales'\n",
            " 'Jigglypuff' 'Wigglytuff' 'Zubat' 'Golbat' 'Oddish' 'Gloom' 'Vileplume'\n",
            " 'Paras' 'Parasect' 'Venonat' 'Venomoth' 'Diglett' 'Dugtrio' 'Meowth'\n",
            " 'Persian' 'Psyduck' 'Golduck' 'Mankey' 'Primeape' 'Growlithe' 'Arcanine'\n",
            " 'Poliwag' 'Poliwhirl' 'Poliwrath' 'Abra' 'Kadabra' 'Alakazam' 'Machop'\n",
            " 'Machoke' 'Machamp' 'Bellsprout' 'Weepinbell' 'Victreebel' 'Tentacool'\n",
            " 'Tentacruel' 'Geodude' 'Graveler' 'Golem' 'Ponyta' 'Rapidash' 'Slowpoke'\n",
            " 'Slowbro' 'Magnemite' 'Magneton' \"Farfetch'd\" 'Doduo' 'Dodrio' 'Seel'\n",
            " 'Dewgong' 'Grimer' 'Muk' 'Shellder' 'Cloyster' 'Gastly' 'Haunter'\n",
            " 'Gengar' 'Onix' 'Drowzee' 'Hypno' 'Krabby' 'Kingler' 'Voltorb'\n",
            " 'Electrode' 'Exeggcute' 'Exeggutor' 'Cubone' 'Marowak' 'Hitmonlee'\n",
            " 'Hitmonchan' 'Lickitung' 'Koffing' 'Weezing' 'Rhyhorn' 'Rhydon' 'Chansey'\n",
            " 'Tangela' 'Kangaskhan' 'Horsea' 'Seadra' 'Goldeen' 'Seaking' 'Staryu'\n",
            " 'Starmie' 'Mr. Mime' 'Scyther' 'Jynx' 'Electabuzz' 'Magmar' 'Pinsir'\n",
            " 'Tauros' 'Magikarp' 'Gyarados' 'Lapras' 'Ditto' 'Eevee' 'Vaporeon'\n",
            " 'Jolteon' 'Flareon' 'Porygon' 'Omanyte' 'Omastar' 'Kabuto' 'Kabutops'\n",
            " 'Aerodactyl' 'Snorlax' 'Articuno' 'Zapdos' 'Moltres' 'Dratini'\n",
            " 'Dragonair' 'Dragonite' 'Mewtwo' 'Mew' 'Chikorita' 'Bayleef' 'Meganium'\n",
            " 'Cyndaquil' 'Quilava' 'Typhlosion' 'Totodile' 'Croconaw' 'Feraligatr'\n",
            " 'Sentret' 'Furret' 'Hoothoot' 'Noctowl' 'Ledyba' 'Ledian' 'Spinarak'\n",
            " 'Ariados' 'Crobat' 'Chinchou' 'Lanturn' 'Pichu' 'Cleffa' 'Igglybuff'\n",
            " 'Togepi' 'Togetic' 'Natu' 'Xatu' 'Mareep' 'Flaaffy' 'Ampharos'\n",
            " 'Bellossom' 'Marill' 'Azumarill' 'Sudowoodo' 'Politoed' 'Hoppip'\n",
            " 'Skiploom' 'Jumpluff' 'Aipom' 'Sunkern' 'Sunflora' 'Yanma' 'Wooper'\n",
            " 'Quagsire' 'Espeon' 'Umbreon' 'Murkrow' 'Slowking' 'Misdreavus' 'Unown'\n",
            " 'Wobbuffet' 'Girafarig' 'Pineco' 'Forretress' 'Dunsparce' 'Gligar'\n",
            " 'Steelix' 'Snubbull' 'Granbull' 'Qwilfish' 'Scizor' 'Shuckle' 'Heracross'\n",
            " 'Sneasel' 'Teddiursa' 'Ursaring' 'Slugma' 'Magcargo' 'Swinub' 'Piloswine'\n",
            " 'Corsola' 'Remoraid' 'Octillery' 'Delibird' 'Mantine' 'Skarmory'\n",
            " 'Houndour' 'Houndoom' 'Kingdra' 'Phanpy' 'Donphan' 'Porygon2' 'Stantler'\n",
            " 'Smeargle' 'Tyrogue' 'Hitmontop' 'Smoochum' 'Elekid' 'Magby' 'Miltank'\n",
            " 'Blissey' 'Raikou' 'Entei' 'Suicune' 'Larvitar' 'Pupitar' 'Tyranitar'\n",
            " 'Lugia' 'Ho-oh' 'Celebi' 'Treecko' 'Grovyle' 'Sceptile' 'Torchic'\n",
            " 'Combusken' 'Blaziken' 'Mudkip' 'Marshtomp' 'Swampert' 'Poochyena'\n",
            " 'Mightyena' 'Zigzagoon' 'Linoone' 'Wurmple' 'Silcoon' 'Beautifly'\n",
            " 'Cascoon' 'Dustox' 'Lotad' 'Lombre' 'Ludicolo' 'Seedot' 'Nuzleaf'\n",
            " 'Shiftry' 'Taillow' 'Swellow' 'Wingull' 'Pelipper' 'Ralts' 'Kirlia'\n",
            " 'Gardevoir' 'Surskit' 'Masquerain' 'Shroomish' 'Breloom' 'Slakoth'\n",
            " 'Vigoroth' 'Slaking' 'Nincada' 'Ninjask' 'Shedinja' 'Whismur' 'Loudred'\n",
            " 'Exploud' 'Makuhita' 'Hariyama' 'Azurill' 'Nosepass' 'Skitty' 'Delcatty'\n",
            " 'Sableye' 'Mawile' 'Aron' 'Lairon' 'Aggron' 'Meditite' 'Medicham'\n",
            " 'Electrike' 'Manectric' 'Plusle' 'Minun' 'Volbeat' 'Illumise' 'Roselia'\n",
            " 'Gulpin' 'Swalot' 'Carvanha' 'Sharpedo' 'Wailmer' 'Wailord' 'Numel'\n",
            " 'Camerupt' 'Torkoal' 'Spoink' 'Grumpig' 'Spinda' 'Trapinch' 'Vibrava'\n",
            " 'Flygon' 'Cacnea' 'Cacturne' 'Swablu' 'Altaria' 'Zangoose' 'Seviper'\n",
            " 'Lunatone' 'Solrock' 'Barboach' 'Whiscash' 'Corphish' 'Crawdaunt'\n",
            " 'Baltoy' 'Claydol' 'Lileep' 'Cradily' 'Anorith' 'Armaldo' 'Feebas'\n",
            " 'Milotic' 'Castform' 'Kecleon' 'Shuppet' 'Banette' 'Duskull' 'Dusclops'\n",
            " 'Tropius' 'Chimecho' 'Absol' 'Wynaut' 'Snorunt' 'Glalie' 'Spheal'\n",
            " 'Sealeo' 'Walrein' 'Clamperl' 'Huntail' 'Gorebyss' 'Relicanth' 'Luvdisc'\n",
            " 'Bagon' 'Shelgon' 'Salamence' 'Beldum' 'Metang' 'Metagross' 'Regirock'\n",
            " 'Regice' 'Registeel' 'Latias' 'Latios' 'Kyogre' 'Groudon' 'Rayquaza'\n",
            " 'Jirachi' 'Deoxys' 'Turtwig' 'Grotle' 'Torterra' 'Chimchar' 'Monferno'\n",
            " 'Infernape' 'Piplup' 'Prinplup' 'Empoleon' 'Starly' 'Staravia'\n",
            " 'Staraptor' 'Bidoof' 'Bibarel' 'Kricketot' 'Kricketune' 'Shinx' 'Luxio'\n",
            " 'Luxray' 'Budew' 'Roserade' 'Cranidos' 'Rampardos' 'Shieldon' 'Bastiodon'\n",
            " 'Burmy' 'Wormadam' 'Mothim' 'Combee' 'Vespiquen' 'Pachirisu' 'Buizel'\n",
            " 'Floatzel' 'Cherubi' 'Cherrim' 'Shellos' 'Gastrodon' 'Ambipom' 'Drifloon'\n",
            " 'Drifblim' 'Buneary' 'Lopunny' 'Mismagius' 'Honchkrow' 'Glameow'\n",
            " 'Purugly' 'Chingling' 'Stunky' 'Skuntank' 'Bronzor' 'Bronzong' 'Bonsly'\n",
            " 'Mime Jr.' 'Happiny' 'Chatot' 'Spiritomb' 'Gible' 'Gabite' 'Garchomp'\n",
            " 'Munchlax' 'Riolu' 'Lucario' 'Hippopotas' 'Hippowdon' 'Skorupi' 'Drapion'\n",
            " 'Croagunk' 'Toxicroak' 'Carnivine' 'Finneon' 'Lumineon' 'Mantyke'\n",
            " 'Snover' 'Abomasnow' 'Weavile' 'Magnezone' 'Lickilicky' 'Rhyperior'\n",
            " 'Tangrowth' 'Electivire' 'Magmortar' 'Togekiss' 'Yanmega' 'Leafeon'\n",
            " 'Glaceon' 'Gliscor' 'Mamoswine' 'Porygon-Z' 'Gallade' 'Probopass'\n",
            " 'Dusknoir' 'Froslass' 'Rotom' 'Uxie' 'Mesprit' 'Azelf' 'Dialga' 'Palkia'\n",
            " 'Heatran' 'Regigigas' 'Giratina' 'Cresselia' 'Phione' 'Manaphy' 'Darkrai'\n",
            " 'Shaymin' 'Arceus' 'Victini' 'Snivy' 'Servine' 'Serperior' 'Tepig'\n",
            " 'Pignite' 'Emboar' 'Oshawott' 'Dewott' 'Samurott' 'Patrat' 'Watchog'\n",
            " 'Lillipup' 'Herdier' 'Stoutland' 'Purrloin' 'Liepard' 'Pansage'\n",
            " 'Simisage' 'Pansear' 'Simisear' 'Panpour' 'Simipour' 'Munna' 'Musharna'\n",
            " 'Pidove' 'Tranquill' 'Unfezant' 'Blitzle' 'Zebstrika' 'Roggenrola'\n",
            " 'Boldore' 'Gigalith' 'Woobat' 'Swoobat' 'Drilbur' 'Excadrill' 'Audino'\n",
            " 'Timburr' 'Gurdurr' 'Conkeldurr' 'Tympole' 'Palpitoad' 'Seismitoad'\n",
            " 'Throh' 'Sawk' 'Sewaddle' 'Swadloon' 'Leavanny' 'Venipede' 'Whirlipede'\n",
            " 'Scolipede' 'Cottonee' 'Whimsicott' 'Petilil' 'Lilligant' 'Basculin'\n",
            " 'Sandile' 'Krokorok' 'Krookodile' 'Darumaka' 'Darmanitan' 'Maractus'\n",
            " 'Dwebble' 'Crustle' 'Scraggy' 'Scrafty' 'Sigilyph' 'Yamask' 'Cofagrigus'\n",
            " 'Tirtouga' 'Carracosta' 'Archen' 'Archeops' 'Trubbish' 'Garbodor' 'Zorua'\n",
            " 'Zoroark' 'Minccino' 'Cinccino' 'Gothita' 'Gothorita' 'Gothitelle'\n",
            " 'Solosis' 'Duosion' 'Reuniclus' 'Ducklett' 'Swanna' 'Vanillite'\n",
            " 'Vanillish' 'Vanilluxe' 'Deerling' 'Sawsbuck' 'Emolga' 'Karrablast'\n",
            " 'Escavalier' 'Foongus' 'Amoonguss' 'Frillish' 'Jellicent' 'Alomomola'\n",
            " 'Joltik' 'Galvantula' 'Ferroseed' 'Ferrothorn' 'Klink' 'Klang'\n",
            " 'Klinklang' 'Tynamo' 'Eelektrik' 'Eelektross' 'Elgyem' 'Beheeyem'\n",
            " 'Litwick' 'Lampent' 'Chandelure' 'Axew' 'Fraxure' 'Haxorus' 'Cubchoo'\n",
            " 'Beartic' 'Cryogonal' 'Shelmet' 'Accelgor' 'Stunfisk' 'Mienfoo'\n",
            " 'Mienshao' 'Druddigon' 'Golett' 'Golurk' 'Pawniard' 'Bisharp'\n",
            " 'Bouffalant' 'Rufflet' 'Braviary' 'Vullaby' 'Mandibuzz' 'Heatmor'\n",
            " 'Durant' 'Deino' 'Zweilous' 'Hydreigon' 'Larvesta' 'Volcarona' 'Cobalion'\n",
            " 'Terrakion' 'Virizion' 'Tornadus' 'Thundurus' 'Reshiram' 'Zekrom'\n",
            " 'Landorus' 'Kyurem' 'Keldeo' 'Meloetta' 'Genesect' 'Chespin' 'Quilladin'\n",
            " 'Chesnaught' 'Fennekin' 'Braixen' 'Delphox' 'Froakie' 'Frogadier'\n",
            " 'Greninja' 'Bunnelby' 'Diggersby' 'Fletchling' 'Fletchinder' 'Talonflame'\n",
            " 'Scatterbug' 'Spewpa' 'Vivillon' 'Litleo' 'Pyroar' 'Flabébé' 'Floette'\n",
            " 'Florges' 'Skiddo' 'Gogoat' 'Pancham' 'Pangoro' 'Furfrou' 'Espurr'\n",
            " 'Meowstic' 'Honedge' 'Doublade' 'Aegislash' 'Spritzee' 'Aromatisse'\n",
            " 'Swirlix' 'Slurpuff' 'Inkay' 'Malamar' 'Binacle' 'Barbaracle' 'Skrelp'\n",
            " 'Dragalge' 'Clauncher' 'Clawitzer' 'Helioptile' 'Heliolisk' 'Tyrunt'\n",
            " 'Tyrantrum' 'Amaura' 'Aurorus' 'Sylveon' 'Hawlucha' 'Dedenne' 'Carbink'\n",
            " 'Goomy' 'Sliggoo' 'Goodra' 'Klefki' 'Phantump' 'Trevenant' 'Pumpkaboo'\n",
            " 'Gourgeist' 'Bergmite' 'Avalugg' 'Noibat' 'Noivern' 'Xerneas' 'Yveltal'\n",
            " 'Zygarde' 'Diancie' 'Hoopa' 'Volcanion']\n",
            "[ 50.12  54.1   54.65 ... 773.18 771.61 782.22]\n"
          ],
          "name": "stdout"
        }
      ]
    },
    {
      "cell_type": "code",
      "metadata": {
        "id": "8qNkJwi3CfoI",
        "colab_type": "code",
        "outputId": "96a891b5-e84e-426b-9422-dedd100c935d",
        "colab": {
          "base_uri": "https://localhost:8080/",
          "height": 51
        }
      },
      "source": [
        "print(pokemon.index)\n",
        "print(google.index)"
      ],
      "execution_count": 0,
      "outputs": [
        {
          "output_type": "stream",
          "text": [
            "RangeIndex(start=0, stop=721, step=1)\n",
            "RangeIndex(start=0, stop=3012, step=1)\n"
          ],
          "name": "stdout"
        }
      ]
    },
    {
      "cell_type": "code",
      "metadata": {
        "id": "VHLclpvNCfoN",
        "colab_type": "code",
        "outputId": "31942da3-b6b5-47d0-830d-fb8bc066af55",
        "colab": {
          "base_uri": "https://localhost:8080/",
          "height": 51
        }
      },
      "source": [
        "print(pokemon.dtype)\n",
        "print(google.dtype)"
      ],
      "execution_count": 0,
      "outputs": [
        {
          "output_type": "stream",
          "text": [
            "object\n",
            "float64\n"
          ],
          "name": "stdout"
        }
      ]
    },
    {
      "cell_type": "code",
      "metadata": {
        "id": "vSX2bJRvCfoU",
        "colab_type": "code",
        "outputId": "1c3f72f2-ed7e-4140-d77d-bcec8a075df5",
        "colab": {
          "base_uri": "https://localhost:8080/",
          "height": 51
        }
      },
      "source": [
        "print(pokemon.is_unique)\n",
        "print(google.is_unique)"
      ],
      "execution_count": 0,
      "outputs": [
        {
          "output_type": "stream",
          "text": [
            "True\n",
            "False\n"
          ],
          "name": "stdout"
        }
      ]
    },
    {
      "cell_type": "code",
      "metadata": {
        "id": "KYQGWkhOCfoZ",
        "colab_type": "code",
        "outputId": "5f2c908e-35af-41e6-9aec-2bf76b29eab9",
        "colab": {
          "base_uri": "https://localhost:8080/",
          "height": 51
        }
      },
      "source": [
        "print(pokemon.ndim)\n",
        "print(google.ndim)"
      ],
      "execution_count": 0,
      "outputs": [
        {
          "output_type": "stream",
          "text": [
            "1\n",
            "1\n"
          ],
          "name": "stdout"
        }
      ]
    },
    {
      "cell_type": "code",
      "metadata": {
        "id": "hi3kdsrsCfof",
        "colab_type": "code",
        "outputId": "110f2072-1b61-4a99-ac35-e8c21b0c0cd2",
        "colab": {
          "base_uri": "https://localhost:8080/",
          "height": 51
        }
      },
      "source": [
        "print(pokemon.shape)\n",
        "print(google.shape)"
      ],
      "execution_count": 0,
      "outputs": [
        {
          "output_type": "stream",
          "text": [
            "(721,)\n",
            "(3012,)\n"
          ],
          "name": "stdout"
        }
      ]
    },
    {
      "cell_type": "code",
      "metadata": {
        "id": "ONa84iQNCfoo",
        "colab_type": "code",
        "outputId": "99833f97-7c48-4d70-ceb7-0c25941ba9ee",
        "colab": {
          "base_uri": "https://localhost:8080/",
          "height": 51
        }
      },
      "source": [
        "print(pokemon.size)\n",
        "print(google.size)"
      ],
      "execution_count": 0,
      "outputs": [
        {
          "output_type": "stream",
          "text": [
            "721\n",
            "3012\n"
          ],
          "name": "stdout"
        }
      ]
    },
    {
      "cell_type": "code",
      "metadata": {
        "id": "HnsyuLDLCfo9",
        "colab_type": "code",
        "colab": {}
      },
      "source": [
        "pokemon.name = \"Pocket Monsters\""
      ],
      "execution_count": 0,
      "outputs": []
    },
    {
      "cell_type": "code",
      "metadata": {
        "id": "OHzznfKDCfpC",
        "colab_type": "code",
        "outputId": "f9b2dc40-fa19-4ff1-8b4f-071f95ed0354",
        "colab": {
          "base_uri": "https://localhost:8080/",
          "height": 119
        }
      },
      "source": [
        "pokemon.head()"
      ],
      "execution_count": 0,
      "outputs": [
        {
          "output_type": "execute_result",
          "data": {
            "text/plain": [
              "0     Bulbasaur\n",
              "1       Ivysaur\n",
              "2      Venusaur\n",
              "3    Charmander\n",
              "4    Charmeleon\n",
              "Name: Pocket Monsters, dtype: object"
            ]
          },
          "metadata": {
            "tags": []
          },
          "execution_count": 48
        }
      ]
    },
    {
      "cell_type": "markdown",
      "metadata": {
        "id": "VXA_dVouCfpH",
        "colab_type": "text"
      },
      "source": [
        "***The `.sort_values()` Method***"
      ]
    },
    {
      "cell_type": "code",
      "metadata": {
        "id": "oYEo5YkCCfpJ",
        "colab_type": "code",
        "colab": {}
      },
      "source": [
        "pokemon = pd.read_csv(path + \"pokemon.csv\", usecols = [\"Pokemon\"], squeeze = True)\n",
        "google = pd.read_csv(path + \"google_stock_price.csv\", squeeze = True)"
      ],
      "execution_count": 0,
      "outputs": []
    },
    {
      "cell_type": "code",
      "metadata": {
        "id": "CE_nuPyPl6MA",
        "colab_type": "code",
        "outputId": "3a53dc08-c548-4751-b35f-e43e3ab5870c",
        "colab": {
          "base_uri": "https://localhost:8080/",
          "height": 119
        }
      },
      "source": [
        "pokemon.sort_values(ascending=True).head()"
      ],
      "execution_count": 0,
      "outputs": [
        {
          "output_type": "execute_result",
          "data": {
            "text/plain": [
              "459    Abomasnow\n",
              "62          Abra\n",
              "358        Absol\n",
              "616     Accelgor\n",
              "680    Aegislash\n",
              "Name: Pocket Monsters, dtype: object"
            ]
          },
          "metadata": {
            "tags": []
          },
          "execution_count": 55
        }
      ]
    },
    {
      "cell_type": "code",
      "metadata": {
        "id": "gRckUHbLCfpl",
        "colab_type": "code",
        "outputId": "a9264fba-f47e-462d-f83a-1bc4c31474f1",
        "colab": {
          "base_uri": "https://localhost:8080/",
          "height": 119
        }
      },
      "source": [
        "pokemon.sort_values(ascending=False).head()"
      ],
      "execution_count": 0,
      "outputs": [
        {
          "output_type": "execute_result",
          "data": {
            "text/plain": [
              "717     Zygarde\n",
              "633    Zweilous\n",
              "40        Zubat\n",
              "569       Zorua\n",
              "570     Zoroark\n",
              "Name: Pocket Monsters, dtype: object"
            ]
          },
          "metadata": {
            "tags": []
          },
          "execution_count": 53
        }
      ]
    },
    {
      "cell_type": "code",
      "metadata": {
        "id": "5_WxWaapCfpr",
        "colab_type": "code",
        "outputId": "ac176f80-8cb4-43f7-aaef-66f728ddab03",
        "colab": {
          "base_uri": "https://localhost:8080/",
          "height": 119
        }
      },
      "source": [
        "pokemon.sort_values(ascending = False).tail()"
      ],
      "execution_count": 0,
      "outputs": [
        {
          "output_type": "execute_result",
          "data": {
            "text/plain": [
              "680    Aegislash\n",
              "616     Accelgor\n",
              "358        Absol\n",
              "62          Abra\n",
              "459    Abomasnow\n",
              "Name: Pocket Monsters, dtype: object"
            ]
          },
          "metadata": {
            "tags": []
          },
          "execution_count": 54
        }
      ]
    },
    {
      "cell_type": "code",
      "metadata": {
        "id": "2YU7cSu4Cfpw",
        "colab_type": "code",
        "outputId": "1c3c18b9-1fff-4141-b7e3-dca398f935cf",
        "colab": {
          "base_uri": "https://localhost:8080/",
          "height": 119
        }
      },
      "source": [
        "google.sort_values(ascending = False).head()"
      ],
      "execution_count": 0,
      "outputs": [
        {
          "output_type": "execute_result",
          "data": {
            "text/plain": [
              "3011    782.22\n",
              "2859    776.60\n",
              "3009    773.18\n",
              "3007    772.88\n",
              "3010    771.61\n",
              "Name: Stock Price, dtype: float64"
            ]
          },
          "metadata": {
            "tags": []
          },
          "execution_count": 51
        }
      ]
    },
    {
      "cell_type": "markdown",
      "metadata": {
        "id": "7O9TzGHkCfp1",
        "colab_type": "text"
      },
      "source": [
        "***The `inplace` Parameter***"
      ]
    },
    {
      "cell_type": "code",
      "metadata": {
        "id": "wVfBiFKbCfp3",
        "colab_type": "code",
        "colab": {}
      },
      "source": [
        "pokemon = pd.read_csv(path + \"pokemon.csv\", usecols = [\"Pokemon\"], squeeze = True)\n",
        "google = pd.read_csv(path + \"google_stock_price.csv\", squeeze = True)"
      ],
      "execution_count": 0,
      "outputs": []
    },
    {
      "cell_type": "code",
      "metadata": {
        "id": "VhmCFWV3Cfp8",
        "colab_type": "code",
        "outputId": "17b9f1c1-f600-4905-b3c2-cb3a28ef062c",
        "colab": {
          "base_uri": "https://localhost:8080/",
          "height": 119
        }
      },
      "source": [
        "google.head()"
      ],
      "execution_count": 0,
      "outputs": [
        {
          "output_type": "execute_result",
          "data": {
            "text/plain": [
              "0    50.12\n",
              "1    54.10\n",
              "2    54.65\n",
              "3    52.38\n",
              "4    52.95\n",
              "Name: Stock Price, dtype: float64"
            ]
          },
          "metadata": {
            "tags": []
          },
          "execution_count": 57
        }
      ]
    },
    {
      "cell_type": "code",
      "metadata": {
        "id": "1QhkvZerCfqB",
        "colab_type": "code",
        "colab": {}
      },
      "source": [
        "google = google.sort_values()"
      ],
      "execution_count": 0,
      "outputs": []
    },
    {
      "cell_type": "code",
      "metadata": {
        "id": "W0B4cyRsCfqH",
        "colab_type": "code",
        "outputId": "be82f64a-ee5a-4f81-fd19-3f8cda4f149c",
        "colab": {
          "base_uri": "https://localhost:8080/",
          "height": 119
        }
      },
      "source": [
        "google.head()"
      ],
      "execution_count": 0,
      "outputs": [
        {
          "output_type": "execute_result",
          "data": {
            "text/plain": [
              "11    49.95\n",
              "9     50.07\n",
              "0     50.12\n",
              "10    50.70\n",
              "12    50.74\n",
              "Name: Stock Price, dtype: float64"
            ]
          },
          "metadata": {
            "tags": []
          },
          "execution_count": 59
        }
      ]
    },
    {
      "cell_type": "code",
      "metadata": {
        "id": "l0pnayprCfqN",
        "colab_type": "code",
        "colab": {}
      },
      "source": [
        "google.sort_values(ascending = False, inplace = True)"
      ],
      "execution_count": 0,
      "outputs": []
    },
    {
      "cell_type": "code",
      "metadata": {
        "id": "m2Z6u2BTCfqR",
        "colab_type": "code",
        "outputId": "4f7f0c84-0be4-488c-a8bb-2392279d222d",
        "colab": {
          "base_uri": "https://localhost:8080/",
          "height": 119
        }
      },
      "source": [
        "google.head()"
      ],
      "execution_count": 0,
      "outputs": [
        {
          "output_type": "execute_result",
          "data": {
            "text/plain": [
              "3011    782.22\n",
              "2859    776.60\n",
              "3009    773.18\n",
              "3007    772.88\n",
              "3010    771.61\n",
              "Name: Stock Price, dtype: float64"
            ]
          },
          "metadata": {
            "tags": []
          },
          "execution_count": 61
        }
      ]
    },
    {
      "cell_type": "markdown",
      "metadata": {
        "id": "Qg219CpBCfqW",
        "colab_type": "text"
      },
      "source": [
        "***The `.sort_index()` Method***"
      ]
    },
    {
      "cell_type": "code",
      "metadata": {
        "id": "X8E-5ItVCfqX",
        "colab_type": "code",
        "colab": {}
      },
      "source": [
        "pokemon = pd.read_csv(path + \"pokemon.csv\", usecols = [\"Pokemon\"], squeeze = True)\n",
        "google = pd.read_csv(path + \"google_stock_price.csv\", squeeze = True)"
      ],
      "execution_count": 0,
      "outputs": []
    },
    {
      "cell_type": "code",
      "metadata": {
        "id": "-zw7vCGSCfqb",
        "colab_type": "code",
        "colab": {}
      },
      "source": [
        "pokemon.sort_values(ascending = False, inplace = True)"
      ],
      "execution_count": 0,
      "outputs": []
    },
    {
      "cell_type": "code",
      "metadata": {
        "id": "kvAyZG9bCfqf",
        "colab_type": "code",
        "outputId": "435f5787-3d14-437f-b4f2-bf38c411c61d",
        "colab": {
          "base_uri": "https://localhost:8080/",
          "height": 119
        }
      },
      "source": [
        "pokemon.head()"
      ],
      "execution_count": 0,
      "outputs": [
        {
          "output_type": "execute_result",
          "data": {
            "text/plain": [
              "717     Zygarde\n",
              "633    Zweilous\n",
              "40        Zubat\n",
              "569       Zorua\n",
              "570     Zoroark\n",
              "Name: Pokemon, dtype: object"
            ]
          },
          "metadata": {
            "tags": []
          },
          "execution_count": 64
        }
      ]
    },
    {
      "cell_type": "code",
      "metadata": {
        "id": "AuqKVTXnCfqr",
        "colab_type": "code",
        "colab": {}
      },
      "source": [
        "pokemon.sort_index(ascending = True, inplace = True)"
      ],
      "execution_count": 0,
      "outputs": []
    },
    {
      "cell_type": "code",
      "metadata": {
        "id": "qn-jXqthCfqx",
        "colab_type": "code",
        "outputId": "e5b2af4a-c3b6-4aa5-a82e-9a6133c2daf6",
        "colab": {
          "base_uri": "https://localhost:8080/",
          "height": 119
        }
      },
      "source": [
        "pokemon.head()"
      ],
      "execution_count": 0,
      "outputs": [
        {
          "output_type": "execute_result",
          "data": {
            "text/plain": [
              "0     Bulbasaur\n",
              "1       Ivysaur\n",
              "2      Venusaur\n",
              "3    Charmander\n",
              "4    Charmeleon\n",
              "Name: Pokemon, dtype: object"
            ]
          },
          "metadata": {
            "tags": []
          },
          "execution_count": 66
        }
      ]
    },
    {
      "cell_type": "markdown",
      "metadata": {
        "id": "svaJ-annCfq3",
        "colab_type": "text"
      },
      "source": [
        "***Python's `IN` Keyword***"
      ]
    },
    {
      "cell_type": "code",
      "metadata": {
        "id": "O5qOH7x_Cfq5",
        "colab_type": "code",
        "colab": {}
      },
      "source": [
        "pokemon = pd.read_csv(path + \"pokemon.csv\", usecols = [\"Pokemon\"], squeeze = True)\n",
        "google = pd.read_csv(path + \"google_stock_price.csv\", squeeze = True)"
      ],
      "execution_count": 0,
      "outputs": []
    },
    {
      "cell_type": "code",
      "metadata": {
        "id": "hiAWjr_1Cfq-",
        "colab_type": "code",
        "outputId": "184c926f-1be2-47da-b742-cffdf93e533c",
        "colab": {
          "base_uri": "https://localhost:8080/",
          "height": 34
        }
      },
      "source": [
        "100 in [1, 2, 3, 4, 5]"
      ],
      "execution_count": 0,
      "outputs": [
        {
          "output_type": "execute_result",
          "data": {
            "text/plain": [
              "False"
            ]
          },
          "metadata": {
            "tags": []
          },
          "execution_count": 68
        }
      ]
    },
    {
      "cell_type": "code",
      "metadata": {
        "id": "CM5kMFxvCfrC",
        "colab_type": "code",
        "outputId": "e7369ab1-6ab4-465f-d57e-a063fd99c05a",
        "colab": {
          "base_uri": "https://localhost:8080/",
          "height": 119
        }
      },
      "source": [
        "pokemon.head()"
      ],
      "execution_count": 0,
      "outputs": [
        {
          "output_type": "execute_result",
          "data": {
            "text/plain": [
              "0     Bulbasaur\n",
              "1       Ivysaur\n",
              "2      Venusaur\n",
              "3    Charmander\n",
              "4    Charmeleon\n",
              "Name: Pokemon, dtype: object"
            ]
          },
          "metadata": {
            "tags": []
          },
          "execution_count": 69
        }
      ]
    },
    {
      "cell_type": "code",
      "metadata": {
        "id": "oKR3XG1Gmx7d",
        "colab_type": "code",
        "outputId": "e767b4a1-1602-4dda-8b1c-65edce89db66",
        "colab": {
          "base_uri": "https://localhost:8080/",
          "height": 34
        }
      },
      "source": [
        "\"Bulbasaur\" in pokemon"
      ],
      "execution_count": 0,
      "outputs": [
        {
          "output_type": "execute_result",
          "data": {
            "text/plain": [
              "False"
            ]
          },
          "metadata": {
            "tags": []
          },
          "execution_count": 78
        }
      ]
    },
    {
      "cell_type": "code",
      "metadata": {
        "id": "q42oIvqECfrI",
        "colab_type": "code",
        "outputId": "8ee61ea1-18e7-477b-c4eb-a344ce5ed553",
        "colab": {
          "base_uri": "https://localhost:8080/",
          "height": 34
        }
      },
      "source": [
        "100 in pokemon"
      ],
      "execution_count": 0,
      "outputs": [
        {
          "output_type": "execute_result",
          "data": {
            "text/plain": [
              "True"
            ]
          },
          "metadata": {
            "tags": []
          },
          "execution_count": 74
        }
      ]
    },
    {
      "cell_type": "code",
      "metadata": {
        "id": "iwAn8VcwCfrN",
        "colab_type": "code",
        "outputId": "1903b52c-cfec-4ab9-c079-089c677be47d",
        "colab": {
          "base_uri": "https://localhost:8080/",
          "height": 34
        }
      },
      "source": [
        "100 in pokemon.index"
      ],
      "execution_count": 0,
      "outputs": [
        {
          "output_type": "execute_result",
          "data": {
            "text/plain": [
              "True"
            ]
          },
          "metadata": {
            "tags": []
          },
          "execution_count": 75
        }
      ]
    },
    {
      "cell_type": "code",
      "metadata": {
        "id": "q2j9yBHdCfrR",
        "colab_type": "code",
        "outputId": "da33f5a9-2bf0-4244-b52f-b96e20130659",
        "colab": {
          "base_uri": "https://localhost:8080/",
          "height": 34
        }
      },
      "source": [
        "pokemon.index"
      ],
      "execution_count": 0,
      "outputs": [
        {
          "output_type": "execute_result",
          "data": {
            "text/plain": [
              "RangeIndex(start=0, stop=721, step=1)"
            ]
          },
          "metadata": {
            "tags": []
          },
          "execution_count": 76
        }
      ]
    },
    {
      "cell_type": "code",
      "metadata": {
        "id": "_FMR_Z_Xm5qp",
        "colab_type": "code",
        "outputId": "9295a508-6ef0-41a0-b664-96c2855049ba",
        "colab": {
          "base_uri": "https://localhost:8080/",
          "height": 34
        }
      },
      "source": [
        "\"Bulbasaur\" in pokemon.values"
      ],
      "execution_count": 0,
      "outputs": [
        {
          "output_type": "execute_result",
          "data": {
            "text/plain": [
              "True"
            ]
          },
          "metadata": {
            "tags": []
          },
          "execution_count": 79
        }
      ]
    },
    {
      "cell_type": "code",
      "metadata": {
        "id": "5aWK9ArjCfrb",
        "colab_type": "code",
        "outputId": "f98f0dc4-2f6d-4017-ca36-a6dbb544f987",
        "colab": {
          "base_uri": "https://localhost:8080/",
          "height": 34
        }
      },
      "source": [
        "\"Digimon\" in pokemon.values"
      ],
      "execution_count": 0,
      "outputs": [
        {
          "output_type": "execute_result",
          "data": {
            "text/plain": [
              "False"
            ]
          },
          "metadata": {
            "tags": []
          },
          "execution_count": 80
        }
      ]
    },
    {
      "cell_type": "markdown",
      "metadata": {
        "id": "eJjUOLWkCfri",
        "colab_type": "text"
      },
      "source": [
        "***Extract Values by `Numeric Index Label`***"
      ]
    },
    {
      "cell_type": "code",
      "metadata": {
        "id": "tH7enw-ICfrj",
        "colab_type": "code",
        "colab": {}
      },
      "source": [
        "pokemon = pd.read_csv(path + \"pokemon.csv\", usecols = [\"Pokemon\"], squeeze = True)\n",
        "google = pd.read_csv(path + \"google_stock_price.csv\", squeeze = True)"
      ],
      "execution_count": 0,
      "outputs": []
    },
    {
      "cell_type": "code",
      "metadata": {
        "id": "KYWD77FpCfrp",
        "colab_type": "code",
        "outputId": "e4dbf29f-1b55-488a-bd79-cd24f3dbebe1",
        "colab": {
          "base_uri": "https://localhost:8080/",
          "height": 119
        }
      },
      "source": [
        "pokemon.head()"
      ],
      "execution_count": 0,
      "outputs": [
        {
          "output_type": "execute_result",
          "data": {
            "text/plain": [
              "0     Bulbasaur\n",
              "1       Ivysaur\n",
              "2      Venusaur\n",
              "3    Charmander\n",
              "4    Charmeleon\n",
              "Name: Pokemon, dtype: object"
            ]
          },
          "metadata": {
            "tags": []
          },
          "execution_count": 84
        }
      ]
    },
    {
      "cell_type": "code",
      "metadata": {
        "id": "fXBwEzq5Cfru",
        "colab_type": "code",
        "outputId": "960bddd9-06f0-44f6-9a59-a7fb5f51d0b5",
        "colab": {
          "base_uri": "https://localhost:8080/",
          "height": 34
        }
      },
      "source": [
        "pokemon[1]"
      ],
      "execution_count": 0,
      "outputs": [
        {
          "output_type": "execute_result",
          "data": {
            "text/plain": [
              "'Ivysaur'"
            ]
          },
          "metadata": {
            "tags": []
          },
          "execution_count": 85
        }
      ]
    },
    {
      "cell_type": "code",
      "metadata": {
        "id": "TGHAJhgACfrz",
        "colab_type": "code",
        "outputId": "ecb48c23-ede7-4d21-dcef-aeac105c4215",
        "colab": {
          "base_uri": "https://localhost:8080/",
          "height": 85
        }
      },
      "source": [
        "pokemon[[100, 200, 300]]"
      ],
      "execution_count": 0,
      "outputs": [
        {
          "output_type": "execute_result",
          "data": {
            "text/plain": [
              "100    Electrode\n",
              "200        Unown\n",
              "300     Delcatty\n",
              "Name: Pokemon, dtype: object"
            ]
          },
          "metadata": {
            "tags": []
          },
          "execution_count": 86
        }
      ]
    },
    {
      "cell_type": "code",
      "metadata": {
        "collapsed": true,
        "id": "ohNeSMoVCfr4",
        "colab_type": "code",
        "outputId": "c75fee23-5714-44cc-bb5e-22a34ce1ffbd",
        "colab": {
          "base_uri": "https://localhost:8080/",
          "height": 901
        }
      },
      "source": [
        "pokemon[50:101]"
      ],
      "execution_count": 0,
      "outputs": [
        {
          "output_type": "execute_result",
          "data": {
            "text/plain": [
              "50        Dugtrio\n",
              "51         Meowth\n",
              "52        Persian\n",
              "53        Psyduck\n",
              "54        Golduck\n",
              "55         Mankey\n",
              "56       Primeape\n",
              "57      Growlithe\n",
              "58       Arcanine\n",
              "59        Poliwag\n",
              "60      Poliwhirl\n",
              "61      Poliwrath\n",
              "62           Abra\n",
              "63        Kadabra\n",
              "64       Alakazam\n",
              "65         Machop\n",
              "66        Machoke\n",
              "67        Machamp\n",
              "68     Bellsprout\n",
              "69     Weepinbell\n",
              "70     Victreebel\n",
              "71      Tentacool\n",
              "72     Tentacruel\n",
              "73        Geodude\n",
              "74       Graveler\n",
              "75          Golem\n",
              "76         Ponyta\n",
              "77       Rapidash\n",
              "78       Slowpoke\n",
              "79        Slowbro\n",
              "80      Magnemite\n",
              "81       Magneton\n",
              "82     Farfetch'd\n",
              "83          Doduo\n",
              "84         Dodrio\n",
              "85           Seel\n",
              "86        Dewgong\n",
              "87         Grimer\n",
              "88            Muk\n",
              "89       Shellder\n",
              "90       Cloyster\n",
              "91         Gastly\n",
              "92        Haunter\n",
              "93         Gengar\n",
              "94           Onix\n",
              "95        Drowzee\n",
              "96          Hypno\n",
              "97         Krabby\n",
              "98        Kingler\n",
              "99        Voltorb\n",
              "100     Electrode\n",
              "Name: Pokemon, dtype: object"
            ]
          },
          "metadata": {
            "tags": []
          },
          "execution_count": 87
        }
      ]
    },
    {
      "cell_type": "code",
      "metadata": {
        "collapsed": true,
        "id": "OIC6yfDxCfr_",
        "colab_type": "code",
        "outputId": "d8883404-e351-4956-dda4-251139b17479",
        "colab": {
          "base_uri": "https://localhost:8080/",
          "height": 884
        }
      },
      "source": [
        "pokemon[:50]"
      ],
      "execution_count": 0,
      "outputs": [
        {
          "output_type": "execute_result",
          "data": {
            "text/plain": [
              "0      Bulbasaur\n",
              "1        Ivysaur\n",
              "2       Venusaur\n",
              "3     Charmander\n",
              "4     Charmeleon\n",
              "5      Charizard\n",
              "6       Squirtle\n",
              "7      Wartortle\n",
              "8      Blastoise\n",
              "9       Caterpie\n",
              "10       Metapod\n",
              "11    Butterfree\n",
              "12        Weedle\n",
              "13        Kakuna\n",
              "14      Beedrill\n",
              "15        Pidgey\n",
              "16     Pidgeotto\n",
              "17       Pidgeot\n",
              "18       Rattata\n",
              "19      Raticate\n",
              "20       Spearow\n",
              "21        Fearow\n",
              "22         Ekans\n",
              "23         Arbok\n",
              "24       Pikachu\n",
              "25        Raichu\n",
              "26     Sandshrew\n",
              "27     Sandslash\n",
              "28       Nidoran\n",
              "29      Nidorina\n",
              "30     Nidoqueen\n",
              "31      Nidoran♂\n",
              "32      Nidorino\n",
              "33      Nidoking\n",
              "34      Clefairy\n",
              "35      Clefable\n",
              "36        Vulpix\n",
              "37     Ninetales\n",
              "38    Jigglypuff\n",
              "39    Wigglytuff\n",
              "40         Zubat\n",
              "41        Golbat\n",
              "42        Oddish\n",
              "43         Gloom\n",
              "44     Vileplume\n",
              "45         Paras\n",
              "46      Parasect\n",
              "47       Venonat\n",
              "48      Venomoth\n",
              "49       Diglett\n",
              "Name: Pokemon, dtype: object"
            ]
          },
          "metadata": {
            "tags": []
          },
          "execution_count": 88
        }
      ]
    },
    {
      "cell_type": "code",
      "metadata": {
        "collapsed": true,
        "id": "sgDx8iSMCfsC",
        "colab_type": "code",
        "outputId": "7c1ef00b-26e4-444c-890c-9df99ebdc994",
        "colab": {
          "base_uri": "https://localhost:8080/",
          "height": 544
        }
      },
      "source": [
        "pokemon[-30:]"
      ],
      "execution_count": 0,
      "outputs": [
        {
          "output_type": "execute_result",
          "data": {
            "text/plain": [
              "691     Clauncher\n",
              "692     Clawitzer\n",
              "693    Helioptile\n",
              "694     Heliolisk\n",
              "695        Tyrunt\n",
              "696     Tyrantrum\n",
              "697        Amaura\n",
              "698       Aurorus\n",
              "699       Sylveon\n",
              "700      Hawlucha\n",
              "701       Dedenne\n",
              "702       Carbink\n",
              "703         Goomy\n",
              "704       Sliggoo\n",
              "705        Goodra\n",
              "706        Klefki\n",
              "707      Phantump\n",
              "708     Trevenant\n",
              "709     Pumpkaboo\n",
              "710     Gourgeist\n",
              "711      Bergmite\n",
              "712       Avalugg\n",
              "713        Noibat\n",
              "714       Noivern\n",
              "715       Xerneas\n",
              "716       Yveltal\n",
              "717       Zygarde\n",
              "718       Diancie\n",
              "719         Hoopa\n",
              "720     Volcanion\n",
              "Name: Pokemon, dtype: object"
            ]
          },
          "metadata": {
            "tags": []
          },
          "execution_count": 89
        }
      ]
    },
    {
      "cell_type": "code",
      "metadata": {
        "collapsed": true,
        "id": "OqWdZpxGCfsM",
        "colab_type": "code",
        "outputId": "fe322a2f-400b-4461-ab0d-1ee84fdd94a0",
        "colab": {
          "base_uri": "https://localhost:8080/",
          "height": 374
        }
      },
      "source": [
        "pokemon[-30 : -10]"
      ],
      "execution_count": 0,
      "outputs": [
        {
          "output_type": "execute_result",
          "data": {
            "text/plain": [
              "691     Clauncher\n",
              "692     Clawitzer\n",
              "693    Helioptile\n",
              "694     Heliolisk\n",
              "695        Tyrunt\n",
              "696     Tyrantrum\n",
              "697        Amaura\n",
              "698       Aurorus\n",
              "699       Sylveon\n",
              "700      Hawlucha\n",
              "701       Dedenne\n",
              "702       Carbink\n",
              "703         Goomy\n",
              "704       Sliggoo\n",
              "705        Goodra\n",
              "706        Klefki\n",
              "707      Phantump\n",
              "708     Trevenant\n",
              "709     Pumpkaboo\n",
              "710     Gourgeist\n",
              "Name: Pokemon, dtype: object"
            ]
          },
          "metadata": {
            "tags": []
          },
          "execution_count": 90
        }
      ]
    },
    {
      "cell_type": "markdown",
      "metadata": {
        "id": "SKOtG35_CfsS",
        "colab_type": "text"
      },
      "source": [
        "***Extract Values by `String Index Label`***"
      ]
    },
    {
      "cell_type": "code",
      "metadata": {
        "collapsed": true,
        "id": "ZCUjAUBVCfsT",
        "colab_type": "code",
        "outputId": "1053b7ad-759b-4a4d-d6e7-05eab5ff21b4",
        "colab": {
          "base_uri": "https://localhost:8080/",
          "height": 136
        }
      },
      "source": [
        "pokemon = pd.read_csv(path + \"pokemon.csv\", index_col = \"Pokemon\", squeeze = True)\n",
        "pokemon.head()"
      ],
      "execution_count": 0,
      "outputs": [
        {
          "output_type": "execute_result",
          "data": {
            "text/plain": [
              "Pokemon\n",
              "Bulbasaur     Grass\n",
              "Ivysaur       Grass\n",
              "Venusaur      Grass\n",
              "Charmander     Fire\n",
              "Charmeleon     Fire\n",
              "Name: Type, dtype: object"
            ]
          },
          "metadata": {
            "tags": []
          },
          "execution_count": 91
        }
      ]
    },
    {
      "cell_type": "code",
      "metadata": {
        "collapsed": true,
        "id": "lZm0c6efCfso",
        "colab_type": "code",
        "outputId": "e5fa7011-813e-4a91-b223-942e7f038e38",
        "colab": {
          "base_uri": "https://localhost:8080/",
          "height": 85
        }
      },
      "source": [
        "pokemon[[100, 134]]"
      ],
      "execution_count": 0,
      "outputs": [
        {
          "output_type": "execute_result",
          "data": {
            "text/plain": [
              "Pokemon\n",
              "Electrode    Electric\n",
              "Jolteon      Electric\n",
              "Name: Type, dtype: object"
            ]
          },
          "metadata": {
            "tags": []
          },
          "execution_count": 92
        }
      ]
    },
    {
      "cell_type": "code",
      "metadata": {
        "id": "-WIMNTDRCfsu",
        "colab_type": "code",
        "outputId": "46146b20-6c7d-4f3f-d4f6-5f5112552517",
        "colab": {
          "base_uri": "https://localhost:8080/",
          "height": 34
        }
      },
      "source": [
        "print(pokemon[\"Bulbasaur\"])"
      ],
      "execution_count": 0,
      "outputs": [
        {
          "output_type": "stream",
          "text": [
            "Grass\n"
          ],
          "name": "stdout"
        }
      ]
    },
    {
      "cell_type": "code",
      "metadata": {
        "id": "rTvEL6YyCfs0",
        "colab_type": "code",
        "outputId": "48d843f3-cf31-42bf-db59-c2fb36239305",
        "colab": {
          "base_uri": "https://localhost:8080/",
          "height": 85
        }
      },
      "source": [
        "print(pokemon[[\"Charizard\", \"Jolteon\"]])"
      ],
      "execution_count": 0,
      "outputs": [
        {
          "output_type": "stream",
          "text": [
            "Pokemon\n",
            "Charizard        Fire\n",
            "Jolteon      Electric\n",
            "Name: Type, dtype: object\n"
          ],
          "name": "stdout"
        }
      ]
    },
    {
      "cell_type": "code",
      "metadata": {
        "collapsed": true,
        "id": "QLd_JrTWCftC",
        "colab_type": "code",
        "outputId": "d3ae7e95-7a73-4b38-e31d-30362af21622",
        "colab": {
          "base_uri": "https://localhost:8080/",
          "height": 476
        }
      },
      "source": [
        "print(pokemon[\"Bulbasaur\" : \"Pikachu\"])"
      ],
      "execution_count": 0,
      "outputs": [
        {
          "output_type": "stream",
          "text": [
            "Pokemon\n",
            "Bulbasaur        Grass\n",
            "Ivysaur          Grass\n",
            "Venusaur         Grass\n",
            "Charmander        Fire\n",
            "Charmeleon        Fire\n",
            "Charizard         Fire\n",
            "Squirtle         Water\n",
            "Wartortle        Water\n",
            "Blastoise        Water\n",
            "Caterpie           Bug\n",
            "Metapod            Bug\n",
            "Butterfree         Bug\n",
            "Weedle             Bug\n",
            "Kakuna             Bug\n",
            "Beedrill           Bug\n",
            "Pidgey          Normal\n",
            "Pidgeotto       Normal\n",
            "Pidgeot         Normal\n",
            "Rattata         Normal\n",
            "Raticate        Normal\n",
            "Spearow         Normal\n",
            "Fearow          Normal\n",
            "Ekans           Poison\n",
            "Arbok           Poison\n",
            "Pikachu       Electric\n",
            "Name: Type, dtype: object\n"
          ],
          "name": "stdout"
        }
      ]
    },
    {
      "cell_type": "markdown",
      "metadata": {
        "id": "k-1_tU1NCftN",
        "colab_type": "text"
      },
      "source": [
        "***Extract value by `.get()` Method***"
      ]
    },
    {
      "cell_type": "code",
      "metadata": {
        "id": "MU-M0EnICftO",
        "colab_type": "code",
        "outputId": "b5533fa8-af46-454e-a82e-3a93b160f29a",
        "colab": {
          "base_uri": "https://localhost:8080/",
          "height": 136
        }
      },
      "source": [
        "pokemon = pd.read_csv(path + \"pokemon.csv\", index_col = \"Pokemon\", squeeze = True)\n",
        "pokemon.sort_index(inplace = True)\n",
        "pokemon.head()"
      ],
      "execution_count": 0,
      "outputs": [
        {
          "output_type": "execute_result",
          "data": {
            "text/plain": [
              "Pokemon\n",
              "Abomasnow      Grass\n",
              "Abra         Psychic\n",
              "Absol           Dark\n",
              "Accelgor         Bug\n",
              "Aegislash      Steel\n",
              "Name: Type, dtype: object"
            ]
          },
          "metadata": {
            "tags": []
          },
          "execution_count": 96
        }
      ]
    },
    {
      "cell_type": "code",
      "metadata": {
        "id": "qNFTQkyNCftU",
        "colab_type": "code",
        "outputId": "188f1ec4-cab6-4596-b642-c8682d01bf16",
        "colab": {
          "base_uri": "https://localhost:8080/",
          "height": 85
        }
      },
      "source": [
        "pokemon.get(key = [\"Moltres\", \"Meowth\"])"
      ],
      "execution_count": 0,
      "outputs": [
        {
          "output_type": "execute_result",
          "data": {
            "text/plain": [
              "Pokemon\n",
              "Moltres      Fire\n",
              "Meowth     Normal\n",
              "Name: Type, dtype: object"
            ]
          },
          "metadata": {
            "tags": []
          },
          "execution_count": 97
        }
      ]
    },
    {
      "cell_type": "code",
      "metadata": {
        "id": "E9YqD29SCftZ",
        "colab_type": "code",
        "outputId": "aa912799-23b0-4b7f-8c63-867c5b543def",
        "colab": {
          "base_uri": "https://localhost:8080/",
          "height": 34
        }
      },
      "source": [
        "pokemon.get(key = \"Charizard\", default = \"This is not a Pokemon\")"
      ],
      "execution_count": 0,
      "outputs": [
        {
          "output_type": "execute_result",
          "data": {
            "text/plain": [
              "'Fire'"
            ]
          },
          "metadata": {
            "tags": []
          },
          "execution_count": 98
        }
      ]
    },
    {
      "cell_type": "code",
      "metadata": {
        "id": "TzJj9UD4Cfth",
        "colab_type": "code",
        "outputId": "fba14ff0-4176-4500-805d-7a6ad4118ca8",
        "colab": {
          "base_uri": "https://localhost:8080/",
          "height": 34
        }
      },
      "source": [
        "pokemon.get(key = \"jksajk\", default = \"This is not a Pokemon\")"
      ],
      "execution_count": 0,
      "outputs": [
        {
          "output_type": "execute_result",
          "data": {
            "text/plain": [
              "'This is not a Pokemon'"
            ]
          },
          "metadata": {
            "tags": []
          },
          "execution_count": 99
        }
      ]
    },
    {
      "cell_type": "markdown",
      "metadata": {
        "id": "-vd3CyuuCftn",
        "colab_type": "text"
      },
      "source": [
        "***`Math Methods` on Series Objects***"
      ]
    },
    {
      "cell_type": "code",
      "metadata": {
        "id": "_gtv6mjgCftp",
        "colab_type": "code",
        "outputId": "ae896af6-7d07-4fc0-e913-ab8fbd5c3a7b",
        "colab": {
          "base_uri": "https://localhost:8080/",
          "height": 119
        }
      },
      "source": [
        "google = pd.read_csv(path + \"google_stock_price.csv\", squeeze = True)\n",
        "google.head()"
      ],
      "execution_count": 0,
      "outputs": [
        {
          "output_type": "execute_result",
          "data": {
            "text/plain": [
              "0    50.12\n",
              "1    54.10\n",
              "2    54.65\n",
              "3    52.38\n",
              "4    52.95\n",
              "Name: Stock Price, dtype: float64"
            ]
          },
          "metadata": {
            "tags": []
          },
          "execution_count": 100
        }
      ]
    },
    {
      "cell_type": "code",
      "metadata": {
        "id": "7LXB4R9qCft3",
        "colab_type": "code",
        "outputId": "27d3195a-cc3a-4859-d60e-33cca2af818a",
        "colab": {
          "base_uri": "https://localhost:8080/",
          "height": 34
        }
      },
      "source": [
        "google.count()"
      ],
      "execution_count": 0,
      "outputs": [
        {
          "output_type": "execute_result",
          "data": {
            "text/plain": [
              "3012"
            ]
          },
          "metadata": {
            "tags": []
          },
          "execution_count": 101
        }
      ]
    },
    {
      "cell_type": "code",
      "metadata": {
        "id": "UqUFhHrwCft8",
        "colab_type": "code",
        "outputId": "3d251431-003e-41e2-db38-9c1d5749bb99",
        "colab": {
          "base_uri": "https://localhost:8080/",
          "height": 34
        }
      },
      "source": [
        "len(google)"
      ],
      "execution_count": 0,
      "outputs": [
        {
          "output_type": "execute_result",
          "data": {
            "text/plain": [
              "3012"
            ]
          },
          "metadata": {
            "tags": []
          },
          "execution_count": 102
        }
      ]
    },
    {
      "cell_type": "code",
      "metadata": {
        "id": "2HNf3KasCfuE",
        "colab_type": "code",
        "outputId": "4bd78c4e-bf8e-43c4-8aa7-03be2d224cf6",
        "colab": {
          "base_uri": "https://localhost:8080/",
          "height": 34
        }
      },
      "source": [
        "google.sum()"
      ],
      "execution_count": 0,
      "outputs": [
        {
          "output_type": "execute_result",
          "data": {
            "text/plain": [
              "1006942.0"
            ]
          },
          "metadata": {
            "tags": []
          },
          "execution_count": 103
        }
      ]
    },
    {
      "cell_type": "code",
      "metadata": {
        "id": "bkdvSge7CfuW",
        "colab_type": "code",
        "outputId": "f3ea2b68-a279-4286-abf8-38eb90270a07",
        "colab": {
          "base_uri": "https://localhost:8080/",
          "height": 34
        }
      },
      "source": [
        "google.head().prod()"
      ],
      "execution_count": 0,
      "outputs": [
        {
          "output_type": "execute_result",
          "data": {
            "text/plain": [
              "410988767.18209386"
            ]
          },
          "metadata": {
            "tags": []
          },
          "execution_count": 104
        }
      ]
    },
    {
      "cell_type": "code",
      "metadata": {
        "id": "gTjCVzOeCfud",
        "colab_type": "code",
        "outputId": "fd393875-b152-42d6-f737-f7948bedb884",
        "colab": {
          "base_uri": "https://localhost:8080/",
          "height": 34
        }
      },
      "source": [
        "google.mean()"
      ],
      "execution_count": 0,
      "outputs": [
        {
          "output_type": "execute_result",
          "data": {
            "text/plain": [
              "334.31009296148744"
            ]
          },
          "metadata": {
            "tags": []
          },
          "execution_count": 105
        }
      ]
    },
    {
      "cell_type": "code",
      "metadata": {
        "id": "RSGM9cTNCfuk",
        "colab_type": "code",
        "outputId": "0521f84d-d628-44b8-b1d2-7f49275c6bd5",
        "colab": {
          "base_uri": "https://localhost:8080/",
          "height": 34
        }
      },
      "source": [
        "google.median()"
      ],
      "execution_count": 0,
      "outputs": [
        {
          "output_type": "execute_result",
          "data": {
            "text/plain": [
              "283.315"
            ]
          },
          "metadata": {
            "tags": []
          },
          "execution_count": 106
        }
      ]
    },
    {
      "cell_type": "code",
      "metadata": {
        "id": "4uxUf-KiCfuq",
        "colab_type": "code",
        "outputId": "507a986c-60df-41eb-8c1a-fc91e9fbead0",
        "colab": {
          "base_uri": "https://localhost:8080/",
          "height": 51
        }
      },
      "source": [
        "google.mode()"
      ],
      "execution_count": 0,
      "outputs": [
        {
          "output_type": "execute_result",
          "data": {
            "text/plain": [
              "0    291.21\n",
              "dtype: float64"
            ]
          },
          "metadata": {
            "tags": []
          },
          "execution_count": 107
        }
      ]
    },
    {
      "cell_type": "code",
      "metadata": {
        "id": "L61a9rqeCfux",
        "colab_type": "code",
        "outputId": "7f94b3c0-179c-4532-81de-e74bdc1a75f7",
        "colab": {
          "base_uri": "https://localhost:8080/",
          "height": 34
        }
      },
      "source": [
        "google.var()"
      ],
      "execution_count": 0,
      "outputs": [
        {
          "output_type": "execute_result",
          "data": {
            "text/plain": [
              "29993.807896437687"
            ]
          },
          "metadata": {
            "tags": []
          },
          "execution_count": 108
        }
      ]
    },
    {
      "cell_type": "code",
      "metadata": {
        "id": "NJfDdF1BCfvD",
        "colab_type": "code",
        "outputId": "eda1d8b4-d958-40f6-a77f-25cf8349b2a5",
        "colab": {
          "base_uri": "https://localhost:8080/",
          "height": 34
        }
      },
      "source": [
        "google.std()"
      ],
      "execution_count": 0,
      "outputs": [
        {
          "output_type": "execute_result",
          "data": {
            "text/plain": [
              "173.18720477113106"
            ]
          },
          "metadata": {
            "tags": []
          },
          "execution_count": 109
        }
      ]
    },
    {
      "cell_type": "code",
      "metadata": {
        "id": "IfnhVPeXCfvJ",
        "colab_type": "code",
        "outputId": "116c6645-5099-4daa-9f3c-9f9f7e96235d",
        "colab": {
          "base_uri": "https://localhost:8080/",
          "height": 34
        }
      },
      "source": [
        "google.min()"
      ],
      "execution_count": 0,
      "outputs": [
        {
          "output_type": "execute_result",
          "data": {
            "text/plain": [
              "49.95"
            ]
          },
          "metadata": {
            "tags": []
          },
          "execution_count": 110
        }
      ]
    },
    {
      "cell_type": "code",
      "metadata": {
        "id": "63TSY_09CfvO",
        "colab_type": "code",
        "outputId": "44779cd9-90dd-490a-a33d-b7b282ac88cc",
        "colab": {
          "base_uri": "https://localhost:8080/",
          "height": 34
        }
      },
      "source": [
        "google.max()"
      ],
      "execution_count": 0,
      "outputs": [
        {
          "output_type": "execute_result",
          "data": {
            "text/plain": [
              "782.22"
            ]
          },
          "metadata": {
            "tags": []
          },
          "execution_count": 111
        }
      ]
    },
    {
      "cell_type": "code",
      "metadata": {
        "id": "aBywDUPCCfvY",
        "colab_type": "code",
        "outputId": "064d7e7b-4634-45d6-b3a8-62b83f2a8de8",
        "colab": {
          "base_uri": "https://localhost:8080/",
          "height": 170
        }
      },
      "source": [
        "google.describe()"
      ],
      "execution_count": 0,
      "outputs": [
        {
          "output_type": "execute_result",
          "data": {
            "text/plain": [
              "count    3012.000000\n",
              "mean      334.310093\n",
              "std       173.187205\n",
              "min        49.950000\n",
              "25%       218.045000\n",
              "50%       283.315000\n",
              "75%       443.000000\n",
              "max       782.220000\n",
              "Name: Stock Price, dtype: float64"
            ]
          },
          "metadata": {
            "tags": []
          },
          "execution_count": 112
        }
      ]
    },
    {
      "cell_type": "markdown",
      "metadata": {
        "id": "k1gw3gt5Cfvd",
        "colab_type": "text"
      },
      "source": [
        "***The `.idxmax()` and `.idxmin()` Methods***"
      ]
    },
    {
      "cell_type": "code",
      "metadata": {
        "id": "vVG2FDzSCfvf",
        "colab_type": "code",
        "colab": {}
      },
      "source": [
        "google = pd.read_csv(path + \"google_stock_price.csv\", squeeze = True)"
      ],
      "execution_count": 0,
      "outputs": []
    },
    {
      "cell_type": "code",
      "metadata": {
        "id": "VRq6Zj4HCfvk",
        "colab_type": "code",
        "outputId": "4226e763-9711-4804-ada6-2da98ecf4eb9",
        "colab": {
          "base_uri": "https://localhost:8080/",
          "height": 34
        }
      },
      "source": [
        "google.max()"
      ],
      "execution_count": 0,
      "outputs": [
        {
          "output_type": "execute_result",
          "data": {
            "text/plain": [
              "782.22"
            ]
          },
          "metadata": {
            "tags": []
          },
          "execution_count": 114
        }
      ]
    },
    {
      "cell_type": "code",
      "metadata": {
        "id": "LqcmpY5aCfv2",
        "colab_type": "code",
        "outputId": "a47453a6-36f3-4aa9-ff23-fb125dedda8c",
        "colab": {
          "base_uri": "https://localhost:8080/",
          "height": 34
        }
      },
      "source": [
        "google.min()"
      ],
      "execution_count": 0,
      "outputs": [
        {
          "output_type": "execute_result",
          "data": {
            "text/plain": [
              "49.95"
            ]
          },
          "metadata": {
            "tags": []
          },
          "execution_count": 115
        }
      ]
    },
    {
      "cell_type": "code",
      "metadata": {
        "id": "mfSkjgEoCfv6",
        "colab_type": "code",
        "outputId": "db075f53-85d0-4d7d-95f6-42e9a4d8a02b",
        "colab": {
          "base_uri": "https://localhost:8080/",
          "height": 34
        }
      },
      "source": [
        "google.idxmax()"
      ],
      "execution_count": 0,
      "outputs": [
        {
          "output_type": "execute_result",
          "data": {
            "text/plain": [
              "3011"
            ]
          },
          "metadata": {
            "tags": []
          },
          "execution_count": 116
        }
      ]
    },
    {
      "cell_type": "code",
      "metadata": {
        "id": "_AEjn263Cfv9",
        "colab_type": "code",
        "outputId": "5654931b-97d4-45d5-b9b3-71669c6c5165",
        "colab": {
          "base_uri": "https://localhost:8080/",
          "height": 34
        }
      },
      "source": [
        "google[3011]"
      ],
      "execution_count": 0,
      "outputs": [
        {
          "output_type": "execute_result",
          "data": {
            "text/plain": [
              "782.22"
            ]
          },
          "metadata": {
            "tags": []
          },
          "execution_count": 117
        }
      ]
    },
    {
      "cell_type": "code",
      "metadata": {
        "id": "yQUcIsNVCfwB",
        "colab_type": "code",
        "outputId": "9e4967b1-3307-43c4-d9f8-98f5f3742224",
        "colab": {
          "base_uri": "https://localhost:8080/",
          "height": 34
        }
      },
      "source": [
        "google.idxmin()"
      ],
      "execution_count": 0,
      "outputs": [
        {
          "output_type": "execute_result",
          "data": {
            "text/plain": [
              "11"
            ]
          },
          "metadata": {
            "tags": []
          },
          "execution_count": 118
        }
      ]
    },
    {
      "cell_type": "code",
      "metadata": {
        "id": "aVxXWbnhCfwF",
        "colab_type": "code",
        "outputId": "49501c19-4ece-4d46-c4fb-7e94ea4268d1",
        "colab": {
          "base_uri": "https://localhost:8080/",
          "height": 34
        }
      },
      "source": [
        "google[11]"
      ],
      "execution_count": 0,
      "outputs": [
        {
          "output_type": "execute_result",
          "data": {
            "text/plain": [
              "49.95"
            ]
          },
          "metadata": {
            "tags": []
          },
          "execution_count": 119
        }
      ]
    },
    {
      "cell_type": "code",
      "metadata": {
        "id": "5-XgunFkCfwJ",
        "colab_type": "code",
        "outputId": "9b441869-21d3-4f8b-9064-90fce43d4776",
        "colab": {
          "base_uri": "https://localhost:8080/",
          "height": 34
        }
      },
      "source": [
        "google[google.idxmin()]"
      ],
      "execution_count": 0,
      "outputs": [
        {
          "output_type": "execute_result",
          "data": {
            "text/plain": [
              "49.95"
            ]
          },
          "metadata": {
            "tags": []
          },
          "execution_count": 93
        }
      ]
    },
    {
      "cell_type": "markdown",
      "metadata": {
        "id": "gyAMqIbxCfwN",
        "colab_type": "text"
      },
      "source": [
        "***The `.value_counts()` Method***"
      ]
    },
    {
      "cell_type": "code",
      "metadata": {
        "id": "Ui36aiFQCfwO",
        "colab_type": "code",
        "outputId": "e350f038-f468-4dcc-8f87-8cc501c1011d",
        "colab": {
          "base_uri": "https://localhost:8080/",
          "height": 136
        }
      },
      "source": [
        "pokemon = pd.read_csv(path + \"pokemon.csv\", index_col = \"Pokemon\", squeeze = True)\n",
        "pokemon.head()"
      ],
      "execution_count": 0,
      "outputs": [
        {
          "output_type": "execute_result",
          "data": {
            "text/plain": [
              "Pokemon\n",
              "Bulbasaur     Grass\n",
              "Ivysaur       Grass\n",
              "Venusaur      Grass\n",
              "Charmander     Fire\n",
              "Charmeleon     Fire\n",
              "Name: Type, dtype: object"
            ]
          },
          "metadata": {
            "tags": []
          },
          "execution_count": 120
        }
      ]
    },
    {
      "cell_type": "code",
      "metadata": {
        "collapsed": true,
        "id": "V4X99Th2CfwS",
        "colab_type": "code",
        "outputId": "ee66400e-6f98-4ce0-d2df-b09a2fe1c297",
        "colab": {
          "base_uri": "https://localhost:8080/",
          "height": 340
        }
      },
      "source": [
        "pokemon.value_counts()"
      ],
      "execution_count": 0,
      "outputs": [
        {
          "output_type": "execute_result",
          "data": {
            "text/plain": [
              "Water       105\n",
              "Normal       93\n",
              "Grass        66\n",
              "Bug          63\n",
              "Fire         47\n",
              "Psychic      47\n",
              "Rock         41\n",
              "Electric     36\n",
              "Ground       30\n",
              "Poison       28\n",
              "Dark         28\n",
              "Fighting     25\n",
              "Dragon       24\n",
              "Ice          23\n",
              "Ghost        23\n",
              "Steel        22\n",
              "Fairy        17\n",
              "Flying        3\n",
              "Name: Type, dtype: int64"
            ]
          },
          "metadata": {
            "tags": []
          },
          "execution_count": 121
        }
      ]
    },
    {
      "cell_type": "code",
      "metadata": {
        "id": "_lm9queICfwd",
        "colab_type": "code",
        "outputId": "1f4ddbfc-1b27-45ac-ee74-47d173df29b5",
        "colab": {
          "base_uri": "https://localhost:8080/",
          "height": 34
        }
      },
      "source": [
        "pokemon.value_counts().sum()"
      ],
      "execution_count": 0,
      "outputs": [
        {
          "output_type": "execute_result",
          "data": {
            "text/plain": [
              "721"
            ]
          },
          "metadata": {
            "tags": []
          },
          "execution_count": 122
        }
      ]
    },
    {
      "cell_type": "code",
      "metadata": {
        "id": "R1YbG_6NCfwh",
        "colab_type": "code",
        "outputId": "0742884a-4412-4d8c-ca1e-1b645f191948",
        "colab": {
          "base_uri": "https://localhost:8080/",
          "height": 34
        }
      },
      "source": [
        "pokemon.count()"
      ],
      "execution_count": 0,
      "outputs": [
        {
          "output_type": "execute_result",
          "data": {
            "text/plain": [
              "721"
            ]
          },
          "metadata": {
            "tags": []
          },
          "execution_count": 123
        }
      ]
    },
    {
      "cell_type": "code",
      "metadata": {
        "collapsed": true,
        "id": "AtGrLW_YCfy-",
        "colab_type": "code",
        "outputId": "2dad8101-2766-41c1-8b35-ccbe2ab289e2",
        "colab": {
          "base_uri": "https://localhost:8080/",
          "height": 340
        }
      },
      "source": [
        "pokemon.value_counts(ascending = True)"
      ],
      "execution_count": 0,
      "outputs": [
        {
          "output_type": "execute_result",
          "data": {
            "text/plain": [
              "Flying        3\n",
              "Fairy        17\n",
              "Steel        22\n",
              "Ghost        23\n",
              "Ice          23\n",
              "Dragon       24\n",
              "Fighting     25\n",
              "Dark         28\n",
              "Poison       28\n",
              "Ground       30\n",
              "Electric     36\n",
              "Rock         41\n",
              "Psychic      47\n",
              "Fire         47\n",
              "Bug          63\n",
              "Grass        66\n",
              "Normal       93\n",
              "Water       105\n",
              "Name: Type, dtype: int64"
            ]
          },
          "metadata": {
            "tags": []
          },
          "execution_count": 124
        }
      ]
    },
    {
      "cell_type": "markdown",
      "metadata": {
        "id": "Ozz5d8JfCfzA",
        "colab_type": "text"
      },
      "source": [
        "***The `.apply()` Method***"
      ]
    },
    {
      "cell_type": "code",
      "metadata": {
        "id": "REVbddnsCfzB",
        "colab_type": "code",
        "outputId": "2e3c820c-3c40-44ba-bab5-04d65dfa2df5",
        "colab": {
          "base_uri": "https://localhost:8080/",
          "height": 119
        }
      },
      "source": [
        "google = pd.read_csv(path + \"google_stock_price.csv\", squeeze = True)\n",
        "google.head()"
      ],
      "execution_count": 0,
      "outputs": [
        {
          "output_type": "execute_result",
          "data": {
            "text/plain": [
              "0    50.12\n",
              "1    54.10\n",
              "2    54.65\n",
              "3    52.38\n",
              "4    52.95\n",
              "Name: Stock Price, dtype: float64"
            ]
          },
          "metadata": {
            "tags": []
          },
          "execution_count": 125
        }
      ]
    },
    {
      "cell_type": "code",
      "metadata": {
        "id": "0xX6sKFjCfzD",
        "colab_type": "code",
        "colab": {}
      },
      "source": [
        "def classify_performance(number):\n",
        "    if number < 300:\n",
        "        return \"OK\"\n",
        "    elif number >= 300 and number < 650:\n",
        "        return \"Satisfactory\"\n",
        "    else:\n",
        "        return \"Incredible!\""
      ],
      "execution_count": 0,
      "outputs": []
    },
    {
      "cell_type": "code",
      "metadata": {
        "id": "hhwDawmFCfzF",
        "colab_type": "code",
        "outputId": "0abfd1b8-144b-4c99-aeed-24abb7310e33",
        "colab": {
          "base_uri": "https://localhost:8080/",
          "height": 119
        }
      },
      "source": [
        "google.apply(classify_performance).tail()"
      ],
      "execution_count": 0,
      "outputs": [
        {
          "output_type": "execute_result",
          "data": {
            "text/plain": [
              "3007    Incredible!\n",
              "3008    Incredible!\n",
              "3009    Incredible!\n",
              "3010    Incredible!\n",
              "3011    Incredible!\n",
              "Name: Stock Price, dtype: object"
            ]
          },
          "metadata": {
            "tags": []
          },
          "execution_count": 127
        }
      ]
    },
    {
      "cell_type": "code",
      "metadata": {
        "id": "xHFOBRCjCfzI",
        "colab_type": "code",
        "outputId": "205c7668-68c8-49ce-f98e-9d4096a01da4",
        "colab": {
          "base_uri": "https://localhost:8080/",
          "height": 119
        }
      },
      "source": [
        "google.head()"
      ],
      "execution_count": 0,
      "outputs": [
        {
          "output_type": "execute_result",
          "data": {
            "text/plain": [
              "0    50.12\n",
              "1    54.10\n",
              "2    54.65\n",
              "3    52.38\n",
              "4    52.95\n",
              "Name: Stock Price, dtype: float64"
            ]
          },
          "metadata": {
            "tags": []
          },
          "execution_count": 128
        }
      ]
    },
    {
      "cell_type": "code",
      "metadata": {
        "collapsed": true,
        "id": "3OeepeoFCfzO",
        "colab_type": "code",
        "outputId": "1eb39d36-65ce-4423-d383-fa9f85534e9e",
        "colab": {
          "base_uri": "https://localhost:8080/",
          "height": 221
        }
      },
      "source": [
        "google.apply(lambda stock_price : stock_price + 1)"
      ],
      "execution_count": 0,
      "outputs": [
        {
          "output_type": "execute_result",
          "data": {
            "text/plain": [
              "0        51.12\n",
              "1        55.10\n",
              "2        55.65\n",
              "3        53.38\n",
              "4        53.95\n",
              "         ...  \n",
              "3007    773.88\n",
              "3008    772.07\n",
              "3009    774.18\n",
              "3010    772.61\n",
              "3011    783.22\n",
              "Name: Stock Price, Length: 3012, dtype: float64"
            ]
          },
          "metadata": {
            "tags": []
          },
          "execution_count": 129
        }
      ]
    },
    {
      "cell_type": "markdown",
      "metadata": {
        "id": "tGWqUzp3CfzR",
        "colab_type": "text"
      },
      "source": [
        "***The `.map()` Method***"
      ]
    },
    {
      "cell_type": "code",
      "metadata": {
        "id": "1Afnfh7nCfzS",
        "colab_type": "code",
        "outputId": "6919d145-2e2c-40da-fe29-cf9f16a89d68",
        "colab": {
          "base_uri": "https://localhost:8080/",
          "height": 119
        }
      },
      "source": [
        "pokemon_names = pd.read_csv(path + \"pokemon.csv\", usecols = [\"Pokemon\"], squeeze = True)\n",
        "pokemon_names.head()"
      ],
      "execution_count": 0,
      "outputs": [
        {
          "output_type": "execute_result",
          "data": {
            "text/plain": [
              "0     Bulbasaur\n",
              "1       Ivysaur\n",
              "2      Venusaur\n",
              "3    Charmander\n",
              "4    Charmeleon\n",
              "Name: Pokemon, dtype: object"
            ]
          },
          "metadata": {
            "tags": []
          },
          "execution_count": 130
        }
      ]
    },
    {
      "cell_type": "code",
      "metadata": {
        "collapsed": true,
        "id": "01UVTz-zCfzY",
        "colab_type": "code",
        "outputId": "e761d7f0-95ba-44c9-ba3f-7018a0f05cc6",
        "colab": {
          "base_uri": "https://localhost:8080/",
          "height": 136
        }
      },
      "source": [
        "pokemon_types = pd.read_csv(path + \"pokemon.csv\", index_col = \"Pokemon\", squeeze = True)\n",
        "pokemon_types.head()"
      ],
      "execution_count": 0,
      "outputs": [
        {
          "output_type": "execute_result",
          "data": {
            "text/plain": [
              "Pokemon\n",
              "Bulbasaur     Grass\n",
              "Ivysaur       Grass\n",
              "Venusaur      Grass\n",
              "Charmander     Fire\n",
              "Charmeleon     Fire\n",
              "Name: Type, dtype: object"
            ]
          },
          "metadata": {
            "tags": []
          },
          "execution_count": 131
        }
      ]
    },
    {
      "cell_type": "code",
      "metadata": {
        "collapsed": true,
        "id": "IAf8nzIQCfzd",
        "colab_type": "code",
        "outputId": "4490448d-435f-4c37-8275-7a1726ff7d01",
        "colab": {
          "base_uri": "https://localhost:8080/",
          "height": 119
        }
      },
      "source": [
        "pokemon_names.map(pokemon_types).head()"
      ],
      "execution_count": 0,
      "outputs": [
        {
          "output_type": "execute_result",
          "data": {
            "text/plain": [
              "0    Grass\n",
              "1    Grass\n",
              "2    Grass\n",
              "3     Fire\n",
              "4     Fire\n",
              "Name: Pokemon, dtype: object"
            ]
          },
          "metadata": {
            "tags": []
          },
          "execution_count": 132
        }
      ]
    },
    {
      "cell_type": "code",
      "metadata": {
        "id": "8QULVOD0Cfzg",
        "colab_type": "code",
        "colab": {}
      },
      "source": [
        "pokemon_names = pd.read_csv(path + \"pokemon.csv\", usecols = [\"Pokemon\"], squeeze = True)\n",
        "pokemon_types = pd.read_csv(path + \"pokemon.csv\", index_col = \"Pokemon\", squeeze = True).to_dict()"
      ],
      "execution_count": 0,
      "outputs": []
    },
    {
      "cell_type": "code",
      "metadata": {
        "collapsed": true,
        "id": "pwNKqE6BCfzn",
        "colab_type": "code",
        "outputId": "f65f068f-6621-4e7a-8680-3599a114e5d5",
        "colab": {
          "base_uri": "https://localhost:8080/",
          "height": 119
        }
      },
      "source": [
        "pokemon_names.head()"
      ],
      "execution_count": 0,
      "outputs": [
        {
          "output_type": "execute_result",
          "data": {
            "text/plain": [
              "0     Bulbasaur\n",
              "1       Ivysaur\n",
              "2      Venusaur\n",
              "3    Charmander\n",
              "4    Charmeleon\n",
              "Name: Pokemon, dtype: object"
            ]
          },
          "metadata": {
            "tags": []
          },
          "execution_count": 134
        }
      ]
    },
    {
      "cell_type": "code",
      "metadata": {
        "collapsed": true,
        "id": "6_zVGZiQCfzq",
        "colab_type": "code",
        "outputId": "85916cf3-83ae-415f-bf60-5417d5788ead",
        "colab": {
          "base_uri": "https://localhost:8080/",
          "height": 1000
        }
      },
      "source": [
        "pokemon_types"
      ],
      "execution_count": 0,
      "outputs": [
        {
          "output_type": "execute_result",
          "data": {
            "text/plain": [
              "{'Abomasnow': 'Grass',\n",
              " 'Abra': 'Psychic',\n",
              " 'Absol': 'Dark',\n",
              " 'Accelgor': 'Bug',\n",
              " 'Aegislash': 'Steel',\n",
              " 'Aerodactyl': 'Rock',\n",
              " 'Aggron': 'Steel',\n",
              " 'Aipom': 'Normal',\n",
              " 'Alakazam': 'Psychic',\n",
              " 'Alomomola': 'Water',\n",
              " 'Altaria': 'Dragon',\n",
              " 'Amaura': 'Rock',\n",
              " 'Ambipom': 'Normal',\n",
              " 'Amoonguss': 'Grass',\n",
              " 'Ampharos': 'Electric',\n",
              " 'Anorith': 'Rock',\n",
              " 'Arbok': 'Poison',\n",
              " 'Arcanine': 'Fire',\n",
              " 'Arceus': 'Normal',\n",
              " 'Archen': 'Rock',\n",
              " 'Archeops': 'Rock',\n",
              " 'Ariados': 'Bug',\n",
              " 'Armaldo': 'Rock',\n",
              " 'Aromatisse': 'Fairy',\n",
              " 'Aron': 'Steel',\n",
              " 'Articuno': 'Ice',\n",
              " 'Audino': 'Normal',\n",
              " 'Aurorus': 'Rock',\n",
              " 'Avalugg': 'Ice',\n",
              " 'Axew': 'Dragon',\n",
              " 'Azelf': 'Psychic',\n",
              " 'Azumarill': 'Water',\n",
              " 'Azurill': 'Normal',\n",
              " 'Bagon': 'Dragon',\n",
              " 'Baltoy': 'Ground',\n",
              " 'Banette': 'Ghost',\n",
              " 'Barbaracle': 'Rock',\n",
              " 'Barboach': 'Water',\n",
              " 'Basculin': 'Water',\n",
              " 'Bastiodon': 'Rock',\n",
              " 'Bayleef': 'Grass',\n",
              " 'Beartic': 'Ice',\n",
              " 'Beautifly': 'Bug',\n",
              " 'Beedrill': 'Bug',\n",
              " 'Beheeyem': 'Psychic',\n",
              " 'Beldum': 'Steel',\n",
              " 'Bellossom': 'Grass',\n",
              " 'Bellsprout': 'Grass',\n",
              " 'Bergmite': 'Ice',\n",
              " 'Bibarel': 'Normal',\n",
              " 'Bidoof': 'Normal',\n",
              " 'Binacle': 'Rock',\n",
              " 'Bisharp': 'Dark',\n",
              " 'Blastoise': 'Water',\n",
              " 'Blaziken': 'Fire',\n",
              " 'Blissey': 'Normal',\n",
              " 'Blitzle': 'Electric',\n",
              " 'Boldore': 'Rock',\n",
              " 'Bonsly': 'Rock',\n",
              " 'Bouffalant': 'Normal',\n",
              " 'Braixen': 'Fire',\n",
              " 'Braviary': 'Normal',\n",
              " 'Breloom': 'Grass',\n",
              " 'Bronzong': 'Steel',\n",
              " 'Bronzor': 'Steel',\n",
              " 'Budew': 'Grass',\n",
              " 'Buizel': 'Water',\n",
              " 'Bulbasaur': 'Grass',\n",
              " 'Buneary': 'Normal',\n",
              " 'Bunnelby': 'Normal',\n",
              " 'Burmy': 'Bug',\n",
              " 'Butterfree': 'Bug',\n",
              " 'Cacnea': 'Grass',\n",
              " 'Cacturne': 'Grass',\n",
              " 'Camerupt': 'Fire',\n",
              " 'Carbink': 'Rock',\n",
              " 'Carnivine': 'Grass',\n",
              " 'Carracosta': 'Water',\n",
              " 'Carvanha': 'Water',\n",
              " 'Cascoon': 'Bug',\n",
              " 'Castform': 'Normal',\n",
              " 'Caterpie': 'Bug',\n",
              " 'Celebi': 'Psychic',\n",
              " 'Chandelure': 'Ghost',\n",
              " 'Chansey': 'Normal',\n",
              " 'Charizard': 'Fire',\n",
              " 'Charmander': 'Fire',\n",
              " 'Charmeleon': 'Fire',\n",
              " 'Chatot': 'Normal',\n",
              " 'Cherrim': 'Grass',\n",
              " 'Cherubi': 'Grass',\n",
              " 'Chesnaught': 'Grass',\n",
              " 'Chespin': 'Grass',\n",
              " 'Chikorita': 'Grass',\n",
              " 'Chimchar': 'Fire',\n",
              " 'Chimecho': 'Psychic',\n",
              " 'Chinchou': 'Water',\n",
              " 'Chingling': 'Psychic',\n",
              " 'Cinccino': 'Normal',\n",
              " 'Clamperl': 'Water',\n",
              " 'Clauncher': 'Water',\n",
              " 'Clawitzer': 'Water',\n",
              " 'Claydol': 'Ground',\n",
              " 'Clefable': 'Fairy',\n",
              " 'Clefairy': 'Fairy',\n",
              " 'Cleffa': 'Fairy',\n",
              " 'Cloyster': 'Water',\n",
              " 'Cobalion': 'Steel',\n",
              " 'Cofagrigus': 'Ghost',\n",
              " 'Combee': 'Bug',\n",
              " 'Combusken': 'Fire',\n",
              " 'Conkeldurr': 'Fighting',\n",
              " 'Corphish': 'Water',\n",
              " 'Corsola': 'Water',\n",
              " 'Cottonee': 'Grass',\n",
              " 'Cradily': 'Rock',\n",
              " 'Cranidos': 'Rock',\n",
              " 'Crawdaunt': 'Water',\n",
              " 'Cresselia': 'Psychic',\n",
              " 'Croagunk': 'Poison',\n",
              " 'Crobat': 'Poison',\n",
              " 'Croconaw': 'Water',\n",
              " 'Crustle': 'Bug',\n",
              " 'Cryogonal': 'Ice',\n",
              " 'Cubchoo': 'Ice',\n",
              " 'Cubone': 'Ground',\n",
              " 'Cyndaquil': 'Fire',\n",
              " 'Darkrai': 'Dark',\n",
              " 'Darmanitan': 'Fire',\n",
              " 'Darumaka': 'Fire',\n",
              " 'Dedenne': 'Electric',\n",
              " 'Deerling': 'Normal',\n",
              " 'Deino': 'Dark',\n",
              " 'Delcatty': 'Normal',\n",
              " 'Delibird': 'Ice',\n",
              " 'Delphox': 'Fire',\n",
              " 'Deoxys': 'Psychic',\n",
              " 'Dewgong': 'Water',\n",
              " 'Dewott': 'Water',\n",
              " 'Dialga': 'Steel',\n",
              " 'Diancie': 'Rock',\n",
              " 'Diggersby': 'Normal',\n",
              " 'Diglett': 'Ground',\n",
              " 'Ditto': 'Normal',\n",
              " 'Dodrio': 'Normal',\n",
              " 'Doduo': 'Normal',\n",
              " 'Donphan': 'Ground',\n",
              " 'Doublade': 'Steel',\n",
              " 'Dragalge': 'Poison',\n",
              " 'Dragonair': 'Dragon',\n",
              " 'Dragonite': 'Dragon',\n",
              " 'Drapion': 'Poison',\n",
              " 'Dratini': 'Dragon',\n",
              " 'Drifblim': 'Ghost',\n",
              " 'Drifloon': 'Ghost',\n",
              " 'Drilbur': 'Ground',\n",
              " 'Drowzee': 'Psychic',\n",
              " 'Druddigon': 'Dragon',\n",
              " 'Ducklett': 'Water',\n",
              " 'Dugtrio': 'Ground',\n",
              " 'Dunsparce': 'Normal',\n",
              " 'Duosion': 'Psychic',\n",
              " 'Durant': 'Bug',\n",
              " 'Dusclops': 'Ghost',\n",
              " 'Dusknoir': 'Ghost',\n",
              " 'Duskull': 'Ghost',\n",
              " 'Dustox': 'Bug',\n",
              " 'Dwebble': 'Bug',\n",
              " 'Eelektrik': 'Electric',\n",
              " 'Eelektross': 'Electric',\n",
              " 'Eevee': 'Normal',\n",
              " 'Ekans': 'Poison',\n",
              " 'Electabuzz': 'Electric',\n",
              " 'Electivire': 'Electric',\n",
              " 'Electrike': 'Electric',\n",
              " 'Electrode': 'Electric',\n",
              " 'Elekid': 'Electric',\n",
              " 'Elgyem': 'Psychic',\n",
              " 'Emboar': 'Fire',\n",
              " 'Emolga': 'Electric',\n",
              " 'Empoleon': 'Water',\n",
              " 'Entei': 'Fire',\n",
              " 'Escavalier': 'Bug',\n",
              " 'Espeon': 'Psychic',\n",
              " 'Espurr': 'Psychic',\n",
              " 'Excadrill': 'Ground',\n",
              " 'Exeggcute': 'Grass',\n",
              " 'Exeggutor': 'Grass',\n",
              " 'Exploud': 'Normal',\n",
              " \"Farfetch'd\": 'Normal',\n",
              " 'Fearow': 'Normal',\n",
              " 'Feebas': 'Water',\n",
              " 'Fennekin': 'Fire',\n",
              " 'Feraligatr': 'Water',\n",
              " 'Ferroseed': 'Grass',\n",
              " 'Ferrothorn': 'Grass',\n",
              " 'Finneon': 'Water',\n",
              " 'Flaaffy': 'Electric',\n",
              " 'Flabébé': 'Fairy',\n",
              " 'Flareon': 'Fire',\n",
              " 'Fletchinder': 'Fire',\n",
              " 'Fletchling': 'Normal',\n",
              " 'Floatzel': 'Water',\n",
              " 'Floette': 'Fairy',\n",
              " 'Florges': 'Fairy',\n",
              " 'Flygon': 'Ground',\n",
              " 'Foongus': 'Grass',\n",
              " 'Forretress': 'Bug',\n",
              " 'Fraxure': 'Dragon',\n",
              " 'Frillish': 'Water',\n",
              " 'Froakie': 'Water',\n",
              " 'Frogadier': 'Water',\n",
              " 'Froslass': 'Ice',\n",
              " 'Furfrou': 'Normal',\n",
              " 'Furret': 'Normal',\n",
              " 'Gabite': 'Dragon',\n",
              " 'Gallade': 'Psychic',\n",
              " 'Galvantula': 'Bug',\n",
              " 'Garbodor': 'Poison',\n",
              " 'Garchomp': 'Dragon',\n",
              " 'Gardevoir': 'Psychic',\n",
              " 'Gastly': 'Ghost',\n",
              " 'Gastrodon': 'Water',\n",
              " 'Genesect': 'Bug',\n",
              " 'Gengar': 'Ghost',\n",
              " 'Geodude': 'Rock',\n",
              " 'Gible': 'Dragon',\n",
              " 'Gigalith': 'Rock',\n",
              " 'Girafarig': 'Normal',\n",
              " 'Giratina': 'Ghost',\n",
              " 'Glaceon': 'Ice',\n",
              " 'Glalie': 'Ice',\n",
              " 'Glameow': 'Normal',\n",
              " 'Gligar': 'Ground',\n",
              " 'Gliscor': 'Ground',\n",
              " 'Gloom': 'Grass',\n",
              " 'Gogoat': 'Grass',\n",
              " 'Golbat': 'Poison',\n",
              " 'Goldeen': 'Water',\n",
              " 'Golduck': 'Water',\n",
              " 'Golem': 'Rock',\n",
              " 'Golett': 'Ground',\n",
              " 'Golurk': 'Ground',\n",
              " 'Goodra': 'Dragon',\n",
              " 'Goomy': 'Dragon',\n",
              " 'Gorebyss': 'Water',\n",
              " 'Gothita': 'Psychic',\n",
              " 'Gothitelle': 'Psychic',\n",
              " 'Gothorita': 'Psychic',\n",
              " 'Gourgeist': 'Ghost',\n",
              " 'Granbull': 'Fairy',\n",
              " 'Graveler': 'Rock',\n",
              " 'Greninja': 'Water',\n",
              " 'Grimer': 'Poison',\n",
              " 'Grotle': 'Grass',\n",
              " 'Groudon': 'Ground',\n",
              " 'Grovyle': 'Grass',\n",
              " 'Growlithe': 'Fire',\n",
              " 'Grumpig': 'Psychic',\n",
              " 'Gulpin': 'Poison',\n",
              " 'Gurdurr': 'Fighting',\n",
              " 'Gyarados': 'Water',\n",
              " 'Happiny': 'Normal',\n",
              " 'Hariyama': 'Fighting',\n",
              " 'Haunter': 'Ghost',\n",
              " 'Hawlucha': 'Fighting',\n",
              " 'Haxorus': 'Dragon',\n",
              " 'Heatmor': 'Fire',\n",
              " 'Heatran': 'Fire',\n",
              " 'Heliolisk': 'Electric',\n",
              " 'Helioptile': 'Electric',\n",
              " 'Heracross': 'Bug',\n",
              " 'Herdier': 'Normal',\n",
              " 'Hippopotas': 'Ground',\n",
              " 'Hippowdon': 'Ground',\n",
              " 'Hitmonchan': 'Fighting',\n",
              " 'Hitmonlee': 'Fighting',\n",
              " 'Hitmontop': 'Fighting',\n",
              " 'Ho-oh': 'Fire',\n",
              " 'Honchkrow': 'Dark',\n",
              " 'Honedge': 'Steel',\n",
              " 'Hoopa': 'Psychic',\n",
              " 'Hoothoot': 'Normal',\n",
              " 'Hoppip': 'Grass',\n",
              " 'Horsea': 'Water',\n",
              " 'Houndoom': 'Dark',\n",
              " 'Houndour': 'Dark',\n",
              " 'Huntail': 'Water',\n",
              " 'Hydreigon': 'Dark',\n",
              " 'Hypno': 'Psychic',\n",
              " 'Igglybuff': 'Normal',\n",
              " 'Illumise': 'Bug',\n",
              " 'Infernape': 'Fire',\n",
              " 'Inkay': 'Dark',\n",
              " 'Ivysaur': 'Grass',\n",
              " 'Jellicent': 'Water',\n",
              " 'Jigglypuff': 'Normal',\n",
              " 'Jirachi': 'Steel',\n",
              " 'Jolteon': 'Electric',\n",
              " 'Joltik': 'Bug',\n",
              " 'Jumpluff': 'Grass',\n",
              " 'Jynx': 'Ice',\n",
              " 'Kabuto': 'Rock',\n",
              " 'Kabutops': 'Rock',\n",
              " 'Kadabra': 'Psychic',\n",
              " 'Kakuna': 'Bug',\n",
              " 'Kangaskhan': 'Normal',\n",
              " 'Karrablast': 'Bug',\n",
              " 'Kecleon': 'Normal',\n",
              " 'Keldeo': 'Water',\n",
              " 'Kingdra': 'Water',\n",
              " 'Kingler': 'Water',\n",
              " 'Kirlia': 'Psychic',\n",
              " 'Klang': 'Steel',\n",
              " 'Klefki': 'Steel',\n",
              " 'Klink': 'Steel',\n",
              " 'Klinklang': 'Steel',\n",
              " 'Koffing': 'Poison',\n",
              " 'Krabby': 'Water',\n",
              " 'Kricketot': 'Bug',\n",
              " 'Kricketune': 'Bug',\n",
              " 'Krokorok': 'Ground',\n",
              " 'Krookodile': 'Ground',\n",
              " 'Kyogre': 'Water',\n",
              " 'Kyurem': 'Dragon',\n",
              " 'Lairon': 'Steel',\n",
              " 'Lampent': 'Ghost',\n",
              " 'Landorus': 'Ground',\n",
              " 'Lanturn': 'Water',\n",
              " 'Lapras': 'Water',\n",
              " 'Larvesta': 'Bug',\n",
              " 'Larvitar': 'Rock',\n",
              " 'Latias': 'Dragon',\n",
              " 'Latios': 'Dragon',\n",
              " 'Leafeon': 'Grass',\n",
              " 'Leavanny': 'Bug',\n",
              " 'Ledian': 'Bug',\n",
              " 'Ledyba': 'Bug',\n",
              " 'Lickilicky': 'Normal',\n",
              " 'Lickitung': 'Normal',\n",
              " 'Liepard': 'Dark',\n",
              " 'Lileep': 'Rock',\n",
              " 'Lilligant': 'Grass',\n",
              " 'Lillipup': 'Normal',\n",
              " 'Linoone': 'Normal',\n",
              " 'Litleo': 'Fire',\n",
              " 'Litwick': 'Ghost',\n",
              " 'Lombre': 'Water',\n",
              " 'Lopunny': 'Normal',\n",
              " 'Lotad': 'Water',\n",
              " 'Loudred': 'Normal',\n",
              " 'Lucario': 'Fighting',\n",
              " 'Ludicolo': 'Water',\n",
              " 'Lugia': 'Psychic',\n",
              " 'Lumineon': 'Water',\n",
              " 'Lunatone': 'Rock',\n",
              " 'Luvdisc': 'Water',\n",
              " 'Luxio': 'Electric',\n",
              " 'Luxray': 'Electric',\n",
              " 'Machamp': 'Fighting',\n",
              " 'Machoke': 'Fighting',\n",
              " 'Machop': 'Fighting',\n",
              " 'Magby': 'Fire',\n",
              " 'Magcargo': 'Fire',\n",
              " 'Magikarp': 'Water',\n",
              " 'Magmar': 'Fire',\n",
              " 'Magmortar': 'Fire',\n",
              " 'Magnemite': 'Electric',\n",
              " 'Magneton': 'Electric',\n",
              " 'Magnezone': 'Electric',\n",
              " 'Makuhita': 'Fighting',\n",
              " 'Malamar': 'Dark',\n",
              " 'Mamoswine': 'Ice',\n",
              " 'Manaphy': 'Water',\n",
              " 'Mandibuzz': 'Dark',\n",
              " 'Manectric': 'Electric',\n",
              " 'Mankey': 'Fighting',\n",
              " 'Mantine': 'Water',\n",
              " 'Mantyke': 'Water',\n",
              " 'Maractus': 'Grass',\n",
              " 'Mareep': 'Electric',\n",
              " 'Marill': 'Water',\n",
              " 'Marowak': 'Ground',\n",
              " 'Marshtomp': 'Water',\n",
              " 'Masquerain': 'Bug',\n",
              " 'Mawile': 'Steel',\n",
              " 'Medicham': 'Fighting',\n",
              " 'Meditite': 'Fighting',\n",
              " 'Meganium': 'Grass',\n",
              " 'Meloetta': 'Normal',\n",
              " 'Meowstic': 'Psychic',\n",
              " 'Meowth': 'Normal',\n",
              " 'Mesprit': 'Psychic',\n",
              " 'Metagross': 'Steel',\n",
              " 'Metang': 'Steel',\n",
              " 'Metapod': 'Bug',\n",
              " 'Mew': 'Psychic',\n",
              " 'Mewtwo': 'Psychic',\n",
              " 'Mienfoo': 'Fighting',\n",
              " 'Mienshao': 'Fighting',\n",
              " 'Mightyena': 'Dark',\n",
              " 'Milotic': 'Water',\n",
              " 'Miltank': 'Normal',\n",
              " 'Mime Jr.': 'Psychic',\n",
              " 'Minccino': 'Normal',\n",
              " 'Minun': 'Electric',\n",
              " 'Misdreavus': 'Ghost',\n",
              " 'Mismagius': 'Ghost',\n",
              " 'Moltres': 'Fire',\n",
              " 'Monferno': 'Fire',\n",
              " 'Mothim': 'Bug',\n",
              " 'Mr. Mime': 'Psychic',\n",
              " 'Mudkip': 'Water',\n",
              " 'Muk': 'Poison',\n",
              " 'Munchlax': 'Normal',\n",
              " 'Munna': 'Psychic',\n",
              " 'Murkrow': 'Dark',\n",
              " 'Musharna': 'Psychic',\n",
              " 'Natu': 'Psychic',\n",
              " 'Nidoking': 'Poison',\n",
              " 'Nidoqueen': 'Poison',\n",
              " 'Nidoran': 'Poison',\n",
              " 'Nidoran♂': 'Poison',\n",
              " 'Nidorina': 'Poison',\n",
              " 'Nidorino': 'Poison',\n",
              " 'Nincada': 'Bug',\n",
              " 'Ninetales': 'Fire',\n",
              " 'Ninjask': 'Bug',\n",
              " 'Noctowl': 'Normal',\n",
              " 'Noibat': 'Flying',\n",
              " 'Noivern': 'Flying',\n",
              " 'Nosepass': 'Rock',\n",
              " 'Numel': 'Fire',\n",
              " 'Nuzleaf': 'Grass',\n",
              " 'Octillery': 'Water',\n",
              " 'Oddish': 'Grass',\n",
              " 'Omanyte': 'Rock',\n",
              " 'Omastar': 'Rock',\n",
              " 'Onix': 'Rock',\n",
              " 'Oshawott': 'Water',\n",
              " 'Pachirisu': 'Electric',\n",
              " 'Palkia': 'Water',\n",
              " 'Palpitoad': 'Water',\n",
              " 'Pancham': 'Fighting',\n",
              " 'Pangoro': 'Fighting',\n",
              " 'Panpour': 'Water',\n",
              " 'Pansage': 'Grass',\n",
              " 'Pansear': 'Fire',\n",
              " 'Paras': 'Bug',\n",
              " 'Parasect': 'Bug',\n",
              " 'Patrat': 'Normal',\n",
              " 'Pawniard': 'Dark',\n",
              " 'Pelipper': 'Water',\n",
              " 'Persian': 'Normal',\n",
              " 'Petilil': 'Grass',\n",
              " 'Phanpy': 'Ground',\n",
              " 'Phantump': 'Ghost',\n",
              " 'Phione': 'Water',\n",
              " 'Pichu': 'Electric',\n",
              " 'Pidgeot': 'Normal',\n",
              " 'Pidgeotto': 'Normal',\n",
              " 'Pidgey': 'Normal',\n",
              " 'Pidove': 'Normal',\n",
              " 'Pignite': 'Fire',\n",
              " 'Pikachu': 'Electric',\n",
              " 'Piloswine': 'Ice',\n",
              " 'Pineco': 'Bug',\n",
              " 'Pinsir': 'Bug',\n",
              " 'Piplup': 'Water',\n",
              " 'Plusle': 'Electric',\n",
              " 'Politoed': 'Water',\n",
              " 'Poliwag': 'Water',\n",
              " 'Poliwhirl': 'Water',\n",
              " 'Poliwrath': 'Water',\n",
              " 'Ponyta': 'Fire',\n",
              " 'Poochyena': 'Dark',\n",
              " 'Porygon': 'Normal',\n",
              " 'Porygon-Z': 'Normal',\n",
              " 'Porygon2': 'Normal',\n",
              " 'Primeape': 'Fighting',\n",
              " 'Prinplup': 'Water',\n",
              " 'Probopass': 'Rock',\n",
              " 'Psyduck': 'Water',\n",
              " 'Pumpkaboo': 'Ghost',\n",
              " 'Pupitar': 'Rock',\n",
              " 'Purrloin': 'Dark',\n",
              " 'Purugly': 'Normal',\n",
              " 'Pyroar': 'Fire',\n",
              " 'Quagsire': 'Water',\n",
              " 'Quilava': 'Fire',\n",
              " 'Quilladin': 'Grass',\n",
              " 'Qwilfish': 'Water',\n",
              " 'Raichu': 'Electric',\n",
              " 'Raikou': 'Electric',\n",
              " 'Ralts': 'Psychic',\n",
              " 'Rampardos': 'Rock',\n",
              " 'Rapidash': 'Fire',\n",
              " 'Raticate': 'Normal',\n",
              " 'Rattata': 'Normal',\n",
              " 'Rayquaza': 'Dragon',\n",
              " 'Regice': 'Ice',\n",
              " 'Regigigas': 'Normal',\n",
              " 'Regirock': 'Rock',\n",
              " 'Registeel': 'Steel',\n",
              " 'Relicanth': 'Water',\n",
              " 'Remoraid': 'Water',\n",
              " 'Reshiram': 'Dragon',\n",
              " 'Reuniclus': 'Psychic',\n",
              " 'Rhydon': 'Ground',\n",
              " 'Rhyhorn': 'Ground',\n",
              " 'Rhyperior': 'Ground',\n",
              " 'Riolu': 'Fighting',\n",
              " 'Roggenrola': 'Rock',\n",
              " 'Roselia': 'Grass',\n",
              " 'Roserade': 'Grass',\n",
              " 'Rotom': 'Electric',\n",
              " 'Rufflet': 'Normal',\n",
              " 'Sableye': 'Dark',\n",
              " 'Salamence': 'Dragon',\n",
              " 'Samurott': 'Water',\n",
              " 'Sandile': 'Ground',\n",
              " 'Sandshrew': 'Ground',\n",
              " 'Sandslash': 'Ground',\n",
              " 'Sawk': 'Fighting',\n",
              " 'Sawsbuck': 'Normal',\n",
              " 'Scatterbug': 'Bug',\n",
              " 'Sceptile': 'Grass',\n",
              " 'Scizor': 'Bug',\n",
              " 'Scolipede': 'Bug',\n",
              " 'Scrafty': 'Dark',\n",
              " 'Scraggy': 'Dark',\n",
              " 'Scyther': 'Bug',\n",
              " 'Seadra': 'Water',\n",
              " 'Seaking': 'Water',\n",
              " 'Sealeo': 'Ice',\n",
              " 'Seedot': 'Grass',\n",
              " 'Seel': 'Water',\n",
              " 'Seismitoad': 'Water',\n",
              " 'Sentret': 'Normal',\n",
              " 'Serperior': 'Grass',\n",
              " 'Servine': 'Grass',\n",
              " 'Seviper': 'Poison',\n",
              " 'Sewaddle': 'Bug',\n",
              " 'Sharpedo': 'Water',\n",
              " 'Shaymin': 'Grass',\n",
              " 'Shedinja': 'Bug',\n",
              " 'Shelgon': 'Dragon',\n",
              " 'Shellder': 'Water',\n",
              " 'Shellos': 'Water',\n",
              " 'Shelmet': 'Bug',\n",
              " 'Shieldon': 'Rock',\n",
              " 'Shiftry': 'Grass',\n",
              " 'Shinx': 'Electric',\n",
              " 'Shroomish': 'Grass',\n",
              " 'Shuckle': 'Bug',\n",
              " 'Shuppet': 'Ghost',\n",
              " 'Sigilyph': 'Psychic',\n",
              " 'Silcoon': 'Bug',\n",
              " 'Simipour': 'Water',\n",
              " 'Simisage': 'Grass',\n",
              " 'Simisear': 'Fire',\n",
              " 'Skarmory': 'Steel',\n",
              " 'Skiddo': 'Grass',\n",
              " 'Skiploom': 'Grass',\n",
              " 'Skitty': 'Normal',\n",
              " 'Skorupi': 'Poison',\n",
              " 'Skrelp': 'Poison',\n",
              " 'Skuntank': 'Poison',\n",
              " 'Slaking': 'Normal',\n",
              " 'Slakoth': 'Normal',\n",
              " 'Sliggoo': 'Dragon',\n",
              " 'Slowbro': 'Water',\n",
              " 'Slowking': 'Water',\n",
              " 'Slowpoke': 'Water',\n",
              " 'Slugma': 'Fire',\n",
              " 'Slurpuff': 'Fairy',\n",
              " 'Smeargle': 'Normal',\n",
              " 'Smoochum': 'Ice',\n",
              " 'Sneasel': 'Dark',\n",
              " 'Snivy': 'Grass',\n",
              " 'Snorlax': 'Normal',\n",
              " 'Snorunt': 'Ice',\n",
              " 'Snover': 'Grass',\n",
              " 'Snubbull': 'Fairy',\n",
              " 'Solosis': 'Psychic',\n",
              " 'Solrock': 'Rock',\n",
              " 'Spearow': 'Normal',\n",
              " 'Spewpa': 'Bug',\n",
              " 'Spheal': 'Ice',\n",
              " 'Spinarak': 'Bug',\n",
              " 'Spinda': 'Normal',\n",
              " 'Spiritomb': 'Ghost',\n",
              " 'Spoink': 'Psychic',\n",
              " 'Spritzee': 'Fairy',\n",
              " 'Squirtle': 'Water',\n",
              " 'Stantler': 'Normal',\n",
              " 'Staraptor': 'Normal',\n",
              " 'Staravia': 'Normal',\n",
              " 'Starly': 'Normal',\n",
              " 'Starmie': 'Water',\n",
              " 'Staryu': 'Water',\n",
              " 'Steelix': 'Steel',\n",
              " 'Stoutland': 'Normal',\n",
              " 'Stunfisk': 'Ground',\n",
              " 'Stunky': 'Poison',\n",
              " 'Sudowoodo': 'Rock',\n",
              " 'Suicune': 'Water',\n",
              " 'Sunflora': 'Grass',\n",
              " 'Sunkern': 'Grass',\n",
              " 'Surskit': 'Bug',\n",
              " 'Swablu': 'Normal',\n",
              " 'Swadloon': 'Bug',\n",
              " 'Swalot': 'Poison',\n",
              " 'Swampert': 'Water',\n",
              " 'Swanna': 'Water',\n",
              " 'Swellow': 'Normal',\n",
              " 'Swinub': 'Ice',\n",
              " 'Swirlix': 'Fairy',\n",
              " 'Swoobat': 'Psychic',\n",
              " 'Sylveon': 'Fairy',\n",
              " 'Taillow': 'Normal',\n",
              " 'Talonflame': 'Fire',\n",
              " 'Tangela': 'Grass',\n",
              " 'Tangrowth': 'Grass',\n",
              " 'Tauros': 'Normal',\n",
              " 'Teddiursa': 'Normal',\n",
              " 'Tentacool': 'Water',\n",
              " 'Tentacruel': 'Water',\n",
              " 'Tepig': 'Fire',\n",
              " 'Terrakion': 'Rock',\n",
              " 'Throh': 'Fighting',\n",
              " 'Thundurus': 'Electric',\n",
              " 'Timburr': 'Fighting',\n",
              " 'Tirtouga': 'Water',\n",
              " 'Togekiss': 'Fairy',\n",
              " 'Togepi': 'Fairy',\n",
              " 'Togetic': 'Fairy',\n",
              " 'Torchic': 'Fire',\n",
              " 'Torkoal': 'Fire',\n",
              " 'Tornadus': 'Flying',\n",
              " 'Torterra': 'Grass',\n",
              " 'Totodile': 'Water',\n",
              " 'Toxicroak': 'Poison',\n",
              " 'Tranquill': 'Normal',\n",
              " 'Trapinch': 'Ground',\n",
              " 'Treecko': 'Grass',\n",
              " 'Trevenant': 'Ghost',\n",
              " 'Tropius': 'Grass',\n",
              " 'Trubbish': 'Poison',\n",
              " 'Turtwig': 'Grass',\n",
              " 'Tympole': 'Water',\n",
              " 'Tynamo': 'Electric',\n",
              " 'Typhlosion': 'Fire',\n",
              " 'Tyranitar': 'Rock',\n",
              " 'Tyrantrum': 'Rock',\n",
              " 'Tyrogue': 'Fighting',\n",
              " 'Tyrunt': 'Rock',\n",
              " 'Umbreon': 'Dark',\n",
              " 'Unfezant': 'Normal',\n",
              " 'Unown': 'Psychic',\n",
              " 'Ursaring': 'Normal',\n",
              " 'Uxie': 'Psychic',\n",
              " 'Vanillish': 'Ice',\n",
              " 'Vanillite': 'Ice',\n",
              " 'Vanilluxe': 'Ice',\n",
              " 'Vaporeon': 'Water',\n",
              " 'Venipede': 'Bug',\n",
              " 'Venomoth': 'Bug',\n",
              " 'Venonat': 'Bug',\n",
              " 'Venusaur': 'Grass',\n",
              " 'Vespiquen': 'Bug',\n",
              " 'Vibrava': 'Ground',\n",
              " 'Victini': 'Psychic',\n",
              " 'Victreebel': 'Grass',\n",
              " 'Vigoroth': 'Normal',\n",
              " 'Vileplume': 'Grass',\n",
              " 'Virizion': 'Grass',\n",
              " 'Vivillon': 'Bug',\n",
              " 'Volbeat': 'Bug',\n",
              " 'Volcanion': 'Fire',\n",
              " 'Volcarona': 'Bug',\n",
              " 'Voltorb': 'Electric',\n",
              " 'Vullaby': 'Dark',\n",
              " 'Vulpix': 'Fire',\n",
              " 'Wailmer': 'Water',\n",
              " 'Wailord': 'Water',\n",
              " 'Walrein': 'Ice',\n",
              " 'Wartortle': 'Water',\n",
              " 'Watchog': 'Normal',\n",
              " 'Weavile': 'Dark',\n",
              " 'Weedle': 'Bug',\n",
              " 'Weepinbell': 'Grass',\n",
              " 'Weezing': 'Poison',\n",
              " 'Whimsicott': 'Grass',\n",
              " 'Whirlipede': 'Bug',\n",
              " 'Whiscash': 'Water',\n",
              " 'Whismur': 'Normal',\n",
              " 'Wigglytuff': 'Normal',\n",
              " 'Wingull': 'Water',\n",
              " 'Wobbuffet': 'Psychic',\n",
              " 'Woobat': 'Psychic',\n",
              " 'Wooper': 'Water',\n",
              " 'Wormadam': 'Bug',\n",
              " 'Wurmple': 'Bug',\n",
              " 'Wynaut': 'Psychic',\n",
              " 'Xatu': 'Psychic',\n",
              " 'Xerneas': 'Fairy',\n",
              " 'Yamask': 'Ghost',\n",
              " 'Yanma': 'Bug',\n",
              " 'Yanmega': 'Bug',\n",
              " 'Yveltal': 'Dark',\n",
              " 'Zangoose': 'Normal',\n",
              " 'Zapdos': 'Electric',\n",
              " 'Zebstrika': 'Electric',\n",
              " 'Zekrom': 'Dragon',\n",
              " 'Zigzagoon': 'Normal',\n",
              " 'Zoroark': 'Dark',\n",
              " 'Zorua': 'Dark',\n",
              " 'Zubat': 'Poison',\n",
              " 'Zweilous': 'Dark',\n",
              " 'Zygarde': 'Dragon'}"
            ]
          },
          "metadata": {
            "tags": []
          },
          "execution_count": 138
        }
      ]
    },
    {
      "cell_type": "code",
      "metadata": {
        "collapsed": true,
        "id": "pYy50756Cfzv",
        "colab_type": "code",
        "outputId": "aa32fa6b-e214-4e2b-c6d2-3821c3140235",
        "colab": {
          "base_uri": "https://localhost:8080/",
          "height": 119
        }
      },
      "source": [
        "pokemon_names.map(pokemon_types).head()"
      ],
      "execution_count": 0,
      "outputs": [
        {
          "output_type": "execute_result",
          "data": {
            "text/plain": [
              "0    Grass\n",
              "1    Grass\n",
              "2    Grass\n",
              "3     Fire\n",
              "4     Fire\n",
              "Name: Pokemon, dtype: object"
            ]
          },
          "metadata": {
            "tags": []
          },
          "execution_count": 136
        }
      ]
    },
    {
      "cell_type": "code",
      "metadata": {
        "id": "16zfnR5ro9cT",
        "colab_type": "code",
        "outputId": "d988d818-2ae9-453d-ac3f-f2f164bd32ca",
        "colab": {
          "base_uri": "https://localhost:8080/",
          "height": 1000
        }
      },
      "source": [
        "pd.read_csv(path + \"pokemon.csv\", index_col = \"Pokemon\", squeeze = True).to_dict()"
      ],
      "execution_count": 0,
      "outputs": [
        {
          "output_type": "execute_result",
          "data": {
            "text/plain": [
              "{'Abomasnow': 'Grass',\n",
              " 'Abra': 'Psychic',\n",
              " 'Absol': 'Dark',\n",
              " 'Accelgor': 'Bug',\n",
              " 'Aegislash': 'Steel',\n",
              " 'Aerodactyl': 'Rock',\n",
              " 'Aggron': 'Steel',\n",
              " 'Aipom': 'Normal',\n",
              " 'Alakazam': 'Psychic',\n",
              " 'Alomomola': 'Water',\n",
              " 'Altaria': 'Dragon',\n",
              " 'Amaura': 'Rock',\n",
              " 'Ambipom': 'Normal',\n",
              " 'Amoonguss': 'Grass',\n",
              " 'Ampharos': 'Electric',\n",
              " 'Anorith': 'Rock',\n",
              " 'Arbok': 'Poison',\n",
              " 'Arcanine': 'Fire',\n",
              " 'Arceus': 'Normal',\n",
              " 'Archen': 'Rock',\n",
              " 'Archeops': 'Rock',\n",
              " 'Ariados': 'Bug',\n",
              " 'Armaldo': 'Rock',\n",
              " 'Aromatisse': 'Fairy',\n",
              " 'Aron': 'Steel',\n",
              " 'Articuno': 'Ice',\n",
              " 'Audino': 'Normal',\n",
              " 'Aurorus': 'Rock',\n",
              " 'Avalugg': 'Ice',\n",
              " 'Axew': 'Dragon',\n",
              " 'Azelf': 'Psychic',\n",
              " 'Azumarill': 'Water',\n",
              " 'Azurill': 'Normal',\n",
              " 'Bagon': 'Dragon',\n",
              " 'Baltoy': 'Ground',\n",
              " 'Banette': 'Ghost',\n",
              " 'Barbaracle': 'Rock',\n",
              " 'Barboach': 'Water',\n",
              " 'Basculin': 'Water',\n",
              " 'Bastiodon': 'Rock',\n",
              " 'Bayleef': 'Grass',\n",
              " 'Beartic': 'Ice',\n",
              " 'Beautifly': 'Bug',\n",
              " 'Beedrill': 'Bug',\n",
              " 'Beheeyem': 'Psychic',\n",
              " 'Beldum': 'Steel',\n",
              " 'Bellossom': 'Grass',\n",
              " 'Bellsprout': 'Grass',\n",
              " 'Bergmite': 'Ice',\n",
              " 'Bibarel': 'Normal',\n",
              " 'Bidoof': 'Normal',\n",
              " 'Binacle': 'Rock',\n",
              " 'Bisharp': 'Dark',\n",
              " 'Blastoise': 'Water',\n",
              " 'Blaziken': 'Fire',\n",
              " 'Blissey': 'Normal',\n",
              " 'Blitzle': 'Electric',\n",
              " 'Boldore': 'Rock',\n",
              " 'Bonsly': 'Rock',\n",
              " 'Bouffalant': 'Normal',\n",
              " 'Braixen': 'Fire',\n",
              " 'Braviary': 'Normal',\n",
              " 'Breloom': 'Grass',\n",
              " 'Bronzong': 'Steel',\n",
              " 'Bronzor': 'Steel',\n",
              " 'Budew': 'Grass',\n",
              " 'Buizel': 'Water',\n",
              " 'Bulbasaur': 'Grass',\n",
              " 'Buneary': 'Normal',\n",
              " 'Bunnelby': 'Normal',\n",
              " 'Burmy': 'Bug',\n",
              " 'Butterfree': 'Bug',\n",
              " 'Cacnea': 'Grass',\n",
              " 'Cacturne': 'Grass',\n",
              " 'Camerupt': 'Fire',\n",
              " 'Carbink': 'Rock',\n",
              " 'Carnivine': 'Grass',\n",
              " 'Carracosta': 'Water',\n",
              " 'Carvanha': 'Water',\n",
              " 'Cascoon': 'Bug',\n",
              " 'Castform': 'Normal',\n",
              " 'Caterpie': 'Bug',\n",
              " 'Celebi': 'Psychic',\n",
              " 'Chandelure': 'Ghost',\n",
              " 'Chansey': 'Normal',\n",
              " 'Charizard': 'Fire',\n",
              " 'Charmander': 'Fire',\n",
              " 'Charmeleon': 'Fire',\n",
              " 'Chatot': 'Normal',\n",
              " 'Cherrim': 'Grass',\n",
              " 'Cherubi': 'Grass',\n",
              " 'Chesnaught': 'Grass',\n",
              " 'Chespin': 'Grass',\n",
              " 'Chikorita': 'Grass',\n",
              " 'Chimchar': 'Fire',\n",
              " 'Chimecho': 'Psychic',\n",
              " 'Chinchou': 'Water',\n",
              " 'Chingling': 'Psychic',\n",
              " 'Cinccino': 'Normal',\n",
              " 'Clamperl': 'Water',\n",
              " 'Clauncher': 'Water',\n",
              " 'Clawitzer': 'Water',\n",
              " 'Claydol': 'Ground',\n",
              " 'Clefable': 'Fairy',\n",
              " 'Clefairy': 'Fairy',\n",
              " 'Cleffa': 'Fairy',\n",
              " 'Cloyster': 'Water',\n",
              " 'Cobalion': 'Steel',\n",
              " 'Cofagrigus': 'Ghost',\n",
              " 'Combee': 'Bug',\n",
              " 'Combusken': 'Fire',\n",
              " 'Conkeldurr': 'Fighting',\n",
              " 'Corphish': 'Water',\n",
              " 'Corsola': 'Water',\n",
              " 'Cottonee': 'Grass',\n",
              " 'Cradily': 'Rock',\n",
              " 'Cranidos': 'Rock',\n",
              " 'Crawdaunt': 'Water',\n",
              " 'Cresselia': 'Psychic',\n",
              " 'Croagunk': 'Poison',\n",
              " 'Crobat': 'Poison',\n",
              " 'Croconaw': 'Water',\n",
              " 'Crustle': 'Bug',\n",
              " 'Cryogonal': 'Ice',\n",
              " 'Cubchoo': 'Ice',\n",
              " 'Cubone': 'Ground',\n",
              " 'Cyndaquil': 'Fire',\n",
              " 'Darkrai': 'Dark',\n",
              " 'Darmanitan': 'Fire',\n",
              " 'Darumaka': 'Fire',\n",
              " 'Dedenne': 'Electric',\n",
              " 'Deerling': 'Normal',\n",
              " 'Deino': 'Dark',\n",
              " 'Delcatty': 'Normal',\n",
              " 'Delibird': 'Ice',\n",
              " 'Delphox': 'Fire',\n",
              " 'Deoxys': 'Psychic',\n",
              " 'Dewgong': 'Water',\n",
              " 'Dewott': 'Water',\n",
              " 'Dialga': 'Steel',\n",
              " 'Diancie': 'Rock',\n",
              " 'Diggersby': 'Normal',\n",
              " 'Diglett': 'Ground',\n",
              " 'Ditto': 'Normal',\n",
              " 'Dodrio': 'Normal',\n",
              " 'Doduo': 'Normal',\n",
              " 'Donphan': 'Ground',\n",
              " 'Doublade': 'Steel',\n",
              " 'Dragalge': 'Poison',\n",
              " 'Dragonair': 'Dragon',\n",
              " 'Dragonite': 'Dragon',\n",
              " 'Drapion': 'Poison',\n",
              " 'Dratini': 'Dragon',\n",
              " 'Drifblim': 'Ghost',\n",
              " 'Drifloon': 'Ghost',\n",
              " 'Drilbur': 'Ground',\n",
              " 'Drowzee': 'Psychic',\n",
              " 'Druddigon': 'Dragon',\n",
              " 'Ducklett': 'Water',\n",
              " 'Dugtrio': 'Ground',\n",
              " 'Dunsparce': 'Normal',\n",
              " 'Duosion': 'Psychic',\n",
              " 'Durant': 'Bug',\n",
              " 'Dusclops': 'Ghost',\n",
              " 'Dusknoir': 'Ghost',\n",
              " 'Duskull': 'Ghost',\n",
              " 'Dustox': 'Bug',\n",
              " 'Dwebble': 'Bug',\n",
              " 'Eelektrik': 'Electric',\n",
              " 'Eelektross': 'Electric',\n",
              " 'Eevee': 'Normal',\n",
              " 'Ekans': 'Poison',\n",
              " 'Electabuzz': 'Electric',\n",
              " 'Electivire': 'Electric',\n",
              " 'Electrike': 'Electric',\n",
              " 'Electrode': 'Electric',\n",
              " 'Elekid': 'Electric',\n",
              " 'Elgyem': 'Psychic',\n",
              " 'Emboar': 'Fire',\n",
              " 'Emolga': 'Electric',\n",
              " 'Empoleon': 'Water',\n",
              " 'Entei': 'Fire',\n",
              " 'Escavalier': 'Bug',\n",
              " 'Espeon': 'Psychic',\n",
              " 'Espurr': 'Psychic',\n",
              " 'Excadrill': 'Ground',\n",
              " 'Exeggcute': 'Grass',\n",
              " 'Exeggutor': 'Grass',\n",
              " 'Exploud': 'Normal',\n",
              " \"Farfetch'd\": 'Normal',\n",
              " 'Fearow': 'Normal',\n",
              " 'Feebas': 'Water',\n",
              " 'Fennekin': 'Fire',\n",
              " 'Feraligatr': 'Water',\n",
              " 'Ferroseed': 'Grass',\n",
              " 'Ferrothorn': 'Grass',\n",
              " 'Finneon': 'Water',\n",
              " 'Flaaffy': 'Electric',\n",
              " 'Flabébé': 'Fairy',\n",
              " 'Flareon': 'Fire',\n",
              " 'Fletchinder': 'Fire',\n",
              " 'Fletchling': 'Normal',\n",
              " 'Floatzel': 'Water',\n",
              " 'Floette': 'Fairy',\n",
              " 'Florges': 'Fairy',\n",
              " 'Flygon': 'Ground',\n",
              " 'Foongus': 'Grass',\n",
              " 'Forretress': 'Bug',\n",
              " 'Fraxure': 'Dragon',\n",
              " 'Frillish': 'Water',\n",
              " 'Froakie': 'Water',\n",
              " 'Frogadier': 'Water',\n",
              " 'Froslass': 'Ice',\n",
              " 'Furfrou': 'Normal',\n",
              " 'Furret': 'Normal',\n",
              " 'Gabite': 'Dragon',\n",
              " 'Gallade': 'Psychic',\n",
              " 'Galvantula': 'Bug',\n",
              " 'Garbodor': 'Poison',\n",
              " 'Garchomp': 'Dragon',\n",
              " 'Gardevoir': 'Psychic',\n",
              " 'Gastly': 'Ghost',\n",
              " 'Gastrodon': 'Water',\n",
              " 'Genesect': 'Bug',\n",
              " 'Gengar': 'Ghost',\n",
              " 'Geodude': 'Rock',\n",
              " 'Gible': 'Dragon',\n",
              " 'Gigalith': 'Rock',\n",
              " 'Girafarig': 'Normal',\n",
              " 'Giratina': 'Ghost',\n",
              " 'Glaceon': 'Ice',\n",
              " 'Glalie': 'Ice',\n",
              " 'Glameow': 'Normal',\n",
              " 'Gligar': 'Ground',\n",
              " 'Gliscor': 'Ground',\n",
              " 'Gloom': 'Grass',\n",
              " 'Gogoat': 'Grass',\n",
              " 'Golbat': 'Poison',\n",
              " 'Goldeen': 'Water',\n",
              " 'Golduck': 'Water',\n",
              " 'Golem': 'Rock',\n",
              " 'Golett': 'Ground',\n",
              " 'Golurk': 'Ground',\n",
              " 'Goodra': 'Dragon',\n",
              " 'Goomy': 'Dragon',\n",
              " 'Gorebyss': 'Water',\n",
              " 'Gothita': 'Psychic',\n",
              " 'Gothitelle': 'Psychic',\n",
              " 'Gothorita': 'Psychic',\n",
              " 'Gourgeist': 'Ghost',\n",
              " 'Granbull': 'Fairy',\n",
              " 'Graveler': 'Rock',\n",
              " 'Greninja': 'Water',\n",
              " 'Grimer': 'Poison',\n",
              " 'Grotle': 'Grass',\n",
              " 'Groudon': 'Ground',\n",
              " 'Grovyle': 'Grass',\n",
              " 'Growlithe': 'Fire',\n",
              " 'Grumpig': 'Psychic',\n",
              " 'Gulpin': 'Poison',\n",
              " 'Gurdurr': 'Fighting',\n",
              " 'Gyarados': 'Water',\n",
              " 'Happiny': 'Normal',\n",
              " 'Hariyama': 'Fighting',\n",
              " 'Haunter': 'Ghost',\n",
              " 'Hawlucha': 'Fighting',\n",
              " 'Haxorus': 'Dragon',\n",
              " 'Heatmor': 'Fire',\n",
              " 'Heatran': 'Fire',\n",
              " 'Heliolisk': 'Electric',\n",
              " 'Helioptile': 'Electric',\n",
              " 'Heracross': 'Bug',\n",
              " 'Herdier': 'Normal',\n",
              " 'Hippopotas': 'Ground',\n",
              " 'Hippowdon': 'Ground',\n",
              " 'Hitmonchan': 'Fighting',\n",
              " 'Hitmonlee': 'Fighting',\n",
              " 'Hitmontop': 'Fighting',\n",
              " 'Ho-oh': 'Fire',\n",
              " 'Honchkrow': 'Dark',\n",
              " 'Honedge': 'Steel',\n",
              " 'Hoopa': 'Psychic',\n",
              " 'Hoothoot': 'Normal',\n",
              " 'Hoppip': 'Grass',\n",
              " 'Horsea': 'Water',\n",
              " 'Houndoom': 'Dark',\n",
              " 'Houndour': 'Dark',\n",
              " 'Huntail': 'Water',\n",
              " 'Hydreigon': 'Dark',\n",
              " 'Hypno': 'Psychic',\n",
              " 'Igglybuff': 'Normal',\n",
              " 'Illumise': 'Bug',\n",
              " 'Infernape': 'Fire',\n",
              " 'Inkay': 'Dark',\n",
              " 'Ivysaur': 'Grass',\n",
              " 'Jellicent': 'Water',\n",
              " 'Jigglypuff': 'Normal',\n",
              " 'Jirachi': 'Steel',\n",
              " 'Jolteon': 'Electric',\n",
              " 'Joltik': 'Bug',\n",
              " 'Jumpluff': 'Grass',\n",
              " 'Jynx': 'Ice',\n",
              " 'Kabuto': 'Rock',\n",
              " 'Kabutops': 'Rock',\n",
              " 'Kadabra': 'Psychic',\n",
              " 'Kakuna': 'Bug',\n",
              " 'Kangaskhan': 'Normal',\n",
              " 'Karrablast': 'Bug',\n",
              " 'Kecleon': 'Normal',\n",
              " 'Keldeo': 'Water',\n",
              " 'Kingdra': 'Water',\n",
              " 'Kingler': 'Water',\n",
              " 'Kirlia': 'Psychic',\n",
              " 'Klang': 'Steel',\n",
              " 'Klefki': 'Steel',\n",
              " 'Klink': 'Steel',\n",
              " 'Klinklang': 'Steel',\n",
              " 'Koffing': 'Poison',\n",
              " 'Krabby': 'Water',\n",
              " 'Kricketot': 'Bug',\n",
              " 'Kricketune': 'Bug',\n",
              " 'Krokorok': 'Ground',\n",
              " 'Krookodile': 'Ground',\n",
              " 'Kyogre': 'Water',\n",
              " 'Kyurem': 'Dragon',\n",
              " 'Lairon': 'Steel',\n",
              " 'Lampent': 'Ghost',\n",
              " 'Landorus': 'Ground',\n",
              " 'Lanturn': 'Water',\n",
              " 'Lapras': 'Water',\n",
              " 'Larvesta': 'Bug',\n",
              " 'Larvitar': 'Rock',\n",
              " 'Latias': 'Dragon',\n",
              " 'Latios': 'Dragon',\n",
              " 'Leafeon': 'Grass',\n",
              " 'Leavanny': 'Bug',\n",
              " 'Ledian': 'Bug',\n",
              " 'Ledyba': 'Bug',\n",
              " 'Lickilicky': 'Normal',\n",
              " 'Lickitung': 'Normal',\n",
              " 'Liepard': 'Dark',\n",
              " 'Lileep': 'Rock',\n",
              " 'Lilligant': 'Grass',\n",
              " 'Lillipup': 'Normal',\n",
              " 'Linoone': 'Normal',\n",
              " 'Litleo': 'Fire',\n",
              " 'Litwick': 'Ghost',\n",
              " 'Lombre': 'Water',\n",
              " 'Lopunny': 'Normal',\n",
              " 'Lotad': 'Water',\n",
              " 'Loudred': 'Normal',\n",
              " 'Lucario': 'Fighting',\n",
              " 'Ludicolo': 'Water',\n",
              " 'Lugia': 'Psychic',\n",
              " 'Lumineon': 'Water',\n",
              " 'Lunatone': 'Rock',\n",
              " 'Luvdisc': 'Water',\n",
              " 'Luxio': 'Electric',\n",
              " 'Luxray': 'Electric',\n",
              " 'Machamp': 'Fighting',\n",
              " 'Machoke': 'Fighting',\n",
              " 'Machop': 'Fighting',\n",
              " 'Magby': 'Fire',\n",
              " 'Magcargo': 'Fire',\n",
              " 'Magikarp': 'Water',\n",
              " 'Magmar': 'Fire',\n",
              " 'Magmortar': 'Fire',\n",
              " 'Magnemite': 'Electric',\n",
              " 'Magneton': 'Electric',\n",
              " 'Magnezone': 'Electric',\n",
              " 'Makuhita': 'Fighting',\n",
              " 'Malamar': 'Dark',\n",
              " 'Mamoswine': 'Ice',\n",
              " 'Manaphy': 'Water',\n",
              " 'Mandibuzz': 'Dark',\n",
              " 'Manectric': 'Electric',\n",
              " 'Mankey': 'Fighting',\n",
              " 'Mantine': 'Water',\n",
              " 'Mantyke': 'Water',\n",
              " 'Maractus': 'Grass',\n",
              " 'Mareep': 'Electric',\n",
              " 'Marill': 'Water',\n",
              " 'Marowak': 'Ground',\n",
              " 'Marshtomp': 'Water',\n",
              " 'Masquerain': 'Bug',\n",
              " 'Mawile': 'Steel',\n",
              " 'Medicham': 'Fighting',\n",
              " 'Meditite': 'Fighting',\n",
              " 'Meganium': 'Grass',\n",
              " 'Meloetta': 'Normal',\n",
              " 'Meowstic': 'Psychic',\n",
              " 'Meowth': 'Normal',\n",
              " 'Mesprit': 'Psychic',\n",
              " 'Metagross': 'Steel',\n",
              " 'Metang': 'Steel',\n",
              " 'Metapod': 'Bug',\n",
              " 'Mew': 'Psychic',\n",
              " 'Mewtwo': 'Psychic',\n",
              " 'Mienfoo': 'Fighting',\n",
              " 'Mienshao': 'Fighting',\n",
              " 'Mightyena': 'Dark',\n",
              " 'Milotic': 'Water',\n",
              " 'Miltank': 'Normal',\n",
              " 'Mime Jr.': 'Psychic',\n",
              " 'Minccino': 'Normal',\n",
              " 'Minun': 'Electric',\n",
              " 'Misdreavus': 'Ghost',\n",
              " 'Mismagius': 'Ghost',\n",
              " 'Moltres': 'Fire',\n",
              " 'Monferno': 'Fire',\n",
              " 'Mothim': 'Bug',\n",
              " 'Mr. Mime': 'Psychic',\n",
              " 'Mudkip': 'Water',\n",
              " 'Muk': 'Poison',\n",
              " 'Munchlax': 'Normal',\n",
              " 'Munna': 'Psychic',\n",
              " 'Murkrow': 'Dark',\n",
              " 'Musharna': 'Psychic',\n",
              " 'Natu': 'Psychic',\n",
              " 'Nidoking': 'Poison',\n",
              " 'Nidoqueen': 'Poison',\n",
              " 'Nidoran': 'Poison',\n",
              " 'Nidoran♂': 'Poison',\n",
              " 'Nidorina': 'Poison',\n",
              " 'Nidorino': 'Poison',\n",
              " 'Nincada': 'Bug',\n",
              " 'Ninetales': 'Fire',\n",
              " 'Ninjask': 'Bug',\n",
              " 'Noctowl': 'Normal',\n",
              " 'Noibat': 'Flying',\n",
              " 'Noivern': 'Flying',\n",
              " 'Nosepass': 'Rock',\n",
              " 'Numel': 'Fire',\n",
              " 'Nuzleaf': 'Grass',\n",
              " 'Octillery': 'Water',\n",
              " 'Oddish': 'Grass',\n",
              " 'Omanyte': 'Rock',\n",
              " 'Omastar': 'Rock',\n",
              " 'Onix': 'Rock',\n",
              " 'Oshawott': 'Water',\n",
              " 'Pachirisu': 'Electric',\n",
              " 'Palkia': 'Water',\n",
              " 'Palpitoad': 'Water',\n",
              " 'Pancham': 'Fighting',\n",
              " 'Pangoro': 'Fighting',\n",
              " 'Panpour': 'Water',\n",
              " 'Pansage': 'Grass',\n",
              " 'Pansear': 'Fire',\n",
              " 'Paras': 'Bug',\n",
              " 'Parasect': 'Bug',\n",
              " 'Patrat': 'Normal',\n",
              " 'Pawniard': 'Dark',\n",
              " 'Pelipper': 'Water',\n",
              " 'Persian': 'Normal',\n",
              " 'Petilil': 'Grass',\n",
              " 'Phanpy': 'Ground',\n",
              " 'Phantump': 'Ghost',\n",
              " 'Phione': 'Water',\n",
              " 'Pichu': 'Electric',\n",
              " 'Pidgeot': 'Normal',\n",
              " 'Pidgeotto': 'Normal',\n",
              " 'Pidgey': 'Normal',\n",
              " 'Pidove': 'Normal',\n",
              " 'Pignite': 'Fire',\n",
              " 'Pikachu': 'Electric',\n",
              " 'Piloswine': 'Ice',\n",
              " 'Pineco': 'Bug',\n",
              " 'Pinsir': 'Bug',\n",
              " 'Piplup': 'Water',\n",
              " 'Plusle': 'Electric',\n",
              " 'Politoed': 'Water',\n",
              " 'Poliwag': 'Water',\n",
              " 'Poliwhirl': 'Water',\n",
              " 'Poliwrath': 'Water',\n",
              " 'Ponyta': 'Fire',\n",
              " 'Poochyena': 'Dark',\n",
              " 'Porygon': 'Normal',\n",
              " 'Porygon-Z': 'Normal',\n",
              " 'Porygon2': 'Normal',\n",
              " 'Primeape': 'Fighting',\n",
              " 'Prinplup': 'Water',\n",
              " 'Probopass': 'Rock',\n",
              " 'Psyduck': 'Water',\n",
              " 'Pumpkaboo': 'Ghost',\n",
              " 'Pupitar': 'Rock',\n",
              " 'Purrloin': 'Dark',\n",
              " 'Purugly': 'Normal',\n",
              " 'Pyroar': 'Fire',\n",
              " 'Quagsire': 'Water',\n",
              " 'Quilava': 'Fire',\n",
              " 'Quilladin': 'Grass',\n",
              " 'Qwilfish': 'Water',\n",
              " 'Raichu': 'Electric',\n",
              " 'Raikou': 'Electric',\n",
              " 'Ralts': 'Psychic',\n",
              " 'Rampardos': 'Rock',\n",
              " 'Rapidash': 'Fire',\n",
              " 'Raticate': 'Normal',\n",
              " 'Rattata': 'Normal',\n",
              " 'Rayquaza': 'Dragon',\n",
              " 'Regice': 'Ice',\n",
              " 'Regigigas': 'Normal',\n",
              " 'Regirock': 'Rock',\n",
              " 'Registeel': 'Steel',\n",
              " 'Relicanth': 'Water',\n",
              " 'Remoraid': 'Water',\n",
              " 'Reshiram': 'Dragon',\n",
              " 'Reuniclus': 'Psychic',\n",
              " 'Rhydon': 'Ground',\n",
              " 'Rhyhorn': 'Ground',\n",
              " 'Rhyperior': 'Ground',\n",
              " 'Riolu': 'Fighting',\n",
              " 'Roggenrola': 'Rock',\n",
              " 'Roselia': 'Grass',\n",
              " 'Roserade': 'Grass',\n",
              " 'Rotom': 'Electric',\n",
              " 'Rufflet': 'Normal',\n",
              " 'Sableye': 'Dark',\n",
              " 'Salamence': 'Dragon',\n",
              " 'Samurott': 'Water',\n",
              " 'Sandile': 'Ground',\n",
              " 'Sandshrew': 'Ground',\n",
              " 'Sandslash': 'Ground',\n",
              " 'Sawk': 'Fighting',\n",
              " 'Sawsbuck': 'Normal',\n",
              " 'Scatterbug': 'Bug',\n",
              " 'Sceptile': 'Grass',\n",
              " 'Scizor': 'Bug',\n",
              " 'Scolipede': 'Bug',\n",
              " 'Scrafty': 'Dark',\n",
              " 'Scraggy': 'Dark',\n",
              " 'Scyther': 'Bug',\n",
              " 'Seadra': 'Water',\n",
              " 'Seaking': 'Water',\n",
              " 'Sealeo': 'Ice',\n",
              " 'Seedot': 'Grass',\n",
              " 'Seel': 'Water',\n",
              " 'Seismitoad': 'Water',\n",
              " 'Sentret': 'Normal',\n",
              " 'Serperior': 'Grass',\n",
              " 'Servine': 'Grass',\n",
              " 'Seviper': 'Poison',\n",
              " 'Sewaddle': 'Bug',\n",
              " 'Sharpedo': 'Water',\n",
              " 'Shaymin': 'Grass',\n",
              " 'Shedinja': 'Bug',\n",
              " 'Shelgon': 'Dragon',\n",
              " 'Shellder': 'Water',\n",
              " 'Shellos': 'Water',\n",
              " 'Shelmet': 'Bug',\n",
              " 'Shieldon': 'Rock',\n",
              " 'Shiftry': 'Grass',\n",
              " 'Shinx': 'Electric',\n",
              " 'Shroomish': 'Grass',\n",
              " 'Shuckle': 'Bug',\n",
              " 'Shuppet': 'Ghost',\n",
              " 'Sigilyph': 'Psychic',\n",
              " 'Silcoon': 'Bug',\n",
              " 'Simipour': 'Water',\n",
              " 'Simisage': 'Grass',\n",
              " 'Simisear': 'Fire',\n",
              " 'Skarmory': 'Steel',\n",
              " 'Skiddo': 'Grass',\n",
              " 'Skiploom': 'Grass',\n",
              " 'Skitty': 'Normal',\n",
              " 'Skorupi': 'Poison',\n",
              " 'Skrelp': 'Poison',\n",
              " 'Skuntank': 'Poison',\n",
              " 'Slaking': 'Normal',\n",
              " 'Slakoth': 'Normal',\n",
              " 'Sliggoo': 'Dragon',\n",
              " 'Slowbro': 'Water',\n",
              " 'Slowking': 'Water',\n",
              " 'Slowpoke': 'Water',\n",
              " 'Slugma': 'Fire',\n",
              " 'Slurpuff': 'Fairy',\n",
              " 'Smeargle': 'Normal',\n",
              " 'Smoochum': 'Ice',\n",
              " 'Sneasel': 'Dark',\n",
              " 'Snivy': 'Grass',\n",
              " 'Snorlax': 'Normal',\n",
              " 'Snorunt': 'Ice',\n",
              " 'Snover': 'Grass',\n",
              " 'Snubbull': 'Fairy',\n",
              " 'Solosis': 'Psychic',\n",
              " 'Solrock': 'Rock',\n",
              " 'Spearow': 'Normal',\n",
              " 'Spewpa': 'Bug',\n",
              " 'Spheal': 'Ice',\n",
              " 'Spinarak': 'Bug',\n",
              " 'Spinda': 'Normal',\n",
              " 'Spiritomb': 'Ghost',\n",
              " 'Spoink': 'Psychic',\n",
              " 'Spritzee': 'Fairy',\n",
              " 'Squirtle': 'Water',\n",
              " 'Stantler': 'Normal',\n",
              " 'Staraptor': 'Normal',\n",
              " 'Staravia': 'Normal',\n",
              " 'Starly': 'Normal',\n",
              " 'Starmie': 'Water',\n",
              " 'Staryu': 'Water',\n",
              " 'Steelix': 'Steel',\n",
              " 'Stoutland': 'Normal',\n",
              " 'Stunfisk': 'Ground',\n",
              " 'Stunky': 'Poison',\n",
              " 'Sudowoodo': 'Rock',\n",
              " 'Suicune': 'Water',\n",
              " 'Sunflora': 'Grass',\n",
              " 'Sunkern': 'Grass',\n",
              " 'Surskit': 'Bug',\n",
              " 'Swablu': 'Normal',\n",
              " 'Swadloon': 'Bug',\n",
              " 'Swalot': 'Poison',\n",
              " 'Swampert': 'Water',\n",
              " 'Swanna': 'Water',\n",
              " 'Swellow': 'Normal',\n",
              " 'Swinub': 'Ice',\n",
              " 'Swirlix': 'Fairy',\n",
              " 'Swoobat': 'Psychic',\n",
              " 'Sylveon': 'Fairy',\n",
              " 'Taillow': 'Normal',\n",
              " 'Talonflame': 'Fire',\n",
              " 'Tangela': 'Grass',\n",
              " 'Tangrowth': 'Grass',\n",
              " 'Tauros': 'Normal',\n",
              " 'Teddiursa': 'Normal',\n",
              " 'Tentacool': 'Water',\n",
              " 'Tentacruel': 'Water',\n",
              " 'Tepig': 'Fire',\n",
              " 'Terrakion': 'Rock',\n",
              " 'Throh': 'Fighting',\n",
              " 'Thundurus': 'Electric',\n",
              " 'Timburr': 'Fighting',\n",
              " 'Tirtouga': 'Water',\n",
              " 'Togekiss': 'Fairy',\n",
              " 'Togepi': 'Fairy',\n",
              " 'Togetic': 'Fairy',\n",
              " 'Torchic': 'Fire',\n",
              " 'Torkoal': 'Fire',\n",
              " 'Tornadus': 'Flying',\n",
              " 'Torterra': 'Grass',\n",
              " 'Totodile': 'Water',\n",
              " 'Toxicroak': 'Poison',\n",
              " 'Tranquill': 'Normal',\n",
              " 'Trapinch': 'Ground',\n",
              " 'Treecko': 'Grass',\n",
              " 'Trevenant': 'Ghost',\n",
              " 'Tropius': 'Grass',\n",
              " 'Trubbish': 'Poison',\n",
              " 'Turtwig': 'Grass',\n",
              " 'Tympole': 'Water',\n",
              " 'Tynamo': 'Electric',\n",
              " 'Typhlosion': 'Fire',\n",
              " 'Tyranitar': 'Rock',\n",
              " 'Tyrantrum': 'Rock',\n",
              " 'Tyrogue': 'Fighting',\n",
              " 'Tyrunt': 'Rock',\n",
              " 'Umbreon': 'Dark',\n",
              " 'Unfezant': 'Normal',\n",
              " 'Unown': 'Psychic',\n",
              " 'Ursaring': 'Normal',\n",
              " 'Uxie': 'Psychic',\n",
              " 'Vanillish': 'Ice',\n",
              " 'Vanillite': 'Ice',\n",
              " 'Vanilluxe': 'Ice',\n",
              " 'Vaporeon': 'Water',\n",
              " 'Venipede': 'Bug',\n",
              " 'Venomoth': 'Bug',\n",
              " 'Venonat': 'Bug',\n",
              " 'Venusaur': 'Grass',\n",
              " 'Vespiquen': 'Bug',\n",
              " 'Vibrava': 'Ground',\n",
              " 'Victini': 'Psychic',\n",
              " 'Victreebel': 'Grass',\n",
              " 'Vigoroth': 'Normal',\n",
              " 'Vileplume': 'Grass',\n",
              " 'Virizion': 'Grass',\n",
              " 'Vivillon': 'Bug',\n",
              " 'Volbeat': 'Bug',\n",
              " 'Volcanion': 'Fire',\n",
              " 'Volcarona': 'Bug',\n",
              " 'Voltorb': 'Electric',\n",
              " 'Vullaby': 'Dark',\n",
              " 'Vulpix': 'Fire',\n",
              " 'Wailmer': 'Water',\n",
              " 'Wailord': 'Water',\n",
              " 'Walrein': 'Ice',\n",
              " 'Wartortle': 'Water',\n",
              " 'Watchog': 'Normal',\n",
              " 'Weavile': 'Dark',\n",
              " 'Weedle': 'Bug',\n",
              " 'Weepinbell': 'Grass',\n",
              " 'Weezing': 'Poison',\n",
              " 'Whimsicott': 'Grass',\n",
              " 'Whirlipede': 'Bug',\n",
              " 'Whiscash': 'Water',\n",
              " 'Whismur': 'Normal',\n",
              " 'Wigglytuff': 'Normal',\n",
              " 'Wingull': 'Water',\n",
              " 'Wobbuffet': 'Psychic',\n",
              " 'Woobat': 'Psychic',\n",
              " 'Wooper': 'Water',\n",
              " 'Wormadam': 'Bug',\n",
              " 'Wurmple': 'Bug',\n",
              " 'Wynaut': 'Psychic',\n",
              " 'Xatu': 'Psychic',\n",
              " 'Xerneas': 'Fairy',\n",
              " 'Yamask': 'Ghost',\n",
              " 'Yanma': 'Bug',\n",
              " 'Yanmega': 'Bug',\n",
              " 'Yveltal': 'Dark',\n",
              " 'Zangoose': 'Normal',\n",
              " 'Zapdos': 'Electric',\n",
              " 'Zebstrika': 'Electric',\n",
              " 'Zekrom': 'Dragon',\n",
              " 'Zigzagoon': 'Normal',\n",
              " 'Zoroark': 'Dark',\n",
              " 'Zorua': 'Dark',\n",
              " 'Zubat': 'Poison',\n",
              " 'Zweilous': 'Dark',\n",
              " 'Zygarde': 'Dragon'}"
            ]
          },
          "metadata": {
            "tags": []
          },
          "execution_count": 139
        }
      ]
    },
    {
      "cell_type": "code",
      "metadata": {
        "id": "0puKVFGTpBju",
        "colab_type": "code",
        "outputId": "11048dec-19c2-4e8d-ff2e-fdc1abf0e9e0",
        "colab": {
          "base_uri": "https://localhost:8080/",
          "height": 1000
        }
      },
      "source": [
        "pd.read_csv(path + \"pokemon.csv\", usecols= [\"Pokemon\"], squeeze = True).to_list()"
      ],
      "execution_count": 0,
      "outputs": [
        {
          "output_type": "execute_result",
          "data": {
            "text/plain": [
              "['Bulbasaur',\n",
              " 'Ivysaur',\n",
              " 'Venusaur',\n",
              " 'Charmander',\n",
              " 'Charmeleon',\n",
              " 'Charizard',\n",
              " 'Squirtle',\n",
              " 'Wartortle',\n",
              " 'Blastoise',\n",
              " 'Caterpie',\n",
              " 'Metapod',\n",
              " 'Butterfree',\n",
              " 'Weedle',\n",
              " 'Kakuna',\n",
              " 'Beedrill',\n",
              " 'Pidgey',\n",
              " 'Pidgeotto',\n",
              " 'Pidgeot',\n",
              " 'Rattata',\n",
              " 'Raticate',\n",
              " 'Spearow',\n",
              " 'Fearow',\n",
              " 'Ekans',\n",
              " 'Arbok',\n",
              " 'Pikachu',\n",
              " 'Raichu',\n",
              " 'Sandshrew',\n",
              " 'Sandslash',\n",
              " 'Nidoran',\n",
              " 'Nidorina',\n",
              " 'Nidoqueen',\n",
              " 'Nidoran♂',\n",
              " 'Nidorino',\n",
              " 'Nidoking',\n",
              " 'Clefairy',\n",
              " 'Clefable',\n",
              " 'Vulpix',\n",
              " 'Ninetales',\n",
              " 'Jigglypuff',\n",
              " 'Wigglytuff',\n",
              " 'Zubat',\n",
              " 'Golbat',\n",
              " 'Oddish',\n",
              " 'Gloom',\n",
              " 'Vileplume',\n",
              " 'Paras',\n",
              " 'Parasect',\n",
              " 'Venonat',\n",
              " 'Venomoth',\n",
              " 'Diglett',\n",
              " 'Dugtrio',\n",
              " 'Meowth',\n",
              " 'Persian',\n",
              " 'Psyduck',\n",
              " 'Golduck',\n",
              " 'Mankey',\n",
              " 'Primeape',\n",
              " 'Growlithe',\n",
              " 'Arcanine',\n",
              " 'Poliwag',\n",
              " 'Poliwhirl',\n",
              " 'Poliwrath',\n",
              " 'Abra',\n",
              " 'Kadabra',\n",
              " 'Alakazam',\n",
              " 'Machop',\n",
              " 'Machoke',\n",
              " 'Machamp',\n",
              " 'Bellsprout',\n",
              " 'Weepinbell',\n",
              " 'Victreebel',\n",
              " 'Tentacool',\n",
              " 'Tentacruel',\n",
              " 'Geodude',\n",
              " 'Graveler',\n",
              " 'Golem',\n",
              " 'Ponyta',\n",
              " 'Rapidash',\n",
              " 'Slowpoke',\n",
              " 'Slowbro',\n",
              " 'Magnemite',\n",
              " 'Magneton',\n",
              " \"Farfetch'd\",\n",
              " 'Doduo',\n",
              " 'Dodrio',\n",
              " 'Seel',\n",
              " 'Dewgong',\n",
              " 'Grimer',\n",
              " 'Muk',\n",
              " 'Shellder',\n",
              " 'Cloyster',\n",
              " 'Gastly',\n",
              " 'Haunter',\n",
              " 'Gengar',\n",
              " 'Onix',\n",
              " 'Drowzee',\n",
              " 'Hypno',\n",
              " 'Krabby',\n",
              " 'Kingler',\n",
              " 'Voltorb',\n",
              " 'Electrode',\n",
              " 'Exeggcute',\n",
              " 'Exeggutor',\n",
              " 'Cubone',\n",
              " 'Marowak',\n",
              " 'Hitmonlee',\n",
              " 'Hitmonchan',\n",
              " 'Lickitung',\n",
              " 'Koffing',\n",
              " 'Weezing',\n",
              " 'Rhyhorn',\n",
              " 'Rhydon',\n",
              " 'Chansey',\n",
              " 'Tangela',\n",
              " 'Kangaskhan',\n",
              " 'Horsea',\n",
              " 'Seadra',\n",
              " 'Goldeen',\n",
              " 'Seaking',\n",
              " 'Staryu',\n",
              " 'Starmie',\n",
              " 'Mr. Mime',\n",
              " 'Scyther',\n",
              " 'Jynx',\n",
              " 'Electabuzz',\n",
              " 'Magmar',\n",
              " 'Pinsir',\n",
              " 'Tauros',\n",
              " 'Magikarp',\n",
              " 'Gyarados',\n",
              " 'Lapras',\n",
              " 'Ditto',\n",
              " 'Eevee',\n",
              " 'Vaporeon',\n",
              " 'Jolteon',\n",
              " 'Flareon',\n",
              " 'Porygon',\n",
              " 'Omanyte',\n",
              " 'Omastar',\n",
              " 'Kabuto',\n",
              " 'Kabutops',\n",
              " 'Aerodactyl',\n",
              " 'Snorlax',\n",
              " 'Articuno',\n",
              " 'Zapdos',\n",
              " 'Moltres',\n",
              " 'Dratini',\n",
              " 'Dragonair',\n",
              " 'Dragonite',\n",
              " 'Mewtwo',\n",
              " 'Mew',\n",
              " 'Chikorita',\n",
              " 'Bayleef',\n",
              " 'Meganium',\n",
              " 'Cyndaquil',\n",
              " 'Quilava',\n",
              " 'Typhlosion',\n",
              " 'Totodile',\n",
              " 'Croconaw',\n",
              " 'Feraligatr',\n",
              " 'Sentret',\n",
              " 'Furret',\n",
              " 'Hoothoot',\n",
              " 'Noctowl',\n",
              " 'Ledyba',\n",
              " 'Ledian',\n",
              " 'Spinarak',\n",
              " 'Ariados',\n",
              " 'Crobat',\n",
              " 'Chinchou',\n",
              " 'Lanturn',\n",
              " 'Pichu',\n",
              " 'Cleffa',\n",
              " 'Igglybuff',\n",
              " 'Togepi',\n",
              " 'Togetic',\n",
              " 'Natu',\n",
              " 'Xatu',\n",
              " 'Mareep',\n",
              " 'Flaaffy',\n",
              " 'Ampharos',\n",
              " 'Bellossom',\n",
              " 'Marill',\n",
              " 'Azumarill',\n",
              " 'Sudowoodo',\n",
              " 'Politoed',\n",
              " 'Hoppip',\n",
              " 'Skiploom',\n",
              " 'Jumpluff',\n",
              " 'Aipom',\n",
              " 'Sunkern',\n",
              " 'Sunflora',\n",
              " 'Yanma',\n",
              " 'Wooper',\n",
              " 'Quagsire',\n",
              " 'Espeon',\n",
              " 'Umbreon',\n",
              " 'Murkrow',\n",
              " 'Slowking',\n",
              " 'Misdreavus',\n",
              " 'Unown',\n",
              " 'Wobbuffet',\n",
              " 'Girafarig',\n",
              " 'Pineco',\n",
              " 'Forretress',\n",
              " 'Dunsparce',\n",
              " 'Gligar',\n",
              " 'Steelix',\n",
              " 'Snubbull',\n",
              " 'Granbull',\n",
              " 'Qwilfish',\n",
              " 'Scizor',\n",
              " 'Shuckle',\n",
              " 'Heracross',\n",
              " 'Sneasel',\n",
              " 'Teddiursa',\n",
              " 'Ursaring',\n",
              " 'Slugma',\n",
              " 'Magcargo',\n",
              " 'Swinub',\n",
              " 'Piloswine',\n",
              " 'Corsola',\n",
              " 'Remoraid',\n",
              " 'Octillery',\n",
              " 'Delibird',\n",
              " 'Mantine',\n",
              " 'Skarmory',\n",
              " 'Houndour',\n",
              " 'Houndoom',\n",
              " 'Kingdra',\n",
              " 'Phanpy',\n",
              " 'Donphan',\n",
              " 'Porygon2',\n",
              " 'Stantler',\n",
              " 'Smeargle',\n",
              " 'Tyrogue',\n",
              " 'Hitmontop',\n",
              " 'Smoochum',\n",
              " 'Elekid',\n",
              " 'Magby',\n",
              " 'Miltank',\n",
              " 'Blissey',\n",
              " 'Raikou',\n",
              " 'Entei',\n",
              " 'Suicune',\n",
              " 'Larvitar',\n",
              " 'Pupitar',\n",
              " 'Tyranitar',\n",
              " 'Lugia',\n",
              " 'Ho-oh',\n",
              " 'Celebi',\n",
              " 'Treecko',\n",
              " 'Grovyle',\n",
              " 'Sceptile',\n",
              " 'Torchic',\n",
              " 'Combusken',\n",
              " 'Blaziken',\n",
              " 'Mudkip',\n",
              " 'Marshtomp',\n",
              " 'Swampert',\n",
              " 'Poochyena',\n",
              " 'Mightyena',\n",
              " 'Zigzagoon',\n",
              " 'Linoone',\n",
              " 'Wurmple',\n",
              " 'Silcoon',\n",
              " 'Beautifly',\n",
              " 'Cascoon',\n",
              " 'Dustox',\n",
              " 'Lotad',\n",
              " 'Lombre',\n",
              " 'Ludicolo',\n",
              " 'Seedot',\n",
              " 'Nuzleaf',\n",
              " 'Shiftry',\n",
              " 'Taillow',\n",
              " 'Swellow',\n",
              " 'Wingull',\n",
              " 'Pelipper',\n",
              " 'Ralts',\n",
              " 'Kirlia',\n",
              " 'Gardevoir',\n",
              " 'Surskit',\n",
              " 'Masquerain',\n",
              " 'Shroomish',\n",
              " 'Breloom',\n",
              " 'Slakoth',\n",
              " 'Vigoroth',\n",
              " 'Slaking',\n",
              " 'Nincada',\n",
              " 'Ninjask',\n",
              " 'Shedinja',\n",
              " 'Whismur',\n",
              " 'Loudred',\n",
              " 'Exploud',\n",
              " 'Makuhita',\n",
              " 'Hariyama',\n",
              " 'Azurill',\n",
              " 'Nosepass',\n",
              " 'Skitty',\n",
              " 'Delcatty',\n",
              " 'Sableye',\n",
              " 'Mawile',\n",
              " 'Aron',\n",
              " 'Lairon',\n",
              " 'Aggron',\n",
              " 'Meditite',\n",
              " 'Medicham',\n",
              " 'Electrike',\n",
              " 'Manectric',\n",
              " 'Plusle',\n",
              " 'Minun',\n",
              " 'Volbeat',\n",
              " 'Illumise',\n",
              " 'Roselia',\n",
              " 'Gulpin',\n",
              " 'Swalot',\n",
              " 'Carvanha',\n",
              " 'Sharpedo',\n",
              " 'Wailmer',\n",
              " 'Wailord',\n",
              " 'Numel',\n",
              " 'Camerupt',\n",
              " 'Torkoal',\n",
              " 'Spoink',\n",
              " 'Grumpig',\n",
              " 'Spinda',\n",
              " 'Trapinch',\n",
              " 'Vibrava',\n",
              " 'Flygon',\n",
              " 'Cacnea',\n",
              " 'Cacturne',\n",
              " 'Swablu',\n",
              " 'Altaria',\n",
              " 'Zangoose',\n",
              " 'Seviper',\n",
              " 'Lunatone',\n",
              " 'Solrock',\n",
              " 'Barboach',\n",
              " 'Whiscash',\n",
              " 'Corphish',\n",
              " 'Crawdaunt',\n",
              " 'Baltoy',\n",
              " 'Claydol',\n",
              " 'Lileep',\n",
              " 'Cradily',\n",
              " 'Anorith',\n",
              " 'Armaldo',\n",
              " 'Feebas',\n",
              " 'Milotic',\n",
              " 'Castform',\n",
              " 'Kecleon',\n",
              " 'Shuppet',\n",
              " 'Banette',\n",
              " 'Duskull',\n",
              " 'Dusclops',\n",
              " 'Tropius',\n",
              " 'Chimecho',\n",
              " 'Absol',\n",
              " 'Wynaut',\n",
              " 'Snorunt',\n",
              " 'Glalie',\n",
              " 'Spheal',\n",
              " 'Sealeo',\n",
              " 'Walrein',\n",
              " 'Clamperl',\n",
              " 'Huntail',\n",
              " 'Gorebyss',\n",
              " 'Relicanth',\n",
              " 'Luvdisc',\n",
              " 'Bagon',\n",
              " 'Shelgon',\n",
              " 'Salamence',\n",
              " 'Beldum',\n",
              " 'Metang',\n",
              " 'Metagross',\n",
              " 'Regirock',\n",
              " 'Regice',\n",
              " 'Registeel',\n",
              " 'Latias',\n",
              " 'Latios',\n",
              " 'Kyogre',\n",
              " 'Groudon',\n",
              " 'Rayquaza',\n",
              " 'Jirachi',\n",
              " 'Deoxys',\n",
              " 'Turtwig',\n",
              " 'Grotle',\n",
              " 'Torterra',\n",
              " 'Chimchar',\n",
              " 'Monferno',\n",
              " 'Infernape',\n",
              " 'Piplup',\n",
              " 'Prinplup',\n",
              " 'Empoleon',\n",
              " 'Starly',\n",
              " 'Staravia',\n",
              " 'Staraptor',\n",
              " 'Bidoof',\n",
              " 'Bibarel',\n",
              " 'Kricketot',\n",
              " 'Kricketune',\n",
              " 'Shinx',\n",
              " 'Luxio',\n",
              " 'Luxray',\n",
              " 'Budew',\n",
              " 'Roserade',\n",
              " 'Cranidos',\n",
              " 'Rampardos',\n",
              " 'Shieldon',\n",
              " 'Bastiodon',\n",
              " 'Burmy',\n",
              " 'Wormadam',\n",
              " 'Mothim',\n",
              " 'Combee',\n",
              " 'Vespiquen',\n",
              " 'Pachirisu',\n",
              " 'Buizel',\n",
              " 'Floatzel',\n",
              " 'Cherubi',\n",
              " 'Cherrim',\n",
              " 'Shellos',\n",
              " 'Gastrodon',\n",
              " 'Ambipom',\n",
              " 'Drifloon',\n",
              " 'Drifblim',\n",
              " 'Buneary',\n",
              " 'Lopunny',\n",
              " 'Mismagius',\n",
              " 'Honchkrow',\n",
              " 'Glameow',\n",
              " 'Purugly',\n",
              " 'Chingling',\n",
              " 'Stunky',\n",
              " 'Skuntank',\n",
              " 'Bronzor',\n",
              " 'Bronzong',\n",
              " 'Bonsly',\n",
              " 'Mime Jr.',\n",
              " 'Happiny',\n",
              " 'Chatot',\n",
              " 'Spiritomb',\n",
              " 'Gible',\n",
              " 'Gabite',\n",
              " 'Garchomp',\n",
              " 'Munchlax',\n",
              " 'Riolu',\n",
              " 'Lucario',\n",
              " 'Hippopotas',\n",
              " 'Hippowdon',\n",
              " 'Skorupi',\n",
              " 'Drapion',\n",
              " 'Croagunk',\n",
              " 'Toxicroak',\n",
              " 'Carnivine',\n",
              " 'Finneon',\n",
              " 'Lumineon',\n",
              " 'Mantyke',\n",
              " 'Snover',\n",
              " 'Abomasnow',\n",
              " 'Weavile',\n",
              " 'Magnezone',\n",
              " 'Lickilicky',\n",
              " 'Rhyperior',\n",
              " 'Tangrowth',\n",
              " 'Electivire',\n",
              " 'Magmortar',\n",
              " 'Togekiss',\n",
              " 'Yanmega',\n",
              " 'Leafeon',\n",
              " 'Glaceon',\n",
              " 'Gliscor',\n",
              " 'Mamoswine',\n",
              " 'Porygon-Z',\n",
              " 'Gallade',\n",
              " 'Probopass',\n",
              " 'Dusknoir',\n",
              " 'Froslass',\n",
              " 'Rotom',\n",
              " 'Uxie',\n",
              " 'Mesprit',\n",
              " 'Azelf',\n",
              " 'Dialga',\n",
              " 'Palkia',\n",
              " 'Heatran',\n",
              " 'Regigigas',\n",
              " 'Giratina',\n",
              " 'Cresselia',\n",
              " 'Phione',\n",
              " 'Manaphy',\n",
              " 'Darkrai',\n",
              " 'Shaymin',\n",
              " 'Arceus',\n",
              " 'Victini',\n",
              " 'Snivy',\n",
              " 'Servine',\n",
              " 'Serperior',\n",
              " 'Tepig',\n",
              " 'Pignite',\n",
              " 'Emboar',\n",
              " 'Oshawott',\n",
              " 'Dewott',\n",
              " 'Samurott',\n",
              " 'Patrat',\n",
              " 'Watchog',\n",
              " 'Lillipup',\n",
              " 'Herdier',\n",
              " 'Stoutland',\n",
              " 'Purrloin',\n",
              " 'Liepard',\n",
              " 'Pansage',\n",
              " 'Simisage',\n",
              " 'Pansear',\n",
              " 'Simisear',\n",
              " 'Panpour',\n",
              " 'Simipour',\n",
              " 'Munna',\n",
              " 'Musharna',\n",
              " 'Pidove',\n",
              " 'Tranquill',\n",
              " 'Unfezant',\n",
              " 'Blitzle',\n",
              " 'Zebstrika',\n",
              " 'Roggenrola',\n",
              " 'Boldore',\n",
              " 'Gigalith',\n",
              " 'Woobat',\n",
              " 'Swoobat',\n",
              " 'Drilbur',\n",
              " 'Excadrill',\n",
              " 'Audino',\n",
              " 'Timburr',\n",
              " 'Gurdurr',\n",
              " 'Conkeldurr',\n",
              " 'Tympole',\n",
              " 'Palpitoad',\n",
              " 'Seismitoad',\n",
              " 'Throh',\n",
              " 'Sawk',\n",
              " 'Sewaddle',\n",
              " 'Swadloon',\n",
              " 'Leavanny',\n",
              " 'Venipede',\n",
              " 'Whirlipede',\n",
              " 'Scolipede',\n",
              " 'Cottonee',\n",
              " 'Whimsicott',\n",
              " 'Petilil',\n",
              " 'Lilligant',\n",
              " 'Basculin',\n",
              " 'Sandile',\n",
              " 'Krokorok',\n",
              " 'Krookodile',\n",
              " 'Darumaka',\n",
              " 'Darmanitan',\n",
              " 'Maractus',\n",
              " 'Dwebble',\n",
              " 'Crustle',\n",
              " 'Scraggy',\n",
              " 'Scrafty',\n",
              " 'Sigilyph',\n",
              " 'Yamask',\n",
              " 'Cofagrigus',\n",
              " 'Tirtouga',\n",
              " 'Carracosta',\n",
              " 'Archen',\n",
              " 'Archeops',\n",
              " 'Trubbish',\n",
              " 'Garbodor',\n",
              " 'Zorua',\n",
              " 'Zoroark',\n",
              " 'Minccino',\n",
              " 'Cinccino',\n",
              " 'Gothita',\n",
              " 'Gothorita',\n",
              " 'Gothitelle',\n",
              " 'Solosis',\n",
              " 'Duosion',\n",
              " 'Reuniclus',\n",
              " 'Ducklett',\n",
              " 'Swanna',\n",
              " 'Vanillite',\n",
              " 'Vanillish',\n",
              " 'Vanilluxe',\n",
              " 'Deerling',\n",
              " 'Sawsbuck',\n",
              " 'Emolga',\n",
              " 'Karrablast',\n",
              " 'Escavalier',\n",
              " 'Foongus',\n",
              " 'Amoonguss',\n",
              " 'Frillish',\n",
              " 'Jellicent',\n",
              " 'Alomomola',\n",
              " 'Joltik',\n",
              " 'Galvantula',\n",
              " 'Ferroseed',\n",
              " 'Ferrothorn',\n",
              " 'Klink',\n",
              " 'Klang',\n",
              " 'Klinklang',\n",
              " 'Tynamo',\n",
              " 'Eelektrik',\n",
              " 'Eelektross',\n",
              " 'Elgyem',\n",
              " 'Beheeyem',\n",
              " 'Litwick',\n",
              " 'Lampent',\n",
              " 'Chandelure',\n",
              " 'Axew',\n",
              " 'Fraxure',\n",
              " 'Haxorus',\n",
              " 'Cubchoo',\n",
              " 'Beartic',\n",
              " 'Cryogonal',\n",
              " 'Shelmet',\n",
              " 'Accelgor',\n",
              " 'Stunfisk',\n",
              " 'Mienfoo',\n",
              " 'Mienshao',\n",
              " 'Druddigon',\n",
              " 'Golett',\n",
              " 'Golurk',\n",
              " 'Pawniard',\n",
              " 'Bisharp',\n",
              " 'Bouffalant',\n",
              " 'Rufflet',\n",
              " 'Braviary',\n",
              " 'Vullaby',\n",
              " 'Mandibuzz',\n",
              " 'Heatmor',\n",
              " 'Durant',\n",
              " 'Deino',\n",
              " 'Zweilous',\n",
              " 'Hydreigon',\n",
              " 'Larvesta',\n",
              " 'Volcarona',\n",
              " 'Cobalion',\n",
              " 'Terrakion',\n",
              " 'Virizion',\n",
              " 'Tornadus',\n",
              " 'Thundurus',\n",
              " 'Reshiram',\n",
              " 'Zekrom',\n",
              " 'Landorus',\n",
              " 'Kyurem',\n",
              " 'Keldeo',\n",
              " 'Meloetta',\n",
              " 'Genesect',\n",
              " 'Chespin',\n",
              " 'Quilladin',\n",
              " 'Chesnaught',\n",
              " 'Fennekin',\n",
              " 'Braixen',\n",
              " 'Delphox',\n",
              " 'Froakie',\n",
              " 'Frogadier',\n",
              " 'Greninja',\n",
              " 'Bunnelby',\n",
              " 'Diggersby',\n",
              " 'Fletchling',\n",
              " 'Fletchinder',\n",
              " 'Talonflame',\n",
              " 'Scatterbug',\n",
              " 'Spewpa',\n",
              " 'Vivillon',\n",
              " 'Litleo',\n",
              " 'Pyroar',\n",
              " 'Flabébé',\n",
              " 'Floette',\n",
              " 'Florges',\n",
              " 'Skiddo',\n",
              " 'Gogoat',\n",
              " 'Pancham',\n",
              " 'Pangoro',\n",
              " 'Furfrou',\n",
              " 'Espurr',\n",
              " 'Meowstic',\n",
              " 'Honedge',\n",
              " 'Doublade',\n",
              " 'Aegislash',\n",
              " 'Spritzee',\n",
              " 'Aromatisse',\n",
              " 'Swirlix',\n",
              " 'Slurpuff',\n",
              " 'Inkay',\n",
              " 'Malamar',\n",
              " 'Binacle',\n",
              " 'Barbaracle',\n",
              " 'Skrelp',\n",
              " 'Dragalge',\n",
              " 'Clauncher',\n",
              " 'Clawitzer',\n",
              " 'Helioptile',\n",
              " 'Heliolisk',\n",
              " 'Tyrunt',\n",
              " 'Tyrantrum',\n",
              " 'Amaura',\n",
              " 'Aurorus',\n",
              " 'Sylveon',\n",
              " 'Hawlucha',\n",
              " 'Dedenne',\n",
              " 'Carbink',\n",
              " 'Goomy',\n",
              " 'Sliggoo',\n",
              " 'Goodra',\n",
              " 'Klefki',\n",
              " 'Phantump',\n",
              " 'Trevenant',\n",
              " 'Pumpkaboo',\n",
              " 'Gourgeist',\n",
              " 'Bergmite',\n",
              " 'Avalugg',\n",
              " 'Noibat',\n",
              " 'Noivern',\n",
              " 'Xerneas',\n",
              " 'Yveltal',\n",
              " 'Zygarde',\n",
              " 'Diancie',\n",
              " 'Hoopa',\n",
              " 'Volcanion']"
            ]
          },
          "metadata": {
            "tags": []
          },
          "execution_count": 142
        }
      ]
    },
    {
      "cell_type": "code",
      "metadata": {
        "id": "F_4cXVJppacJ",
        "colab_type": "code",
        "outputId": "bfacbe75-7ab7-477c-ce1e-5e4e0cb2f556",
        "colab": {
          "base_uri": "https://localhost:8080/",
          "height": 1000
        }
      },
      "source": [
        "pd.read_csv(path + \"pokemon.csv\", usecols= [\"Pokemon\"], squeeze = True).to_dict()"
      ],
      "execution_count": 0,
      "outputs": [
        {
          "output_type": "execute_result",
          "data": {
            "text/plain": [
              "{0: 'Bulbasaur',\n",
              " 1: 'Ivysaur',\n",
              " 2: 'Venusaur',\n",
              " 3: 'Charmander',\n",
              " 4: 'Charmeleon',\n",
              " 5: 'Charizard',\n",
              " 6: 'Squirtle',\n",
              " 7: 'Wartortle',\n",
              " 8: 'Blastoise',\n",
              " 9: 'Caterpie',\n",
              " 10: 'Metapod',\n",
              " 11: 'Butterfree',\n",
              " 12: 'Weedle',\n",
              " 13: 'Kakuna',\n",
              " 14: 'Beedrill',\n",
              " 15: 'Pidgey',\n",
              " 16: 'Pidgeotto',\n",
              " 17: 'Pidgeot',\n",
              " 18: 'Rattata',\n",
              " 19: 'Raticate',\n",
              " 20: 'Spearow',\n",
              " 21: 'Fearow',\n",
              " 22: 'Ekans',\n",
              " 23: 'Arbok',\n",
              " 24: 'Pikachu',\n",
              " 25: 'Raichu',\n",
              " 26: 'Sandshrew',\n",
              " 27: 'Sandslash',\n",
              " 28: 'Nidoran',\n",
              " 29: 'Nidorina',\n",
              " 30: 'Nidoqueen',\n",
              " 31: 'Nidoran♂',\n",
              " 32: 'Nidorino',\n",
              " 33: 'Nidoking',\n",
              " 34: 'Clefairy',\n",
              " 35: 'Clefable',\n",
              " 36: 'Vulpix',\n",
              " 37: 'Ninetales',\n",
              " 38: 'Jigglypuff',\n",
              " 39: 'Wigglytuff',\n",
              " 40: 'Zubat',\n",
              " 41: 'Golbat',\n",
              " 42: 'Oddish',\n",
              " 43: 'Gloom',\n",
              " 44: 'Vileplume',\n",
              " 45: 'Paras',\n",
              " 46: 'Parasect',\n",
              " 47: 'Venonat',\n",
              " 48: 'Venomoth',\n",
              " 49: 'Diglett',\n",
              " 50: 'Dugtrio',\n",
              " 51: 'Meowth',\n",
              " 52: 'Persian',\n",
              " 53: 'Psyduck',\n",
              " 54: 'Golduck',\n",
              " 55: 'Mankey',\n",
              " 56: 'Primeape',\n",
              " 57: 'Growlithe',\n",
              " 58: 'Arcanine',\n",
              " 59: 'Poliwag',\n",
              " 60: 'Poliwhirl',\n",
              " 61: 'Poliwrath',\n",
              " 62: 'Abra',\n",
              " 63: 'Kadabra',\n",
              " 64: 'Alakazam',\n",
              " 65: 'Machop',\n",
              " 66: 'Machoke',\n",
              " 67: 'Machamp',\n",
              " 68: 'Bellsprout',\n",
              " 69: 'Weepinbell',\n",
              " 70: 'Victreebel',\n",
              " 71: 'Tentacool',\n",
              " 72: 'Tentacruel',\n",
              " 73: 'Geodude',\n",
              " 74: 'Graveler',\n",
              " 75: 'Golem',\n",
              " 76: 'Ponyta',\n",
              " 77: 'Rapidash',\n",
              " 78: 'Slowpoke',\n",
              " 79: 'Slowbro',\n",
              " 80: 'Magnemite',\n",
              " 81: 'Magneton',\n",
              " 82: \"Farfetch'd\",\n",
              " 83: 'Doduo',\n",
              " 84: 'Dodrio',\n",
              " 85: 'Seel',\n",
              " 86: 'Dewgong',\n",
              " 87: 'Grimer',\n",
              " 88: 'Muk',\n",
              " 89: 'Shellder',\n",
              " 90: 'Cloyster',\n",
              " 91: 'Gastly',\n",
              " 92: 'Haunter',\n",
              " 93: 'Gengar',\n",
              " 94: 'Onix',\n",
              " 95: 'Drowzee',\n",
              " 96: 'Hypno',\n",
              " 97: 'Krabby',\n",
              " 98: 'Kingler',\n",
              " 99: 'Voltorb',\n",
              " 100: 'Electrode',\n",
              " 101: 'Exeggcute',\n",
              " 102: 'Exeggutor',\n",
              " 103: 'Cubone',\n",
              " 104: 'Marowak',\n",
              " 105: 'Hitmonlee',\n",
              " 106: 'Hitmonchan',\n",
              " 107: 'Lickitung',\n",
              " 108: 'Koffing',\n",
              " 109: 'Weezing',\n",
              " 110: 'Rhyhorn',\n",
              " 111: 'Rhydon',\n",
              " 112: 'Chansey',\n",
              " 113: 'Tangela',\n",
              " 114: 'Kangaskhan',\n",
              " 115: 'Horsea',\n",
              " 116: 'Seadra',\n",
              " 117: 'Goldeen',\n",
              " 118: 'Seaking',\n",
              " 119: 'Staryu',\n",
              " 120: 'Starmie',\n",
              " 121: 'Mr. Mime',\n",
              " 122: 'Scyther',\n",
              " 123: 'Jynx',\n",
              " 124: 'Electabuzz',\n",
              " 125: 'Magmar',\n",
              " 126: 'Pinsir',\n",
              " 127: 'Tauros',\n",
              " 128: 'Magikarp',\n",
              " 129: 'Gyarados',\n",
              " 130: 'Lapras',\n",
              " 131: 'Ditto',\n",
              " 132: 'Eevee',\n",
              " 133: 'Vaporeon',\n",
              " 134: 'Jolteon',\n",
              " 135: 'Flareon',\n",
              " 136: 'Porygon',\n",
              " 137: 'Omanyte',\n",
              " 138: 'Omastar',\n",
              " 139: 'Kabuto',\n",
              " 140: 'Kabutops',\n",
              " 141: 'Aerodactyl',\n",
              " 142: 'Snorlax',\n",
              " 143: 'Articuno',\n",
              " 144: 'Zapdos',\n",
              " 145: 'Moltres',\n",
              " 146: 'Dratini',\n",
              " 147: 'Dragonair',\n",
              " 148: 'Dragonite',\n",
              " 149: 'Mewtwo',\n",
              " 150: 'Mew',\n",
              " 151: 'Chikorita',\n",
              " 152: 'Bayleef',\n",
              " 153: 'Meganium',\n",
              " 154: 'Cyndaquil',\n",
              " 155: 'Quilava',\n",
              " 156: 'Typhlosion',\n",
              " 157: 'Totodile',\n",
              " 158: 'Croconaw',\n",
              " 159: 'Feraligatr',\n",
              " 160: 'Sentret',\n",
              " 161: 'Furret',\n",
              " 162: 'Hoothoot',\n",
              " 163: 'Noctowl',\n",
              " 164: 'Ledyba',\n",
              " 165: 'Ledian',\n",
              " 166: 'Spinarak',\n",
              " 167: 'Ariados',\n",
              " 168: 'Crobat',\n",
              " 169: 'Chinchou',\n",
              " 170: 'Lanturn',\n",
              " 171: 'Pichu',\n",
              " 172: 'Cleffa',\n",
              " 173: 'Igglybuff',\n",
              " 174: 'Togepi',\n",
              " 175: 'Togetic',\n",
              " 176: 'Natu',\n",
              " 177: 'Xatu',\n",
              " 178: 'Mareep',\n",
              " 179: 'Flaaffy',\n",
              " 180: 'Ampharos',\n",
              " 181: 'Bellossom',\n",
              " 182: 'Marill',\n",
              " 183: 'Azumarill',\n",
              " 184: 'Sudowoodo',\n",
              " 185: 'Politoed',\n",
              " 186: 'Hoppip',\n",
              " 187: 'Skiploom',\n",
              " 188: 'Jumpluff',\n",
              " 189: 'Aipom',\n",
              " 190: 'Sunkern',\n",
              " 191: 'Sunflora',\n",
              " 192: 'Yanma',\n",
              " 193: 'Wooper',\n",
              " 194: 'Quagsire',\n",
              " 195: 'Espeon',\n",
              " 196: 'Umbreon',\n",
              " 197: 'Murkrow',\n",
              " 198: 'Slowking',\n",
              " 199: 'Misdreavus',\n",
              " 200: 'Unown',\n",
              " 201: 'Wobbuffet',\n",
              " 202: 'Girafarig',\n",
              " 203: 'Pineco',\n",
              " 204: 'Forretress',\n",
              " 205: 'Dunsparce',\n",
              " 206: 'Gligar',\n",
              " 207: 'Steelix',\n",
              " 208: 'Snubbull',\n",
              " 209: 'Granbull',\n",
              " 210: 'Qwilfish',\n",
              " 211: 'Scizor',\n",
              " 212: 'Shuckle',\n",
              " 213: 'Heracross',\n",
              " 214: 'Sneasel',\n",
              " 215: 'Teddiursa',\n",
              " 216: 'Ursaring',\n",
              " 217: 'Slugma',\n",
              " 218: 'Magcargo',\n",
              " 219: 'Swinub',\n",
              " 220: 'Piloswine',\n",
              " 221: 'Corsola',\n",
              " 222: 'Remoraid',\n",
              " 223: 'Octillery',\n",
              " 224: 'Delibird',\n",
              " 225: 'Mantine',\n",
              " 226: 'Skarmory',\n",
              " 227: 'Houndour',\n",
              " 228: 'Houndoom',\n",
              " 229: 'Kingdra',\n",
              " 230: 'Phanpy',\n",
              " 231: 'Donphan',\n",
              " 232: 'Porygon2',\n",
              " 233: 'Stantler',\n",
              " 234: 'Smeargle',\n",
              " 235: 'Tyrogue',\n",
              " 236: 'Hitmontop',\n",
              " 237: 'Smoochum',\n",
              " 238: 'Elekid',\n",
              " 239: 'Magby',\n",
              " 240: 'Miltank',\n",
              " 241: 'Blissey',\n",
              " 242: 'Raikou',\n",
              " 243: 'Entei',\n",
              " 244: 'Suicune',\n",
              " 245: 'Larvitar',\n",
              " 246: 'Pupitar',\n",
              " 247: 'Tyranitar',\n",
              " 248: 'Lugia',\n",
              " 249: 'Ho-oh',\n",
              " 250: 'Celebi',\n",
              " 251: 'Treecko',\n",
              " 252: 'Grovyle',\n",
              " 253: 'Sceptile',\n",
              " 254: 'Torchic',\n",
              " 255: 'Combusken',\n",
              " 256: 'Blaziken',\n",
              " 257: 'Mudkip',\n",
              " 258: 'Marshtomp',\n",
              " 259: 'Swampert',\n",
              " 260: 'Poochyena',\n",
              " 261: 'Mightyena',\n",
              " 262: 'Zigzagoon',\n",
              " 263: 'Linoone',\n",
              " 264: 'Wurmple',\n",
              " 265: 'Silcoon',\n",
              " 266: 'Beautifly',\n",
              " 267: 'Cascoon',\n",
              " 268: 'Dustox',\n",
              " 269: 'Lotad',\n",
              " 270: 'Lombre',\n",
              " 271: 'Ludicolo',\n",
              " 272: 'Seedot',\n",
              " 273: 'Nuzleaf',\n",
              " 274: 'Shiftry',\n",
              " 275: 'Taillow',\n",
              " 276: 'Swellow',\n",
              " 277: 'Wingull',\n",
              " 278: 'Pelipper',\n",
              " 279: 'Ralts',\n",
              " 280: 'Kirlia',\n",
              " 281: 'Gardevoir',\n",
              " 282: 'Surskit',\n",
              " 283: 'Masquerain',\n",
              " 284: 'Shroomish',\n",
              " 285: 'Breloom',\n",
              " 286: 'Slakoth',\n",
              " 287: 'Vigoroth',\n",
              " 288: 'Slaking',\n",
              " 289: 'Nincada',\n",
              " 290: 'Ninjask',\n",
              " 291: 'Shedinja',\n",
              " 292: 'Whismur',\n",
              " 293: 'Loudred',\n",
              " 294: 'Exploud',\n",
              " 295: 'Makuhita',\n",
              " 296: 'Hariyama',\n",
              " 297: 'Azurill',\n",
              " 298: 'Nosepass',\n",
              " 299: 'Skitty',\n",
              " 300: 'Delcatty',\n",
              " 301: 'Sableye',\n",
              " 302: 'Mawile',\n",
              " 303: 'Aron',\n",
              " 304: 'Lairon',\n",
              " 305: 'Aggron',\n",
              " 306: 'Meditite',\n",
              " 307: 'Medicham',\n",
              " 308: 'Electrike',\n",
              " 309: 'Manectric',\n",
              " 310: 'Plusle',\n",
              " 311: 'Minun',\n",
              " 312: 'Volbeat',\n",
              " 313: 'Illumise',\n",
              " 314: 'Roselia',\n",
              " 315: 'Gulpin',\n",
              " 316: 'Swalot',\n",
              " 317: 'Carvanha',\n",
              " 318: 'Sharpedo',\n",
              " 319: 'Wailmer',\n",
              " 320: 'Wailord',\n",
              " 321: 'Numel',\n",
              " 322: 'Camerupt',\n",
              " 323: 'Torkoal',\n",
              " 324: 'Spoink',\n",
              " 325: 'Grumpig',\n",
              " 326: 'Spinda',\n",
              " 327: 'Trapinch',\n",
              " 328: 'Vibrava',\n",
              " 329: 'Flygon',\n",
              " 330: 'Cacnea',\n",
              " 331: 'Cacturne',\n",
              " 332: 'Swablu',\n",
              " 333: 'Altaria',\n",
              " 334: 'Zangoose',\n",
              " 335: 'Seviper',\n",
              " 336: 'Lunatone',\n",
              " 337: 'Solrock',\n",
              " 338: 'Barboach',\n",
              " 339: 'Whiscash',\n",
              " 340: 'Corphish',\n",
              " 341: 'Crawdaunt',\n",
              " 342: 'Baltoy',\n",
              " 343: 'Claydol',\n",
              " 344: 'Lileep',\n",
              " 345: 'Cradily',\n",
              " 346: 'Anorith',\n",
              " 347: 'Armaldo',\n",
              " 348: 'Feebas',\n",
              " 349: 'Milotic',\n",
              " 350: 'Castform',\n",
              " 351: 'Kecleon',\n",
              " 352: 'Shuppet',\n",
              " 353: 'Banette',\n",
              " 354: 'Duskull',\n",
              " 355: 'Dusclops',\n",
              " 356: 'Tropius',\n",
              " 357: 'Chimecho',\n",
              " 358: 'Absol',\n",
              " 359: 'Wynaut',\n",
              " 360: 'Snorunt',\n",
              " 361: 'Glalie',\n",
              " 362: 'Spheal',\n",
              " 363: 'Sealeo',\n",
              " 364: 'Walrein',\n",
              " 365: 'Clamperl',\n",
              " 366: 'Huntail',\n",
              " 367: 'Gorebyss',\n",
              " 368: 'Relicanth',\n",
              " 369: 'Luvdisc',\n",
              " 370: 'Bagon',\n",
              " 371: 'Shelgon',\n",
              " 372: 'Salamence',\n",
              " 373: 'Beldum',\n",
              " 374: 'Metang',\n",
              " 375: 'Metagross',\n",
              " 376: 'Regirock',\n",
              " 377: 'Regice',\n",
              " 378: 'Registeel',\n",
              " 379: 'Latias',\n",
              " 380: 'Latios',\n",
              " 381: 'Kyogre',\n",
              " 382: 'Groudon',\n",
              " 383: 'Rayquaza',\n",
              " 384: 'Jirachi',\n",
              " 385: 'Deoxys',\n",
              " 386: 'Turtwig',\n",
              " 387: 'Grotle',\n",
              " 388: 'Torterra',\n",
              " 389: 'Chimchar',\n",
              " 390: 'Monferno',\n",
              " 391: 'Infernape',\n",
              " 392: 'Piplup',\n",
              " 393: 'Prinplup',\n",
              " 394: 'Empoleon',\n",
              " 395: 'Starly',\n",
              " 396: 'Staravia',\n",
              " 397: 'Staraptor',\n",
              " 398: 'Bidoof',\n",
              " 399: 'Bibarel',\n",
              " 400: 'Kricketot',\n",
              " 401: 'Kricketune',\n",
              " 402: 'Shinx',\n",
              " 403: 'Luxio',\n",
              " 404: 'Luxray',\n",
              " 405: 'Budew',\n",
              " 406: 'Roserade',\n",
              " 407: 'Cranidos',\n",
              " 408: 'Rampardos',\n",
              " 409: 'Shieldon',\n",
              " 410: 'Bastiodon',\n",
              " 411: 'Burmy',\n",
              " 412: 'Wormadam',\n",
              " 413: 'Mothim',\n",
              " 414: 'Combee',\n",
              " 415: 'Vespiquen',\n",
              " 416: 'Pachirisu',\n",
              " 417: 'Buizel',\n",
              " 418: 'Floatzel',\n",
              " 419: 'Cherubi',\n",
              " 420: 'Cherrim',\n",
              " 421: 'Shellos',\n",
              " 422: 'Gastrodon',\n",
              " 423: 'Ambipom',\n",
              " 424: 'Drifloon',\n",
              " 425: 'Drifblim',\n",
              " 426: 'Buneary',\n",
              " 427: 'Lopunny',\n",
              " 428: 'Mismagius',\n",
              " 429: 'Honchkrow',\n",
              " 430: 'Glameow',\n",
              " 431: 'Purugly',\n",
              " 432: 'Chingling',\n",
              " 433: 'Stunky',\n",
              " 434: 'Skuntank',\n",
              " 435: 'Bronzor',\n",
              " 436: 'Bronzong',\n",
              " 437: 'Bonsly',\n",
              " 438: 'Mime Jr.',\n",
              " 439: 'Happiny',\n",
              " 440: 'Chatot',\n",
              " 441: 'Spiritomb',\n",
              " 442: 'Gible',\n",
              " 443: 'Gabite',\n",
              " 444: 'Garchomp',\n",
              " 445: 'Munchlax',\n",
              " 446: 'Riolu',\n",
              " 447: 'Lucario',\n",
              " 448: 'Hippopotas',\n",
              " 449: 'Hippowdon',\n",
              " 450: 'Skorupi',\n",
              " 451: 'Drapion',\n",
              " 452: 'Croagunk',\n",
              " 453: 'Toxicroak',\n",
              " 454: 'Carnivine',\n",
              " 455: 'Finneon',\n",
              " 456: 'Lumineon',\n",
              " 457: 'Mantyke',\n",
              " 458: 'Snover',\n",
              " 459: 'Abomasnow',\n",
              " 460: 'Weavile',\n",
              " 461: 'Magnezone',\n",
              " 462: 'Lickilicky',\n",
              " 463: 'Rhyperior',\n",
              " 464: 'Tangrowth',\n",
              " 465: 'Electivire',\n",
              " 466: 'Magmortar',\n",
              " 467: 'Togekiss',\n",
              " 468: 'Yanmega',\n",
              " 469: 'Leafeon',\n",
              " 470: 'Glaceon',\n",
              " 471: 'Gliscor',\n",
              " 472: 'Mamoswine',\n",
              " 473: 'Porygon-Z',\n",
              " 474: 'Gallade',\n",
              " 475: 'Probopass',\n",
              " 476: 'Dusknoir',\n",
              " 477: 'Froslass',\n",
              " 478: 'Rotom',\n",
              " 479: 'Uxie',\n",
              " 480: 'Mesprit',\n",
              " 481: 'Azelf',\n",
              " 482: 'Dialga',\n",
              " 483: 'Palkia',\n",
              " 484: 'Heatran',\n",
              " 485: 'Regigigas',\n",
              " 486: 'Giratina',\n",
              " 487: 'Cresselia',\n",
              " 488: 'Phione',\n",
              " 489: 'Manaphy',\n",
              " 490: 'Darkrai',\n",
              " 491: 'Shaymin',\n",
              " 492: 'Arceus',\n",
              " 493: 'Victini',\n",
              " 494: 'Snivy',\n",
              " 495: 'Servine',\n",
              " 496: 'Serperior',\n",
              " 497: 'Tepig',\n",
              " 498: 'Pignite',\n",
              " 499: 'Emboar',\n",
              " 500: 'Oshawott',\n",
              " 501: 'Dewott',\n",
              " 502: 'Samurott',\n",
              " 503: 'Patrat',\n",
              " 504: 'Watchog',\n",
              " 505: 'Lillipup',\n",
              " 506: 'Herdier',\n",
              " 507: 'Stoutland',\n",
              " 508: 'Purrloin',\n",
              " 509: 'Liepard',\n",
              " 510: 'Pansage',\n",
              " 511: 'Simisage',\n",
              " 512: 'Pansear',\n",
              " 513: 'Simisear',\n",
              " 514: 'Panpour',\n",
              " 515: 'Simipour',\n",
              " 516: 'Munna',\n",
              " 517: 'Musharna',\n",
              " 518: 'Pidove',\n",
              " 519: 'Tranquill',\n",
              " 520: 'Unfezant',\n",
              " 521: 'Blitzle',\n",
              " 522: 'Zebstrika',\n",
              " 523: 'Roggenrola',\n",
              " 524: 'Boldore',\n",
              " 525: 'Gigalith',\n",
              " 526: 'Woobat',\n",
              " 527: 'Swoobat',\n",
              " 528: 'Drilbur',\n",
              " 529: 'Excadrill',\n",
              " 530: 'Audino',\n",
              " 531: 'Timburr',\n",
              " 532: 'Gurdurr',\n",
              " 533: 'Conkeldurr',\n",
              " 534: 'Tympole',\n",
              " 535: 'Palpitoad',\n",
              " 536: 'Seismitoad',\n",
              " 537: 'Throh',\n",
              " 538: 'Sawk',\n",
              " 539: 'Sewaddle',\n",
              " 540: 'Swadloon',\n",
              " 541: 'Leavanny',\n",
              " 542: 'Venipede',\n",
              " 543: 'Whirlipede',\n",
              " 544: 'Scolipede',\n",
              " 545: 'Cottonee',\n",
              " 546: 'Whimsicott',\n",
              " 547: 'Petilil',\n",
              " 548: 'Lilligant',\n",
              " 549: 'Basculin',\n",
              " 550: 'Sandile',\n",
              " 551: 'Krokorok',\n",
              " 552: 'Krookodile',\n",
              " 553: 'Darumaka',\n",
              " 554: 'Darmanitan',\n",
              " 555: 'Maractus',\n",
              " 556: 'Dwebble',\n",
              " 557: 'Crustle',\n",
              " 558: 'Scraggy',\n",
              " 559: 'Scrafty',\n",
              " 560: 'Sigilyph',\n",
              " 561: 'Yamask',\n",
              " 562: 'Cofagrigus',\n",
              " 563: 'Tirtouga',\n",
              " 564: 'Carracosta',\n",
              " 565: 'Archen',\n",
              " 566: 'Archeops',\n",
              " 567: 'Trubbish',\n",
              " 568: 'Garbodor',\n",
              " 569: 'Zorua',\n",
              " 570: 'Zoroark',\n",
              " 571: 'Minccino',\n",
              " 572: 'Cinccino',\n",
              " 573: 'Gothita',\n",
              " 574: 'Gothorita',\n",
              " 575: 'Gothitelle',\n",
              " 576: 'Solosis',\n",
              " 577: 'Duosion',\n",
              " 578: 'Reuniclus',\n",
              " 579: 'Ducklett',\n",
              " 580: 'Swanna',\n",
              " 581: 'Vanillite',\n",
              " 582: 'Vanillish',\n",
              " 583: 'Vanilluxe',\n",
              " 584: 'Deerling',\n",
              " 585: 'Sawsbuck',\n",
              " 586: 'Emolga',\n",
              " 587: 'Karrablast',\n",
              " 588: 'Escavalier',\n",
              " 589: 'Foongus',\n",
              " 590: 'Amoonguss',\n",
              " 591: 'Frillish',\n",
              " 592: 'Jellicent',\n",
              " 593: 'Alomomola',\n",
              " 594: 'Joltik',\n",
              " 595: 'Galvantula',\n",
              " 596: 'Ferroseed',\n",
              " 597: 'Ferrothorn',\n",
              " 598: 'Klink',\n",
              " 599: 'Klang',\n",
              " 600: 'Klinklang',\n",
              " 601: 'Tynamo',\n",
              " 602: 'Eelektrik',\n",
              " 603: 'Eelektross',\n",
              " 604: 'Elgyem',\n",
              " 605: 'Beheeyem',\n",
              " 606: 'Litwick',\n",
              " 607: 'Lampent',\n",
              " 608: 'Chandelure',\n",
              " 609: 'Axew',\n",
              " 610: 'Fraxure',\n",
              " 611: 'Haxorus',\n",
              " 612: 'Cubchoo',\n",
              " 613: 'Beartic',\n",
              " 614: 'Cryogonal',\n",
              " 615: 'Shelmet',\n",
              " 616: 'Accelgor',\n",
              " 617: 'Stunfisk',\n",
              " 618: 'Mienfoo',\n",
              " 619: 'Mienshao',\n",
              " 620: 'Druddigon',\n",
              " 621: 'Golett',\n",
              " 622: 'Golurk',\n",
              " 623: 'Pawniard',\n",
              " 624: 'Bisharp',\n",
              " 625: 'Bouffalant',\n",
              " 626: 'Rufflet',\n",
              " 627: 'Braviary',\n",
              " 628: 'Vullaby',\n",
              " 629: 'Mandibuzz',\n",
              " 630: 'Heatmor',\n",
              " 631: 'Durant',\n",
              " 632: 'Deino',\n",
              " 633: 'Zweilous',\n",
              " 634: 'Hydreigon',\n",
              " 635: 'Larvesta',\n",
              " 636: 'Volcarona',\n",
              " 637: 'Cobalion',\n",
              " 638: 'Terrakion',\n",
              " 639: 'Virizion',\n",
              " 640: 'Tornadus',\n",
              " 641: 'Thundurus',\n",
              " 642: 'Reshiram',\n",
              " 643: 'Zekrom',\n",
              " 644: 'Landorus',\n",
              " 645: 'Kyurem',\n",
              " 646: 'Keldeo',\n",
              " 647: 'Meloetta',\n",
              " 648: 'Genesect',\n",
              " 649: 'Chespin',\n",
              " 650: 'Quilladin',\n",
              " 651: 'Chesnaught',\n",
              " 652: 'Fennekin',\n",
              " 653: 'Braixen',\n",
              " 654: 'Delphox',\n",
              " 655: 'Froakie',\n",
              " 656: 'Frogadier',\n",
              " 657: 'Greninja',\n",
              " 658: 'Bunnelby',\n",
              " 659: 'Diggersby',\n",
              " 660: 'Fletchling',\n",
              " 661: 'Fletchinder',\n",
              " 662: 'Talonflame',\n",
              " 663: 'Scatterbug',\n",
              " 664: 'Spewpa',\n",
              " 665: 'Vivillon',\n",
              " 666: 'Litleo',\n",
              " 667: 'Pyroar',\n",
              " 668: 'Flabébé',\n",
              " 669: 'Floette',\n",
              " 670: 'Florges',\n",
              " 671: 'Skiddo',\n",
              " 672: 'Gogoat',\n",
              " 673: 'Pancham',\n",
              " 674: 'Pangoro',\n",
              " 675: 'Furfrou',\n",
              " 676: 'Espurr',\n",
              " 677: 'Meowstic',\n",
              " 678: 'Honedge',\n",
              " 679: 'Doublade',\n",
              " 680: 'Aegislash',\n",
              " 681: 'Spritzee',\n",
              " 682: 'Aromatisse',\n",
              " 683: 'Swirlix',\n",
              " 684: 'Slurpuff',\n",
              " 685: 'Inkay',\n",
              " 686: 'Malamar',\n",
              " 687: 'Binacle',\n",
              " 688: 'Barbaracle',\n",
              " 689: 'Skrelp',\n",
              " 690: 'Dragalge',\n",
              " 691: 'Clauncher',\n",
              " 692: 'Clawitzer',\n",
              " 693: 'Helioptile',\n",
              " 694: 'Heliolisk',\n",
              " 695: 'Tyrunt',\n",
              " 696: 'Tyrantrum',\n",
              " 697: 'Amaura',\n",
              " 698: 'Aurorus',\n",
              " 699: 'Sylveon',\n",
              " 700: 'Hawlucha',\n",
              " 701: 'Dedenne',\n",
              " 702: 'Carbink',\n",
              " 703: 'Goomy',\n",
              " 704: 'Sliggoo',\n",
              " 705: 'Goodra',\n",
              " 706: 'Klefki',\n",
              " 707: 'Phantump',\n",
              " 708: 'Trevenant',\n",
              " 709: 'Pumpkaboo',\n",
              " 710: 'Gourgeist',\n",
              " 711: 'Bergmite',\n",
              " 712: 'Avalugg',\n",
              " 713: 'Noibat',\n",
              " 714: 'Noivern',\n",
              " 715: 'Xerneas',\n",
              " 716: 'Yveltal',\n",
              " 717: 'Zygarde',\n",
              " 718: 'Diancie',\n",
              " 719: 'Hoopa',\n",
              " 720: 'Volcanion'}"
            ]
          },
          "metadata": {
            "tags": []
          },
          "execution_count": 146
        }
      ]
    },
    {
      "cell_type": "code",
      "metadata": {
        "id": "Ozl2bA_vpNau",
        "colab_type": "code",
        "outputId": "90e98912-e6dd-4cb0-ea90-e3851a82abf2",
        "colab": {
          "base_uri": "https://localhost:8080/",
          "height": 1000
        }
      },
      "source": [
        "pd.read_csv(path + \"pokemon.csv\", index_col=\"Pokemon\", squeeze = True).to_list()"
      ],
      "execution_count": 0,
      "outputs": [
        {
          "output_type": "execute_result",
          "data": {
            "text/plain": [
              "['Grass',\n",
              " 'Grass',\n",
              " 'Grass',\n",
              " 'Fire',\n",
              " 'Fire',\n",
              " 'Fire',\n",
              " 'Water',\n",
              " 'Water',\n",
              " 'Water',\n",
              " 'Bug',\n",
              " 'Bug',\n",
              " 'Bug',\n",
              " 'Bug',\n",
              " 'Bug',\n",
              " 'Bug',\n",
              " 'Normal',\n",
              " 'Normal',\n",
              " 'Normal',\n",
              " 'Normal',\n",
              " 'Normal',\n",
              " 'Normal',\n",
              " 'Normal',\n",
              " 'Poison',\n",
              " 'Poison',\n",
              " 'Electric',\n",
              " 'Electric',\n",
              " 'Ground',\n",
              " 'Ground',\n",
              " 'Poison',\n",
              " 'Poison',\n",
              " 'Poison',\n",
              " 'Poison',\n",
              " 'Poison',\n",
              " 'Poison',\n",
              " 'Fairy',\n",
              " 'Fairy',\n",
              " 'Fire',\n",
              " 'Fire',\n",
              " 'Normal',\n",
              " 'Normal',\n",
              " 'Poison',\n",
              " 'Poison',\n",
              " 'Grass',\n",
              " 'Grass',\n",
              " 'Grass',\n",
              " 'Bug',\n",
              " 'Bug',\n",
              " 'Bug',\n",
              " 'Bug',\n",
              " 'Ground',\n",
              " 'Ground',\n",
              " 'Normal',\n",
              " 'Normal',\n",
              " 'Water',\n",
              " 'Water',\n",
              " 'Fighting',\n",
              " 'Fighting',\n",
              " 'Fire',\n",
              " 'Fire',\n",
              " 'Water',\n",
              " 'Water',\n",
              " 'Water',\n",
              " 'Psychic',\n",
              " 'Psychic',\n",
              " 'Psychic',\n",
              " 'Fighting',\n",
              " 'Fighting',\n",
              " 'Fighting',\n",
              " 'Grass',\n",
              " 'Grass',\n",
              " 'Grass',\n",
              " 'Water',\n",
              " 'Water',\n",
              " 'Rock',\n",
              " 'Rock',\n",
              " 'Rock',\n",
              " 'Fire',\n",
              " 'Fire',\n",
              " 'Water',\n",
              " 'Water',\n",
              " 'Electric',\n",
              " 'Electric',\n",
              " 'Normal',\n",
              " 'Normal',\n",
              " 'Normal',\n",
              " 'Water',\n",
              " 'Water',\n",
              " 'Poison',\n",
              " 'Poison',\n",
              " 'Water',\n",
              " 'Water',\n",
              " 'Ghost',\n",
              " 'Ghost',\n",
              " 'Ghost',\n",
              " 'Rock',\n",
              " 'Psychic',\n",
              " 'Psychic',\n",
              " 'Water',\n",
              " 'Water',\n",
              " 'Electric',\n",
              " 'Electric',\n",
              " 'Grass',\n",
              " 'Grass',\n",
              " 'Ground',\n",
              " 'Ground',\n",
              " 'Fighting',\n",
              " 'Fighting',\n",
              " 'Normal',\n",
              " 'Poison',\n",
              " 'Poison',\n",
              " 'Ground',\n",
              " 'Ground',\n",
              " 'Normal',\n",
              " 'Grass',\n",
              " 'Normal',\n",
              " 'Water',\n",
              " 'Water',\n",
              " 'Water',\n",
              " 'Water',\n",
              " 'Water',\n",
              " 'Water',\n",
              " 'Psychic',\n",
              " 'Bug',\n",
              " 'Ice',\n",
              " 'Electric',\n",
              " 'Fire',\n",
              " 'Bug',\n",
              " 'Normal',\n",
              " 'Water',\n",
              " 'Water',\n",
              " 'Water',\n",
              " 'Normal',\n",
              " 'Normal',\n",
              " 'Water',\n",
              " 'Electric',\n",
              " 'Fire',\n",
              " 'Normal',\n",
              " 'Rock',\n",
              " 'Rock',\n",
              " 'Rock',\n",
              " 'Rock',\n",
              " 'Rock',\n",
              " 'Normal',\n",
              " 'Ice',\n",
              " 'Electric',\n",
              " 'Fire',\n",
              " 'Dragon',\n",
              " 'Dragon',\n",
              " 'Dragon',\n",
              " 'Psychic',\n",
              " 'Psychic',\n",
              " 'Grass',\n",
              " 'Grass',\n",
              " 'Grass',\n",
              " 'Fire',\n",
              " 'Fire',\n",
              " 'Fire',\n",
              " 'Water',\n",
              " 'Water',\n",
              " 'Water',\n",
              " 'Normal',\n",
              " 'Normal',\n",
              " 'Normal',\n",
              " 'Normal',\n",
              " 'Bug',\n",
              " 'Bug',\n",
              " 'Bug',\n",
              " 'Bug',\n",
              " 'Poison',\n",
              " 'Water',\n",
              " 'Water',\n",
              " 'Electric',\n",
              " 'Fairy',\n",
              " 'Normal',\n",
              " 'Fairy',\n",
              " 'Fairy',\n",
              " 'Psychic',\n",
              " 'Psychic',\n",
              " 'Electric',\n",
              " 'Electric',\n",
              " 'Electric',\n",
              " 'Grass',\n",
              " 'Water',\n",
              " 'Water',\n",
              " 'Rock',\n",
              " 'Water',\n",
              " 'Grass',\n",
              " 'Grass',\n",
              " 'Grass',\n",
              " 'Normal',\n",
              " 'Grass',\n",
              " 'Grass',\n",
              " 'Bug',\n",
              " 'Water',\n",
              " 'Water',\n",
              " 'Psychic',\n",
              " 'Dark',\n",
              " 'Dark',\n",
              " 'Water',\n",
              " 'Ghost',\n",
              " 'Psychic',\n",
              " 'Psychic',\n",
              " 'Normal',\n",
              " 'Bug',\n",
              " 'Bug',\n",
              " 'Normal',\n",
              " 'Ground',\n",
              " 'Steel',\n",
              " 'Fairy',\n",
              " 'Fairy',\n",
              " 'Water',\n",
              " 'Bug',\n",
              " 'Bug',\n",
              " 'Bug',\n",
              " 'Dark',\n",
              " 'Normal',\n",
              " 'Normal',\n",
              " 'Fire',\n",
              " 'Fire',\n",
              " 'Ice',\n",
              " 'Ice',\n",
              " 'Water',\n",
              " 'Water',\n",
              " 'Water',\n",
              " 'Ice',\n",
              " 'Water',\n",
              " 'Steel',\n",
              " 'Dark',\n",
              " 'Dark',\n",
              " 'Water',\n",
              " 'Ground',\n",
              " 'Ground',\n",
              " 'Normal',\n",
              " 'Normal',\n",
              " 'Normal',\n",
              " 'Fighting',\n",
              " 'Fighting',\n",
              " 'Ice',\n",
              " 'Electric',\n",
              " 'Fire',\n",
              " 'Normal',\n",
              " 'Normal',\n",
              " 'Electric',\n",
              " 'Fire',\n",
              " 'Water',\n",
              " 'Rock',\n",
              " 'Rock',\n",
              " 'Rock',\n",
              " 'Psychic',\n",
              " 'Fire',\n",
              " 'Psychic',\n",
              " 'Grass',\n",
              " 'Grass',\n",
              " 'Grass',\n",
              " 'Fire',\n",
              " 'Fire',\n",
              " 'Fire',\n",
              " 'Water',\n",
              " 'Water',\n",
              " 'Water',\n",
              " 'Dark',\n",
              " 'Dark',\n",
              " 'Normal',\n",
              " 'Normal',\n",
              " 'Bug',\n",
              " 'Bug',\n",
              " 'Bug',\n",
              " 'Bug',\n",
              " 'Bug',\n",
              " 'Water',\n",
              " 'Water',\n",
              " 'Water',\n",
              " 'Grass',\n",
              " 'Grass',\n",
              " 'Grass',\n",
              " 'Normal',\n",
              " 'Normal',\n",
              " 'Water',\n",
              " 'Water',\n",
              " 'Psychic',\n",
              " 'Psychic',\n",
              " 'Psychic',\n",
              " 'Bug',\n",
              " 'Bug',\n",
              " 'Grass',\n",
              " 'Grass',\n",
              " 'Normal',\n",
              " 'Normal',\n",
              " 'Normal',\n",
              " 'Bug',\n",
              " 'Bug',\n",
              " 'Bug',\n",
              " 'Normal',\n",
              " 'Normal',\n",
              " 'Normal',\n",
              " 'Fighting',\n",
              " 'Fighting',\n",
              " 'Normal',\n",
              " 'Rock',\n",
              " 'Normal',\n",
              " 'Normal',\n",
              " 'Dark',\n",
              " 'Steel',\n",
              " 'Steel',\n",
              " 'Steel',\n",
              " 'Steel',\n",
              " 'Fighting',\n",
              " 'Fighting',\n",
              " 'Electric',\n",
              " 'Electric',\n",
              " 'Electric',\n",
              " 'Electric',\n",
              " 'Bug',\n",
              " 'Bug',\n",
              " 'Grass',\n",
              " 'Poison',\n",
              " 'Poison',\n",
              " 'Water',\n",
              " 'Water',\n",
              " 'Water',\n",
              " 'Water',\n",
              " 'Fire',\n",
              " 'Fire',\n",
              " 'Fire',\n",
              " 'Psychic',\n",
              " 'Psychic',\n",
              " 'Normal',\n",
              " 'Ground',\n",
              " 'Ground',\n",
              " 'Ground',\n",
              " 'Grass',\n",
              " 'Grass',\n",
              " 'Normal',\n",
              " 'Dragon',\n",
              " 'Normal',\n",
              " 'Poison',\n",
              " 'Rock',\n",
              " 'Rock',\n",
              " 'Water',\n",
              " 'Water',\n",
              " 'Water',\n",
              " 'Water',\n",
              " 'Ground',\n",
              " 'Ground',\n",
              " 'Rock',\n",
              " 'Rock',\n",
              " 'Rock',\n",
              " 'Rock',\n",
              " 'Water',\n",
              " 'Water',\n",
              " 'Normal',\n",
              " 'Normal',\n",
              " 'Ghost',\n",
              " 'Ghost',\n",
              " 'Ghost',\n",
              " 'Ghost',\n",
              " 'Grass',\n",
              " 'Psychic',\n",
              " 'Dark',\n",
              " 'Psychic',\n",
              " 'Ice',\n",
              " 'Ice',\n",
              " 'Ice',\n",
              " 'Ice',\n",
              " 'Ice',\n",
              " 'Water',\n",
              " 'Water',\n",
              " 'Water',\n",
              " 'Water',\n",
              " 'Water',\n",
              " 'Dragon',\n",
              " 'Dragon',\n",
              " 'Dragon',\n",
              " 'Steel',\n",
              " 'Steel',\n",
              " 'Steel',\n",
              " 'Rock',\n",
              " 'Ice',\n",
              " 'Steel',\n",
              " 'Dragon',\n",
              " 'Dragon',\n",
              " 'Water',\n",
              " 'Ground',\n",
              " 'Dragon',\n",
              " 'Steel',\n",
              " 'Psychic',\n",
              " 'Grass',\n",
              " 'Grass',\n",
              " 'Grass',\n",
              " 'Fire',\n",
              " 'Fire',\n",
              " 'Fire',\n",
              " 'Water',\n",
              " 'Water',\n",
              " 'Water',\n",
              " 'Normal',\n",
              " 'Normal',\n",
              " 'Normal',\n",
              " 'Normal',\n",
              " 'Normal',\n",
              " 'Bug',\n",
              " 'Bug',\n",
              " 'Electric',\n",
              " 'Electric',\n",
              " 'Electric',\n",
              " 'Grass',\n",
              " 'Grass',\n",
              " 'Rock',\n",
              " 'Rock',\n",
              " 'Rock',\n",
              " 'Rock',\n",
              " 'Bug',\n",
              " 'Bug',\n",
              " 'Bug',\n",
              " 'Bug',\n",
              " 'Bug',\n",
              " 'Electric',\n",
              " 'Water',\n",
              " 'Water',\n",
              " 'Grass',\n",
              " 'Grass',\n",
              " 'Water',\n",
              " 'Water',\n",
              " 'Normal',\n",
              " 'Ghost',\n",
              " 'Ghost',\n",
              " 'Normal',\n",
              " 'Normal',\n",
              " 'Ghost',\n",
              " 'Dark',\n",
              " 'Normal',\n",
              " 'Normal',\n",
              " 'Psychic',\n",
              " 'Poison',\n",
              " 'Poison',\n",
              " 'Steel',\n",
              " 'Steel',\n",
              " 'Rock',\n",
              " 'Psychic',\n",
              " 'Normal',\n",
              " 'Normal',\n",
              " 'Ghost',\n",
              " 'Dragon',\n",
              " 'Dragon',\n",
              " 'Dragon',\n",
              " 'Normal',\n",
              " 'Fighting',\n",
              " 'Fighting',\n",
              " 'Ground',\n",
              " 'Ground',\n",
              " 'Poison',\n",
              " 'Poison',\n",
              " 'Poison',\n",
              " 'Poison',\n",
              " 'Grass',\n",
              " 'Water',\n",
              " 'Water',\n",
              " 'Water',\n",
              " 'Grass',\n",
              " 'Grass',\n",
              " 'Dark',\n",
              " 'Electric',\n",
              " 'Normal',\n",
              " 'Ground',\n",
              " 'Grass',\n",
              " 'Electric',\n",
              " 'Fire',\n",
              " 'Fairy',\n",
              " 'Bug',\n",
              " 'Grass',\n",
              " 'Ice',\n",
              " 'Ground',\n",
              " 'Ice',\n",
              " 'Normal',\n",
              " 'Psychic',\n",
              " 'Rock',\n",
              " 'Ghost',\n",
              " 'Ice',\n",
              " 'Electric',\n",
              " 'Psychic',\n",
              " 'Psychic',\n",
              " 'Psychic',\n",
              " 'Steel',\n",
              " 'Water',\n",
              " 'Fire',\n",
              " 'Normal',\n",
              " 'Ghost',\n",
              " 'Psychic',\n",
              " 'Water',\n",
              " 'Water',\n",
              " 'Dark',\n",
              " 'Grass',\n",
              " 'Normal',\n",
              " 'Psychic',\n",
              " 'Grass',\n",
              " 'Grass',\n",
              " 'Grass',\n",
              " 'Fire',\n",
              " 'Fire',\n",
              " 'Fire',\n",
              " 'Water',\n",
              " 'Water',\n",
              " 'Water',\n",
              " 'Normal',\n",
              " 'Normal',\n",
              " 'Normal',\n",
              " 'Normal',\n",
              " 'Normal',\n",
              " 'Dark',\n",
              " 'Dark',\n",
              " 'Grass',\n",
              " 'Grass',\n",
              " 'Fire',\n",
              " 'Fire',\n",
              " 'Water',\n",
              " 'Water',\n",
              " 'Psychic',\n",
              " 'Psychic',\n",
              " 'Normal',\n",
              " 'Normal',\n",
              " 'Normal',\n",
              " 'Electric',\n",
              " 'Electric',\n",
              " 'Rock',\n",
              " 'Rock',\n",
              " 'Rock',\n",
              " 'Psychic',\n",
              " 'Psychic',\n",
              " 'Ground',\n",
              " 'Ground',\n",
              " 'Normal',\n",
              " 'Fighting',\n",
              " 'Fighting',\n",
              " 'Fighting',\n",
              " 'Water',\n",
              " 'Water',\n",
              " 'Water',\n",
              " 'Fighting',\n",
              " 'Fighting',\n",
              " 'Bug',\n",
              " 'Bug',\n",
              " 'Bug',\n",
              " 'Bug',\n",
              " 'Bug',\n",
              " 'Bug',\n",
              " 'Grass',\n",
              " 'Grass',\n",
              " 'Grass',\n",
              " 'Grass',\n",
              " 'Water',\n",
              " 'Ground',\n",
              " 'Ground',\n",
              " 'Ground',\n",
              " 'Fire',\n",
              " 'Fire',\n",
              " 'Grass',\n",
              " 'Bug',\n",
              " 'Bug',\n",
              " 'Dark',\n",
              " 'Dark',\n",
              " 'Psychic',\n",
              " 'Ghost',\n",
              " 'Ghost',\n",
              " 'Water',\n",
              " 'Water',\n",
              " 'Rock',\n",
              " 'Rock',\n",
              " 'Poison',\n",
              " 'Poison',\n",
              " 'Dark',\n",
              " 'Dark',\n",
              " 'Normal',\n",
              " 'Normal',\n",
              " 'Psychic',\n",
              " 'Psychic',\n",
              " 'Psychic',\n",
              " 'Psychic',\n",
              " 'Psychic',\n",
              " 'Psychic',\n",
              " 'Water',\n",
              " 'Water',\n",
              " 'Ice',\n",
              " 'Ice',\n",
              " 'Ice',\n",
              " 'Normal',\n",
              " 'Normal',\n",
              " 'Electric',\n",
              " 'Bug',\n",
              " 'Bug',\n",
              " 'Grass',\n",
              " 'Grass',\n",
              " 'Water',\n",
              " 'Water',\n",
              " 'Water',\n",
              " 'Bug',\n",
              " 'Bug',\n",
              " 'Grass',\n",
              " 'Grass',\n",
              " 'Steel',\n",
              " 'Steel',\n",
              " 'Steel',\n",
              " 'Electric',\n",
              " 'Electric',\n",
              " 'Electric',\n",
              " 'Psychic',\n",
              " 'Psychic',\n",
              " 'Ghost',\n",
              " 'Ghost',\n",
              " 'Ghost',\n",
              " 'Dragon',\n",
              " 'Dragon',\n",
              " 'Dragon',\n",
              " 'Ice',\n",
              " 'Ice',\n",
              " 'Ice',\n",
              " 'Bug',\n",
              " 'Bug',\n",
              " 'Ground',\n",
              " 'Fighting',\n",
              " 'Fighting',\n",
              " 'Dragon',\n",
              " 'Ground',\n",
              " 'Ground',\n",
              " 'Dark',\n",
              " 'Dark',\n",
              " 'Normal',\n",
              " 'Normal',\n",
              " 'Normal',\n",
              " 'Dark',\n",
              " 'Dark',\n",
              " 'Fire',\n",
              " 'Bug',\n",
              " 'Dark',\n",
              " 'Dark',\n",
              " 'Dark',\n",
              " 'Bug',\n",
              " 'Bug',\n",
              " 'Steel',\n",
              " 'Rock',\n",
              " 'Grass',\n",
              " 'Flying',\n",
              " 'Electric',\n",
              " 'Dragon',\n",
              " 'Dragon',\n",
              " 'Ground',\n",
              " 'Dragon',\n",
              " 'Water',\n",
              " 'Normal',\n",
              " 'Bug',\n",
              " 'Grass',\n",
              " 'Grass',\n",
              " 'Grass',\n",
              " 'Fire',\n",
              " 'Fire',\n",
              " 'Fire',\n",
              " 'Water',\n",
              " 'Water',\n",
              " 'Water',\n",
              " 'Normal',\n",
              " 'Normal',\n",
              " 'Normal',\n",
              " 'Fire',\n",
              " 'Fire',\n",
              " 'Bug',\n",
              " 'Bug',\n",
              " 'Bug',\n",
              " 'Fire',\n",
              " 'Fire',\n",
              " 'Fairy',\n",
              " 'Fairy',\n",
              " 'Fairy',\n",
              " 'Grass',\n",
              " 'Grass',\n",
              " 'Fighting',\n",
              " 'Fighting',\n",
              " 'Normal',\n",
              " 'Psychic',\n",
              " 'Psychic',\n",
              " 'Steel',\n",
              " 'Steel',\n",
              " 'Steel',\n",
              " 'Fairy',\n",
              " 'Fairy',\n",
              " 'Fairy',\n",
              " 'Fairy',\n",
              " 'Dark',\n",
              " 'Dark',\n",
              " 'Rock',\n",
              " 'Rock',\n",
              " 'Poison',\n",
              " 'Poison',\n",
              " 'Water',\n",
              " 'Water',\n",
              " 'Electric',\n",
              " 'Electric',\n",
              " 'Rock',\n",
              " 'Rock',\n",
              " 'Rock',\n",
              " 'Rock',\n",
              " 'Fairy',\n",
              " 'Fighting',\n",
              " 'Electric',\n",
              " 'Rock',\n",
              " 'Dragon',\n",
              " 'Dragon',\n",
              " 'Dragon',\n",
              " 'Steel',\n",
              " 'Ghost',\n",
              " 'Ghost',\n",
              " 'Ghost',\n",
              " 'Ghost',\n",
              " 'Ice',\n",
              " 'Ice',\n",
              " 'Flying',\n",
              " 'Flying',\n",
              " 'Fairy',\n",
              " 'Dark',\n",
              " 'Dragon',\n",
              " 'Rock',\n",
              " 'Psychic',\n",
              " 'Fire']"
            ]
          },
          "metadata": {
            "tags": []
          },
          "execution_count": 145
        }
      ]
    }
  ]
}