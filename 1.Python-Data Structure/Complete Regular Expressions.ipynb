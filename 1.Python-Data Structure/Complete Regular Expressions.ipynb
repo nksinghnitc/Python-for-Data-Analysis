{
 "cells": [
  {
   "cell_type": "markdown",
   "metadata": {},
   "source": [
    "# Regular Expressions"
   ]
  },
  {
   "cell_type": "markdown",
   "metadata": {},
   "source": [
    "**Regular expressions are text matching patterns described with a formal syntax. The patterns are interpreted as a set of instructions, which are then executed with a string as input to produce a matching subset. The term “regular expressions” is frequently shortened to as 'regex' or 'regexp'.**"
   ]
  },
  {
   "cell_type": "markdown",
   "metadata": {},
   "source": [
    "# Finding Patterns In Text"
   ]
  },
  {
   "cell_type": "code",
   "execution_count": 2,
   "metadata": {},
   "outputs": [],
   "source": [
    "text = \"The agent's phone number is 408-555-1234. Call soon!\""
   ]
  },
  {
   "cell_type": "markdown",
   "metadata": {},
   "source": [
    "**We'll start off by trying to find out if the string \"phone\" is inside the text string. Now we could quickly do this with:**"
   ]
  },
  {
   "cell_type": "code",
   "execution_count": 3,
   "metadata": {},
   "outputs": [
    {
     "data": {
      "text/plain": [
       "True"
      ]
     },
     "execution_count": 3,
     "metadata": {},
     "output_type": "execute_result"
    }
   ],
   "source": [
    "'phone' in text"
   ]
  },
  {
   "cell_type": "markdown",
   "metadata": {},
   "source": [
    "**But let's show the format for regular expressions, because later on we will be searching for patterns that won't have such a simple solution.**"
   ]
  },
  {
   "cell_type": "code",
   "execution_count": 4,
   "metadata": {},
   "outputs": [],
   "source": [
    "import re"
   ]
  },
  {
   "cell_type": "code",
   "execution_count": 5,
   "metadata": {},
   "outputs": [],
   "source": [
    "pattern = 'phone'"
   ]
  },
  {
   "cell_type": "code",
   "execution_count": 6,
   "metadata": {},
   "outputs": [
    {
     "data": {
      "text/plain": [
       "<re.Match object; span=(12, 17), match='phone'>"
      ]
     },
     "execution_count": 6,
     "metadata": {},
     "output_type": "execute_result"
    }
   ],
   "source": [
    "re.search(pattern,text)"
   ]
  },
  {
   "cell_type": "code",
   "execution_count": 7,
   "metadata": {},
   "outputs": [],
   "source": [
    "pattern = \"NOT IN TEXT\""
   ]
  },
  {
   "cell_type": "code",
   "execution_count": 8,
   "metadata": {},
   "outputs": [],
   "source": [
    "re.search(pattern,text)"
   ]
  },
  {
   "cell_type": "markdown",
   "metadata": {},
   "source": [
    "**re.search() function will take the pattern, scan the text, and then returns a Match object. If no pattern is found, a None is returned.**"
   ]
  },
  {
   "cell_type": "markdown",
   "metadata": {},
   "source": [
    "**Let's have a closer look at Match Object.**"
   ]
  },
  {
   "cell_type": "code",
   "execution_count": 11,
   "metadata": {},
   "outputs": [],
   "source": [
    "pattern = 'phone'"
   ]
  },
  {
   "cell_type": "code",
   "execution_count": 12,
   "metadata": {},
   "outputs": [],
   "source": [
    "match = re.search(pattern,text)"
   ]
  },
  {
   "cell_type": "code",
   "execution_count": 13,
   "metadata": {},
   "outputs": [
    {
     "data": {
      "text/plain": [
       "<re.Match object; span=(12, 17), match='phone'>"
      ]
     },
     "execution_count": 13,
     "metadata": {},
     "output_type": "execute_result"
    }
   ],
   "source": [
    "match"
   ]
  },
  {
   "cell_type": "markdown",
   "metadata": {},
   "source": [
    "**Notice the span, there is also a start and end index information.**"
   ]
  },
  {
   "cell_type": "code",
   "execution_count": 14,
   "metadata": {},
   "outputs": [
    {
     "data": {
      "text/plain": [
       "(12, 17)"
      ]
     },
     "execution_count": 14,
     "metadata": {},
     "output_type": "execute_result"
    }
   ],
   "source": [
    "match.span()"
   ]
  },
  {
   "cell_type": "code",
   "execution_count": 15,
   "metadata": {},
   "outputs": [
    {
     "data": {
      "text/plain": [
       "12"
      ]
     },
     "execution_count": 15,
     "metadata": {},
     "output_type": "execute_result"
    }
   ],
   "source": [
    "match.start()"
   ]
  },
  {
   "cell_type": "code",
   "execution_count": 16,
   "metadata": {},
   "outputs": [
    {
     "data": {
      "text/plain": [
       "17"
      ]
     },
     "execution_count": 16,
     "metadata": {},
     "output_type": "execute_result"
    }
   ],
   "source": [
    "match.end()"
   ]
  },
  {
   "cell_type": "code",
   "execution_count": 17,
   "metadata": {},
   "outputs": [
    {
     "data": {
      "text/plain": [
       "'phone'"
      ]
     },
     "execution_count": 17,
     "metadata": {},
     "output_type": "execute_result"
    }
   ],
   "source": [
    "match.re.pattern"
   ]
  },
  {
   "cell_type": "code",
   "execution_count": 18,
   "metadata": {},
   "outputs": [
    {
     "data": {
      "text/plain": [
       "\"The agent's phone number is 408-555-1234. Call soon!\""
      ]
     },
     "execution_count": 18,
     "metadata": {},
     "output_type": "execute_result"
    }
   ],
   "source": [
    "match.string"
   ]
  },
  {
   "cell_type": "markdown",
   "metadata": {},
   "source": [
    "**Another Example of finding a set of words in a text.**"
   ]
  },
  {
   "cell_type": "code",
   "execution_count": 19,
   "metadata": {},
   "outputs": [
    {
     "name": "stdout",
     "output_type": "stream",
     "text": [
      "Looking for this in Does this text match the pattern?\n",
      "found a match!\n",
      "Looking for that in Does this text match the pattern?\n",
      "no match\n"
     ]
    }
   ],
   "source": [
    "import re\n",
    "patterns = [ 'this', 'that' ]\n",
    "text = 'Does this text match the pattern?'\n",
    "\n",
    "for pattern in patterns:\n",
    "    print(f\"Looking for {pattern} in {text}\")\n",
    "    if re.search(pattern,  text):\n",
    "        print ('found a match!')\n",
    "    else:\n",
    "        print ('no match')"
   ]
  },
  {
   "cell_type": "markdown",
   "metadata": {},
   "source": [
    "**Another Example for looking into Match Object returned by re.search().**"
   ]
  },
  {
   "cell_type": "code",
   "execution_count": 20,
   "metadata": {},
   "outputs": [
    {
     "name": "stdout",
     "output_type": "stream",
     "text": [
      "Found this in Does this text match the pattern? from 5 to 9 (this)\n"
     ]
    }
   ],
   "source": [
    "import re\n",
    "pattern = 'this'\n",
    "text = 'Does this text match the pattern?'\n",
    "match = re.search(pattern, text)\n",
    "s = match.start()\n",
    "e = match.end()\n",
    "print (f\"Found {match.re.pattern} in {match.string} from {s} to {e} ({text[s:e]})\")"
   ]
  },
  {
   "cell_type": "markdown",
   "metadata": {},
   "source": [
    "# Compiling Expressions"
   ]
  },
  {
   "cell_type": "markdown",
   "metadata": {},
   "source": [
    "**re includes module-level functions for working with regular expressions as text strings, but it is usually more efficient to compile the expressions your program uses frequently. The compile() function converts an expression string into a RegexObject.**"
   ]
  },
  {
   "cell_type": "code",
   "execution_count": 24,
   "metadata": {},
   "outputs": [
    {
     "name": "stdout",
     "output_type": "stream",
     "text": [
      "Looking for this in Does this text match the pattern?\n",
      "found a match!\n",
      "Looking for that in Does this text match the pattern?\n",
      "no match\n"
     ]
    }
   ],
   "source": [
    "import re\n",
    "# Pre-compile the patterns\n",
    "regexes = [re.compile(p) for p in [ 'this','that']]\n",
    "text = 'Does this text match the pattern?'\n",
    "for regex in regexes:\n",
    "    print(f\"Looking for {regex.pattern} in {text}\")\n",
    "    if regex.search(text):\n",
    "        print ('found a match!')\n",
    "    else:\n",
    "        print ('no match')"
   ]
  },
  {
   "cell_type": "markdown",
   "metadata": {},
   "source": [
    "**The module-level functions maintain a cache of compiled expressions, but the size of the cache is limited and using compiled expressions directly means you can avoid the cache lookup overhead. By pre-compiling any expressions your module uses when the module is loaded you shift the compilation work to application startup time, instead of a point where the program is responding to a user action.**"
   ]
  },
  {
   "cell_type": "markdown",
   "metadata": {},
   "source": [
    "# Multiple Matches"
   ]
  },
  {
   "cell_type": "markdown",
   "metadata": {},
   "source": [
    "**What if the pattern occurs more than once?**"
   ]
  },
  {
   "cell_type": "code",
   "execution_count": 25,
   "metadata": {},
   "outputs": [
    {
     "data": {
      "text/plain": [
       "(3, 8)"
      ]
     },
     "execution_count": 25,
     "metadata": {},
     "output_type": "execute_result"
    }
   ],
   "source": [
    "text = \"my phone is a new phone\"\n",
    "match = re.search(\"phone\",text)\n",
    "match.span()"
   ]
  },
  {
   "cell_type": "markdown",
   "metadata": {},
   "source": [
    "**Notice it only matches the first instance. If we wanted a list of all matches, we can use .findall() method:**"
   ]
  },
  {
   "cell_type": "code",
   "execution_count": 26,
   "metadata": {},
   "outputs": [
    {
     "data": {
      "text/plain": [
       "['phone', 'phone']"
      ]
     },
     "execution_count": 26,
     "metadata": {},
     "output_type": "execute_result"
    }
   ],
   "source": [
    "matches = re.findall(\"phone\",text)\n",
    "matches"
   ]
  },
  {
   "cell_type": "code",
   "execution_count": 27,
   "metadata": {},
   "outputs": [
    {
     "data": {
      "text/plain": [
       "2"
      ]
     },
     "execution_count": 27,
     "metadata": {},
     "output_type": "execute_result"
    }
   ],
   "source": [
    "len(matches)"
   ]
  },
  {
   "cell_type": "code",
   "execution_count": 28,
   "metadata": {},
   "outputs": [
    {
     "name": "stdout",
     "output_type": "stream",
     "text": [
      "Found ab\n",
      "Found ab\n"
     ]
    }
   ],
   "source": [
    "import re\n",
    "text = 'abbaaabbbbaaaaa'\n",
    "pattern = 'ab'\n",
    "for match in re.findall(pattern, text):\n",
    "    print (f\"Found {match}\")"
   ]
  },
  {
   "cell_type": "markdown",
   "metadata": {},
   "source": [
    "**To get actual match objects, use the iterator:\n",
    "finditer() returns an iterator that produces Match instances instead of the strings returned by findall().**"
   ]
  },
  {
   "cell_type": "code",
   "execution_count": 29,
   "metadata": {},
   "outputs": [
    {
     "name": "stdout",
     "output_type": "stream",
     "text": [
      "(3, 8)\n",
      "(18, 23)\n"
     ]
    }
   ],
   "source": [
    "text = \"my phone is a new phone\"\n",
    "for match in re.finditer(\"phone\",text):\n",
    "    print(match.span())"
   ]
  },
  {
   "cell_type": "code",
   "execution_count": 64,
   "metadata": {},
   "outputs": [
    {
     "name": "stdout",
     "output_type": "stream",
     "text": [
      "Found ab at 0:2\n",
      "Found ab at 5:7\n"
     ]
    }
   ],
   "source": [
    "import re\n",
    "text = 'abbaaabbbbaaaaa'\n",
    "pattern = 'ab'\n",
    "for match in re.finditer(pattern, text):\n",
    "    s = match.start()\n",
    "    e = match.end()\n",
    "    print (f\"Found {text[s:e]} at {s}:{e}\")"
   ]
  },
  {
   "cell_type": "markdown",
   "metadata": {},
   "source": [
    "**Another Example of finding a set of words in a text.**"
   ]
  },
  {
   "cell_type": "code",
   "execution_count": 31,
   "metadata": {},
   "outputs": [
    {
     "name": "stdout",
     "output_type": "stream",
     "text": [
      "Looking for 'this' in 'Does this text match the pattern if so what is this. that is exact match in that string?'\n",
      "Found this at 5:9\n",
      "Looking for 'this' in 'Does this text match the pattern if so what is this. that is exact match in that string?'\n",
      "Found this at 47:51\n",
      "Looking for 'that' in 'Does this text match the pattern if so what is this. that is exact match in that string?'\n",
      "Found that at 53:57\n",
      "Looking for 'that' in 'Does this text match the pattern if so what is this. that is exact match in that string?'\n",
      "Found that at 76:80\n"
     ]
    }
   ],
   "source": [
    "import re\n",
    "patterns = [ 'this', 'that' ]\n",
    "text = 'Does this text match the pattern if so what is this. that is exact match in that string?'\n",
    "for pattern in patterns:\n",
    "    for match in re.finditer(pattern,text):\n",
    "        print(f\"Looking for '{pattern}' in '{text}'\")\n",
    "        s = match.start()\n",
    "        e = match.end()\n",
    "        print (f\"Found {text[s:e]} at {s}:{e}\")"
   ]
  },
  {
   "cell_type": "markdown",
   "metadata": {},
   "source": [
    "# Patterns Syntax"
   ]
  },
  {
   "cell_type": "markdown",
   "metadata": {},
   "source": [
    "**So far we've learned how to search for a basic string. What about more complex examples? Such as trying to find a telephone number in a large string of text? Or an email address?**\n",
    "\n",
    "**Regular Expression support more powerful patterns than simple literal text strings.**"
   ]
  },
  {
   "cell_type": "code",
   "execution_count": 35,
   "metadata": {},
   "outputs": [],
   "source": [
    "import re\n",
    "def test_patterns(text, patterns=[]):\n",
    "    print(''.join(str(int(i/10) or ' ') for i in range(len(text))))\n",
    "    print(''.join(str(i%10) for i in range(len(text))))\n",
    "    print(text)\n",
    "    for pattern in patterns:\n",
    "        print\n",
    "        print('Matching {pattern}')\n",
    "        for match in re.finditer(pattern, text):\n",
    "            s = match.start()\n",
    "            e = match.end()\n",
    "            print('  %2d : %2d = \"%s\"' %(s, e-1, text[s:e]))\n",
    "    return"
   ]
  },
  {
   "cell_type": "code",
   "execution_count": 37,
   "metadata": {},
   "outputs": [
    {
     "name": "stdout",
     "output_type": "stream",
     "text": [
      "          11111\n",
      "012345678901234\n",
      "abbaaabbbbaaaaa\n",
      "Matching {pattern}\n",
      "   0 :  1 = \"ab\"\n",
      "   5 :  6 = \"ab\"\n"
     ]
    }
   ],
   "source": [
    "test_patterns('abbaaabbbbaaaaa',['ab'])"
   ]
  },
  {
   "cell_type": "markdown",
   "metadata": {},
   "source": [
    "# Repetition"
   ]
  },
  {
   "cell_type": "markdown",
   "metadata": {},
   "source": [
    "**There are five ways to express repetition in a pattern. A pattern followed by the metacharacter * is repeated zero or more times (allowing a pattern to repeat zero times means it does not need to appear at all to match). Replace the * with + and the pattern must appear at least once(allowing a pattern to repeat one or more times). Using ? means the pattern appears zero or one time. For a specific number of occurrences, use {m} after the pattern, where m is replaced with the number of times the pattern should repeat. And finally, to allow a variable but limited number of repetitions, use {m,n} where m is the minimum number of repetitions and n is the maximum. Leaving out n ({m,}) means the value appears at least m times, with no maximum.**"
   ]
  },
  {
   "cell_type": "code",
   "execution_count": 38,
   "metadata": {},
   "outputs": [
    {
     "name": "stdout",
     "output_type": "stream",
     "text": [
      "          11111\n",
      "012345678901234\n",
      "abbaaabbbbaaaaa\n",
      "Matching {pattern}\n",
      "   0 :  2 = \"abb\"\n",
      "   3 :  3 = \"a\"\n",
      "   4 :  4 = \"a\"\n",
      "   5 :  9 = \"abbbb\"\n",
      "  10 : 10 = \"a\"\n",
      "  11 : 11 = \"a\"\n",
      "  12 : 12 = \"a\"\n",
      "  13 : 13 = \"a\"\n",
      "  14 : 14 = \"a\"\n",
      "Matching {pattern}\n",
      "   0 :  2 = \"abb\"\n",
      "   5 :  9 = \"abbbb\"\n",
      "Matching {pattern}\n",
      "   0 :  1 = \"ab\"\n",
      "   3 :  3 = \"a\"\n",
      "   4 :  4 = \"a\"\n",
      "   5 :  6 = \"ab\"\n",
      "  10 : 10 = \"a\"\n",
      "  11 : 11 = \"a\"\n",
      "  12 : 12 = \"a\"\n",
      "  13 : 13 = \"a\"\n",
      "  14 : 14 = \"a\"\n",
      "Matching {pattern}\n",
      "   5 :  8 = \"abbb\"\n",
      "Matching {pattern}\n",
      "   0 :  2 = \"abb\"\n",
      "   5 :  8 = \"abbb\"\n"
     ]
    }
   ],
   "source": [
    "test_patterns('abbaaabbbbaaaaa',\n",
    "              [ 'ab*',     # a followed by zero or more b\n",
    "                'ab+',     # a followed by one or more b\n",
    "                'ab?',     # a followed by zero or one b\n",
    "                'ab{3}',   # a followed by three b\n",
    "                'ab{2,3}', # a followed by two to three b\n",
    "                ])"
   ]
  },
  {
   "cell_type": "markdown",
   "metadata": {},
   "source": [
    "**The normal processing for a repetition instruction is to consume as much of the input as possible while matching the pattern. This so-called greedy behavior. Greediness can be turned off by following the repetition instruction with ?.**"
   ]
  },
  {
   "cell_type": "code",
   "execution_count": 39,
   "metadata": {},
   "outputs": [
    {
     "name": "stdout",
     "output_type": "stream",
     "text": [
      "          11111\n",
      "012345678901234\n",
      "abbaaabbbbaaaaa\n",
      "Matching {pattern}\n",
      "   0 :  0 = \"a\"\n",
      "   3 :  3 = \"a\"\n",
      "   4 :  4 = \"a\"\n",
      "   5 :  5 = \"a\"\n",
      "  10 : 10 = \"a\"\n",
      "  11 : 11 = \"a\"\n",
      "  12 : 12 = \"a\"\n",
      "  13 : 13 = \"a\"\n",
      "  14 : 14 = \"a\"\n",
      "Matching {pattern}\n",
      "   0 :  1 = \"ab\"\n",
      "   5 :  6 = \"ab\"\n",
      "Matching {pattern}\n",
      "   0 :  0 = \"a\"\n",
      "   3 :  3 = \"a\"\n",
      "   4 :  4 = \"a\"\n",
      "   5 :  5 = \"a\"\n",
      "  10 : 10 = \"a\"\n",
      "  11 : 11 = \"a\"\n",
      "  12 : 12 = \"a\"\n",
      "  13 : 13 = \"a\"\n",
      "  14 : 14 = \"a\"\n",
      "Matching {pattern}\n",
      "   5 :  8 = \"abbb\"\n",
      "Matching {pattern}\n",
      "   0 :  2 = \"abb\"\n",
      "   5 :  7 = \"abb\"\n"
     ]
    }
   ],
   "source": [
    "test_patterns('abbaaabbbbaaaaa',\n",
    "              [ 'ab*?',     # a followed by zero or more b\n",
    "                'ab+?',     # a followed by one or more b\n",
    "                'ab??',     # a followed by zero or one b\n",
    "                'ab{3}?',   # a followed by three b\n",
    "                'ab{2,3}?', # a followed by two to three b\n",
    "                ])"
   ]
  },
  {
   "cell_type": "markdown",
   "metadata": {},
   "source": [
    "# Character Sets"
   ]
  },
  {
   "cell_type": "markdown",
   "metadata": {},
   "source": [
    "**A character set is a group of characters, any one of which can match at that point in the pattern. For example, [ab] would match either a or b.**"
   ]
  },
  {
   "cell_type": "code",
   "execution_count": 40,
   "metadata": {},
   "outputs": [
    {
     "name": "stdout",
     "output_type": "stream",
     "text": [
      "          11111\n",
      "012345678901234\n",
      "abbaaabbbbaaaaa\n",
      "Matching {pattern}\n",
      "   0 :  0 = \"a\"\n",
      "   1 :  1 = \"b\"\n",
      "   2 :  2 = \"b\"\n",
      "   3 :  3 = \"a\"\n",
      "   4 :  4 = \"a\"\n",
      "   5 :  5 = \"a\"\n",
      "   6 :  6 = \"b\"\n",
      "   7 :  7 = \"b\"\n",
      "   8 :  8 = \"b\"\n",
      "   9 :  9 = \"b\"\n",
      "  10 : 10 = \"a\"\n",
      "  11 : 11 = \"a\"\n",
      "  12 : 12 = \"a\"\n",
      "  13 : 13 = \"a\"\n",
      "  14 : 14 = \"a\"\n",
      "Matching {pattern}\n",
      "   0 : 14 = \"abbaaabbbbaaaaa\"\n",
      "Matching {pattern}\n",
      "   0 :  1 = \"ab\"\n",
      "   3 :  4 = \"aa\"\n",
      "   5 :  6 = \"ab\"\n",
      "  10 : 11 = \"aa\"\n",
      "  12 : 13 = \"aa\"\n"
     ]
    }
   ],
   "source": [
    "test_patterns('abbaaabbbbaaaaa',\n",
    "              [ '[ab]',    # either a or b\n",
    "                'a[ab]+',  # a followed by one or more a or b\n",
    "                'a[ab]+?', # a followed by one or more a or b, not greedy\n",
    "                ])"
   ]
  },
  {
   "cell_type": "markdown",
   "metadata": {},
   "source": [
    "**A character set can also be used to exclude specific characters. The special marker ^ means to look for characters not in the set following.**"
   ]
  },
  {
   "cell_type": "code",
   "execution_count": 42,
   "metadata": {},
   "outputs": [
    {
     "name": "stdout",
     "output_type": "stream",
     "text": [
      "          1111111111222222222233333333\n",
      "01234567890123456789012345678901234567\n",
      "This is some text -- with punctuation.\n",
      "Matching {pattern}\n",
      "   0 :  3 = \"This\"\n",
      "   5 :  6 = \"is\"\n",
      "   8 : 11 = \"some\"\n",
      "  13 : 16 = \"text\"\n",
      "  21 : 24 = \"with\"\n",
      "  26 : 36 = \"punctuation\"\n"
     ]
    }
   ],
   "source": [
    "#This pattern finds all of the substrings that do not contain the characters -, ., or a space.\n",
    "test_patterns('This is some text -- with punctuation.',\n",
    "              [ '[^-. ]+',  # sequences without -, ., or space\n",
    "                ])"
   ]
  },
  {
   "cell_type": "markdown",
   "metadata": {},
   "source": [
    "**As character sets grow larger, typing every character that should (or should not) match becomes tedious. A more compact format using character ranges lets you define a character set to include all of the contiguous characters between a start and stop point.**"
   ]
  },
  {
   "cell_type": "code",
   "execution_count": 43,
   "metadata": {},
   "outputs": [
    {
     "name": "stdout",
     "output_type": "stream",
     "text": [
      "          1111111111222222222233333333\n",
      "01234567890123456789012345678901234567\n",
      "This is some text -- with punctuation.\n",
      "Matching {pattern}\n",
      "   1 :  3 = \"his\"\n",
      "   5 :  6 = \"is\"\n",
      "   8 : 11 = \"some\"\n",
      "  13 : 16 = \"text\"\n",
      "  21 : 24 = \"with\"\n",
      "  26 : 36 = \"punctuation\"\n",
      "Matching {pattern}\n",
      "   0 :  0 = \"T\"\n",
      "Matching {pattern}\n",
      "   0 :  3 = \"This\"\n",
      "   5 :  6 = \"is\"\n",
      "   8 : 11 = \"some\"\n",
      "  13 : 16 = \"text\"\n",
      "  21 : 24 = \"with\"\n",
      "  26 : 36 = \"punctuation\"\n",
      "Matching {pattern}\n",
      "   0 :  3 = \"This\"\n"
     ]
    }
   ],
   "source": [
    "test_patterns('This is some text -- with punctuation.',\n",
    "              [ '[a-z]+',      # sequences of lower case letters\n",
    "                '[A-Z]+',      # sequences of upper case letters\n",
    "                '[a-zA-Z]+',   # sequences of lower or upper case letters\n",
    "                '[A-Z][a-z]+', # one upper case letter followed by lower case letters\n",
    "                ])"
   ]
  },
  {
   "cell_type": "markdown",
   "metadata": {},
   "source": [
    "**As a special case of a character set the metacharacter dot, or period (.), indicates that the pattern should match any single character in that position.**"
   ]
  },
  {
   "cell_type": "code",
   "execution_count": 44,
   "metadata": {},
   "outputs": [
    {
     "name": "stdout",
     "output_type": "stream",
     "text": [
      "          11111\n",
      "012345678901234\n",
      "abbaaabbbbaaaaa\n",
      "Matching {pattern}\n",
      "   0 :  1 = \"ab\"\n",
      "   3 :  4 = \"aa\"\n",
      "   5 :  6 = \"ab\"\n",
      "  10 : 11 = \"aa\"\n",
      "  12 : 13 = \"aa\"\n",
      "Matching {pattern}\n",
      "   1 :  2 = \"bb\"\n",
      "   6 :  7 = \"bb\"\n",
      "   8 :  9 = \"bb\"\n",
      "Matching {pattern}\n",
      "   0 :  9 = \"abbaaabbbb\"\n",
      "Matching {pattern}\n",
      "   0 :  1 = \"ab\"\n",
      "   3 :  6 = \"aaab\"\n"
     ]
    }
   ],
   "source": [
    "test_patterns('abbaaabbbbaaaaa',\n",
    "              [ 'a.',    # a followed by any one character\n",
    "                'b.',    # b followed by any one character\n",
    "                'a.*b',  # a followed by anything, ending in b\n",
    "                'a.*?b', # a followed by anything, ending in b\n",
    "                ])"
   ]
  },
  {
   "cell_type": "markdown",
   "metadata": {},
   "source": [
    "# Escape Codes"
   ]
  },
  {
   "cell_type": "markdown",
   "metadata": {},
   "source": [
    "# Identifiers for Characters in Patterns\n",
    "Characters such as a digit or a single string have different codes that represent them. You can use these to build up a pattern string. Notice how these make heavy use of the backwards slash \\ . Because of this when defining a pattern string for regular expression we use the format:\n",
    "\n",
    "    r'mypattern'\n",
    "    \n",
    "placing the r in front of the string allows python to understand that the \\ in the pattern string are not meant to be escape slashes.\n",
    "\n",
    "Below you can find a table of all the possible identifiers:"
   ]
  },
  {
   "cell_type": "markdown",
   "metadata": {},
   "source": [
    "<table ><tr><th>Character</th><th>Description</th><th>Example Pattern Code</th><th >Exammple Match</th></tr>\n",
    "\n",
    "<tr ><td><span >\\d</span></td><td>A digit</td><td>file_\\d\\d</td><td>file_25</td></tr>\n",
    "\n",
    "<tr ><td><span >\\w</span></td><td>Alphanumeric</td><td>\\w-\\w\\w\\w</td><td>A-b_1</td></tr>\n",
    "\n",
    "\n",
    "\n",
    "<tr ><td><span >\\s</span></td><td>White space</td><td>a\\sb\\sc</td><td>a b c</td></tr>\n",
    "\n",
    "\n",
    "\n",
    "<tr ><td><span >\\D</span></td><td>A non digit</td><td>\\D\\D\\D</td><td>ABC</td></tr>\n",
    "\n",
    "<tr ><td><span >\\W</span></td><td>Non-alphanumeric</td><td>\\W\\W\\W\\W\\W</td><td>*-+=)</td></tr>\n",
    "\n",
    "<tr ><td><span >\\S</span></td><td>Non-whitespace</td><td>\\S\\S\\S\\S</td><td>Yoyo</td></tr></table>"
   ]
  },
  {
   "cell_type": "markdown",
   "metadata": {},
   "source": [
    "For example:"
   ]
  },
  {
   "cell_type": "code",
   "execution_count": 47,
   "metadata": {},
   "outputs": [],
   "source": [
    "text = \"My telephone number is 408-555-1234\""
   ]
  },
  {
   "cell_type": "code",
   "execution_count": 48,
   "metadata": {},
   "outputs": [],
   "source": [
    "phone = re.search(r'\\d\\d\\d-\\d\\d\\d-\\d\\d\\d\\d',text)"
   ]
  },
  {
   "cell_type": "markdown",
   "metadata": {},
   "source": [
    "**Notice the repetition of \\d. That is a bit of an annoyance, especially if we are looking for very long strings of numbers. Let's explore the possible quantifiers.**"
   ]
  },
  {
   "cell_type": "code",
   "execution_count": 51,
   "metadata": {},
   "outputs": [
    {
     "data": {
      "text/plain": [
       "<re.Match object; span=(23, 35), match='408-555-1234'>"
      ]
     },
     "execution_count": 51,
     "metadata": {},
     "output_type": "execute_result"
    }
   ],
   "source": [
    "re.search(r'\\d{3}-\\d{3}-\\d{4}',text)"
   ]
  },
  {
   "cell_type": "code",
   "execution_count": 52,
   "metadata": {},
   "outputs": [
    {
     "name": "stdout",
     "output_type": "stream",
     "text": [
      "          11111111112222222\n",
      "012345678901234567890123456\n",
      "This is a prime #1 example!\n",
      "Matching {pattern}\n",
      "  17 : 17 = \"1\"\n",
      "Matching {pattern}\n",
      "   0 : 16 = \"This is a prime #\"\n",
      "  18 : 26 = \" example!\"\n",
      "Matching {pattern}\n",
      "   4 :  4 = \" \"\n",
      "   7 :  7 = \" \"\n",
      "   9 :  9 = \" \"\n",
      "  15 : 15 = \" \"\n",
      "  18 : 18 = \" \"\n",
      "Matching {pattern}\n",
      "   0 :  3 = \"This\"\n",
      "   5 :  6 = \"is\"\n",
      "   8 :  8 = \"a\"\n",
      "  10 : 14 = \"prime\"\n",
      "  16 : 17 = \"#1\"\n",
      "  19 : 26 = \"example!\"\n",
      "Matching {pattern}\n",
      "   0 :  3 = \"This\"\n",
      "   5 :  6 = \"is\"\n",
      "   8 :  8 = \"a\"\n",
      "  10 : 14 = \"prime\"\n",
      "  17 : 17 = \"1\"\n",
      "  19 : 25 = \"example\"\n",
      "Matching {pattern}\n",
      "   4 :  4 = \" \"\n",
      "   7 :  7 = \" \"\n",
      "   9 :  9 = \" \"\n",
      "  15 : 16 = \" #\"\n",
      "  18 : 18 = \" \"\n",
      "  26 : 26 = \"!\"\n"
     ]
    }
   ],
   "source": [
    "test_patterns('This is a prime #1 example!',\n",
    "              [ r'\\d+', # sequence of digits\n",
    "                r'\\D+', # sequence of non-digits\n",
    "                r'\\s+', # sequence of whitespace\n",
    "                r'\\S+', # sequence of non-whitespace\n",
    "                r'\\w+', # alphanumeric characters\n",
    "                r'\\W+', # non-alphanumeric\n",
    "                ])"
   ]
  },
  {
   "cell_type": "markdown",
   "metadata": {},
   "source": [
    "**To match the characters that are part of the regular expression syntax, escape the characters in the search pattern.**"
   ]
  },
  {
   "cell_type": "code",
   "execution_count": 53,
   "metadata": {},
   "outputs": [
    {
     "name": "stdout",
     "output_type": "stream",
     "text": [
      "          1111111111222\n",
      "01234567890123456789012\n",
      "\\d+ \\D+ \\s+ \\S+ \\w+ \\W+\n",
      "Matching {pattern}\n",
      "   0 :  2 = \"\\d+\"\n",
      "Matching {pattern}\n",
      "   4 :  6 = \"\\D+\"\n",
      "Matching {pattern}\n",
      "   8 : 10 = \"\\s+\"\n",
      "Matching {pattern}\n",
      "  12 : 14 = \"\\S+\"\n",
      "Matching {pattern}\n",
      "  16 : 18 = \"\\w+\"\n",
      "Matching {pattern}\n",
      "  20 : 22 = \"\\W+\"\n"
     ]
    }
   ],
   "source": [
    "test_patterns(r'\\d+ \\D+ \\s+ \\S+ \\w+ \\W+',\n",
    "              [ r'\\\\d\\+',\n",
    "                r'\\\\D\\+',\n",
    "                r'\\\\s\\+',\n",
    "                r'\\\\S\\+',\n",
    "                r'\\\\w\\+',\n",
    "                r'\\\\W\\+',\n",
    "                ])"
   ]
  },
  {
   "cell_type": "code",
   "execution_count": null,
   "metadata": {},
   "outputs": [],
   "source": []
  },
  {
   "cell_type": "code",
   "execution_count": null,
   "metadata": {},
   "outputs": [],
   "source": []
  },
  {
   "cell_type": "code",
   "execution_count": null,
   "metadata": {},
   "outputs": [],
   "source": []
  },
  {
   "cell_type": "code",
   "execution_count": null,
   "metadata": {},
   "outputs": [],
   "source": []
  },
  {
   "cell_type": "code",
   "execution_count": null,
   "metadata": {},
   "outputs": [],
   "source": []
  },
  {
   "cell_type": "code",
   "execution_count": null,
   "metadata": {},
   "outputs": [],
   "source": []
  },
  {
   "cell_type": "markdown",
   "metadata": {},
   "source": [
    "## Groups\n",
    "\n",
    "What if we wanted to do two tasks, find phone numbers, but also be able to quickly extract their area code (the first three digits). We can use groups for any general task that involves grouping together regular expressions (so that we can later break them down). \n",
    "\n",
    "Using the phone number example, we can separate groups of regular expressions using parentheses:"
   ]
  },
  {
   "cell_type": "code",
   "execution_count": 26,
   "metadata": {},
   "outputs": [],
   "source": [
    "phone_pattern = re.compile(r'(\\d{3})-(\\d{3})-(\\d{4})')"
   ]
  },
  {
   "cell_type": "code",
   "execution_count": 27,
   "metadata": {},
   "outputs": [],
   "source": [
    "results = re.search(phone_pattern,text)"
   ]
  },
  {
   "cell_type": "code",
   "execution_count": 28,
   "metadata": {},
   "outputs": [
    {
     "data": {
      "text/plain": [
       "'408-555-1234'"
      ]
     },
     "execution_count": 28,
     "metadata": {},
     "output_type": "execute_result"
    }
   ],
   "source": [
    "# The entire result\n",
    "results.group()"
   ]
  },
  {
   "cell_type": "code",
   "execution_count": 67,
   "metadata": {},
   "outputs": [
    {
     "ename": "NameError",
     "evalue": "name 'results' is not defined",
     "output_type": "error",
     "traceback": [
      "\u001b[1;31m---------------------------------------------------------------------------\u001b[0m",
      "\u001b[1;31mNameError\u001b[0m                                 Traceback (most recent call last)",
      "\u001b[1;32m<ipython-input-67-d9ab0b7c511f>\u001b[0m in \u001b[0;36m<module>\u001b[1;34m\u001b[0m\n\u001b[0;32m      2\u001b[0m \u001b[1;31m# remember groups were separated by parentheses ()\u001b[0m\u001b[1;33m\u001b[0m\u001b[1;33m\u001b[0m\u001b[1;33m\u001b[0m\u001b[0m\n\u001b[0;32m      3\u001b[0m \u001b[1;31m# Something to note is that group ordering starts at 1. Passing in 0 returns everything\u001b[0m\u001b[1;33m\u001b[0m\u001b[1;33m\u001b[0m\u001b[1;33m\u001b[0m\u001b[0m\n\u001b[1;32m----> 4\u001b[1;33m \u001b[0mresults\u001b[0m\u001b[1;33m.\u001b[0m\u001b[0mgroup\u001b[0m\u001b[1;33m(\u001b[0m\u001b[1;36m1\u001b[0m\u001b[1;33m)\u001b[0m\u001b[1;33m\u001b[0m\u001b[1;33m\u001b[0m\u001b[0m\n\u001b[0m",
      "\u001b[1;31mNameError\u001b[0m: name 'results' is not defined"
     ]
    }
   ],
   "source": [
    "# Can then also call by group position.\n",
    "# remember groups were separated by parentheses ()\n",
    "# Something to note is that group ordering starts at 1. Passing in 0 returns everything\n",
    "results.group(1)"
   ]
  },
  {
   "cell_type": "code",
   "execution_count": 30,
   "metadata": {},
   "outputs": [
    {
     "data": {
      "text/plain": [
       "'555'"
      ]
     },
     "execution_count": 30,
     "metadata": {},
     "output_type": "execute_result"
    }
   ],
   "source": [
    "results.group(2)"
   ]
  },
  {
   "cell_type": "code",
   "execution_count": 31,
   "metadata": {},
   "outputs": [
    {
     "data": {
      "text/plain": [
       "'1234'"
      ]
     },
     "execution_count": 31,
     "metadata": {},
     "output_type": "execute_result"
    }
   ],
   "source": [
    "results.group(3)"
   ]
  },
  {
   "cell_type": "code",
   "execution_count": 32,
   "metadata": {},
   "outputs": [
    {
     "ename": "IndexError",
     "evalue": "no such group",
     "output_type": "error",
     "traceback": [
      "\u001b[1;31m---------------------------------------------------------------------------\u001b[0m",
      "\u001b[1;31mIndexError\u001b[0m                                Traceback (most recent call last)",
      "\u001b[1;32m<ipython-input-32-79a918a9b5dc>\u001b[0m in \u001b[0;36m<module>\u001b[1;34m()\u001b[0m\n\u001b[0;32m      1\u001b[0m \u001b[1;31m# We only had three groups of parentheses\u001b[0m\u001b[1;33m\u001b[0m\u001b[1;33m\u001b[0m\u001b[0m\n\u001b[1;32m----> 2\u001b[1;33m \u001b[0mresults\u001b[0m\u001b[1;33m.\u001b[0m\u001b[0mgroup\u001b[0m\u001b[1;33m(\u001b[0m\u001b[1;36m4\u001b[0m\u001b[1;33m)\u001b[0m\u001b[1;33m\u001b[0m\u001b[0m\n\u001b[0m",
      "\u001b[1;31mIndexError\u001b[0m: no such group"
     ]
    }
   ],
   "source": [
    "# We only had three groups of parentheses\n",
    "results.group(4)"
   ]
  },
  {
   "cell_type": "markdown",
   "metadata": {},
   "source": [
    "## Additional Regex Syntax\n",
    "\n",
    "### Or operator |\n",
    "\n",
    "Use the pipe operator to have an **or** statment. For example"
   ]
  },
  {
   "cell_type": "code",
   "execution_count": 33,
   "metadata": {},
   "outputs": [
    {
     "data": {
      "text/plain": [
       "<_sre.SRE_Match object; span=(5, 8), match='man'>"
      ]
     },
     "execution_count": 33,
     "metadata": {},
     "output_type": "execute_result"
    }
   ],
   "source": [
    "re.search(r\"man|woman\",\"This man was here.\")"
   ]
  },
  {
   "cell_type": "code",
   "execution_count": 34,
   "metadata": {},
   "outputs": [
    {
     "data": {
      "text/plain": [
       "<_sre.SRE_Match object; span=(5, 10), match='woman'>"
      ]
     },
     "execution_count": 34,
     "metadata": {},
     "output_type": "execute_result"
    }
   ],
   "source": [
    "re.search(r\"man|woman\",\"This woman was here.\")"
   ]
  },
  {
   "cell_type": "markdown",
   "metadata": {},
   "source": [
    "### The Wildcard Character\n",
    "\n",
    "Use a \"wildcard\" as a placement that will match any character placed there. You can use a simple period **.** for this. For example:"
   ]
  },
  {
   "cell_type": "code",
   "execution_count": 35,
   "metadata": {},
   "outputs": [
    {
     "data": {
      "text/plain": [
       "['cat', 'hat', 'sat']"
      ]
     },
     "execution_count": 35,
     "metadata": {},
     "output_type": "execute_result"
    }
   ],
   "source": [
    "re.findall(r\".at\",\"The cat in the hat sat here.\")"
   ]
  },
  {
   "cell_type": "code",
   "execution_count": 36,
   "metadata": {},
   "outputs": [
    {
     "data": {
      "text/plain": [
       "['bat', 'lat']"
      ]
     },
     "execution_count": 36,
     "metadata": {},
     "output_type": "execute_result"
    }
   ],
   "source": [
    "re.findall(r\".at\",\"The bat went splat\")"
   ]
  },
  {
   "cell_type": "markdown",
   "metadata": {},
   "source": [
    "Notice how we only matched the first 3 letters, that is because we need a **.** for each wildcard letter. Or use the quantifiers described above to set its own rules."
   ]
  },
  {
   "cell_type": "code",
   "execution_count": 37,
   "metadata": {},
   "outputs": [
    {
     "data": {
      "text/plain": [
       "['e bat', 'splat']"
      ]
     },
     "execution_count": 37,
     "metadata": {},
     "output_type": "execute_result"
    }
   ],
   "source": [
    "re.findall(r\"...at\",\"The bat went splat\")"
   ]
  },
  {
   "cell_type": "markdown",
   "metadata": {},
   "source": [
    "However this still leads the problem to grabbing more beforehand. Really we only want words that end with \"at\"."
   ]
  },
  {
   "cell_type": "code",
   "execution_count": 38,
   "metadata": {},
   "outputs": [
    {
     "data": {
      "text/plain": [
       "['bat', 'splat']"
      ]
     },
     "execution_count": 38,
     "metadata": {},
     "output_type": "execute_result"
    }
   ],
   "source": [
    "# One or more non-whitespace that ends with 'at'\n",
    "re.findall(r'\\S+at',\"The bat went splat\")"
   ]
  },
  {
   "cell_type": "markdown",
   "metadata": {},
   "source": [
    "### Starts With and Ends With\n",
    "\n",
    "We can use the **^** to signal starts with, and the **$** to signal ends with:"
   ]
  },
  {
   "cell_type": "code",
   "execution_count": 39,
   "metadata": {},
   "outputs": [
    {
     "data": {
      "text/plain": [
       "['2']"
      ]
     },
     "execution_count": 39,
     "metadata": {},
     "output_type": "execute_result"
    }
   ],
   "source": [
    "# Ends with a number\n",
    "re.findall(r'\\d$','This ends with a number 2')"
   ]
  },
  {
   "cell_type": "code",
   "execution_count": 40,
   "metadata": {},
   "outputs": [
    {
     "data": {
      "text/plain": [
       "['1']"
      ]
     },
     "execution_count": 40,
     "metadata": {},
     "output_type": "execute_result"
    }
   ],
   "source": [
    "# Starts with a number\n",
    "re.findall(r'^\\d','1 is the loneliest number.')"
   ]
  },
  {
   "cell_type": "markdown",
   "metadata": {},
   "source": [
    "Note that this is for the entire string, not individual words!"
   ]
  },
  {
   "cell_type": "markdown",
   "metadata": {},
   "source": [
    "### Exclusion\n",
    "\n",
    "To exclude characters, we can use the **^** symbol in conjunction with a set of brackets **[]**. Anything inside the brackets is excluded. For example:"
   ]
  },
  {
   "cell_type": "code",
   "execution_count": 41,
   "metadata": {},
   "outputs": [],
   "source": [
    "phrase = \"there are 3 numbers 34 inside 5 this sentence.\""
   ]
  },
  {
   "cell_type": "code",
   "execution_count": 42,
   "metadata": {},
   "outputs": [
    {
     "data": {
      "text/plain": [
       "['t',\n",
       " 'h',\n",
       " 'e',\n",
       " 'r',\n",
       " 'e',\n",
       " ' ',\n",
       " 'a',\n",
       " 'r',\n",
       " 'e',\n",
       " ' ',\n",
       " ' ',\n",
       " 'n',\n",
       " 'u',\n",
       " 'm',\n",
       " 'b',\n",
       " 'e',\n",
       " 'r',\n",
       " 's',\n",
       " ' ',\n",
       " ' ',\n",
       " 'i',\n",
       " 'n',\n",
       " 's',\n",
       " 'i',\n",
       " 'd',\n",
       " 'e',\n",
       " ' ',\n",
       " ' ',\n",
       " 't',\n",
       " 'h',\n",
       " 'i',\n",
       " 's',\n",
       " ' ',\n",
       " 's',\n",
       " 'e',\n",
       " 'n',\n",
       " 't',\n",
       " 'e',\n",
       " 'n',\n",
       " 'c',\n",
       " 'e',\n",
       " '.']"
      ]
     },
     "execution_count": 42,
     "metadata": {},
     "output_type": "execute_result"
    }
   ],
   "source": [
    "re.findall(r'[^\\d]',phrase)"
   ]
  },
  {
   "cell_type": "markdown",
   "metadata": {},
   "source": [
    "To get the words back together, use a + sign "
   ]
  },
  {
   "cell_type": "code",
   "execution_count": 43,
   "metadata": {},
   "outputs": [
    {
     "data": {
      "text/plain": [
       "['there are ', ' numbers ', ' inside ', ' this sentence.']"
      ]
     },
     "execution_count": 43,
     "metadata": {},
     "output_type": "execute_result"
    }
   ],
   "source": [
    "re.findall(r'[^\\d]+',phrase)"
   ]
  },
  {
   "cell_type": "markdown",
   "metadata": {},
   "source": [
    "We can use this to remove punctuation from a sentence."
   ]
  },
  {
   "cell_type": "code",
   "execution_count": 44,
   "metadata": {},
   "outputs": [],
   "source": [
    "test_phrase = 'This is a string! But it has punctuation. How can we remove it?'"
   ]
  },
  {
   "cell_type": "code",
   "execution_count": 45,
   "metadata": {},
   "outputs": [
    {
     "data": {
      "text/plain": [
       "['This',\n",
       " 'is',\n",
       " 'a',\n",
       " 'string',\n",
       " 'But',\n",
       " 'it',\n",
       " 'has',\n",
       " 'punctuation',\n",
       " 'How',\n",
       " 'can',\n",
       " 'we',\n",
       " 'remove',\n",
       " 'it']"
      ]
     },
     "execution_count": 45,
     "metadata": {},
     "output_type": "execute_result"
    }
   ],
   "source": [
    "re.findall('[^!.? ]+',test_phrase)"
   ]
  },
  {
   "cell_type": "code",
   "execution_count": 46,
   "metadata": {},
   "outputs": [],
   "source": [
    "clean = ' '.join(re.findall('[^!.? ]+',test_phrase))"
   ]
  },
  {
   "cell_type": "code",
   "execution_count": 47,
   "metadata": {},
   "outputs": [
    {
     "data": {
      "text/plain": [
       "'This is a string But it has punctuation How can we remove it'"
      ]
     },
     "execution_count": 47,
     "metadata": {},
     "output_type": "execute_result"
    }
   ],
   "source": [
    "clean"
   ]
  },
  {
   "cell_type": "markdown",
   "metadata": {},
   "source": [
    "## Brackets for Grouping\n",
    "\n",
    "As we showed above we can use brackets to group together options, for example if we wanted to find hyphenated words:"
   ]
  },
  {
   "cell_type": "code",
   "execution_count": 48,
   "metadata": {},
   "outputs": [],
   "source": [
    "text = 'Only find the hypen-words in this sentence. But you do not know how long-ish they are'"
   ]
  },
  {
   "cell_type": "code",
   "execution_count": 49,
   "metadata": {},
   "outputs": [
    {
     "data": {
      "text/plain": [
       "['hypen-words', 'long-ish']"
      ]
     },
     "execution_count": 49,
     "metadata": {},
     "output_type": "execute_result"
    }
   ],
   "source": [
    "re.findall(r'[\\w]+-[\\w]+',text)"
   ]
  },
  {
   "cell_type": "markdown",
   "metadata": {},
   "source": [
    "## Parentheses for Multiple Options\n",
    "\n",
    "If we have multiple options for matching, we can use parentheses to list out these options. For Example:"
   ]
  },
  {
   "cell_type": "code",
   "execution_count": 50,
   "metadata": {},
   "outputs": [],
   "source": [
    "# Find words that start with cat and end with one of these options: 'fish','nap', or 'claw'\n",
    "text = 'Hello, would you like some catfish?'\n",
    "texttwo = \"Hello, would you like to take a catnap?\"\n",
    "textthree = \"Hello, have you seen this caterpillar?\""
   ]
  },
  {
   "cell_type": "code",
   "execution_count": 51,
   "metadata": {},
   "outputs": [
    {
     "data": {
      "text/plain": [
       "<_sre.SRE_Match object; span=(27, 34), match='catfish'>"
      ]
     },
     "execution_count": 51,
     "metadata": {},
     "output_type": "execute_result"
    }
   ],
   "source": [
    "re.search(r'cat(fish|nap|claw)',text)"
   ]
  },
  {
   "cell_type": "code",
   "execution_count": 52,
   "metadata": {},
   "outputs": [
    {
     "data": {
      "text/plain": [
       "<_sre.SRE_Match object; span=(32, 38), match='catnap'>"
      ]
     },
     "execution_count": 52,
     "metadata": {},
     "output_type": "execute_result"
    }
   ],
   "source": [
    "re.search(r'cat(fish|nap|claw)',texttwo)"
   ]
  },
  {
   "cell_type": "code",
   "execution_count": 53,
   "metadata": {},
   "outputs": [],
   "source": [
    "# None returned\n",
    "re.search(r'cat(fish|nap|claw)',textthree)"
   ]
  },
  {
   "cell_type": "markdown",
   "metadata": {},
   "source": [
    "### Conclusion\n",
    "\n",
    "Excellent work! For full information on all possible patterns, check out: https://docs.python.org/3/howto/regex.html"
   ]
  },
  {
   "cell_type": "markdown",
   "metadata": {},
   "source": [
    "## Next up: Python Text Basics Assessment"
   ]
  }
 ],
 "metadata": {
  "kernelspec": {
   "display_name": "Python 3",
   "language": "python",
   "name": "python3"
  },
  "language_info": {
   "codemirror_mode": {
    "name": "ipython",
    "version": 3
   },
   "file_extension": ".py",
   "mimetype": "text/x-python",
   "name": "python",
   "nbconvert_exporter": "python",
   "pygments_lexer": "ipython3",
   "version": "3.7.3"
  }
 },
 "nbformat": 4,
 "nbformat_minor": 2
}
