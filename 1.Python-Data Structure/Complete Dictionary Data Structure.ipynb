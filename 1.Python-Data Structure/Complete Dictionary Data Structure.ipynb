{
 "cells": [
  {
   "cell_type": "markdown",
   "metadata": {},
   "source": [
    "# Dictionary"
   ]
  },
  {
   "cell_type": "markdown",
   "metadata": {},
   "source": [
    "**We can use List, Tuple and Set to represent a group if individual as a single entity.**"
   ]
  },
  {
   "cell_type": "markdown",
   "metadata": {},
   "source": [
    "**If we want to represent a group of objects as key-value pairs then we should go for Dictionary.**"
   ]
  },
  {
   "cell_type": "raw",
   "metadata": {},
   "source": [
    "Eg. rollno -- name\n",
    "    phone number -- address\n",
    "    ipaddress -- domain name\n",
    "    \n",
    "    {\n",
    "     \"rollno\":\"m140372ca\",\n",
    "     \"phone number\":\"7019824230\",\n",
    "     \"ipaddress\":\"www.google.com\"\n",
    "    } "
   ]
  },
  {
   "cell_type": "markdown",
   "metadata": {},
   "source": [
    "**Duplicate keys are not allowed but values can be duplicated.**"
   ]
  },
  {
   "cell_type": "code",
   "execution_count": 6,
   "metadata": {},
   "outputs": [
    {
     "name": "stdout",
     "output_type": "stream",
     "text": [
      "<class 'dict'>\n",
      "{'rollno': 'm140372ca', 'Phone': '7736156707'}\n"
     ]
    }
   ],
   "source": [
    "stud_dict={\"rollno\":\"m140372ca\",\"Phone\":\"7019824230\",\"Phone\":\"7736156707\"}\n",
    "print(type(stud_dict))\n",
    "print(stud_dict)"
   ]
  },
  {
   "cell_type": "markdown",
   "metadata": {},
   "source": [
    "**Hetrogeneous objects are allowed for both keys and values.**"
   ]
  },
  {
   "cell_type": "code",
   "execution_count": 7,
   "metadata": {},
   "outputs": [
    {
     "name": "stdout",
     "output_type": "stream",
     "text": [
      "<class 'dict'>\n",
      "{'Roll No': 'm140372ca', 'Phone No': '7019824230', 'Mobile No': 7736156707}\n"
     ]
    }
   ],
   "source": [
    "stud_dict={\"Roll No\":\"m140372ca\",\"Phone No\":\"7019824230\",\"Mobile No\":7736156707}\n",
    "print(type(stud_dict))\n",
    "print(stud_dict)"
   ]
  },
  {
   "cell_type": "code",
   "execution_count": 8,
   "metadata": {},
   "outputs": [
    {
     "name": "stdout",
     "output_type": "stream",
     "text": [
      "<class 'dict'>\n",
      "{'Roll No': 'm140372ca', 'Phone No': '7019824230', 123: '7736156707'}\n"
     ]
    }
   ],
   "source": [
    "stud_dict={\"Roll No\":\"m140372ca\",\"Phone No\":\"7019824230\",123:\"7736156707\"}\n",
    "print(type(stud_dict))\n",
    "print(stud_dict)"
   ]
  },
  {
   "cell_type": "markdown",
   "metadata": {},
   "source": [
    "**Insertion order is not preserved.**"
   ]
  },
  {
   "cell_type": "markdown",
   "metadata": {},
   "source": [
    "**Dictionaries are mutable.**"
   ]
  },
  {
   "cell_type": "code",
   "execution_count": 14,
   "metadata": {},
   "outputs": [
    {
     "name": "stdout",
     "output_type": "stream",
     "text": [
      "24531512056\n",
      "24531512056\n",
      "<class 'dict'>\n",
      "<class 'dict'>\n",
      "{'name': 'nitesh'}\n",
      "{'name': 'nitesh'}\n"
     ]
    }
   ],
   "source": [
    "dict1={\"name\":\"nitesh\"}\n",
    "dict2=dict1\n",
    "print(id(dict1))\n",
    "print(id(dict2))\n",
    "print(type(dict1))\n",
    "print(type(dict2))\n",
    "print(dict1)\n",
    "print(dict2)"
   ]
  },
  {
   "cell_type": "code",
   "execution_count": null,
   "metadata": {},
   "outputs": [],
   "source": [
    "dict2[\"name\"]=\"kumar\"\n",
    "print(id(dict1))\n",
    "print(id(dict2))\n",
    "print(type(dict1))\n",
    "print(type(dict2))\n",
    "print(dict1)\n",
    "print(dict2)"
   ]
  },
  {
   "cell_type": "markdown",
   "metadata": {},
   "source": [
    "**Dictionaries are Dynamic.**"
   ]
  },
  {
   "cell_type": "markdown",
   "metadata": {},
   "source": [
    "**Indexing and Slicing concepts are not applicable.**"
   ]
  },
  {
   "cell_type": "markdown",
   "metadata": {},
   "source": [
    "# How to Create Dictionary"
   ]
  },
  {
   "cell_type": "code",
   "execution_count": 18,
   "metadata": {},
   "outputs": [],
   "source": [
    "d={}      # Empty Dictionary\n",
    "d1=dict() # Empty Dictionary"
   ]
  },
  {
   "cell_type": "markdown",
   "metadata": {},
   "source": [
    "# How to add entries in dictionary?"
   ]
  },
  {
   "cell_type": "code",
   "execution_count": 20,
   "metadata": {},
   "outputs": [
    {
     "name": "stdout",
     "output_type": "stream",
     "text": [
      "24529590456\n",
      "<class 'dict'>\n",
      "{100: 'Nitesh', 200: 'Kumar', 300: 'Singh'}\n"
     ]
    }
   ],
   "source": [
    "d={}\n",
    "d[100]=\"Nitesh\"\n",
    "d[200]=\"Kumar\"\n",
    "d[300]=\"Singh\"\n",
    "print(id(d))\n",
    "print(type(d))\n",
    "print(d)"
   ]
  },
  {
   "cell_type": "markdown",
   "metadata": {},
   "source": [
    "# How we can create dictionaries if we know data in advance? "
   ]
  },
  {
   "cell_type": "code",
   "execution_count": 21,
   "metadata": {},
   "outputs": [
    {
     "name": "stdout",
     "output_type": "stream",
     "text": [
      "{100: 'Nitesh', 200: 'Kumar', 300: 'Singh'}\n",
      "<class 'dict'>\n",
      "24531129184\n"
     ]
    }
   ],
   "source": [
    "d={100:\"Nitesh\",200:\"Kumar\",300:\"Singh\"}\n",
    "print(d)\n",
    "print(type(d))\n",
    "print(id(d))"
   ]
  },
  {
   "cell_type": "markdown",
   "metadata": {},
   "source": [
    "# How to access data from the Dictionaries? "
   ]
  },
  {
   "cell_type": "code",
   "execution_count": 22,
   "metadata": {},
   "outputs": [
    {
     "name": "stdout",
     "output_type": "stream",
     "text": [
      "Nitesh\n",
      "Kumar\n"
     ]
    }
   ],
   "source": [
    "print(d[100])\n",
    "print(d[200])"
   ]
  },
  {
   "cell_type": "markdown",
   "metadata": {},
   "source": [
    "# Note: if specified key is not available then we will get keyError."
   ]
  },
  {
   "cell_type": "code",
   "execution_count": 23,
   "metadata": {},
   "outputs": [
    {
     "ename": "KeyError",
     "evalue": "500",
     "output_type": "error",
     "traceback": [
      "\u001b[1;31m---------------------------------------------------------------------------\u001b[0m",
      "\u001b[1;31mKeyError\u001b[0m                                  Traceback (most recent call last)",
      "\u001b[1;32m<ipython-input-23-f866b670a310>\u001b[0m in \u001b[0;36m<module>\u001b[1;34m\u001b[0m\n\u001b[1;32m----> 1\u001b[1;33m \u001b[0mprint\u001b[0m\u001b[1;33m(\u001b[0m\u001b[0md\u001b[0m\u001b[1;33m[\u001b[0m\u001b[1;36m500\u001b[0m\u001b[1;33m]\u001b[0m\u001b[1;33m)\u001b[0m\u001b[1;33m\u001b[0m\u001b[1;33m\u001b[0m\u001b[0m\n\u001b[0m",
      "\u001b[1;31mKeyError\u001b[0m: 500"
     ]
    }
   ],
   "source": [
    "print(d[500])"
   ]
  },
  {
   "cell_type": "markdown",
   "metadata": {},
   "source": [
    "# We can prevent this by checking whether key is already avaliable or not by using has_key() function or by using in operator."
   ]
  },
  {
   "cell_type": "markdown",
   "metadata": {},
   "source": [
    "# But has_key() is available only in Python 2.0. Hence we should compulsory use in operator."
   ]
  },
  {
   "cell_type": "code",
   "execution_count": 29,
   "metadata": {},
   "outputs": [
    {
     "name": "stdout",
     "output_type": "stream",
     "text": [
      "False\n",
      "True\n"
     ]
    }
   ],
   "source": [
    "print(400 in d)\n",
    "print(200 in d)"
   ]
  },
  {
   "cell_type": "code",
   "execution_count": 30,
   "metadata": {},
   "outputs": [
    {
     "name": "stdout",
     "output_type": "stream",
     "text": [
      "Kumar\n"
     ]
    }
   ],
   "source": [
    "if 200 in d:\n",
    "    print(d[200])"
   ]
  },
  {
   "cell_type": "markdown",
   "metadata": {},
   "source": [
    "# WAP to Enter Name and Perentage Marks in a Dictinary and Display Information on the screen."
   ]
  },
  {
   "cell_type": "code",
   "execution_count": 4,
   "metadata": {},
   "outputs": [
    {
     "name": "stdout",
     "output_type": "stream",
     "text": [
      "Enter total number of student entries2\n",
      "Enter NameNitesh\n",
      "Enter Marks obtained in Percentage65\n",
      "Enter NameSanjay\n",
      "Enter Marks obtained in Percentage75\n",
      "Key is Nitesh value is 65.0%\n",
      "Key is Sanjay value is 75.0%\n"
     ]
    }
   ],
   "source": [
    "d={}\n",
    "i=1\n",
    "n=int(input(\"Enter total number of student entries\"))\n",
    "while i<=n:\n",
    "    name=input(\"Enter Name\")\n",
    "    percnt=float(input(\"Enter Marks obtained in Percentage\"))\n",
    "    d[name]=percnt\n",
    "    i+=1\n",
    "if i!=1:\n",
    "    for key in d:\n",
    "        print(f\"Key is {key} value is {d[key]}%\")\n",
    "else:\n",
    "    print(\"No entries has happened\")"
   ]
  },
  {
   "cell_type": "markdown",
   "metadata": {},
   "source": [
    "# How to update Dictionaries?"
   ]
  },
  {
   "cell_type": "markdown",
   "metadata": {},
   "source": [
    "### d[Key]=Value\n",
    "### If the key is not available then a new entry will be added to the dictionary with the specified key-value pair.\n",
    "### If the key is already available then old value will be replaced with new value."
   ]
  },
  {
   "cell_type": "code",
   "execution_count": 5,
   "metadata": {},
   "outputs": [
    {
     "name": "stdout",
     "output_type": "stream",
     "text": [
      "{100: 'Nitesh', 200: 'Kumar', 300: 'Singh'}\n"
     ]
    }
   ],
   "source": [
    "d={100:\"Nitesh\",200:\"Kumar\",300:\"Singh\"}\n",
    "print(d)"
   ]
  },
  {
   "cell_type": "code",
   "execution_count": 6,
   "metadata": {},
   "outputs": [
    {
     "name": "stdout",
     "output_type": "stream",
     "text": [
      "{100: 'Nitesh', 200: 'Kumar', 300: 'Singh', 400: 'Ravi'}\n"
     ]
    }
   ],
   "source": [
    "d[400]=\"Ravi\"\n",
    "print(d)"
   ]
  },
  {
   "cell_type": "code",
   "execution_count": 7,
   "metadata": {},
   "outputs": [
    {
     "name": "stdout",
     "output_type": "stream",
     "text": [
      "{100: 'Dipu', 200: 'Kumar', 300: 'Singh', 400: 'Ravi'}\n"
     ]
    }
   ],
   "source": [
    "d[100]=\"Dipu\"\n",
    "print(d)"
   ]
  },
  {
   "cell_type": "markdown",
   "metadata": {},
   "source": [
    "# How to Delete Elements from Dictionary? "
   ]
  },
  {
   "cell_type": "markdown",
   "metadata": {},
   "source": [
    "### del d[key]\n",
    "### If deletes entry associated with the specified key.\n",
    "### If the key is not available then we will get KeyError."
   ]
  },
  {
   "cell_type": "code",
   "execution_count": 9,
   "metadata": {},
   "outputs": [
    {
     "name": "stdout",
     "output_type": "stream",
     "text": [
      "{100: 'nitesh', 200: 'Kumar'}\n",
      "{200: 'Kumar'}\n"
     ]
    },
    {
     "ename": "KeyError",
     "evalue": "500",
     "output_type": "error",
     "traceback": [
      "\u001b[1;31m---------------------------------------------------------------------------\u001b[0m",
      "\u001b[1;31mKeyError\u001b[0m                                  Traceback (most recent call last)",
      "\u001b[1;32m<ipython-input-9-147789d604cb>\u001b[0m in \u001b[0;36m<module>\u001b[1;34m\u001b[0m\n\u001b[0;32m      3\u001b[0m \u001b[1;32mdel\u001b[0m \u001b[0md\u001b[0m\u001b[1;33m[\u001b[0m\u001b[1;36m100\u001b[0m\u001b[1;33m]\u001b[0m\u001b[1;33m\u001b[0m\u001b[1;33m\u001b[0m\u001b[0m\n\u001b[0;32m      4\u001b[0m \u001b[0mprint\u001b[0m\u001b[1;33m(\u001b[0m\u001b[0md\u001b[0m\u001b[1;33m)\u001b[0m\u001b[1;33m\u001b[0m\u001b[1;33m\u001b[0m\u001b[0m\n\u001b[1;32m----> 5\u001b[1;33m \u001b[1;32mdel\u001b[0m \u001b[0md\u001b[0m\u001b[1;33m[\u001b[0m\u001b[1;36m500\u001b[0m\u001b[1;33m]\u001b[0m\u001b[1;33m\u001b[0m\u001b[1;33m\u001b[0m\u001b[0m\n\u001b[0m",
      "\u001b[1;31mKeyError\u001b[0m: 500"
     ]
    }
   ],
   "source": [
    "d={100:\"nitesh\",200:\"Kumar\"}\n",
    "print(d)\n",
    "del d[100]\n",
    "print(d)\n",
    "del d[500]"
   ]
  },
  {
   "cell_type": "markdown",
   "metadata": {},
   "source": [
    "# To remove all entries from the dictionaries."
   ]
  },
  {
   "cell_type": "code",
   "execution_count": 10,
   "metadata": {},
   "outputs": [
    {
     "name": "stdout",
     "output_type": "stream",
     "text": [
      "{100: 'nitesh', 200: 'Kumar'}\n",
      "{}\n"
     ]
    }
   ],
   "source": [
    "d={100:\"nitesh\",200:\"Kumar\"}\n",
    "print(d)\n",
    "d.clear()\n",
    "print(d)"
   ]
  },
  {
   "cell_type": "markdown",
   "metadata": {},
   "source": [
    "# To remove/delete dictionary object."
   ]
  },
  {
   "cell_type": "code",
   "execution_count": 11,
   "metadata": {},
   "outputs": [
    {
     "name": "stdout",
     "output_type": "stream",
     "text": [
      "{100: 'nitesh', 200: 'Kumar'}\n"
     ]
    },
    {
     "ename": "NameError",
     "evalue": "name 'd' is not defined",
     "output_type": "error",
     "traceback": [
      "\u001b[1;31m---------------------------------------------------------------------------\u001b[0m",
      "\u001b[1;31mNameError\u001b[0m                                 Traceback (most recent call last)",
      "\u001b[1;32m<ipython-input-11-c5acb7f12627>\u001b[0m in \u001b[0;36m<module>\u001b[1;34m\u001b[0m\n\u001b[0;32m      2\u001b[0m \u001b[0mprint\u001b[0m\u001b[1;33m(\u001b[0m\u001b[0md\u001b[0m\u001b[1;33m)\u001b[0m\u001b[1;33m\u001b[0m\u001b[1;33m\u001b[0m\u001b[0m\n\u001b[0;32m      3\u001b[0m \u001b[1;32mdel\u001b[0m \u001b[0md\u001b[0m\u001b[1;33m\u001b[0m\u001b[1;33m\u001b[0m\u001b[0m\n\u001b[1;32m----> 4\u001b[1;33m \u001b[0mprint\u001b[0m\u001b[1;33m(\u001b[0m\u001b[0md\u001b[0m\u001b[1;33m)\u001b[0m\u001b[1;33m\u001b[0m\u001b[1;33m\u001b[0m\u001b[0m\n\u001b[0m",
      "\u001b[1;31mNameError\u001b[0m: name 'd' is not defined"
     ]
    }
   ],
   "source": [
    "d={100:\"nitesh\",200:\"Kumar\"}\n",
    "print(d)\n",
    "del d\n",
    "print(d)"
   ]
  },
  {
   "cell_type": "markdown",
   "metadata": {},
   "source": [
    "# How to insert mutiple values for same key?"
   ]
  },
  {
   "cell_type": "code",
   "execution_count": 12,
   "metadata": {},
   "outputs": [
    {
     "name": "stdout",
     "output_type": "stream",
     "text": [
      "{100: 'Niteh'}\n",
      "<class 'dict'>\n"
     ]
    }
   ],
   "source": [
    "d={}\n",
    "d[100]=\"Niteh\"\n",
    "print(d)\n",
    "print(type(d))"
   ]
  },
  {
   "cell_type": "code",
   "execution_count": 13,
   "metadata": {},
   "outputs": [
    {
     "name": "stdout",
     "output_type": "stream",
     "text": [
      "{100: 'Kumar'}\n",
      "<class 'dict'>\n"
     ]
    }
   ],
   "source": [
    "d={100:\"Nitesh\",100:\"Kumar\"}\n",
    "print(d)\n",
    "print(type(d))"
   ]
  },
  {
   "cell_type": "code",
   "execution_count": 14,
   "metadata": {},
   "outputs": [
    {
     "name": "stdout",
     "output_type": "stream",
     "text": [
      "{100: ['Nitesh', 'Kumar']}\n",
      "<class 'dict'>\n"
     ]
    }
   ],
   "source": [
    "lst=[\"Nitesh\",\"Kumar\"]\n",
    "d={}\n",
    "d[100]=lst\n",
    "print(d)\n",
    "print(type(d))"
   ]
  },
  {
   "cell_type": "markdown",
   "metadata": {},
   "source": [
    "# Important Functions/Methods of Dictionaries "
   ]
  },
  {
   "cell_type": "markdown",
   "metadata": {},
   "source": [
    "# dict()"
   ]
  },
  {
   "cell_type": "code",
   "execution_count": 17,
   "metadata": {},
   "outputs": [
    {
     "name": "stdout",
     "output_type": "stream",
     "text": [
      "{}\n",
      "{100: 'Nitesh', 200: 'Kumar'}\n",
      "{100: 'Nitesh', 200: 'Ravi'}\n"
     ]
    }
   ],
   "source": [
    "d=dict() # To create empty dictionary\n",
    "print(d)\n",
    "d=dict({100:\"Nitesh\",200:\"Kumar\"}) # It creates dictionaries with specified elements.\n",
    "print(d)\n",
    "d=dict({(100,\"Nitesh\"),(200,\"Ravi\")})\n",
    "print(d)"
   ]
  },
  {
   "cell_type": "markdown",
   "metadata": {},
   "source": [
    "## Note : We can not use list/set for creating dictinaries inside unlike tuple. List/Set can be used as a value in a dictionary but it can not be used as key value pair but tuple can be used as key value pair. "
   ]
  },
  {
   "cell_type": "code",
   "execution_count": 29,
   "metadata": {},
   "outputs": [
    {
     "ename": "TypeError",
     "evalue": "unhashable type: 'list'",
     "output_type": "error",
     "traceback": [
      "\u001b[1;31m---------------------------------------------------------------------------\u001b[0m",
      "\u001b[1;31mTypeError\u001b[0m                                 Traceback (most recent call last)",
      "\u001b[1;32m<ipython-input-29-32fd6ccf0c83>\u001b[0m in \u001b[0;36m<module>\u001b[1;34m\u001b[0m\n\u001b[1;32m----> 1\u001b[1;33m \u001b[0md\u001b[0m\u001b[1;33m=\u001b[0m\u001b[0mdict\u001b[0m\u001b[1;33m(\u001b[0m\u001b[1;33m{\u001b[0m\u001b[1;33m[\u001b[0m\u001b[1;36m100\u001b[0m\u001b[1;33m,\u001b[0m\u001b[1;34m\"Nitesh\"\u001b[0m\u001b[1;33m]\u001b[0m\u001b[1;33m,\u001b[0m\u001b[1;33m[\u001b[0m\u001b[1;36m200\u001b[0m\u001b[1;33m,\u001b[0m\u001b[1;34m\"Ravi\"\u001b[0m\u001b[1;33m]\u001b[0m\u001b[1;33m}\u001b[0m\u001b[1;33m)\u001b[0m\u001b[1;33m\u001b[0m\u001b[1;33m\u001b[0m\u001b[0m\n\u001b[0m\u001b[0;32m      2\u001b[0m \u001b[0mprint\u001b[0m\u001b[1;33m(\u001b[0m\u001b[0md\u001b[0m\u001b[1;33m)\u001b[0m\u001b[1;33m\u001b[0m\u001b[1;33m\u001b[0m\u001b[0m\n",
      "\u001b[1;31mTypeError\u001b[0m: unhashable type: 'list'"
     ]
    }
   ],
   "source": [
    "d=dict({[100,\"Nitesh\"],[200,\"Ravi\"]})\n",
    "print(d)"
   ]
  },
  {
   "cell_type": "code",
   "execution_count": 31,
   "metadata": {},
   "outputs": [
    {
     "name": "stdout",
     "output_type": "stream",
     "text": [
      "{100: 'Nitesh', 200: 'Ravi'}\n"
     ]
    }
   ],
   "source": [
    "d=dict({(100,\"Nitesh\"),(200,\"Ravi\")})\n",
    "print(d)"
   ]
  },
  {
   "cell_type": "code",
   "execution_count": 35,
   "metadata": {},
   "outputs": [
    {
     "name": "stdout",
     "output_type": "stream",
     "text": [
      "{100: 'Nitesh', 200: 'Ravi'}\n"
     ]
    }
   ],
   "source": [
    "# list(not list data structure) of tuple\n",
    "d=dict(((100,\"Nitesh\"),(200,\"Ravi\")))\n",
    "print(d) "
   ]
  },
  {
   "cell_type": "code",
   "execution_count": 36,
   "metadata": {},
   "outputs": [
    {
     "name": "stdout",
     "output_type": "stream",
     "text": [
      "{100: 'Nitesh', 200: 'Ravi'}\n"
     ]
    }
   ],
   "source": [
    "# list(list data structure) of tuple\n",
    "d=dict([(100,\"Nitesh\"),(200,\"Ravi\")])\n",
    "print(d)"
   ]
  },
  {
   "cell_type": "markdown",
   "metadata": {},
   "source": [
    "## Note : only dict list or set or tuple of tuples) is allowed.\n",
    "## dict() accepts only 1 argument so things need to a single unit before paasing to dict()"
   ]
  },
  {
   "cell_type": "code",
   "execution_count": 38,
   "metadata": {},
   "outputs": [
    {
     "ename": "TypeError",
     "evalue": "dict expected at most 1 arguments, got 2",
     "output_type": "error",
     "traceback": [
      "\u001b[1;31m---------------------------------------------------------------------------\u001b[0m",
      "\u001b[1;31mTypeError\u001b[0m                                 Traceback (most recent call last)",
      "\u001b[1;32m<ipython-input-38-50e76a381fef>\u001b[0m in \u001b[0;36m<module>\u001b[1;34m\u001b[0m\n\u001b[1;32m----> 1\u001b[1;33m \u001b[0md\u001b[0m\u001b[1;33m=\u001b[0m\u001b[0mdict\u001b[0m\u001b[1;33m(\u001b[0m\u001b[1;33m(\u001b[0m\u001b[1;36m100\u001b[0m\u001b[1;33m,\u001b[0m\u001b[1;34m\"Nitesh\"\u001b[0m\u001b[1;33m)\u001b[0m\u001b[1;33m,\u001b[0m\u001b[1;33m(\u001b[0m\u001b[1;36m200\u001b[0m\u001b[1;33m,\u001b[0m\u001b[1;34m\"Kumar\"\u001b[0m\u001b[1;33m)\u001b[0m\u001b[1;33m)\u001b[0m\u001b[1;33m\u001b[0m\u001b[1;33m\u001b[0m\u001b[0m\n\u001b[0m",
      "\u001b[1;31mTypeError\u001b[0m: dict expected at most 1 arguments, got 2"
     ]
    }
   ],
   "source": [
    "d=dict((100,\"Nitesh\"),(200,\"Kumar\"))"
   ]
  },
  {
   "cell_type": "markdown",
   "metadata": {},
   "source": [
    "# len()"
   ]
  },
  {
   "cell_type": "markdown",
   "metadata": {},
   "source": [
    "### Returns the number of items in the dictionary"
   ]
  },
  {
   "cell_type": "code",
   "execution_count": 39,
   "metadata": {},
   "outputs": [
    {
     "name": "stdout",
     "output_type": "stream",
     "text": [
      "2\n",
      "{100: ['Nitesh', 'Kumar']}\n",
      "1\n"
     ]
    }
   ],
   "source": [
    "print(len(d))\n",
    "lst=[\"Nitesh\",\"Kumar\"]\n",
    "d={}\n",
    "d[100]=lst\n",
    "print(d)\n",
    "print(len(d))"
   ]
  },
  {
   "cell_type": "markdown",
   "metadata": {},
   "source": [
    "# d.clear()"
   ]
  },
  {
   "cell_type": "markdown",
   "metadata": {},
   "source": [
    "## To remove all elements from the dictionary."
   ]
  },
  {
   "cell_type": "code",
   "execution_count": 40,
   "metadata": {},
   "outputs": [
    {
     "name": "stdout",
     "output_type": "stream",
     "text": [
      "{100: 'nitesh', 200: 'Kumar'}\n",
      "{}\n"
     ]
    }
   ],
   "source": [
    "d={100:\"nitesh\",200:\"Kumar\"}\n",
    "print(d)\n",
    "d.clear()\n",
    "print(d)"
   ]
  },
  {
   "cell_type": "markdown",
   "metadata": {},
   "source": [
    "# d.get(key)"
   ]
  },
  {
   "cell_type": "markdown",
   "metadata": {},
   "source": [
    "## To get the value associated with the key."
   ]
  },
  {
   "cell_type": "code",
   "execution_count": 42,
   "metadata": {},
   "outputs": [
    {
     "name": "stdout",
     "output_type": "stream",
     "text": [
      "nitesh\n",
      "nitesh\n",
      "None\n"
     ]
    }
   ],
   "source": [
    "d={100:\"nitesh\",200:\"Kumar\"}\n",
    "print(d[100])\n",
    "print(d.get(100))\n",
    "print(d.get(500))"
   ]
  },
  {
   "cell_type": "code",
   "execution_count": 43,
   "metadata": {},
   "outputs": [
    {
     "ename": "KeyError",
     "evalue": "500",
     "output_type": "error",
     "traceback": [
      "\u001b[1;31m---------------------------------------------------------------------------\u001b[0m",
      "\u001b[1;31mKeyError\u001b[0m                                  Traceback (most recent call last)",
      "\u001b[1;32m<ipython-input-43-f866b670a310>\u001b[0m in \u001b[0;36m<module>\u001b[1;34m\u001b[0m\n\u001b[1;32m----> 1\u001b[1;33m \u001b[0mprint\u001b[0m\u001b[1;33m(\u001b[0m\u001b[0md\u001b[0m\u001b[1;33m[\u001b[0m\u001b[1;36m500\u001b[0m\u001b[1;33m]\u001b[0m\u001b[1;33m)\u001b[0m\u001b[1;33m\u001b[0m\u001b[1;33m\u001b[0m\u001b[0m\n\u001b[0m",
      "\u001b[1;31mKeyError\u001b[0m: 500"
     ]
    }
   ],
   "source": [
    "print(d[500])"
   ]
  },
  {
   "cell_type": "markdown",
   "metadata": {},
   "source": [
    "# If the key is available then returns the corresponding value otherwise returns None.\n",
    "# It won't raise error."
   ]
  },
  {
   "cell_type": "markdown",
   "metadata": {},
   "source": [
    "# d.get(key,default value)"
   ]
  },
  {
   "cell_type": "markdown",
   "metadata": {},
   "source": [
    "# If the key is available it returns the corresponding value otherwise retuns default value."
   ]
  },
  {
   "cell_type": "code",
   "execution_count": 44,
   "metadata": {},
   "outputs": [
    {
     "name": "stdout",
     "output_type": "stream",
     "text": [
      "nitesh\n",
      "nitesh\n",
      "Not Found\n"
     ]
    }
   ],
   "source": [
    "d={100:\"nitesh\",200:\"Kumar\"}\n",
    "print(d[100])\n",
    "print(d.get(100))\n",
    "print(d.get(500,\"Not Found\"))"
   ]
  },
  {
   "cell_type": "code",
   "execution_count": 45,
   "metadata": {},
   "outputs": [
    {
     "name": "stdout",
     "output_type": "stream",
     "text": [
      "Nitesh\n"
     ]
    }
   ],
   "source": [
    "d={100:\"Nitesh\",200:\"Kumar\"}\n",
    "print(d[100])"
   ]
  },
  {
   "cell_type": "code",
   "execution_count": 46,
   "metadata": {},
   "outputs": [
    {
     "ename": "KeyError",
     "evalue": "500",
     "output_type": "error",
     "traceback": [
      "\u001b[1;31m---------------------------------------------------------------------------\u001b[0m",
      "\u001b[1;31mKeyError\u001b[0m                                  Traceback (most recent call last)",
      "\u001b[1;32m<ipython-input-46-f866b670a310>\u001b[0m in \u001b[0;36m<module>\u001b[1;34m\u001b[0m\n\u001b[1;32m----> 1\u001b[1;33m \u001b[0mprint\u001b[0m\u001b[1;33m(\u001b[0m\u001b[0md\u001b[0m\u001b[1;33m[\u001b[0m\u001b[1;36m500\u001b[0m\u001b[1;33m]\u001b[0m\u001b[1;33m)\u001b[0m\u001b[1;33m\u001b[0m\u001b[1;33m\u001b[0m\u001b[0m\n\u001b[0m",
      "\u001b[1;31mKeyError\u001b[0m: 500"
     ]
    }
   ],
   "source": [
    "print(d[500])"
   ]
  },
  {
   "cell_type": "code",
   "execution_count": 47,
   "metadata": {},
   "outputs": [
    {
     "name": "stdout",
     "output_type": "stream",
     "text": [
      "Nitesh\n"
     ]
    }
   ],
   "source": [
    "print(d.get(100))"
   ]
  },
  {
   "cell_type": "code",
   "execution_count": 48,
   "metadata": {},
   "outputs": [
    {
     "name": "stdout",
     "output_type": "stream",
     "text": [
      "None\n"
     ]
    }
   ],
   "source": [
    "print(d.get(500))"
   ]
  },
  {
   "cell_type": "code",
   "execution_count": 49,
   "metadata": {},
   "outputs": [
    {
     "name": "stdout",
     "output_type": "stream",
     "text": [
      "Not Found\n"
     ]
    }
   ],
   "source": [
    "print(d.get(500,\"Not Found\"))"
   ]
  },
  {
   "cell_type": "markdown",
   "metadata": {},
   "source": [
    "# d.pop(key)"
   ]
  },
  {
   "cell_type": "markdown",
   "metadata": {},
   "source": [
    "## It removes the entry associated with the specified key and returns the corresponding value.\n",
    "## If the specified key is not available then we will get KeyError."
   ]
  },
  {
   "cell_type": "code",
   "execution_count": 50,
   "metadata": {},
   "outputs": [
    {
     "name": "stdout",
     "output_type": "stream",
     "text": [
      "{100: 'nitesh', 200: 'Kumar'}\n",
      "nitesh\n",
      "{200: 'Kumar'}\n"
     ]
    },
    {
     "ename": "KeyError",
     "evalue": "500",
     "output_type": "error",
     "traceback": [
      "\u001b[1;31m---------------------------------------------------------------------------\u001b[0m",
      "\u001b[1;31mKeyError\u001b[0m                                  Traceback (most recent call last)",
      "\u001b[1;32m<ipython-input-50-bf0ee8f9b8f6>\u001b[0m in \u001b[0;36m<module>\u001b[1;34m\u001b[0m\n\u001b[0;32m      3\u001b[0m \u001b[0mprint\u001b[0m\u001b[1;33m(\u001b[0m\u001b[0md\u001b[0m\u001b[1;33m.\u001b[0m\u001b[0mpop\u001b[0m\u001b[1;33m(\u001b[0m\u001b[1;36m100\u001b[0m\u001b[1;33m)\u001b[0m\u001b[1;33m)\u001b[0m\u001b[1;33m\u001b[0m\u001b[1;33m\u001b[0m\u001b[0m\n\u001b[0;32m      4\u001b[0m \u001b[0mprint\u001b[0m\u001b[1;33m(\u001b[0m\u001b[0md\u001b[0m\u001b[1;33m)\u001b[0m\u001b[1;33m\u001b[0m\u001b[1;33m\u001b[0m\u001b[0m\n\u001b[1;32m----> 5\u001b[1;33m \u001b[0mprint\u001b[0m\u001b[1;33m(\u001b[0m\u001b[0md\u001b[0m\u001b[1;33m.\u001b[0m\u001b[0mpop\u001b[0m\u001b[1;33m(\u001b[0m\u001b[1;36m500\u001b[0m\u001b[1;33m)\u001b[0m\u001b[1;33m)\u001b[0m\u001b[1;33m\u001b[0m\u001b[1;33m\u001b[0m\u001b[0m\n\u001b[0m",
      "\u001b[1;31mKeyError\u001b[0m: 500"
     ]
    }
   ],
   "source": [
    "d={100:\"nitesh\",200:\"Kumar\"}\n",
    "print(d)\n",
    "print(d.pop(100))\n",
    "print(d)\n",
    "print(d.pop(500))"
   ]
  },
  {
   "cell_type": "markdown",
   "metadata": {},
   "source": [
    "# d.popitem()"
   ]
  },
  {
   "cell_type": "markdown",
   "metadata": {},
   "source": [
    "## It removes an arbitrary item(key-value) from the dictionary and returns key-value of it. If dictionary is empty it will raise error \"dictionary is empty\"."
   ]
  },
  {
   "cell_type": "code",
   "execution_count": 54,
   "metadata": {},
   "outputs": [
    {
     "name": "stdout",
     "output_type": "stream",
     "text": [
      "{100: 'nitesh', 200: 'Kumar'}\n",
      "(200, 'Kumar')\n",
      "{100: 'nitesh'}\n",
      "(100, 'nitesh')\n",
      "{}\n"
     ]
    },
    {
     "ename": "KeyError",
     "evalue": "'popitem(): dictionary is empty'",
     "output_type": "error",
     "traceback": [
      "\u001b[1;31m---------------------------------------------------------------------------\u001b[0m",
      "\u001b[1;31mKeyError\u001b[0m                                  Traceback (most recent call last)",
      "\u001b[1;32m<ipython-input-54-95367b4b65f5>\u001b[0m in \u001b[0;36m<module>\u001b[1;34m\u001b[0m\n\u001b[0;32m      5\u001b[0m \u001b[0mprint\u001b[0m\u001b[1;33m(\u001b[0m\u001b[0md\u001b[0m\u001b[1;33m.\u001b[0m\u001b[0mpopitem\u001b[0m\u001b[1;33m(\u001b[0m\u001b[1;33m)\u001b[0m\u001b[1;33m)\u001b[0m\u001b[1;33m\u001b[0m\u001b[1;33m\u001b[0m\u001b[0m\n\u001b[0;32m      6\u001b[0m \u001b[0mprint\u001b[0m\u001b[1;33m(\u001b[0m\u001b[0md\u001b[0m\u001b[1;33m)\u001b[0m\u001b[1;33m\u001b[0m\u001b[1;33m\u001b[0m\u001b[0m\n\u001b[1;32m----> 7\u001b[1;33m \u001b[0mprint\u001b[0m\u001b[1;33m(\u001b[0m\u001b[0md\u001b[0m\u001b[1;33m.\u001b[0m\u001b[0mpopitem\u001b[0m\u001b[1;33m(\u001b[0m\u001b[1;33m)\u001b[0m\u001b[1;33m)\u001b[0m\u001b[1;33m\u001b[0m\u001b[1;33m\u001b[0m\u001b[0m\n\u001b[0m\u001b[0;32m      8\u001b[0m \u001b[0mprint\u001b[0m\u001b[1;33m(\u001b[0m\u001b[0md\u001b[0m\u001b[1;33m)\u001b[0m\u001b[1;33m\u001b[0m\u001b[1;33m\u001b[0m\u001b[0m\n",
      "\u001b[1;31mKeyError\u001b[0m: 'popitem(): dictionary is empty'"
     ]
    }
   ],
   "source": [
    "d={100:\"nitesh\",200:\"Kumar\"}\n",
    "print(d)\n",
    "print(d.popitem())\n",
    "print(d)\n",
    "print(d.popitem())\n",
    "print(d)\n",
    "print(d.popitem())\n",
    "print(d)"
   ]
  },
  {
   "cell_type": "markdown",
   "metadata": {},
   "source": [
    "# d.keys()"
   ]
  },
  {
   "cell_type": "markdown",
   "metadata": {},
   "source": [
    "## It returns all keys associated with dictionary."
   ]
  },
  {
   "cell_type": "code",
   "execution_count": 58,
   "metadata": {},
   "outputs": [
    {
     "name": "stdout",
     "output_type": "stream",
     "text": [
      "{100: 'nitesh', 200: 'Kumar'}\n",
      "dict_keys([100, 200])\n",
      "dict_keys([100, 200])\n",
      "<class 'dict_keys'>\n",
      "nitesh\n",
      "Kumar\n"
     ]
    }
   ],
   "source": [
    "d={100:\"nitesh\",200:\"Kumar\"}\n",
    "print(d)\n",
    "print(d.keys())\n",
    "print(d.keys())\n",
    "print(type(d.keys()))\n",
    "for x in d.keys():\n",
    "    print(d[x])"
   ]
  },
  {
   "cell_type": "markdown",
   "metadata": {},
   "source": [
    "# d.values()"
   ]
  },
  {
   "cell_type": "markdown",
   "metadata": {},
   "source": [
    "## It returns all values associated with dictionary."
   ]
  },
  {
   "cell_type": "code",
   "execution_count": 60,
   "metadata": {},
   "outputs": [
    {
     "name": "stdout",
     "output_type": "stream",
     "text": [
      "{100: 'nitesh', 200: 'Kumar'}\n",
      "dict_values(['nitesh', 'Kumar'])\n",
      "<class 'dict_values'>\n"
     ]
    }
   ],
   "source": [
    "d={100:\"nitesh\",200:\"Kumar\"}\n",
    "print(d)\n",
    "print(d.values())\n",
    "print(type(d.values()))"
   ]
  },
  {
   "cell_type": "markdown",
   "metadata": {},
   "source": [
    "# d.items()"
   ]
  },
  {
   "cell_type": "markdown",
   "metadata": {},
   "source": [
    "## It returns a list of tuples representing key-value pairs."
   ]
  },
  {
   "cell_type": "code",
   "execution_count": 61,
   "metadata": {},
   "outputs": [
    {
     "name": "stdout",
     "output_type": "stream",
     "text": [
      "{100: 'nitesh', 200: 'Kumar'}\n",
      "dict_items([(100, 'nitesh'), (200, 'Kumar')])\n",
      "<class 'dict_items'>\n"
     ]
    }
   ],
   "source": [
    "d={100:\"nitesh\",200:\"Kumar\"}\n",
    "print(d)\n",
    "print(d.items())\n",
    "print(type(d.items()))"
   ]
  },
  {
   "cell_type": "code",
   "execution_count": 65,
   "metadata": {},
   "outputs": [
    {
     "name": "stdout",
     "output_type": "stream",
     "text": [
      "nitesh\n",
      "Kumar\n"
     ]
    }
   ],
   "source": [
    "for key,value in d.items():\n",
    "    print(d[key])  "
   ]
  },
  {
   "cell_type": "markdown",
   "metadata": {},
   "source": [
    "# d.copy()"
   ]
  },
  {
   "cell_type": "markdown",
   "metadata": {},
   "source": [
    "## To create exactly duplicate dictionary (colned copy)"
   ]
  },
  {
   "cell_type": "code",
   "execution_count": null,
   "metadata": {},
   "outputs": [],
   "source": [
    "d={100:\"nitesh\",200:\"Kumar\"}\n",
    "d=d.copy()\n",
    "print(d)"
   ]
  },
  {
   "cell_type": "markdown",
   "metadata": {},
   "source": [
    "# d.setdefault(k,v)"
   ]
  },
  {
   "cell_type": "markdown",
   "metadata": {},
   "source": [
    "## If the key is already available then this function returns the corresponding value.\n",
    "## If the key is not available then the specified key-value will be addded as new item to the dictionary."
   ]
  },
  {
   "cell_type": "code",
   "execution_count": 68,
   "metadata": {},
   "outputs": [
    {
     "name": "stdout",
     "output_type": "stream",
     "text": [
      "{100: 'nitesh', 200: 'Kumar'}\n",
      "nitesh\n",
      "{100: 'nitesh', 200: 'Kumar'}\n",
      "Ritesh\n",
      "{100: 'nitesh', 200: 'Kumar', 500: 'Ritesh'}\n"
     ]
    }
   ],
   "source": [
    "d={100:\"nitesh\",200:\"Kumar\"}\n",
    "print(d)\n",
    "print(d.setdefault(100,\"nitesh\"))\n",
    "print(d)\n",
    "print(d.setdefault(500,\"Ritesh\"))\n",
    "print(d)"
   ]
  },
  {
   "cell_type": "markdown",
   "metadata": {},
   "source": [
    "# d.update()"
   ]
  },
  {
   "cell_type": "code",
   "execution_count": null,
   "metadata": {},
   "outputs": [],
   "source": [
    "# d={100:\"nitesh\",200:\"Kumar\"}\n",
    "d1={\"x\":\"y\"}\n",
    "print(d)\n",
    "d.update(d1)\n",
    "print(d)\n",
    "d.update([(300,\"Nitesh\")])\n",
    "print(d)\n",
    "d.update([(300,\"Nitesh\")])\n",
    "print(d)"
   ]
  },
  {
   "cell_type": "markdown",
   "metadata": {},
   "source": [
    "# WAP to take a dictionary from the keyboard and the sum of values."
   ]
  },
  {
   "cell_type": "code",
   "execution_count": 84,
   "metadata": {},
   "outputs": [
    {
     "name": "stdout",
     "output_type": "stream",
     "text": [
      "Enter a Dictionary: {'a':5,'b':10}\n",
      "<class 'dict'>\n",
      "{'a': 5, 'b': 10}\n",
      "dict_values([5, 10])\n",
      "15\n"
     ]
    }
   ],
   "source": [
    "dic=eval(input(\"Enter a Dictionary: \"))\n",
    "print(type(dic))\n",
    "print(dic)\n",
    "print(dic.values())\n",
    "sum=0\n",
    "for x in dic.values():\n",
    "    sum=sum+int(x)\n",
    "print(sum)"
   ]
  },
  {
   "cell_type": "markdown",
   "metadata": {},
   "source": [
    "# WAP to find the number of occurrences of each Letter present in the given string."
   ]
  },
  {
   "cell_type": "code",
   "execution_count": 85,
   "metadata": {},
   "outputs": [
    {
     "name": "stdout",
     "output_type": "stream",
     "text": [
      "Enter a word: letter\n",
      "{'l': 1, 'e': 2, 't': 2, 'r': 1}\n"
     ]
    }
   ],
   "source": [
    "str=input(\"Enter a word: \")\n",
    "d={}\n",
    "for x in str:\n",
    "    d[x]=d.get(x,0)+1\n",
    "print(d)"
   ]
  },
  {
   "cell_type": "markdown",
   "metadata": {},
   "source": [
    "# WAP to find the number of occurrences of each vowel present in the given string."
   ]
  },
  {
   "cell_type": "code",
   "execution_count": 86,
   "metadata": {},
   "outputs": [
    {
     "name": "stdout",
     "output_type": "stream",
     "text": [
      "Enter a word: elephant\n",
      "{'e': 2, 'a': 1}\n"
     ]
    }
   ],
   "source": [
    "str=input(\"Enter a word: \")\n",
    "d={}\n",
    "l=['a','e','i','o','u']\n",
    "for x in str:\n",
    "    if x in l:\n",
    "        d[x]=d.get(x,0)+1\n",
    "print(d)"
   ]
  },
  {
   "cell_type": "markdown",
   "metadata": {},
   "source": [
    "# WAP to find the number of occurrences of each consonant present in the given string."
   ]
  },
  {
   "cell_type": "code",
   "execution_count": 88,
   "metadata": {},
   "outputs": [
    {
     "name": "stdout",
     "output_type": "stream",
     "text": [
      "Enter a word: philips\n",
      "{'p': 2, 'h': 1, 'l': 1, 's': 1}\n"
     ]
    }
   ],
   "source": [
    "str=input(\"Enter a word: \")\n",
    "d={}\n",
    "l=['a','e','i','o','u']\n",
    "for x in str:\n",
    "    if x not in l:\n",
    "        d[x]=d.get(x,0)+1\n",
    "print(d)"
   ]
  },
  {
   "cell_type": "markdown",
   "metadata": {},
   "source": [
    "# WAP to accept Student Name and Marks from the Keyboard and creates a Dictionary. Also display Student Marks by taking Student Name as input."
   ]
  },
  {
   "cell_type": "code",
   "execution_count": 90,
   "metadata": {},
   "outputs": [
    {
     "name": "stdout",
     "output_type": "stream",
     "text": [
      "Enter total number of entries : 2\n",
      "Enter name of student : nitesh\n",
      "Enter marks obtained : 75\n",
      "Enter name of student : rahul\n",
      "Enter marks obtained : 78\n",
      "Enter name of student to find marks obtained : nitesh\n",
      "The marks obtained is 75\n",
      "Enter yes/no to continueravi\n",
      "Enter name of student to find marks obtained : ravi\n",
      "Student not found\n",
      "Enter yes/no to continueno\n",
      "Thanks for using this application\n"
     ]
    }
   ],
   "source": [
    "n=int(input(\"Enter total number of entries : \"))\n",
    "d={}\n",
    "while n>0:\n",
    "    name=input(\"Enter name of student : \")\n",
    "    marks=input(\"Enter marks obtained : \")\n",
    "    d[name]=marks\n",
    "    n-=1\n",
    "while True:\n",
    "    name=input(\"Enter name of student to find marks obtained : \")\n",
    "    if d.get(name):\n",
    "        print(f\"The marks obtained is {d.get(name)}\")\n",
    "    else:\n",
    "        print(\"Student not found\")\n",
    "    option=input(\"Enter yes/no to continue\")\n",
    "    if option=='no':\n",
    "        break\n",
    "print(\"Thanks for using this application\")"
   ]
  },
  {
   "cell_type": "code",
   "execution_count": null,
   "metadata": {},
   "outputs": [],
   "source": []
  }
 ],
 "metadata": {
  "kernelspec": {
   "display_name": "Python 3",
   "language": "python",
   "name": "python3"
  },
  "language_info": {
   "codemirror_mode": {
    "name": "ipython",
    "version": 3
   },
   "file_extension": ".py",
   "mimetype": "text/x-python",
   "name": "python",
   "nbconvert_exporter": "python",
   "pygments_lexer": "ipython3",
   "version": "3.7.3"
  }
 },
 "nbformat": 4,
 "nbformat_minor": 2
}
